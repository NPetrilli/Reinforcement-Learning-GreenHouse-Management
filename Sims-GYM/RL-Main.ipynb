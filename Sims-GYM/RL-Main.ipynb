{
 "cells": [
  {
   "metadata": {
    "ExecuteTime": {
     "end_time": "2025-01-11T16:43:30.058514Z",
     "start_time": "2025-01-11T16:43:30.049955Z"
    }
   },
   "cell_type": "code",
   "source": [
    "\n",
    "from tqdm.notebook import tqdm\n",
    "from RL_utils import *\n",
    "from RL_plot_utils import *"
   ],
   "id": "df4673586b0a2dfc",
   "outputs": [],
   "execution_count": 34
  },
  {
   "metadata": {
    "ExecuteTime": {
     "end_time": "2025-01-12T01:00:42.579609Z",
     "start_time": "2025-01-12T01:00:42.555605Z"
    }
   },
   "cell_type": "code",
   "source": "pars = pars_loader(N_episodes=int(100000),alpha=0.1,gamma=0.9,eps=0.15,pt=0.7,ph=0.6,growth_range=5,factor_range=10,ci_range=[0,11],ci_g_range=5,ci_range_sim=[3,7],action_set=[0,1,2])",
   "id": "5882b1b95a991568",
   "outputs": [],
   "execution_count": 54
  },
  {
   "metadata": {
    "ExecuteTime": {
     "end_time": "2025-01-12T01:03:44.993888Z",
     "start_time": "2025-01-12T01:03:44.972892Z"
    }
   },
   "cell_type": "code",
   "source": "pars",
   "id": "6e3648224b304e7f",
   "outputs": [
    {
     "data": {
      "text/plain": [
       "{'N_episodes': 100000,\n",
       " 'alpha': 0.1,\n",
       " 'gamma': 0.9,\n",
       " 'eps': 0.15,\n",
       " 'pt': 0.7,\n",
       " 'ph': 0.6,\n",
       " 'ci_range_sim': [3, 7],\n",
       " 'growth_range': 5,\n",
       " 'factor_range': 10,\n",
       " 'ci_range': array([ 0,  1,  2,  3,  4,  5,  6,  7,  8,  9, 10]),\n",
       " 'ci_g_range': 5,\n",
       " 'action_set': [0, 1, 2],\n",
       " 'opt_range': {1: {'Tem': [[3, 4, 5], [2, 6, 7, 8], [1, 9], [0, 10]],\n",
       "   'Hum': [[6, 7, 8], [2, 3, 4, 5], [1, 9], [0, 10]]},\n",
       "  2: {'Tem': [[6, 7, 8], [4, 5], [1, 2, 3, 9], [0, 10]],\n",
       "   'Hum': [[4, 5, 6], [2, 3, 7, 8], [1, 9], [0, 10]]},\n",
       "  3: {'Tem': [[5, 6, 7], [3, 4, 8], [1, 2, 9], [0, 10]],\n",
       "   'Hum': [[6, 7, 8], [3, 4, 5], [1, 2, 9], [0, 10]]},\n",
       "  4: {'Tem': [[6, 7, 8], [4, 5, 9], [1, 2, 3], [0, 10]],\n",
       "   'Hum': [[7, 8, 9], [4, 5, 6], [1, 2, 3], [0, 10]]}},\n",
       " 'nstates': (6, 11, 11)}"
      ]
     },
     "execution_count": 61,
     "metadata": {},
     "output_type": "execute_result"
    }
   ],
   "execution_count": 61
  },
  {
   "metadata": {
    "ExecuteTime": {
     "end_time": "2025-01-12T01:00:43.668267Z",
     "start_time": "2025-01-12T01:00:43.650266Z"
    }
   },
   "cell_type": "code",
   "source": [
    "def growth_state(growth,temp,hum,range_tem,range_hum):\n",
    "    #At least one red: bad condition to growth -2\n",
    "    if temp in range_tem[3] or hum in range_hum[3]:\n",
    "      growth+=-2\n",
    "      growth=max(growth,0)\n",
    "    #At least one orange : poor condition to growth -1\n",
    "    elif temp in range_tem[2] or hum in range_hum[2]:\n",
    "      growth+=-1\n",
    "      growth=max(growth,0)\n",
    "    #At least one yellow : good condition to growth +0\n",
    "    elif temp in range_tem[1] or hum in range_hum[1]:\n",
    "     growth+=0\n",
    "    else:\n",
    "     #Only green : Optimal condition to growth +1\n",
    "     growth+=1\n",
    "     growth=min(growth,5)\n",
    "    return growth"
   ],
   "id": "f3cc3e1145d977fa",
   "outputs": [],
   "execution_count": 55
  },
  {
   "metadata": {
    "ExecuteTime": {
     "end_time": "2025-01-12T01:00:44.346648Z",
     "start_time": "2025-01-12T01:00:44.318647Z"
    }
   },
   "cell_type": "code",
   "source": [
    "def next_state(state,action,pars):\n",
    "    growth,temp,hum = state\n",
    "      \n",
    "    range_tem,range_hum=pars['opt_range'].get(growth)['Tem'],pars['opt_range'].get(growth)['Hum']\n",
    "    \n",
    "    #Probability not to decay\n",
    "    if action == 0:\n",
    "       wt=np.random.choice([-1,0],p=[1-pars['pt'],pars['pt']])\n",
    "       wh=np.random.choice([-1,0],p=[1-pars['ph'],pars['ph']])\n",
    "       temp=max(0,min(temp+wt,pars['factor_range']))\n",
    "       hum=max(0,min(hum+wh,pars['factor_range']))\n",
    "    if action == 1:\n",
    "       wh=np.random.choice([-1,0],p=[1-pars['ph'],pars['ph']])\n",
    "       temp=max(0,min(temp+1,pars['factor_range']))\n",
    "       hum=max(0,min(hum+wh,pars['factor_range']))\n",
    "    if action == 2:\n",
    "       wt=np.random.choice([-1,0],p=[1-pars['pt'],pars['pt']])\n",
    "       hum=max(0,min(hum+1,pars['factor_range']))\n",
    "       temp=max(0,min(temp+wt,pars['factor_range']))\n",
    "        \n",
    "    growth=growth_state(growth,temp,hum,range_tem,range_hum)  \n",
    "    \n",
    "    r=0     \n",
    "    if growth == 5:\n",
    "       r=100\n",
    "\n",
    "    return (growth,temp,hum),r   "
   ],
   "id": "7a62d329e08240b",
   "outputs": [],
   "execution_count": 56
  },
  {
   "metadata": {
    "ExecuteTime": {
     "end_time": "2025-01-12T01:00:45.040444Z",
     "start_time": "2025-01-12T01:00:45.025444Z"
    }
   },
   "cell_type": "code",
   "source": [
    "def make_episode(policy,pars,x0=None):\n",
    "    seq_state=[]\n",
    "    seq_action=[]\n",
    "    seq_reward=[]\n",
    "    \n",
    "    if x0 is not None:\n",
    "     g,temp,hum=x0\n",
    "    else:\n",
    "     g=np.random.choice(np.arange(1,pars['ci_g_range']))  \n",
    "     temp=np.random.choice(pars['ci_range'])  \n",
    "     hum=np.random.choice(pars['ci_range'])\n",
    "    seq_state.append((g,temp,hum))\n",
    "    while g!=5 and g!=0:\n",
    "        #eps-greedy \n",
    "        if np.random.random()<pars['eps']:\n",
    "         a=np.random.choice(pars['action_set'])\n",
    "        else:\n",
    "         a=policy[seq_state[-1]]\n",
    "            \n",
    "        (g,temp,hum),r=next_state((g,temp,hum),a,pars)        \n",
    "        seq_state.append((g,temp,hum))\n",
    "        seq_action.append(a)\n",
    "        seq_reward.append(r)\n",
    "    \n",
    "    return seq_state,seq_action,seq_reward "
   ],
   "id": "5d4fda727b42e45",
   "outputs": [],
   "execution_count": 57
  },
  {
   "metadata": {
    "ExecuteTime": {
     "end_time": "2025-01-12T01:00:45.738020Z",
     "start_time": "2025-01-12T01:00:45.719020Z"
    }
   },
   "cell_type": "code",
   "source": [
    "def GPI_MC(init_p,pars):\n",
    " policy=init_p.copy()\n",
    "\n",
    " Q = np.zeros((pars['nstates'][0], pars['nstates'][1], pars['nstates'][2], len(pars['action_set'])))\n",
    " \n",
    " counter_s_a=np.zeros(Q.shape)\n",
    " \n",
    " for _ in tqdm(range(pars['N_episodes'])):\n",
    "  seq_state,seq_action,seq_reward=make_episode(policy,pars)\n",
    " \n",
    "  Q,counter_s_a = action_state_value_MC([seq_state],[seq_action],[seq_reward],pars,Q0=Q,counter_s_a_0=counter_s_a)\n",
    " \n",
    "  for s in set(seq_state):\n",
    "   policy[s]=np.argmax(Q[s[0],s[1],s[2],:])\n",
    "   \n",
    " _,V = recover_policy_V(Q,pars)\n",
    " return policy,Q,V,counter_s_a"
   ],
   "id": "20682de49e34440c",
   "outputs": [],
   "execution_count": 58
  },
  {
   "metadata": {
    "ExecuteTime": {
     "end_time": "2025-01-12T01:01:36.055740Z",
     "start_time": "2025-01-12T01:00:46.536173Z"
    }
   },
   "cell_type": "code",
   "source": [
    "test_policy=init_policy(pars)\n",
    "policy_MC,Q_MC,V_MC,counter_s_a=GPI_MC(test_policy.copy(),pars)"
   ],
   "id": "26c877538cf65a5",
   "outputs": [
    {
     "data": {
      "text/plain": [
       "  0%|          | 0/100000 [00:00<?, ?it/s]"
      ],
      "application/vnd.jupyter.widget-view+json": {
       "version_major": 2,
       "version_minor": 0,
       "model_id": "99c5080db55d47fc8e639bd8f896470e"
      }
     },
     "metadata": {},
     "output_type": "display_data"
    }
   ],
   "execution_count": 59
  },
  {
   "metadata": {
    "ExecuteTime": {
     "end_time": "2025-01-12T01:02:08.995952Z",
     "start_time": "2025-01-12T01:02:08.661346Z"
    }
   },
   "cell_type": "code",
   "source": "plot_value_dyn(V_MC , 0, 5,\"State value function GPI-MC\")",
   "id": "8f7a2a08d4909871",
   "outputs": [
    {
     "data": {
      "application/vnd.plotly.v1+json": {
       "data": [
        {
         "coloraxis": "coloraxis",
         "name": "0",
         "x": [
          0,
          1,
          2,
          3,
          4,
          5,
          6,
          7,
          8,
          9,
          10
         ],
         "y": [
          0,
          1,
          2,
          3,
          4,
          5,
          6,
          7,
          8,
          9,
          10
         ],
         "z": [
          [
           0.0,
           0.0,
           0.0,
           0.0,
           0.0,
           0.0,
           0.0,
           0.0,
           0.0,
           0.0,
           0.0
          ],
          [
           0.0,
           0.0,
           0.0,
           0.0,
           0.0,
           0.0,
           0.0,
           0.0,
           0.0,
           0.0,
           0.0
          ],
          [
           0.0,
           0.0,
           0.0,
           0.0,
           0.0,
           0.0,
           0.0,
           0.0,
           0.0,
           0.0,
           0.0
          ],
          [
           0.0,
           0.0,
           0.0,
           0.0,
           0.0,
           0.0,
           0.0,
           0.0,
           0.0,
           0.0,
           0.0
          ],
          [
           0.0,
           0.0,
           0.0,
           0.0,
           0.0,
           0.0,
           0.0,
           0.0,
           0.0,
           0.0,
           0.0
          ],
          [
           0.0,
           0.0,
           0.0,
           0.0,
           0.0,
           0.0,
           0.0,
           0.0,
           0.0,
           0.0,
           0.0
          ],
          [
           0.0,
           0.0,
           0.0,
           0.0,
           0.0,
           0.0,
           0.0,
           0.0,
           0.0,
           0.0,
           0.0
          ],
          [
           0.0,
           0.0,
           0.0,
           0.0,
           0.0,
           0.0,
           0.0,
           0.0,
           0.0,
           0.0,
           0.0
          ],
          [
           0.0,
           0.0,
           0.0,
           0.0,
           0.0,
           0.0,
           0.0,
           0.0,
           0.0,
           0.0,
           0.0
          ],
          [
           0.0,
           0.0,
           0.0,
           0.0,
           0.0,
           0.0,
           0.0,
           0.0,
           0.0,
           0.0,
           0.0
          ],
          [
           0.0,
           0.0,
           0.0,
           0.0,
           0.0,
           0.0,
           0.0,
           0.0,
           0.0,
           0.0,
           0.0
          ]
         ],
         "type": "heatmap",
         "xaxis": "x",
         "yaxis": "y",
         "hovertemplate": "Temperature: %{x}<br>Humidity: %{y}<br>Value: %{z}<extra></extra>"
        }
       ],
       "layout": {
        "template": {
         "data": {
          "histogram2dcontour": [
           {
            "type": "histogram2dcontour",
            "colorbar": {
             "outlinewidth": 0,
             "ticks": ""
            },
            "colorscale": [
             [
              0.0,
              "#0d0887"
             ],
             [
              0.1111111111111111,
              "#46039f"
             ],
             [
              0.2222222222222222,
              "#7201a8"
             ],
             [
              0.3333333333333333,
              "#9c179e"
             ],
             [
              0.4444444444444444,
              "#bd3786"
             ],
             [
              0.5555555555555556,
              "#d8576b"
             ],
             [
              0.6666666666666666,
              "#ed7953"
             ],
             [
              0.7777777777777778,
              "#fb9f3a"
             ],
             [
              0.8888888888888888,
              "#fdca26"
             ],
             [
              1.0,
              "#f0f921"
             ]
            ]
           }
          ],
          "choropleth": [
           {
            "type": "choropleth",
            "colorbar": {
             "outlinewidth": 0,
             "ticks": ""
            }
           }
          ],
          "histogram2d": [
           {
            "type": "histogram2d",
            "colorbar": {
             "outlinewidth": 0,
             "ticks": ""
            },
            "colorscale": [
             [
              0.0,
              "#0d0887"
             ],
             [
              0.1111111111111111,
              "#46039f"
             ],
             [
              0.2222222222222222,
              "#7201a8"
             ],
             [
              0.3333333333333333,
              "#9c179e"
             ],
             [
              0.4444444444444444,
              "#bd3786"
             ],
             [
              0.5555555555555556,
              "#d8576b"
             ],
             [
              0.6666666666666666,
              "#ed7953"
             ],
             [
              0.7777777777777778,
              "#fb9f3a"
             ],
             [
              0.8888888888888888,
              "#fdca26"
             ],
             [
              1.0,
              "#f0f921"
             ]
            ]
           }
          ],
          "heatmap": [
           {
            "type": "heatmap",
            "colorbar": {
             "outlinewidth": 0,
             "ticks": ""
            },
            "colorscale": [
             [
              0.0,
              "#0d0887"
             ],
             [
              0.1111111111111111,
              "#46039f"
             ],
             [
              0.2222222222222222,
              "#7201a8"
             ],
             [
              0.3333333333333333,
              "#9c179e"
             ],
             [
              0.4444444444444444,
              "#bd3786"
             ],
             [
              0.5555555555555556,
              "#d8576b"
             ],
             [
              0.6666666666666666,
              "#ed7953"
             ],
             [
              0.7777777777777778,
              "#fb9f3a"
             ],
             [
              0.8888888888888888,
              "#fdca26"
             ],
             [
              1.0,
              "#f0f921"
             ]
            ]
           }
          ],
          "heatmapgl": [
           {
            "type": "heatmapgl",
            "colorbar": {
             "outlinewidth": 0,
             "ticks": ""
            },
            "colorscale": [
             [
              0.0,
              "#0d0887"
             ],
             [
              0.1111111111111111,
              "#46039f"
             ],
             [
              0.2222222222222222,
              "#7201a8"
             ],
             [
              0.3333333333333333,
              "#9c179e"
             ],
             [
              0.4444444444444444,
              "#bd3786"
             ],
             [
              0.5555555555555556,
              "#d8576b"
             ],
             [
              0.6666666666666666,
              "#ed7953"
             ],
             [
              0.7777777777777778,
              "#fb9f3a"
             ],
             [
              0.8888888888888888,
              "#fdca26"
             ],
             [
              1.0,
              "#f0f921"
             ]
            ]
           }
          ],
          "contourcarpet": [
           {
            "type": "contourcarpet",
            "colorbar": {
             "outlinewidth": 0,
             "ticks": ""
            }
           }
          ],
          "contour": [
           {
            "type": "contour",
            "colorbar": {
             "outlinewidth": 0,
             "ticks": ""
            },
            "colorscale": [
             [
              0.0,
              "#0d0887"
             ],
             [
              0.1111111111111111,
              "#46039f"
             ],
             [
              0.2222222222222222,
              "#7201a8"
             ],
             [
              0.3333333333333333,
              "#9c179e"
             ],
             [
              0.4444444444444444,
              "#bd3786"
             ],
             [
              0.5555555555555556,
              "#d8576b"
             ],
             [
              0.6666666666666666,
              "#ed7953"
             ],
             [
              0.7777777777777778,
              "#fb9f3a"
             ],
             [
              0.8888888888888888,
              "#fdca26"
             ],
             [
              1.0,
              "#f0f921"
             ]
            ]
           }
          ],
          "surface": [
           {
            "type": "surface",
            "colorbar": {
             "outlinewidth": 0,
             "ticks": ""
            },
            "colorscale": [
             [
              0.0,
              "#0d0887"
             ],
             [
              0.1111111111111111,
              "#46039f"
             ],
             [
              0.2222222222222222,
              "#7201a8"
             ],
             [
              0.3333333333333333,
              "#9c179e"
             ],
             [
              0.4444444444444444,
              "#bd3786"
             ],
             [
              0.5555555555555556,
              "#d8576b"
             ],
             [
              0.6666666666666666,
              "#ed7953"
             ],
             [
              0.7777777777777778,
              "#fb9f3a"
             ],
             [
              0.8888888888888888,
              "#fdca26"
             ],
             [
              1.0,
              "#f0f921"
             ]
            ]
           }
          ],
          "mesh3d": [
           {
            "type": "mesh3d",
            "colorbar": {
             "outlinewidth": 0,
             "ticks": ""
            }
           }
          ],
          "scatter": [
           {
            "fillpattern": {
             "fillmode": "overlay",
             "size": 10,
             "solidity": 0.2
            },
            "type": "scatter"
           }
          ],
          "parcoords": [
           {
            "type": "parcoords",
            "line": {
             "colorbar": {
              "outlinewidth": 0,
              "ticks": ""
             }
            }
           }
          ],
          "scatterpolargl": [
           {
            "type": "scatterpolargl",
            "marker": {
             "colorbar": {
              "outlinewidth": 0,
              "ticks": ""
             }
            }
           }
          ],
          "bar": [
           {
            "error_x": {
             "color": "#2a3f5f"
            },
            "error_y": {
             "color": "#2a3f5f"
            },
            "marker": {
             "line": {
              "color": "#E5ECF6",
              "width": 0.5
             },
             "pattern": {
              "fillmode": "overlay",
              "size": 10,
              "solidity": 0.2
             }
            },
            "type": "bar"
           }
          ],
          "scattergeo": [
           {
            "type": "scattergeo",
            "marker": {
             "colorbar": {
              "outlinewidth": 0,
              "ticks": ""
             }
            }
           }
          ],
          "scatterpolar": [
           {
            "type": "scatterpolar",
            "marker": {
             "colorbar": {
              "outlinewidth": 0,
              "ticks": ""
             }
            }
           }
          ],
          "histogram": [
           {
            "marker": {
             "pattern": {
              "fillmode": "overlay",
              "size": 10,
              "solidity": 0.2
             }
            },
            "type": "histogram"
           }
          ],
          "scattergl": [
           {
            "type": "scattergl",
            "marker": {
             "colorbar": {
              "outlinewidth": 0,
              "ticks": ""
             }
            }
           }
          ],
          "scatter3d": [
           {
            "type": "scatter3d",
            "line": {
             "colorbar": {
              "outlinewidth": 0,
              "ticks": ""
             }
            },
            "marker": {
             "colorbar": {
              "outlinewidth": 0,
              "ticks": ""
             }
            }
           }
          ],
          "scattermapbox": [
           {
            "type": "scattermapbox",
            "marker": {
             "colorbar": {
              "outlinewidth": 0,
              "ticks": ""
             }
            }
           }
          ],
          "scatterternary": [
           {
            "type": "scatterternary",
            "marker": {
             "colorbar": {
              "outlinewidth": 0,
              "ticks": ""
             }
            }
           }
          ],
          "scattercarpet": [
           {
            "type": "scattercarpet",
            "marker": {
             "colorbar": {
              "outlinewidth": 0,
              "ticks": ""
             }
            }
           }
          ],
          "carpet": [
           {
            "aaxis": {
             "endlinecolor": "#2a3f5f",
             "gridcolor": "white",
             "linecolor": "white",
             "minorgridcolor": "white",
             "startlinecolor": "#2a3f5f"
            },
            "baxis": {
             "endlinecolor": "#2a3f5f",
             "gridcolor": "white",
             "linecolor": "white",
             "minorgridcolor": "white",
             "startlinecolor": "#2a3f5f"
            },
            "type": "carpet"
           }
          ],
          "table": [
           {
            "cells": {
             "fill": {
              "color": "#EBF0F8"
             },
             "line": {
              "color": "white"
             }
            },
            "header": {
             "fill": {
              "color": "#C8D4E3"
             },
             "line": {
              "color": "white"
             }
            },
            "type": "table"
           }
          ],
          "barpolar": [
           {
            "marker": {
             "line": {
              "color": "#E5ECF6",
              "width": 0.5
             },
             "pattern": {
              "fillmode": "overlay",
              "size": 10,
              "solidity": 0.2
             }
            },
            "type": "barpolar"
           }
          ],
          "pie": [
           {
            "automargin": true,
            "type": "pie"
           }
          ]
         },
         "layout": {
          "autotypenumbers": "strict",
          "colorway": [
           "#636efa",
           "#EF553B",
           "#00cc96",
           "#ab63fa",
           "#FFA15A",
           "#19d3f3",
           "#FF6692",
           "#B6E880",
           "#FF97FF",
           "#FECB52"
          ],
          "font": {
           "color": "#2a3f5f"
          },
          "hovermode": "closest",
          "hoverlabel": {
           "align": "left"
          },
          "paper_bgcolor": "white",
          "plot_bgcolor": "#E5ECF6",
          "polar": {
           "bgcolor": "#E5ECF6",
           "angularaxis": {
            "gridcolor": "white",
            "linecolor": "white",
            "ticks": ""
           },
           "radialaxis": {
            "gridcolor": "white",
            "linecolor": "white",
            "ticks": ""
           }
          },
          "ternary": {
           "bgcolor": "#E5ECF6",
           "aaxis": {
            "gridcolor": "white",
            "linecolor": "white",
            "ticks": ""
           },
           "baxis": {
            "gridcolor": "white",
            "linecolor": "white",
            "ticks": ""
           },
           "caxis": {
            "gridcolor": "white",
            "linecolor": "white",
            "ticks": ""
           }
          },
          "coloraxis": {
           "colorbar": {
            "outlinewidth": 0,
            "ticks": ""
           }
          },
          "colorscale": {
           "sequential": [
            [
             0.0,
             "#0d0887"
            ],
            [
             0.1111111111111111,
             "#46039f"
            ],
            [
             0.2222222222222222,
             "#7201a8"
            ],
            [
             0.3333333333333333,
             "#9c179e"
            ],
            [
             0.4444444444444444,
             "#bd3786"
            ],
            [
             0.5555555555555556,
             "#d8576b"
            ],
            [
             0.6666666666666666,
             "#ed7953"
            ],
            [
             0.7777777777777778,
             "#fb9f3a"
            ],
            [
             0.8888888888888888,
             "#fdca26"
            ],
            [
             1.0,
             "#f0f921"
            ]
           ],
           "sequentialminus": [
            [
             0.0,
             "#0d0887"
            ],
            [
             0.1111111111111111,
             "#46039f"
            ],
            [
             0.2222222222222222,
             "#7201a8"
            ],
            [
             0.3333333333333333,
             "#9c179e"
            ],
            [
             0.4444444444444444,
             "#bd3786"
            ],
            [
             0.5555555555555556,
             "#d8576b"
            ],
            [
             0.6666666666666666,
             "#ed7953"
            ],
            [
             0.7777777777777778,
             "#fb9f3a"
            ],
            [
             0.8888888888888888,
             "#fdca26"
            ],
            [
             1.0,
             "#f0f921"
            ]
           ],
           "diverging": [
            [
             0,
             "#8e0152"
            ],
            [
             0.1,
             "#c51b7d"
            ],
            [
             0.2,
             "#de77ae"
            ],
            [
             0.3,
             "#f1b6da"
            ],
            [
             0.4,
             "#fde0ef"
            ],
            [
             0.5,
             "#f7f7f7"
            ],
            [
             0.6,
             "#e6f5d0"
            ],
            [
             0.7,
             "#b8e186"
            ],
            [
             0.8,
             "#7fbc41"
            ],
            [
             0.9,
             "#4d9221"
            ],
            [
             1,
             "#276419"
            ]
           ]
          },
          "xaxis": {
           "gridcolor": "white",
           "linecolor": "white",
           "ticks": "",
           "title": {
            "standoff": 15
           },
           "zerolinecolor": "white",
           "automargin": true,
           "zerolinewidth": 2
          },
          "yaxis": {
           "gridcolor": "white",
           "linecolor": "white",
           "ticks": "",
           "title": {
            "standoff": 15
           },
           "zerolinecolor": "white",
           "automargin": true,
           "zerolinewidth": 2
          },
          "scene": {
           "xaxis": {
            "backgroundcolor": "#E5ECF6",
            "gridcolor": "white",
            "linecolor": "white",
            "showbackground": true,
            "ticks": "",
            "zerolinecolor": "white",
            "gridwidth": 2
           },
           "yaxis": {
            "backgroundcolor": "#E5ECF6",
            "gridcolor": "white",
            "linecolor": "white",
            "showbackground": true,
            "ticks": "",
            "zerolinecolor": "white",
            "gridwidth": 2
           },
           "zaxis": {
            "backgroundcolor": "#E5ECF6",
            "gridcolor": "white",
            "linecolor": "white",
            "showbackground": true,
            "ticks": "",
            "zerolinecolor": "white",
            "gridwidth": 2
           }
          },
          "shapedefaults": {
           "line": {
            "color": "#2a3f5f"
           }
          },
          "annotationdefaults": {
           "arrowcolor": "#2a3f5f",
           "arrowhead": 0,
           "arrowwidth": 1
          },
          "geo": {
           "bgcolor": "white",
           "landcolor": "#E5ECF6",
           "subunitcolor": "white",
           "showland": true,
           "showlakes": true,
           "lakecolor": "white"
          },
          "title": {
           "x": 0.05
          },
          "mapbox": {
           "style": "light"
          }
         }
        },
        "xaxis": {
         "anchor": "y",
         "domain": [
          0.0,
          1.0
         ],
         "scaleanchor": "y",
         "constrain": "domain",
         "title": {
          "text": "Temperature"
         },
         "tickmode": "array",
         "tickvals": [
          0,
          1,
          2,
          3,
          4,
          5,
          6,
          7,
          8,
          9,
          10
         ],
         "ticktext": [
          "0",
          "1",
          "2",
          "3",
          "4",
          "5",
          "6",
          "7",
          "8",
          "9",
          "10"
         ],
         "scaleratio": 1
        },
        "yaxis": {
         "anchor": "x",
         "domain": [
          0.0,
          1.0
         ],
         "autorange": "reversed",
         "constrain": "domain",
         "title": {
          "text": "Humidity"
         },
         "tickmode": "array",
         "tickvals": [
          0,
          1,
          2,
          3,
          4,
          5,
          6,
          7,
          8,
          9,
          10
         ],
         "ticktext": [
          "10",
          "9",
          "8",
          "7",
          "6",
          "5",
          "4",
          "3",
          "2",
          "1",
          "0"
         ]
        },
        "coloraxis": {
         "colorbar": {
          "title": {
           "text": "Value"
          },
          "x": 1
         },
         "colorscale": [
          [
           0.0,
           "rgba(57,59,121,1.0)"
          ],
          [
           0.05263157894736842,
           "rgba(82,84,163,1.0)"
          ],
          [
           0.10526315789473684,
           "rgba(107,110,207,1.0)"
          ],
          [
           0.15789473684210525,
           "rgba(156,158,222,1.0)"
          ],
          [
           0.21052631578947367,
           "rgba(99,121,57,1.0)"
          ],
          [
           0.2631578947368421,
           "rgba(140,162,82,1.0)"
          ],
          [
           0.3157894736842105,
           "rgba(181,207,107,1.0)"
          ],
          [
           0.3684210526315789,
           "rgba(206,219,156,1.0)"
          ],
          [
           0.42105263157894735,
           "rgba(140,109,49,1.0)"
          ],
          [
           0.47368421052631576,
           "rgba(189,158,57,1.0)"
          ],
          [
           0.5263157894736842,
           "rgba(231,186,82,1.0)"
          ],
          [
           0.5789473684210527,
           "rgba(231,203,148,1.0)"
          ],
          [
           0.631578947368421,
           "rgba(132,60,57,1.0)"
          ],
          [
           0.6842105263157895,
           "rgba(173,73,74,1.0)"
          ],
          [
           0.7368421052631579,
           "rgba(214,97,107,1.0)"
          ],
          [
           0.7894736842105263,
           "rgba(231,150,156,1.0)"
          ],
          [
           0.8421052631578947,
           "rgba(123,65,115,1.0)"
          ],
          [
           0.8947368421052632,
           "rgba(165,81,148,1.0)"
          ],
          [
           0.9473684210526315,
           "rgba(206,109,189,1.0)"
          ],
          [
           1.0,
           "rgba(222,158,214,1.0)"
          ]
         ],
         "cmin": 0,
         "cmax": 100
        },
        "title": {
         "text": "State value function GPI-MC",
         "x": 0.5,
         "y": 0.85
        },
        "shapes": [
         {
          "line": {
           "color": "black",
           "width": 2
          },
          "type": "line",
          "x0": -0.5,
          "x1": -0.5,
          "y0": -0.5,
          "y1": 10.5
         },
         {
          "line": {
           "color": "black",
           "width": 2
          },
          "type": "line",
          "x0": -0.5,
          "x1": 10.5,
          "y0": -0.5,
          "y1": -0.5
         },
         {
          "line": {
           "color": "black",
           "width": 2
          },
          "type": "line",
          "x0": 0.5,
          "x1": 0.5,
          "y0": -0.5,
          "y1": 10.5
         },
         {
          "line": {
           "color": "black",
           "width": 2
          },
          "type": "line",
          "x0": -0.5,
          "x1": 10.5,
          "y0": 0.5,
          "y1": 0.5
         },
         {
          "line": {
           "color": "black",
           "width": 2
          },
          "type": "line",
          "x0": 1.5,
          "x1": 1.5,
          "y0": -0.5,
          "y1": 10.5
         },
         {
          "line": {
           "color": "black",
           "width": 2
          },
          "type": "line",
          "x0": -0.5,
          "x1": 10.5,
          "y0": 1.5,
          "y1": 1.5
         },
         {
          "line": {
           "color": "black",
           "width": 2
          },
          "type": "line",
          "x0": 2.5,
          "x1": 2.5,
          "y0": -0.5,
          "y1": 10.5
         },
         {
          "line": {
           "color": "black",
           "width": 2
          },
          "type": "line",
          "x0": -0.5,
          "x1": 10.5,
          "y0": 2.5,
          "y1": 2.5
         },
         {
          "line": {
           "color": "black",
           "width": 2
          },
          "type": "line",
          "x0": 3.5,
          "x1": 3.5,
          "y0": -0.5,
          "y1": 10.5
         },
         {
          "line": {
           "color": "black",
           "width": 2
          },
          "type": "line",
          "x0": -0.5,
          "x1": 10.5,
          "y0": 3.5,
          "y1": 3.5
         },
         {
          "line": {
           "color": "black",
           "width": 2
          },
          "type": "line",
          "x0": 4.5,
          "x1": 4.5,
          "y0": -0.5,
          "y1": 10.5
         },
         {
          "line": {
           "color": "black",
           "width": 2
          },
          "type": "line",
          "x0": -0.5,
          "x1": 10.5,
          "y0": 4.5,
          "y1": 4.5
         },
         {
          "line": {
           "color": "black",
           "width": 2
          },
          "type": "line",
          "x0": 5.5,
          "x1": 5.5,
          "y0": -0.5,
          "y1": 10.5
         },
         {
          "line": {
           "color": "black",
           "width": 2
          },
          "type": "line",
          "x0": -0.5,
          "x1": 10.5,
          "y0": 5.5,
          "y1": 5.5
         },
         {
          "line": {
           "color": "black",
           "width": 2
          },
          "type": "line",
          "x0": 6.5,
          "x1": 6.5,
          "y0": -0.5,
          "y1": 10.5
         },
         {
          "line": {
           "color": "black",
           "width": 2
          },
          "type": "line",
          "x0": -0.5,
          "x1": 10.5,
          "y0": 6.5,
          "y1": 6.5
         },
         {
          "line": {
           "color": "black",
           "width": 2
          },
          "type": "line",
          "x0": 7.5,
          "x1": 7.5,
          "y0": -0.5,
          "y1": 10.5
         },
         {
          "line": {
           "color": "black",
           "width": 2
          },
          "type": "line",
          "x0": -0.5,
          "x1": 10.5,
          "y0": 7.5,
          "y1": 7.5
         },
         {
          "line": {
           "color": "black",
           "width": 2
          },
          "type": "line",
          "x0": 8.5,
          "x1": 8.5,
          "y0": -0.5,
          "y1": 10.5
         },
         {
          "line": {
           "color": "black",
           "width": 2
          },
          "type": "line",
          "x0": -0.5,
          "x1": 10.5,
          "y0": 8.5,
          "y1": 8.5
         },
         {
          "line": {
           "color": "black",
           "width": 2
          },
          "type": "line",
          "x0": 9.5,
          "x1": 9.5,
          "y0": -0.5,
          "y1": 10.5
         },
         {
          "line": {
           "color": "black",
           "width": 2
          },
          "type": "line",
          "x0": -0.5,
          "x1": 10.5,
          "y0": 9.5,
          "y1": 9.5
         }
        ],
        "width": 500,
        "height": 500,
        "sliders": [
         {
          "currentvalue": {
           "prefix": "Growth: "
          },
          "pad": {
           "t": 15
          },
          "steps": [
           {
            "args": [
             {
              "z": [
               [
                [
                 0.0,
                 0.0,
                 0.0,
                 0.0,
                 0.0,
                 0.0,
                 0.0,
                 0.0,
                 0.0,
                 0.0,
                 0.0
                ],
                [
                 0.0,
                 0.0,
                 0.0,
                 0.0,
                 0.0,
                 0.0,
                 0.0,
                 0.0,
                 0.0,
                 0.0,
                 0.0
                ],
                [
                 0.0,
                 0.0,
                 0.0,
                 0.0,
                 0.0,
                 0.0,
                 0.0,
                 0.0,
                 0.0,
                 0.0,
                 0.0
                ],
                [
                 0.0,
                 0.0,
                 0.0,
                 0.0,
                 0.0,
                 0.0,
                 0.0,
                 0.0,
                 0.0,
                 0.0,
                 0.0
                ],
                [
                 0.0,
                 0.0,
                 0.0,
                 0.0,
                 0.0,
                 0.0,
                 0.0,
                 0.0,
                 0.0,
                 0.0,
                 0.0
                ],
                [
                 0.0,
                 0.0,
                 0.0,
                 0.0,
                 0.0,
                 0.0,
                 0.0,
                 0.0,
                 0.0,
                 0.0,
                 0.0
                ],
                [
                 0.0,
                 0.0,
                 0.0,
                 0.0,
                 0.0,
                 0.0,
                 0.0,
                 0.0,
                 0.0,
                 0.0,
                 0.0
                ],
                [
                 0.0,
                 0.0,
                 0.0,
                 0.0,
                 0.0,
                 0.0,
                 0.0,
                 0.0,
                 0.0,
                 0.0,
                 0.0
                ],
                [
                 0.0,
                 0.0,
                 0.0,
                 0.0,
                 0.0,
                 0.0,
                 0.0,
                 0.0,
                 0.0,
                 0.0,
                 0.0
                ],
                [
                 0.0,
                 0.0,
                 0.0,
                 0.0,
                 0.0,
                 0.0,
                 0.0,
                 0.0,
                 0.0,
                 0.0,
                 0.0
                ],
                [
                 0.0,
                 0.0,
                 0.0,
                 0.0,
                 0.0,
                 0.0,
                 0.0,
                 0.0,
                 0.0,
                 0.0,
                 0.0
                ]
               ]
              ]
             }
            ],
            "label": "0",
            "method": "restyle"
           },
           {
            "args": [
             {
              "z": [
               [
                [
                 0.0,
                 0.0,
                 0.0,
                 0.0,
                 0.0,
                 0.0,
                 0.0,
                 0.0,
                 0.0,
                 0.0,
                 0.0
                ],
                [
                 0.0,
                 4.828661946232557,
                 4.973430904234874,
                 5.424928275880737,
                 4.1702000048593755,
                 4.894184467953574,
                 5.176660973249319,
                 5.8212921200013,
                 5.073902980181437,
                 2.043011821529321,
                 0.0
                ],
                [
                 0.0,
                 20.678551198511464,
                 20.676154464936445,
                 20.811592708877704,
                 20.513620332276922,
                 20.69553727149319,
                 20.638391573606622,
                 20.498437854608312,
                 19.216241520696343,
                 7.726785770647283,
                 0.0
                ],
                [
                 0.0,
                 26.839448835005175,
                 29.520807231597452,
                 31.280422235971983,
                 31.490160584069166,
                 31.655330017324136,
                 31.603663738873664,
                 31.914086904526492,
                 28.73721566456195,
                 11.249102371911343,
                 0.0
                ],
                [
                 0.0,
                 31.50618439731676,
                 37.08030390253305,
                 42.59870560991522,
                 46.69031026453403,
                 48.52818908669384,
                 48.001078615256446,
                 46.70242828816442,
                 40.14431476486526,
                 15.31690468492861,
                 0.0
                ],
                [
                 0.0,
                 29.56204684786699,
                 36.94779539091192,
                 44.00621768893956,
                 52.33739074307331,
                 62.33040647490169,
                 58.72188675630618,
                 57.958329294440965,
                 46.56340799217794,
                 17.60385992436364,
                 0.0
                ],
                [
                 0.0,
                 25.29339962497378,
                 31.442747023315544,
                 37.60399001698999,
                 44.487737737131546,
                 52.40724421160052,
                 61.23729664730196,
                 60.55180494879007,
                 47.28785790198706,
                 18.33414526439619,
                 0.0
                ],
                [
                 0.0,
                 19.92509918358043,
                 25.734425715735643,
                 30.812891610449295,
                 37.22960438155552,
                 44.1732409913238,
                 51.36424710250154,
                 53.41541912285849,
                 46.328036592416474,
                 17.96320001992158,
                 0.0
                ],
                [
                 0.0,
                 8.082447232997879,
                 14.987556886957458,
                 25.47023335172329,
                 30.38207088503737,
                 36.210260197836895,
                 42.643186633274546,
                 45.950370143521454,
                 43.11937218283051,
                 14.301512316342231,
                 0.0
                ],
                [
                 0.0,
                 0.0,
                 7.7936853247093065,
                 18.876711286545557,
                 22.879696306649727,
                 28.37979945182527,
                 34.40266165098333,
                 39.16092593790374,
                 37.67595256284121,
                 14.601412171442314,
                 0.0
                ],
                [
                 0.0,
                 0.0,
                 0.0,
                 0.0,
                 0.0,
                 0.0,
                 0.0,
                 0.0,
                 0.0,
                 0.0,
                 0.0
                ]
               ]
              ]
             }
            ],
            "label": "1",
            "method": "restyle"
           },
           {
            "args": [
             {
              "z": [
               [
                [
                 0.0,
                 0.5491779051972641,
                 3.505232995714287,
                 0.8268350740721593,
                 0.7346225548206999,
                 1.4384618945155954,
                 1.1720092643821876,
                 1.4668075159791976,
                 1.5633314962758849,
                 0.7275025630202331,
                 0.35250878948027664
                ],
                [
                 6.635069468252765,
                 15.989989062559037,
                 17.831225303520494,
                 19.4800668270124,
                 19.061678173584863,
                 21.71597139815721,
                 20.94773068684987,
                 17.708047027577155,
                 15.67088317486056,
                 6.628240964733263,
                 1.2546532243557842
                ],
                [
                 18.263152272858633,
                 43.12810670389173,
                 50.38557906571932,
                 56.865222180208356,
                 58.33282142516632,
                 64.84830040822943,
                 56.90179183636517,
                 54.343951817838196,
                 40.939102257398936,
                 16.705522074195066,
                 3.1615590888951575
                ],
                [
                 23.61648612025914,
                 44.784995717495605,
                 54.54980665371788,
                 63.461612588504934,
                 73.09152906444153,
                 78.58786754347828,
                 76.12605567043164,
                 65.20829538753567,
                 47.38576352901064,
                 22.5786483876935,
                 3.029466186486634
                ],
                [
                 25.24914065591884,
                 40.05729511005672,
                 47.76341036444189,
                 56.924992181491646,
                 67.74519928920199,
                 70.325415,
                 77.49689225975408,
                 65.6154832128082,
                 48.082953692443176,
                 24.45288522716372,
                 5.380024363780088
                ],
                [
                 22.288544955969158,
                 33.61996686687803,
                 39.66122845605197,
                 46.95306392557495,
                 56.00365568098511,
                 66.20754610181022,
                 73.87170965229464,
                 65.33847411915305,
                 47.99280343829823,
                 26.327383582482902,
                 5.360152146867395
                ],
                [
                 18.98592330797403,
                 26.975490007499648,
                 32.56906341353951,
                 39.13100442962991,
                 46.37741436016981,
                 55.37546075969358,
                 62.50616608064418,
                 60.65348694924146,
                 48.04456615256246,
                 25.696586695404253,
                 5.564280183415532
                ],
                [
                 13.190547055434871,
                 18.486250012956777,
                 25.501780705974348,
                 32.98549306742457,
                 40.27280237855528,
                 44.67112695405568,
                 52.38384941085618,
                 54.2979218108774,
                 46.25657883217369,
                 24.408642837825372,
                 6.0505043611584926
                ],
                [
                 0.7504731764849961,
                 11.55765828959098,
                 20.044459776171838,
                 23.213796295397273,
                 29.942752520608494,
                 34.40797159494541,
                 43.22921402487178,
                 46.59066999975957,
                 42.521638516291254,
                 23.77204948076248,
                 7.423699336909979
                ],
                [
                 0.0,
                 4.305014106197353,
                 11.015962818148894,
                 17.71337616164607,
                 23.56398521465285,
                 27.238988754068103,
                 35.62966667932931,
                 38.339581345854505,
                 36.88799840426273,
                 23.090627823527594,
                 3.248786895693377
                ],
                [
                 0.0,
                 0.0,
                 3.6433553769884495,
                 12.301114755629083,
                 16.882593091515275,
                 19.584677193052087,
                 25.112824154783095,
                 30.704907241732478,
                 32.047937601099434,
                 18.269731271921977,
                 3.3877413458952303
                ]
               ]
              ]
             }
            ],
            "label": "2",
            "method": "restyle"
           },
           {
            "args": [
             {
              "z": [
               [
                [
                 4.159028971729408,
                 4.782314248602239,
                 3.6117898223374834,
                 4.048568434685636,
                 4.595248468265988,
                 8.820760029114178,
                 4.132638267281122,
                 6.745017366416112,
                 4.774107611048815,
                 3.4632586451366523,
                 0.968076885218429
                ],
                [
                 21.700127983532553,
                 24.095921046733185,
                 25.14522516963569,
                 28.937471032832182,
                 25.47392387700529,
                 29.779052657441472,
                 26.858968048044726,
                 25.824815155420676,
                 25.832804158378092,
                 13.864104278770421,
                 2.4204283197251657
                ],
                [
                 36.86023840446471,
                 42.28458994180958,
                 49.99152600726872,
                 55.93468390080764,
                 62.20118149625595,
                 64.9903153713861,
                 66.95430097948072,
                 67.74532862838446,
                 66.02877756942283,
                 37.08951599036355,
                 6.1341248241205815
                ],
                [
                 34.62051101578204,
                 44.78673141957851,
                 55.100589455942334,
                 64.15313181559874,
                 74.66237141496624,
                 87.2728283996638,
                 88.62478652563173,
                 89.47388791516853,
                 89.43396226415095,
                 49.409072301008486,
                 6.987511915612737
                ],
                [
                 32.883195226084396,
                 40.15485385371255,
                 47.364570227828935,
                 56.156867954415304,
                 67.24445995297026,
                 79.65398348225168,
                 85.46367697632685,
                 88.97433962264154,
                 89.94,
                 50.137808775307114,
                 7.839154206608891
                ],
                [
                 26.784603866793997,
                 33.47034217674016,
                 39.895336883968085,
                 46.960000560971174,
                 55.47189667801064,
                 66.18466185217372,
                 78.26165066844061,
                 84.37037051694156,
                 87.92920353982298,
                 43.20539185002782,
                 7.464756048731483
                ],
                [
                 22.141837054588862,
                 27.27638502357502,
                 33.06387353716656,
                 39.008777535026766,
                 46.90684128315573,
                 55.56502438520193,
                 65.79706238095885,
                 77.9116866170699,
                 85.83691249660136,
                 49.61873900869002,
                 9.173053207876407
                ],
                [
                 13.706251028903726,
                 20.594559303027417,
                 27.672776473425024,
                 32.215942746792244,
                 39.13031606767885,
                 45.64957204495627,
                 54.78747694606612,
                 64.43878599773275,
                 72.12555740738313,
                 44.21762881469137,
                 5.612690970234205
                ],
                [
                 7.76402855026297,
                 9.290300753531522,
                 20.451973442730356,
                 26.399458446450573,
                 30.882898342776,
                 38.07792301699583,
                 45.51888318868354,
                 54.695960898445186,
                 59.13519816334972,
                 39.037723491349176,
                 6.654742685099226
                ],
                [
                 2.0807345491212375,
                 6.898560842419806,
                 13.566642733158538,
                 19.84727606774578,
                 24.49079656665804,
                 29.736372719487637,
                 35.33112987524431,
                 39.74492098029509,
                 37.30376156174342,
                 28.274532289045254,
                 5.004052489796904
                ],
                [
                 0.0,
                 1.895832819714106,
                 0.0,
                 11.384963790737654,
                 17.972922717299777,
                 22.752200490602167,
                 27.865949417242764,
                 31.656199729539363,
                 31.56570839960545,
                 22.738860909079847,
                 6.722641187075426
                ]
               ]
              ]
             }
            ],
            "label": "3",
            "method": "restyle"
           },
           {
            "args": [
             {
              "z": [
               [
                [
                 1.4099228519793565,
                 9.459273103408634,
                 10.332101370707623,
                 15.09267832698196,
                 12.047548750013776,
                 18.756257058843392,
                 25.188063327695453,
                 17.609327391943467,
                 16.25702550516758,
                 20.225871768722392,
                 6.291819638790911
                ],
                [
                 25.00081840524706,
                 17.16754916595209,
                 31.444977385497733,
                 57.77061361795691,
                 66.4637760910673,
                 72.81747325326187,
                 74.96010912923164,
                 75.1563547686361,
                 75.14468001045836,
                 76.90810949805072,
                 29.37192514624517
                ],
                [
                 34.686390114052195,
                 45.69871641058093,
                 47.02330124884665,
                 65.7853038393288,
                 76.20252032316618,
                 86.97265333455782,
                 100.0,
                 100.0,
                 100.0,
                 100.0,
                 33.93204394877735
                ],
                [
                 38.52894632910772,
                 46.51947673777967,
                 55.0003784530571,
                 64.98865633571964,
                 74.12335442530514,
                 86.74853649834536,
                 100.0,
                 100.0,
                 100.0,
                 100.0,
                 43.87696761891631
                ],
                [
                 30.906315697077346,
                 39.86981964087669,
                 47.27801371746241,
                 55.57348804989403,
                 67.35788343492071,
                 79.83081689270377,
                 94.91248659272937,
                 96.62258544705186,
                 100.0,
                 100.0,
                 38.53182534130059
                ],
                [
                 28.06620031336068,
                 33.699881558850215,
                 39.382804332535166,
                 46.949097925112575,
                 56.314276663083184,
                 66.40745579315973,
                 78.73963113872722,
                 93.6712376283743,
                 100.0,
                 100.0,
                 48.00412121957627
                ],
                [
                 23.003341837121656,
                 28.270042720074645,
                 33.42596855009318,
                 38.56088408823106,
                 46.33487842664167,
                 55.607749555666274,
                 65.37451651807376,
                 77.92255601272282,
                 85.81215636866968,
                 86.98136663576105,
                 34.390451774520834
                ],
                [
                 15.211664997197511,
                 21.604267627094007,
                 26.431054370380547,
                 32.976513661517764,
                 38.70806704543255,
                 46.696333361787445,
                 55.36400105292981,
                 65.2642690681417,
                 71.92599167970239,
                 70.84256883920122,
                 22.088126178633225
                ],
                [
                 10.738583421126728,
                 16.361588699339162,
                 20.96903964237296,
                 28.716774191985525,
                 31.362254987925812,
                 36.17577267564754,
                 45.69664582976841,
                 54.63562040629193,
                 60.35215375051866,
                 45.93894297052137,
                 17.787485414454554
                ],
                [
                 5.284106285263239,
                 9.267179373424353,
                 15.062722369625046,
                 19.98174363506665,
                 25.829002688272464,
                 31.153814022489232,
                 39.04310738420102,
                 44.427563852178814,
                 48.72635058216845,
                 41.78107954417869,
                 16.787000317795776
                ],
                [
                 0.0,
                 3.993527211019058,
                 9.049777243930397,
                 14.074134353590395,
                 17.70110186365626,
                 22.3125611910034,
                 27.18656075263436,
                 31.98492375849181,
                 32.960825291501365,
                 25.24674041769928,
                 10.042324996060945
                ]
               ]
              ]
             }
            ],
            "label": "4",
            "method": "restyle"
           },
           {
            "args": [
             {
              "z": [
               [
                [
                 0.0,
                 0.0,
                 0.0,
                 0.0,
                 0.0,
                 0.0,
                 0.0,
                 0.0,
                 0.0,
                 0.0,
                 0.0
                ],
                [
                 0.0,
                 0.0,
                 0.0,
                 0.0,
                 0.0,
                 0.0,
                 0.0,
                 0.0,
                 0.0,
                 0.0,
                 0.0
                ],
                [
                 0.0,
                 0.0,
                 0.0,
                 0.0,
                 0.0,
                 0.0,
                 0.0,
                 0.0,
                 0.0,
                 0.0,
                 0.0
                ],
                [
                 0.0,
                 0.0,
                 0.0,
                 0.0,
                 0.0,
                 0.0,
                 0.0,
                 0.0,
                 0.0,
                 0.0,
                 0.0
                ],
                [
                 0.0,
                 0.0,
                 0.0,
                 0.0,
                 0.0,
                 0.0,
                 0.0,
                 0.0,
                 0.0,
                 0.0,
                 0.0
                ],
                [
                 0.0,
                 0.0,
                 0.0,
                 0.0,
                 0.0,
                 0.0,
                 0.0,
                 0.0,
                 0.0,
                 0.0,
                 0.0
                ],
                [
                 0.0,
                 0.0,
                 0.0,
                 0.0,
                 0.0,
                 0.0,
                 0.0,
                 0.0,
                 0.0,
                 0.0,
                 0.0
                ],
                [
                 0.0,
                 0.0,
                 0.0,
                 0.0,
                 0.0,
                 0.0,
                 0.0,
                 0.0,
                 0.0,
                 0.0,
                 0.0
                ],
                [
                 0.0,
                 0.0,
                 0.0,
                 0.0,
                 0.0,
                 0.0,
                 0.0,
                 0.0,
                 0.0,
                 0.0,
                 0.0
                ],
                [
                 0.0,
                 0.0,
                 0.0,
                 0.0,
                 0.0,
                 0.0,
                 0.0,
                 0.0,
                 0.0,
                 0.0,
                 0.0
                ],
                [
                 0.0,
                 0.0,
                 0.0,
                 0.0,
                 0.0,
                 0.0,
                 0.0,
                 0.0,
                 0.0,
                 0.0,
                 0.0
                ]
               ]
              ]
             }
            ],
            "label": "5",
            "method": "restyle"
           }
          ]
         }
        ]
       },
       "config": {
        "plotlyServerURL": "https://plot.ly"
       }
      },
      "text/html": [
       "<div>                            <div id=\"ca82aee5-60c3-47e7-95be-0d592785829c\" class=\"plotly-graph-div\" style=\"height:500px; width:500px;\"></div>            <script type=\"text/javascript\">                require([\"plotly\"], function(Plotly) {                    window.PLOTLYENV=window.PLOTLYENV || {};                                    if (document.getElementById(\"ca82aee5-60c3-47e7-95be-0d592785829c\")) {                    Plotly.newPlot(                        \"ca82aee5-60c3-47e7-95be-0d592785829c\",                        [{\"coloraxis\":\"coloraxis\",\"name\":\"0\",\"x\":[0,1,2,3,4,5,6,7,8,9,10],\"y\":[0,1,2,3,4,5,6,7,8,9,10],\"z\":[[0.0,0.0,0.0,0.0,0.0,0.0,0.0,0.0,0.0,0.0,0.0],[0.0,0.0,0.0,0.0,0.0,0.0,0.0,0.0,0.0,0.0,0.0],[0.0,0.0,0.0,0.0,0.0,0.0,0.0,0.0,0.0,0.0,0.0],[0.0,0.0,0.0,0.0,0.0,0.0,0.0,0.0,0.0,0.0,0.0],[0.0,0.0,0.0,0.0,0.0,0.0,0.0,0.0,0.0,0.0,0.0],[0.0,0.0,0.0,0.0,0.0,0.0,0.0,0.0,0.0,0.0,0.0],[0.0,0.0,0.0,0.0,0.0,0.0,0.0,0.0,0.0,0.0,0.0],[0.0,0.0,0.0,0.0,0.0,0.0,0.0,0.0,0.0,0.0,0.0],[0.0,0.0,0.0,0.0,0.0,0.0,0.0,0.0,0.0,0.0,0.0],[0.0,0.0,0.0,0.0,0.0,0.0,0.0,0.0,0.0,0.0,0.0],[0.0,0.0,0.0,0.0,0.0,0.0,0.0,0.0,0.0,0.0,0.0]],\"type\":\"heatmap\",\"xaxis\":\"x\",\"yaxis\":\"y\",\"hovertemplate\":\"Temperature: %{x}\\u003cbr\\u003eHumidity: %{y}\\u003cbr\\u003eValue: %{z}\\u003cextra\\u003e\\u003c\\u002fextra\\u003e\"}],                        {\"template\":{\"data\":{\"histogram2dcontour\":[{\"type\":\"histogram2dcontour\",\"colorbar\":{\"outlinewidth\":0,\"ticks\":\"\"},\"colorscale\":[[0.0,\"#0d0887\"],[0.1111111111111111,\"#46039f\"],[0.2222222222222222,\"#7201a8\"],[0.3333333333333333,\"#9c179e\"],[0.4444444444444444,\"#bd3786\"],[0.5555555555555556,\"#d8576b\"],[0.6666666666666666,\"#ed7953\"],[0.7777777777777778,\"#fb9f3a\"],[0.8888888888888888,\"#fdca26\"],[1.0,\"#f0f921\"]]}],\"choropleth\":[{\"type\":\"choropleth\",\"colorbar\":{\"outlinewidth\":0,\"ticks\":\"\"}}],\"histogram2d\":[{\"type\":\"histogram2d\",\"colorbar\":{\"outlinewidth\":0,\"ticks\":\"\"},\"colorscale\":[[0.0,\"#0d0887\"],[0.1111111111111111,\"#46039f\"],[0.2222222222222222,\"#7201a8\"],[0.3333333333333333,\"#9c179e\"],[0.4444444444444444,\"#bd3786\"],[0.5555555555555556,\"#d8576b\"],[0.6666666666666666,\"#ed7953\"],[0.7777777777777778,\"#fb9f3a\"],[0.8888888888888888,\"#fdca26\"],[1.0,\"#f0f921\"]]}],\"heatmap\":[{\"type\":\"heatmap\",\"colorbar\":{\"outlinewidth\":0,\"ticks\":\"\"},\"colorscale\":[[0.0,\"#0d0887\"],[0.1111111111111111,\"#46039f\"],[0.2222222222222222,\"#7201a8\"],[0.3333333333333333,\"#9c179e\"],[0.4444444444444444,\"#bd3786\"],[0.5555555555555556,\"#d8576b\"],[0.6666666666666666,\"#ed7953\"],[0.7777777777777778,\"#fb9f3a\"],[0.8888888888888888,\"#fdca26\"],[1.0,\"#f0f921\"]]}],\"heatmapgl\":[{\"type\":\"heatmapgl\",\"colorbar\":{\"outlinewidth\":0,\"ticks\":\"\"},\"colorscale\":[[0.0,\"#0d0887\"],[0.1111111111111111,\"#46039f\"],[0.2222222222222222,\"#7201a8\"],[0.3333333333333333,\"#9c179e\"],[0.4444444444444444,\"#bd3786\"],[0.5555555555555556,\"#d8576b\"],[0.6666666666666666,\"#ed7953\"],[0.7777777777777778,\"#fb9f3a\"],[0.8888888888888888,\"#fdca26\"],[1.0,\"#f0f921\"]]}],\"contourcarpet\":[{\"type\":\"contourcarpet\",\"colorbar\":{\"outlinewidth\":0,\"ticks\":\"\"}}],\"contour\":[{\"type\":\"contour\",\"colorbar\":{\"outlinewidth\":0,\"ticks\":\"\"},\"colorscale\":[[0.0,\"#0d0887\"],[0.1111111111111111,\"#46039f\"],[0.2222222222222222,\"#7201a8\"],[0.3333333333333333,\"#9c179e\"],[0.4444444444444444,\"#bd3786\"],[0.5555555555555556,\"#d8576b\"],[0.6666666666666666,\"#ed7953\"],[0.7777777777777778,\"#fb9f3a\"],[0.8888888888888888,\"#fdca26\"],[1.0,\"#f0f921\"]]}],\"surface\":[{\"type\":\"surface\",\"colorbar\":{\"outlinewidth\":0,\"ticks\":\"\"},\"colorscale\":[[0.0,\"#0d0887\"],[0.1111111111111111,\"#46039f\"],[0.2222222222222222,\"#7201a8\"],[0.3333333333333333,\"#9c179e\"],[0.4444444444444444,\"#bd3786\"],[0.5555555555555556,\"#d8576b\"],[0.6666666666666666,\"#ed7953\"],[0.7777777777777778,\"#fb9f3a\"],[0.8888888888888888,\"#fdca26\"],[1.0,\"#f0f921\"]]}],\"mesh3d\":[{\"type\":\"mesh3d\",\"colorbar\":{\"outlinewidth\":0,\"ticks\":\"\"}}],\"scatter\":[{\"fillpattern\":{\"fillmode\":\"overlay\",\"size\":10,\"solidity\":0.2},\"type\":\"scatter\"}],\"parcoords\":[{\"type\":\"parcoords\",\"line\":{\"colorbar\":{\"outlinewidth\":0,\"ticks\":\"\"}}}],\"scatterpolargl\":[{\"type\":\"scatterpolargl\",\"marker\":{\"colorbar\":{\"outlinewidth\":0,\"ticks\":\"\"}}}],\"bar\":[{\"error_x\":{\"color\":\"#2a3f5f\"},\"error_y\":{\"color\":\"#2a3f5f\"},\"marker\":{\"line\":{\"color\":\"#E5ECF6\",\"width\":0.5},\"pattern\":{\"fillmode\":\"overlay\",\"size\":10,\"solidity\":0.2}},\"type\":\"bar\"}],\"scattergeo\":[{\"type\":\"scattergeo\",\"marker\":{\"colorbar\":{\"outlinewidth\":0,\"ticks\":\"\"}}}],\"scatterpolar\":[{\"type\":\"scatterpolar\",\"marker\":{\"colorbar\":{\"outlinewidth\":0,\"ticks\":\"\"}}}],\"histogram\":[{\"marker\":{\"pattern\":{\"fillmode\":\"overlay\",\"size\":10,\"solidity\":0.2}},\"type\":\"histogram\"}],\"scattergl\":[{\"type\":\"scattergl\",\"marker\":{\"colorbar\":{\"outlinewidth\":0,\"ticks\":\"\"}}}],\"scatter3d\":[{\"type\":\"scatter3d\",\"line\":{\"colorbar\":{\"outlinewidth\":0,\"ticks\":\"\"}},\"marker\":{\"colorbar\":{\"outlinewidth\":0,\"ticks\":\"\"}}}],\"scattermapbox\":[{\"type\":\"scattermapbox\",\"marker\":{\"colorbar\":{\"outlinewidth\":0,\"ticks\":\"\"}}}],\"scatterternary\":[{\"type\":\"scatterternary\",\"marker\":{\"colorbar\":{\"outlinewidth\":0,\"ticks\":\"\"}}}],\"scattercarpet\":[{\"type\":\"scattercarpet\",\"marker\":{\"colorbar\":{\"outlinewidth\":0,\"ticks\":\"\"}}}],\"carpet\":[{\"aaxis\":{\"endlinecolor\":\"#2a3f5f\",\"gridcolor\":\"white\",\"linecolor\":\"white\",\"minorgridcolor\":\"white\",\"startlinecolor\":\"#2a3f5f\"},\"baxis\":{\"endlinecolor\":\"#2a3f5f\",\"gridcolor\":\"white\",\"linecolor\":\"white\",\"minorgridcolor\":\"white\",\"startlinecolor\":\"#2a3f5f\"},\"type\":\"carpet\"}],\"table\":[{\"cells\":{\"fill\":{\"color\":\"#EBF0F8\"},\"line\":{\"color\":\"white\"}},\"header\":{\"fill\":{\"color\":\"#C8D4E3\"},\"line\":{\"color\":\"white\"}},\"type\":\"table\"}],\"barpolar\":[{\"marker\":{\"line\":{\"color\":\"#E5ECF6\",\"width\":0.5},\"pattern\":{\"fillmode\":\"overlay\",\"size\":10,\"solidity\":0.2}},\"type\":\"barpolar\"}],\"pie\":[{\"automargin\":true,\"type\":\"pie\"}]},\"layout\":{\"autotypenumbers\":\"strict\",\"colorway\":[\"#636efa\",\"#EF553B\",\"#00cc96\",\"#ab63fa\",\"#FFA15A\",\"#19d3f3\",\"#FF6692\",\"#B6E880\",\"#FF97FF\",\"#FECB52\"],\"font\":{\"color\":\"#2a3f5f\"},\"hovermode\":\"closest\",\"hoverlabel\":{\"align\":\"left\"},\"paper_bgcolor\":\"white\",\"plot_bgcolor\":\"#E5ECF6\",\"polar\":{\"bgcolor\":\"#E5ECF6\",\"angularaxis\":{\"gridcolor\":\"white\",\"linecolor\":\"white\",\"ticks\":\"\"},\"radialaxis\":{\"gridcolor\":\"white\",\"linecolor\":\"white\",\"ticks\":\"\"}},\"ternary\":{\"bgcolor\":\"#E5ECF6\",\"aaxis\":{\"gridcolor\":\"white\",\"linecolor\":\"white\",\"ticks\":\"\"},\"baxis\":{\"gridcolor\":\"white\",\"linecolor\":\"white\",\"ticks\":\"\"},\"caxis\":{\"gridcolor\":\"white\",\"linecolor\":\"white\",\"ticks\":\"\"}},\"coloraxis\":{\"colorbar\":{\"outlinewidth\":0,\"ticks\":\"\"}},\"colorscale\":{\"sequential\":[[0.0,\"#0d0887\"],[0.1111111111111111,\"#46039f\"],[0.2222222222222222,\"#7201a8\"],[0.3333333333333333,\"#9c179e\"],[0.4444444444444444,\"#bd3786\"],[0.5555555555555556,\"#d8576b\"],[0.6666666666666666,\"#ed7953\"],[0.7777777777777778,\"#fb9f3a\"],[0.8888888888888888,\"#fdca26\"],[1.0,\"#f0f921\"]],\"sequentialminus\":[[0.0,\"#0d0887\"],[0.1111111111111111,\"#46039f\"],[0.2222222222222222,\"#7201a8\"],[0.3333333333333333,\"#9c179e\"],[0.4444444444444444,\"#bd3786\"],[0.5555555555555556,\"#d8576b\"],[0.6666666666666666,\"#ed7953\"],[0.7777777777777778,\"#fb9f3a\"],[0.8888888888888888,\"#fdca26\"],[1.0,\"#f0f921\"]],\"diverging\":[[0,\"#8e0152\"],[0.1,\"#c51b7d\"],[0.2,\"#de77ae\"],[0.3,\"#f1b6da\"],[0.4,\"#fde0ef\"],[0.5,\"#f7f7f7\"],[0.6,\"#e6f5d0\"],[0.7,\"#b8e186\"],[0.8,\"#7fbc41\"],[0.9,\"#4d9221\"],[1,\"#276419\"]]},\"xaxis\":{\"gridcolor\":\"white\",\"linecolor\":\"white\",\"ticks\":\"\",\"title\":{\"standoff\":15},\"zerolinecolor\":\"white\",\"automargin\":true,\"zerolinewidth\":2},\"yaxis\":{\"gridcolor\":\"white\",\"linecolor\":\"white\",\"ticks\":\"\",\"title\":{\"standoff\":15},\"zerolinecolor\":\"white\",\"automargin\":true,\"zerolinewidth\":2},\"scene\":{\"xaxis\":{\"backgroundcolor\":\"#E5ECF6\",\"gridcolor\":\"white\",\"linecolor\":\"white\",\"showbackground\":true,\"ticks\":\"\",\"zerolinecolor\":\"white\",\"gridwidth\":2},\"yaxis\":{\"backgroundcolor\":\"#E5ECF6\",\"gridcolor\":\"white\",\"linecolor\":\"white\",\"showbackground\":true,\"ticks\":\"\",\"zerolinecolor\":\"white\",\"gridwidth\":2},\"zaxis\":{\"backgroundcolor\":\"#E5ECF6\",\"gridcolor\":\"white\",\"linecolor\":\"white\",\"showbackground\":true,\"ticks\":\"\",\"zerolinecolor\":\"white\",\"gridwidth\":2}},\"shapedefaults\":{\"line\":{\"color\":\"#2a3f5f\"}},\"annotationdefaults\":{\"arrowcolor\":\"#2a3f5f\",\"arrowhead\":0,\"arrowwidth\":1},\"geo\":{\"bgcolor\":\"white\",\"landcolor\":\"#E5ECF6\",\"subunitcolor\":\"white\",\"showland\":true,\"showlakes\":true,\"lakecolor\":\"white\"},\"title\":{\"x\":0.05},\"mapbox\":{\"style\":\"light\"}}},\"xaxis\":{\"anchor\":\"y\",\"domain\":[0.0,1.0],\"scaleanchor\":\"y\",\"constrain\":\"domain\",\"title\":{\"text\":\"Temperature\"},\"tickmode\":\"array\",\"tickvals\":[0,1,2,3,4,5,6,7,8,9,10],\"ticktext\":[\"0\",\"1\",\"2\",\"3\",\"4\",\"5\",\"6\",\"7\",\"8\",\"9\",\"10\"],\"scaleratio\":1},\"yaxis\":{\"anchor\":\"x\",\"domain\":[0.0,1.0],\"autorange\":\"reversed\",\"constrain\":\"domain\",\"title\":{\"text\":\"Humidity\"},\"tickmode\":\"array\",\"tickvals\":[0,1,2,3,4,5,6,7,8,9,10],\"ticktext\":[\"10\",\"9\",\"8\",\"7\",\"6\",\"5\",\"4\",\"3\",\"2\",\"1\",\"0\"]},\"coloraxis\":{\"colorbar\":{\"title\":{\"text\":\"Value\"},\"x\":1},\"colorscale\":[[0.0,\"rgba(57,59,121,1.0)\"],[0.05263157894736842,\"rgba(82,84,163,1.0)\"],[0.10526315789473684,\"rgba(107,110,207,1.0)\"],[0.15789473684210525,\"rgba(156,158,222,1.0)\"],[0.21052631578947367,\"rgba(99,121,57,1.0)\"],[0.2631578947368421,\"rgba(140,162,82,1.0)\"],[0.3157894736842105,\"rgba(181,207,107,1.0)\"],[0.3684210526315789,\"rgba(206,219,156,1.0)\"],[0.42105263157894735,\"rgba(140,109,49,1.0)\"],[0.47368421052631576,\"rgba(189,158,57,1.0)\"],[0.5263157894736842,\"rgba(231,186,82,1.0)\"],[0.5789473684210527,\"rgba(231,203,148,1.0)\"],[0.631578947368421,\"rgba(132,60,57,1.0)\"],[0.6842105263157895,\"rgba(173,73,74,1.0)\"],[0.7368421052631579,\"rgba(214,97,107,1.0)\"],[0.7894736842105263,\"rgba(231,150,156,1.0)\"],[0.8421052631578947,\"rgba(123,65,115,1.0)\"],[0.8947368421052632,\"rgba(165,81,148,1.0)\"],[0.9473684210526315,\"rgba(206,109,189,1.0)\"],[1.0,\"rgba(222,158,214,1.0)\"]],\"cmin\":0,\"cmax\":100},\"title\":{\"text\":\"State value function GPI-MC\",\"x\":0.5,\"y\":0.85},\"shapes\":[{\"line\":{\"color\":\"black\",\"width\":2},\"type\":\"line\",\"x0\":-0.5,\"x1\":-0.5,\"y0\":-0.5,\"y1\":10.5},{\"line\":{\"color\":\"black\",\"width\":2},\"type\":\"line\",\"x0\":-0.5,\"x1\":10.5,\"y0\":-0.5,\"y1\":-0.5},{\"line\":{\"color\":\"black\",\"width\":2},\"type\":\"line\",\"x0\":0.5,\"x1\":0.5,\"y0\":-0.5,\"y1\":10.5},{\"line\":{\"color\":\"black\",\"width\":2},\"type\":\"line\",\"x0\":-0.5,\"x1\":10.5,\"y0\":0.5,\"y1\":0.5},{\"line\":{\"color\":\"black\",\"width\":2},\"type\":\"line\",\"x0\":1.5,\"x1\":1.5,\"y0\":-0.5,\"y1\":10.5},{\"line\":{\"color\":\"black\",\"width\":2},\"type\":\"line\",\"x0\":-0.5,\"x1\":10.5,\"y0\":1.5,\"y1\":1.5},{\"line\":{\"color\":\"black\",\"width\":2},\"type\":\"line\",\"x0\":2.5,\"x1\":2.5,\"y0\":-0.5,\"y1\":10.5},{\"line\":{\"color\":\"black\",\"width\":2},\"type\":\"line\",\"x0\":-0.5,\"x1\":10.5,\"y0\":2.5,\"y1\":2.5},{\"line\":{\"color\":\"black\",\"width\":2},\"type\":\"line\",\"x0\":3.5,\"x1\":3.5,\"y0\":-0.5,\"y1\":10.5},{\"line\":{\"color\":\"black\",\"width\":2},\"type\":\"line\",\"x0\":-0.5,\"x1\":10.5,\"y0\":3.5,\"y1\":3.5},{\"line\":{\"color\":\"black\",\"width\":2},\"type\":\"line\",\"x0\":4.5,\"x1\":4.5,\"y0\":-0.5,\"y1\":10.5},{\"line\":{\"color\":\"black\",\"width\":2},\"type\":\"line\",\"x0\":-0.5,\"x1\":10.5,\"y0\":4.5,\"y1\":4.5},{\"line\":{\"color\":\"black\",\"width\":2},\"type\":\"line\",\"x0\":5.5,\"x1\":5.5,\"y0\":-0.5,\"y1\":10.5},{\"line\":{\"color\":\"black\",\"width\":2},\"type\":\"line\",\"x0\":-0.5,\"x1\":10.5,\"y0\":5.5,\"y1\":5.5},{\"line\":{\"color\":\"black\",\"width\":2},\"type\":\"line\",\"x0\":6.5,\"x1\":6.5,\"y0\":-0.5,\"y1\":10.5},{\"line\":{\"color\":\"black\",\"width\":2},\"type\":\"line\",\"x0\":-0.5,\"x1\":10.5,\"y0\":6.5,\"y1\":6.5},{\"line\":{\"color\":\"black\",\"width\":2},\"type\":\"line\",\"x0\":7.5,\"x1\":7.5,\"y0\":-0.5,\"y1\":10.5},{\"line\":{\"color\":\"black\",\"width\":2},\"type\":\"line\",\"x0\":-0.5,\"x1\":10.5,\"y0\":7.5,\"y1\":7.5},{\"line\":{\"color\":\"black\",\"width\":2},\"type\":\"line\",\"x0\":8.5,\"x1\":8.5,\"y0\":-0.5,\"y1\":10.5},{\"line\":{\"color\":\"black\",\"width\":2},\"type\":\"line\",\"x0\":-0.5,\"x1\":10.5,\"y0\":8.5,\"y1\":8.5},{\"line\":{\"color\":\"black\",\"width\":2},\"type\":\"line\",\"x0\":9.5,\"x1\":9.5,\"y0\":-0.5,\"y1\":10.5},{\"line\":{\"color\":\"black\",\"width\":2},\"type\":\"line\",\"x0\":-0.5,\"x1\":10.5,\"y0\":9.5,\"y1\":9.5}],\"width\":500,\"height\":500,\"sliders\":[{\"currentvalue\":{\"prefix\":\"Growth: \"},\"pad\":{\"t\":15},\"steps\":[{\"args\":[{\"z\":[[[0.0,0.0,0.0,0.0,0.0,0.0,0.0,0.0,0.0,0.0,0.0],[0.0,0.0,0.0,0.0,0.0,0.0,0.0,0.0,0.0,0.0,0.0],[0.0,0.0,0.0,0.0,0.0,0.0,0.0,0.0,0.0,0.0,0.0],[0.0,0.0,0.0,0.0,0.0,0.0,0.0,0.0,0.0,0.0,0.0],[0.0,0.0,0.0,0.0,0.0,0.0,0.0,0.0,0.0,0.0,0.0],[0.0,0.0,0.0,0.0,0.0,0.0,0.0,0.0,0.0,0.0,0.0],[0.0,0.0,0.0,0.0,0.0,0.0,0.0,0.0,0.0,0.0,0.0],[0.0,0.0,0.0,0.0,0.0,0.0,0.0,0.0,0.0,0.0,0.0],[0.0,0.0,0.0,0.0,0.0,0.0,0.0,0.0,0.0,0.0,0.0],[0.0,0.0,0.0,0.0,0.0,0.0,0.0,0.0,0.0,0.0,0.0],[0.0,0.0,0.0,0.0,0.0,0.0,0.0,0.0,0.0,0.0,0.0]]]}],\"label\":\"0\",\"method\":\"restyle\"},{\"args\":[{\"z\":[[[0.0,0.0,0.0,0.0,0.0,0.0,0.0,0.0,0.0,0.0,0.0],[0.0,4.828661946232557,4.973430904234874,5.424928275880737,4.1702000048593755,4.894184467953574,5.176660973249319,5.8212921200013,5.073902980181437,2.043011821529321,0.0],[0.0,20.678551198511464,20.676154464936445,20.811592708877704,20.513620332276922,20.69553727149319,20.638391573606622,20.498437854608312,19.216241520696343,7.726785770647283,0.0],[0.0,26.839448835005175,29.520807231597452,31.280422235971983,31.490160584069166,31.655330017324136,31.603663738873664,31.914086904526492,28.73721566456195,11.249102371911343,0.0],[0.0,31.50618439731676,37.08030390253305,42.59870560991522,46.69031026453403,48.52818908669384,48.001078615256446,46.70242828816442,40.14431476486526,15.31690468492861,0.0],[0.0,29.56204684786699,36.94779539091192,44.00621768893956,52.33739074307331,62.33040647490169,58.72188675630618,57.958329294440965,46.56340799217794,17.60385992436364,0.0],[0.0,25.29339962497378,31.442747023315544,37.60399001698999,44.487737737131546,52.40724421160052,61.23729664730196,60.55180494879007,47.28785790198706,18.33414526439619,0.0],[0.0,19.92509918358043,25.734425715735643,30.812891610449295,37.22960438155552,44.1732409913238,51.36424710250154,53.41541912285849,46.328036592416474,17.96320001992158,0.0],[0.0,8.082447232997879,14.987556886957458,25.47023335172329,30.38207088503737,36.210260197836895,42.643186633274546,45.950370143521454,43.11937218283051,14.301512316342231,0.0],[0.0,0.0,7.7936853247093065,18.876711286545557,22.879696306649727,28.37979945182527,34.40266165098333,39.16092593790374,37.67595256284121,14.601412171442314,0.0],[0.0,0.0,0.0,0.0,0.0,0.0,0.0,0.0,0.0,0.0,0.0]]]}],\"label\":\"1\",\"method\":\"restyle\"},{\"args\":[{\"z\":[[[0.0,0.5491779051972641,3.505232995714287,0.8268350740721593,0.7346225548206999,1.4384618945155954,1.1720092643821876,1.4668075159791976,1.5633314962758849,0.7275025630202331,0.35250878948027664],[6.635069468252765,15.989989062559037,17.831225303520494,19.4800668270124,19.061678173584863,21.71597139815721,20.94773068684987,17.708047027577155,15.67088317486056,6.628240964733263,1.2546532243557842],[18.263152272858633,43.12810670389173,50.38557906571932,56.865222180208356,58.33282142516632,64.84830040822943,56.90179183636517,54.343951817838196,40.939102257398936,16.705522074195066,3.1615590888951575],[23.61648612025914,44.784995717495605,54.54980665371788,63.461612588504934,73.09152906444153,78.58786754347828,76.12605567043164,65.20829538753567,47.38576352901064,22.5786483876935,3.029466186486634],[25.24914065591884,40.05729511005672,47.76341036444189,56.924992181491646,67.74519928920199,70.325415,77.49689225975408,65.6154832128082,48.082953692443176,24.45288522716372,5.380024363780088],[22.288544955969158,33.61996686687803,39.66122845605197,46.95306392557495,56.00365568098511,66.20754610181022,73.87170965229464,65.33847411915305,47.99280343829823,26.327383582482902,5.360152146867395],[18.98592330797403,26.975490007499648,32.56906341353951,39.13100442962991,46.37741436016981,55.37546075969358,62.50616608064418,60.65348694924146,48.04456615256246,25.696586695404253,5.564280183415532],[13.190547055434871,18.486250012956777,25.501780705974348,32.98549306742457,40.27280237855528,44.67112695405568,52.38384941085618,54.2979218108774,46.25657883217369,24.408642837825372,6.0505043611584926],[0.7504731764849961,11.55765828959098,20.044459776171838,23.213796295397273,29.942752520608494,34.40797159494541,43.22921402487178,46.59066999975957,42.521638516291254,23.77204948076248,7.423699336909979],[0.0,4.305014106197353,11.015962818148894,17.71337616164607,23.56398521465285,27.238988754068103,35.62966667932931,38.339581345854505,36.88799840426273,23.090627823527594,3.248786895693377],[0.0,0.0,3.6433553769884495,12.301114755629083,16.882593091515275,19.584677193052087,25.112824154783095,30.704907241732478,32.047937601099434,18.269731271921977,3.3877413458952303]]]}],\"label\":\"2\",\"method\":\"restyle\"},{\"args\":[{\"z\":[[[4.159028971729408,4.782314248602239,3.6117898223374834,4.048568434685636,4.595248468265988,8.820760029114178,4.132638267281122,6.745017366416112,4.774107611048815,3.4632586451366523,0.968076885218429],[21.700127983532553,24.095921046733185,25.14522516963569,28.937471032832182,25.47392387700529,29.779052657441472,26.858968048044726,25.824815155420676,25.832804158378092,13.864104278770421,2.4204283197251657],[36.86023840446471,42.28458994180958,49.99152600726872,55.93468390080764,62.20118149625595,64.9903153713861,66.95430097948072,67.74532862838446,66.02877756942283,37.08951599036355,6.1341248241205815],[34.62051101578204,44.78673141957851,55.100589455942334,64.15313181559874,74.66237141496624,87.2728283996638,88.62478652563173,89.47388791516853,89.43396226415095,49.409072301008486,6.987511915612737],[32.883195226084396,40.15485385371255,47.364570227828935,56.156867954415304,67.24445995297026,79.65398348225168,85.46367697632685,88.97433962264154,89.94,50.137808775307114,7.839154206608891],[26.784603866793997,33.47034217674016,39.895336883968085,46.960000560971174,55.47189667801064,66.18466185217372,78.26165066844061,84.37037051694156,87.92920353982298,43.20539185002782,7.464756048731483],[22.141837054588862,27.27638502357502,33.06387353716656,39.008777535026766,46.90684128315573,55.56502438520193,65.79706238095885,77.9116866170699,85.83691249660136,49.61873900869002,9.173053207876407],[13.706251028903726,20.594559303027417,27.672776473425024,32.215942746792244,39.13031606767885,45.64957204495627,54.78747694606612,64.43878599773275,72.12555740738313,44.21762881469137,5.612690970234205],[7.76402855026297,9.290300753531522,20.451973442730356,26.399458446450573,30.882898342776,38.07792301699583,45.51888318868354,54.695960898445186,59.13519816334972,39.037723491349176,6.654742685099226],[2.0807345491212375,6.898560842419806,13.566642733158538,19.84727606774578,24.49079656665804,29.736372719487637,35.33112987524431,39.74492098029509,37.30376156174342,28.274532289045254,5.004052489796904],[0.0,1.895832819714106,0.0,11.384963790737654,17.972922717299777,22.752200490602167,27.865949417242764,31.656199729539363,31.56570839960545,22.738860909079847,6.722641187075426]]]}],\"label\":\"3\",\"method\":\"restyle\"},{\"args\":[{\"z\":[[[1.4099228519793565,9.459273103408634,10.332101370707623,15.09267832698196,12.047548750013776,18.756257058843392,25.188063327695453,17.609327391943467,16.25702550516758,20.225871768722392,6.291819638790911],[25.00081840524706,17.16754916595209,31.444977385497733,57.77061361795691,66.4637760910673,72.81747325326187,74.96010912923164,75.1563547686361,75.14468001045836,76.90810949805072,29.37192514624517],[34.686390114052195,45.69871641058093,47.02330124884665,65.7853038393288,76.20252032316618,86.97265333455782,100.0,100.0,100.0,100.0,33.93204394877735],[38.52894632910772,46.51947673777967,55.0003784530571,64.98865633571964,74.12335442530514,86.74853649834536,100.0,100.0,100.0,100.0,43.87696761891631],[30.906315697077346,39.86981964087669,47.27801371746241,55.57348804989403,67.35788343492071,79.83081689270377,94.91248659272937,96.62258544705186,100.0,100.0,38.53182534130059],[28.06620031336068,33.699881558850215,39.382804332535166,46.949097925112575,56.314276663083184,66.40745579315973,78.73963113872722,93.6712376283743,100.0,100.0,48.00412121957627],[23.003341837121656,28.270042720074645,33.42596855009318,38.56088408823106,46.33487842664167,55.607749555666274,65.37451651807376,77.92255601272282,85.81215636866968,86.98136663576105,34.390451774520834],[15.211664997197511,21.604267627094007,26.431054370380547,32.976513661517764,38.70806704543255,46.696333361787445,55.36400105292981,65.2642690681417,71.92599167970239,70.84256883920122,22.088126178633225],[10.738583421126728,16.361588699339162,20.96903964237296,28.716774191985525,31.362254987925812,36.17577267564754,45.69664582976841,54.63562040629193,60.35215375051866,45.93894297052137,17.787485414454554],[5.284106285263239,9.267179373424353,15.062722369625046,19.98174363506665,25.829002688272464,31.153814022489232,39.04310738420102,44.427563852178814,48.72635058216845,41.78107954417869,16.787000317795776],[0.0,3.993527211019058,9.049777243930397,14.074134353590395,17.70110186365626,22.3125611910034,27.18656075263436,31.98492375849181,32.960825291501365,25.24674041769928,10.042324996060945]]]}],\"label\":\"4\",\"method\":\"restyle\"},{\"args\":[{\"z\":[[[0.0,0.0,0.0,0.0,0.0,0.0,0.0,0.0,0.0,0.0,0.0],[0.0,0.0,0.0,0.0,0.0,0.0,0.0,0.0,0.0,0.0,0.0],[0.0,0.0,0.0,0.0,0.0,0.0,0.0,0.0,0.0,0.0,0.0],[0.0,0.0,0.0,0.0,0.0,0.0,0.0,0.0,0.0,0.0,0.0],[0.0,0.0,0.0,0.0,0.0,0.0,0.0,0.0,0.0,0.0,0.0],[0.0,0.0,0.0,0.0,0.0,0.0,0.0,0.0,0.0,0.0,0.0],[0.0,0.0,0.0,0.0,0.0,0.0,0.0,0.0,0.0,0.0,0.0],[0.0,0.0,0.0,0.0,0.0,0.0,0.0,0.0,0.0,0.0,0.0],[0.0,0.0,0.0,0.0,0.0,0.0,0.0,0.0,0.0,0.0,0.0],[0.0,0.0,0.0,0.0,0.0,0.0,0.0,0.0,0.0,0.0,0.0],[0.0,0.0,0.0,0.0,0.0,0.0,0.0,0.0,0.0,0.0,0.0]]]}],\"label\":\"5\",\"method\":\"restyle\"}]}]},                        {\"responsive\": true}                    ).then(function(){\n",
       "                            \n",
       "var gd = document.getElementById('ca82aee5-60c3-47e7-95be-0d592785829c');\n",
       "var x = new MutationObserver(function (mutations, observer) {{\n",
       "        var display = window.getComputedStyle(gd).display;\n",
       "        if (!display || display === 'none') {{\n",
       "            console.log([gd, 'removed!']);\n",
       "            Plotly.purge(gd);\n",
       "            observer.disconnect();\n",
       "        }}\n",
       "}});\n",
       "\n",
       "// Listen for the removal of the full notebook cells\n",
       "var notebookContainer = gd.closest('#notebook-container');\n",
       "if (notebookContainer) {{\n",
       "    x.observe(notebookContainer, {childList: true});\n",
       "}}\n",
       "\n",
       "// Listen for the clearing of the current output cell\n",
       "var outputEl = gd.closest('.output');\n",
       "if (outputEl) {{\n",
       "    x.observe(outputEl, {childList: true});\n",
       "}}\n",
       "\n",
       "                        })                };                });            </script>        </div>"
      ]
     },
     "metadata": {},
     "output_type": "display_data"
    }
   ],
   "execution_count": 60
  },
  {
   "metadata": {
    "ExecuteTime": {
     "end_time": "2025-01-11T15:50:37.717273Z",
     "start_time": "2025-01-11T15:50:37.476600Z"
    }
   },
   "cell_type": "code",
   "outputs": [
    {
     "data": {
      "application/vnd.plotly.v1+json": {
       "data": [
        {
         "coloraxis": "coloraxis",
         "name": "0",
         "x": [
          0,
          1,
          2,
          3,
          4,
          5,
          6,
          7,
          8,
          9,
          10
         ],
         "y": [
          0,
          1,
          2,
          3,
          4,
          5,
          6,
          7,
          8,
          9,
          10
         ],
         "z": [
          [
           0,
           0,
           0,
           0,
           0,
           0,
           0,
           0,
           0,
           0,
           0
          ],
          [
           0,
           0,
           0,
           0,
           0,
           0,
           0,
           0,
           0,
           0,
           0
          ],
          [
           0,
           0,
           0,
           0,
           0,
           0,
           0,
           0,
           0,
           0,
           0
          ],
          [
           0,
           0,
           0,
           0,
           0,
           0,
           0,
           0,
           0,
           0,
           0
          ],
          [
           0,
           0,
           0,
           0,
           0,
           0,
           0,
           0,
           0,
           0,
           0
          ],
          [
           0,
           0,
           0,
           0,
           0,
           0,
           0,
           0,
           0,
           0,
           0
          ],
          [
           0,
           0,
           0,
           0,
           0,
           0,
           0,
           0,
           0,
           0,
           0
          ],
          [
           0,
           0,
           0,
           0,
           0,
           0,
           0,
           0,
           0,
           0,
           0
          ],
          [
           0,
           0,
           0,
           0,
           0,
           0,
           0,
           0,
           0,
           0,
           0
          ],
          [
           0,
           0,
           0,
           0,
           0,
           0,
           0,
           0,
           0,
           0,
           0
          ],
          [
           0,
           0,
           0,
           0,
           0,
           0,
           0,
           0,
           0,
           0,
           0
          ]
         ],
         "type": "heatmap",
         "xaxis": "x",
         "yaxis": "y",
         "hovertemplate": "Temperature: %{x}<br>Humidity: %{y}<br>Value: %{z}<extra></extra>"
        }
       ],
       "layout": {
        "template": {
         "data": {
          "histogram2dcontour": [
           {
            "type": "histogram2dcontour",
            "colorbar": {
             "outlinewidth": 0,
             "ticks": ""
            },
            "colorscale": [
             [
              0.0,
              "#0d0887"
             ],
             [
              0.1111111111111111,
              "#46039f"
             ],
             [
              0.2222222222222222,
              "#7201a8"
             ],
             [
              0.3333333333333333,
              "#9c179e"
             ],
             [
              0.4444444444444444,
              "#bd3786"
             ],
             [
              0.5555555555555556,
              "#d8576b"
             ],
             [
              0.6666666666666666,
              "#ed7953"
             ],
             [
              0.7777777777777778,
              "#fb9f3a"
             ],
             [
              0.8888888888888888,
              "#fdca26"
             ],
             [
              1.0,
              "#f0f921"
             ]
            ]
           }
          ],
          "choropleth": [
           {
            "type": "choropleth",
            "colorbar": {
             "outlinewidth": 0,
             "ticks": ""
            }
           }
          ],
          "histogram2d": [
           {
            "type": "histogram2d",
            "colorbar": {
             "outlinewidth": 0,
             "ticks": ""
            },
            "colorscale": [
             [
              0.0,
              "#0d0887"
             ],
             [
              0.1111111111111111,
              "#46039f"
             ],
             [
              0.2222222222222222,
              "#7201a8"
             ],
             [
              0.3333333333333333,
              "#9c179e"
             ],
             [
              0.4444444444444444,
              "#bd3786"
             ],
             [
              0.5555555555555556,
              "#d8576b"
             ],
             [
              0.6666666666666666,
              "#ed7953"
             ],
             [
              0.7777777777777778,
              "#fb9f3a"
             ],
             [
              0.8888888888888888,
              "#fdca26"
             ],
             [
              1.0,
              "#f0f921"
             ]
            ]
           }
          ],
          "heatmap": [
           {
            "type": "heatmap",
            "colorbar": {
             "outlinewidth": 0,
             "ticks": ""
            },
            "colorscale": [
             [
              0.0,
              "#0d0887"
             ],
             [
              0.1111111111111111,
              "#46039f"
             ],
             [
              0.2222222222222222,
              "#7201a8"
             ],
             [
              0.3333333333333333,
              "#9c179e"
             ],
             [
              0.4444444444444444,
              "#bd3786"
             ],
             [
              0.5555555555555556,
              "#d8576b"
             ],
             [
              0.6666666666666666,
              "#ed7953"
             ],
             [
              0.7777777777777778,
              "#fb9f3a"
             ],
             [
              0.8888888888888888,
              "#fdca26"
             ],
             [
              1.0,
              "#f0f921"
             ]
            ]
           }
          ],
          "heatmapgl": [
           {
            "type": "heatmapgl",
            "colorbar": {
             "outlinewidth": 0,
             "ticks": ""
            },
            "colorscale": [
             [
              0.0,
              "#0d0887"
             ],
             [
              0.1111111111111111,
              "#46039f"
             ],
             [
              0.2222222222222222,
              "#7201a8"
             ],
             [
              0.3333333333333333,
              "#9c179e"
             ],
             [
              0.4444444444444444,
              "#bd3786"
             ],
             [
              0.5555555555555556,
              "#d8576b"
             ],
             [
              0.6666666666666666,
              "#ed7953"
             ],
             [
              0.7777777777777778,
              "#fb9f3a"
             ],
             [
              0.8888888888888888,
              "#fdca26"
             ],
             [
              1.0,
              "#f0f921"
             ]
            ]
           }
          ],
          "contourcarpet": [
           {
            "type": "contourcarpet",
            "colorbar": {
             "outlinewidth": 0,
             "ticks": ""
            }
           }
          ],
          "contour": [
           {
            "type": "contour",
            "colorbar": {
             "outlinewidth": 0,
             "ticks": ""
            },
            "colorscale": [
             [
              0.0,
              "#0d0887"
             ],
             [
              0.1111111111111111,
              "#46039f"
             ],
             [
              0.2222222222222222,
              "#7201a8"
             ],
             [
              0.3333333333333333,
              "#9c179e"
             ],
             [
              0.4444444444444444,
              "#bd3786"
             ],
             [
              0.5555555555555556,
              "#d8576b"
             ],
             [
              0.6666666666666666,
              "#ed7953"
             ],
             [
              0.7777777777777778,
              "#fb9f3a"
             ],
             [
              0.8888888888888888,
              "#fdca26"
             ],
             [
              1.0,
              "#f0f921"
             ]
            ]
           }
          ],
          "surface": [
           {
            "type": "surface",
            "colorbar": {
             "outlinewidth": 0,
             "ticks": ""
            },
            "colorscale": [
             [
              0.0,
              "#0d0887"
             ],
             [
              0.1111111111111111,
              "#46039f"
             ],
             [
              0.2222222222222222,
              "#7201a8"
             ],
             [
              0.3333333333333333,
              "#9c179e"
             ],
             [
              0.4444444444444444,
              "#bd3786"
             ],
             [
              0.5555555555555556,
              "#d8576b"
             ],
             [
              0.6666666666666666,
              "#ed7953"
             ],
             [
              0.7777777777777778,
              "#fb9f3a"
             ],
             [
              0.8888888888888888,
              "#fdca26"
             ],
             [
              1.0,
              "#f0f921"
             ]
            ]
           }
          ],
          "mesh3d": [
           {
            "type": "mesh3d",
            "colorbar": {
             "outlinewidth": 0,
             "ticks": ""
            }
           }
          ],
          "scatter": [
           {
            "fillpattern": {
             "fillmode": "overlay",
             "size": 10,
             "solidity": 0.2
            },
            "type": "scatter"
           }
          ],
          "parcoords": [
           {
            "type": "parcoords",
            "line": {
             "colorbar": {
              "outlinewidth": 0,
              "ticks": ""
             }
            }
           }
          ],
          "scatterpolargl": [
           {
            "type": "scatterpolargl",
            "marker": {
             "colorbar": {
              "outlinewidth": 0,
              "ticks": ""
             }
            }
           }
          ],
          "bar": [
           {
            "error_x": {
             "color": "#2a3f5f"
            },
            "error_y": {
             "color": "#2a3f5f"
            },
            "marker": {
             "line": {
              "color": "#E5ECF6",
              "width": 0.5
             },
             "pattern": {
              "fillmode": "overlay",
              "size": 10,
              "solidity": 0.2
             }
            },
            "type": "bar"
           }
          ],
          "scattergeo": [
           {
            "type": "scattergeo",
            "marker": {
             "colorbar": {
              "outlinewidth": 0,
              "ticks": ""
             }
            }
           }
          ],
          "scatterpolar": [
           {
            "type": "scatterpolar",
            "marker": {
             "colorbar": {
              "outlinewidth": 0,
              "ticks": ""
             }
            }
           }
          ],
          "histogram": [
           {
            "marker": {
             "pattern": {
              "fillmode": "overlay",
              "size": 10,
              "solidity": 0.2
             }
            },
            "type": "histogram"
           }
          ],
          "scattergl": [
           {
            "type": "scattergl",
            "marker": {
             "colorbar": {
              "outlinewidth": 0,
              "ticks": ""
             }
            }
           }
          ],
          "scatter3d": [
           {
            "type": "scatter3d",
            "line": {
             "colorbar": {
              "outlinewidth": 0,
              "ticks": ""
             }
            },
            "marker": {
             "colorbar": {
              "outlinewidth": 0,
              "ticks": ""
             }
            }
           }
          ],
          "scattermapbox": [
           {
            "type": "scattermapbox",
            "marker": {
             "colorbar": {
              "outlinewidth": 0,
              "ticks": ""
             }
            }
           }
          ],
          "scatterternary": [
           {
            "type": "scatterternary",
            "marker": {
             "colorbar": {
              "outlinewidth": 0,
              "ticks": ""
             }
            }
           }
          ],
          "scattercarpet": [
           {
            "type": "scattercarpet",
            "marker": {
             "colorbar": {
              "outlinewidth": 0,
              "ticks": ""
             }
            }
           }
          ],
          "carpet": [
           {
            "aaxis": {
             "endlinecolor": "#2a3f5f",
             "gridcolor": "white",
             "linecolor": "white",
             "minorgridcolor": "white",
             "startlinecolor": "#2a3f5f"
            },
            "baxis": {
             "endlinecolor": "#2a3f5f",
             "gridcolor": "white",
             "linecolor": "white",
             "minorgridcolor": "white",
             "startlinecolor": "#2a3f5f"
            },
            "type": "carpet"
           }
          ],
          "table": [
           {
            "cells": {
             "fill": {
              "color": "#EBF0F8"
             },
             "line": {
              "color": "white"
             }
            },
            "header": {
             "fill": {
              "color": "#C8D4E3"
             },
             "line": {
              "color": "white"
             }
            },
            "type": "table"
           }
          ],
          "barpolar": [
           {
            "marker": {
             "line": {
              "color": "#E5ECF6",
              "width": 0.5
             },
             "pattern": {
              "fillmode": "overlay",
              "size": 10,
              "solidity": 0.2
             }
            },
            "type": "barpolar"
           }
          ],
          "pie": [
           {
            "automargin": true,
            "type": "pie"
           }
          ]
         },
         "layout": {
          "autotypenumbers": "strict",
          "colorway": [
           "#636efa",
           "#EF553B",
           "#00cc96",
           "#ab63fa",
           "#FFA15A",
           "#19d3f3",
           "#FF6692",
           "#B6E880",
           "#FF97FF",
           "#FECB52"
          ],
          "font": {
           "color": "#2a3f5f"
          },
          "hovermode": "closest",
          "hoverlabel": {
           "align": "left"
          },
          "paper_bgcolor": "white",
          "plot_bgcolor": "#E5ECF6",
          "polar": {
           "bgcolor": "#E5ECF6",
           "angularaxis": {
            "gridcolor": "white",
            "linecolor": "white",
            "ticks": ""
           },
           "radialaxis": {
            "gridcolor": "white",
            "linecolor": "white",
            "ticks": ""
           }
          },
          "ternary": {
           "bgcolor": "#E5ECF6",
           "aaxis": {
            "gridcolor": "white",
            "linecolor": "white",
            "ticks": ""
           },
           "baxis": {
            "gridcolor": "white",
            "linecolor": "white",
            "ticks": ""
           },
           "caxis": {
            "gridcolor": "white",
            "linecolor": "white",
            "ticks": ""
           }
          },
          "coloraxis": {
           "colorbar": {
            "outlinewidth": 0,
            "ticks": ""
           }
          },
          "colorscale": {
           "sequential": [
            [
             0.0,
             "#0d0887"
            ],
            [
             0.1111111111111111,
             "#46039f"
            ],
            [
             0.2222222222222222,
             "#7201a8"
            ],
            [
             0.3333333333333333,
             "#9c179e"
            ],
            [
             0.4444444444444444,
             "#bd3786"
            ],
            [
             0.5555555555555556,
             "#d8576b"
            ],
            [
             0.6666666666666666,
             "#ed7953"
            ],
            [
             0.7777777777777778,
             "#fb9f3a"
            ],
            [
             0.8888888888888888,
             "#fdca26"
            ],
            [
             1.0,
             "#f0f921"
            ]
           ],
           "sequentialminus": [
            [
             0.0,
             "#0d0887"
            ],
            [
             0.1111111111111111,
             "#46039f"
            ],
            [
             0.2222222222222222,
             "#7201a8"
            ],
            [
             0.3333333333333333,
             "#9c179e"
            ],
            [
             0.4444444444444444,
             "#bd3786"
            ],
            [
             0.5555555555555556,
             "#d8576b"
            ],
            [
             0.6666666666666666,
             "#ed7953"
            ],
            [
             0.7777777777777778,
             "#fb9f3a"
            ],
            [
             0.8888888888888888,
             "#fdca26"
            ],
            [
             1.0,
             "#f0f921"
            ]
           ],
           "diverging": [
            [
             0,
             "#8e0152"
            ],
            [
             0.1,
             "#c51b7d"
            ],
            [
             0.2,
             "#de77ae"
            ],
            [
             0.3,
             "#f1b6da"
            ],
            [
             0.4,
             "#fde0ef"
            ],
            [
             0.5,
             "#f7f7f7"
            ],
            [
             0.6,
             "#e6f5d0"
            ],
            [
             0.7,
             "#b8e186"
            ],
            [
             0.8,
             "#7fbc41"
            ],
            [
             0.9,
             "#4d9221"
            ],
            [
             1,
             "#276419"
            ]
           ]
          },
          "xaxis": {
           "gridcolor": "white",
           "linecolor": "white",
           "ticks": "",
           "title": {
            "standoff": 15
           },
           "zerolinecolor": "white",
           "automargin": true,
           "zerolinewidth": 2
          },
          "yaxis": {
           "gridcolor": "white",
           "linecolor": "white",
           "ticks": "",
           "title": {
            "standoff": 15
           },
           "zerolinecolor": "white",
           "automargin": true,
           "zerolinewidth": 2
          },
          "scene": {
           "xaxis": {
            "backgroundcolor": "#E5ECF6",
            "gridcolor": "white",
            "linecolor": "white",
            "showbackground": true,
            "ticks": "",
            "zerolinecolor": "white",
            "gridwidth": 2
           },
           "yaxis": {
            "backgroundcolor": "#E5ECF6",
            "gridcolor": "white",
            "linecolor": "white",
            "showbackground": true,
            "ticks": "",
            "zerolinecolor": "white",
            "gridwidth": 2
           },
           "zaxis": {
            "backgroundcolor": "#E5ECF6",
            "gridcolor": "white",
            "linecolor": "white",
            "showbackground": true,
            "ticks": "",
            "zerolinecolor": "white",
            "gridwidth": 2
           }
          },
          "shapedefaults": {
           "line": {
            "color": "#2a3f5f"
           }
          },
          "annotationdefaults": {
           "arrowcolor": "#2a3f5f",
           "arrowhead": 0,
           "arrowwidth": 1
          },
          "geo": {
           "bgcolor": "white",
           "landcolor": "#E5ECF6",
           "subunitcolor": "white",
           "showland": true,
           "showlakes": true,
           "lakecolor": "white"
          },
          "title": {
           "x": 0.05
          },
          "mapbox": {
           "style": "light"
          }
         }
        },
        "xaxis": {
         "anchor": "y",
         "domain": [
          0.0,
          1.0
         ],
         "scaleanchor": "y",
         "constrain": "domain",
         "title": {
          "text": "Temperature"
         },
         "tickmode": "array",
         "tickvals": [
          0,
          1,
          2,
          3,
          4,
          5,
          6,
          7,
          8,
          9,
          10
         ],
         "ticktext": [
          "0",
          "1",
          "2",
          "3",
          "4",
          "5",
          "6",
          "7",
          "8",
          "9",
          "10"
         ],
         "scaleratio": 1
        },
        "yaxis": {
         "anchor": "x",
         "domain": [
          0.0,
          1.0
         ],
         "autorange": "reversed",
         "constrain": "domain",
         "title": {
          "text": "Humidity"
         },
         "tickmode": "array",
         "tickvals": [
          0,
          1,
          2,
          3,
          4,
          5,
          6,
          7,
          8,
          9,
          10
         ],
         "ticktext": [
          "10",
          "9",
          "8",
          "7",
          "6",
          "5",
          "4",
          "3",
          "2",
          "1",
          "0"
         ]
        },
        "coloraxis": {
         "colorbar": {
          "title": {
           "text": "Value"
          },
          "x": 1
         },
         "colorscale": [
          [
           0.0,
           "blue"
          ],
          [
           0.5,
           "yellow"
          ],
          [
           1.0,
           "red"
          ]
         ],
         "cmin": 0,
         "cmax": 2
        },
        "title": {
         "text": "Policy",
         "x": 0.5,
         "y": 0.85
        },
        "shapes": [
         {
          "line": {
           "color": "black",
           "width": 2
          },
          "type": "line",
          "x0": -0.5,
          "x1": -0.5,
          "y0": -0.5,
          "y1": 10.5
         },
         {
          "line": {
           "color": "black",
           "width": 2
          },
          "type": "line",
          "x0": -0.5,
          "x1": 10.5,
          "y0": -0.5,
          "y1": -0.5
         },
         {
          "line": {
           "color": "black",
           "width": 2
          },
          "type": "line",
          "x0": 0.5,
          "x1": 0.5,
          "y0": -0.5,
          "y1": 10.5
         },
         {
          "line": {
           "color": "black",
           "width": 2
          },
          "type": "line",
          "x0": -0.5,
          "x1": 10.5,
          "y0": 0.5,
          "y1": 0.5
         },
         {
          "line": {
           "color": "black",
           "width": 2
          },
          "type": "line",
          "x0": 1.5,
          "x1": 1.5,
          "y0": -0.5,
          "y1": 10.5
         },
         {
          "line": {
           "color": "black",
           "width": 2
          },
          "type": "line",
          "x0": -0.5,
          "x1": 10.5,
          "y0": 1.5,
          "y1": 1.5
         },
         {
          "line": {
           "color": "black",
           "width": 2
          },
          "type": "line",
          "x0": 2.5,
          "x1": 2.5,
          "y0": -0.5,
          "y1": 10.5
         },
         {
          "line": {
           "color": "black",
           "width": 2
          },
          "type": "line",
          "x0": -0.5,
          "x1": 10.5,
          "y0": 2.5,
          "y1": 2.5
         },
         {
          "line": {
           "color": "black",
           "width": 2
          },
          "type": "line",
          "x0": 3.5,
          "x1": 3.5,
          "y0": -0.5,
          "y1": 10.5
         },
         {
          "line": {
           "color": "black",
           "width": 2
          },
          "type": "line",
          "x0": -0.5,
          "x1": 10.5,
          "y0": 3.5,
          "y1": 3.5
         },
         {
          "line": {
           "color": "black",
           "width": 2
          },
          "type": "line",
          "x0": 4.5,
          "x1": 4.5,
          "y0": -0.5,
          "y1": 10.5
         },
         {
          "line": {
           "color": "black",
           "width": 2
          },
          "type": "line",
          "x0": -0.5,
          "x1": 10.5,
          "y0": 4.5,
          "y1": 4.5
         },
         {
          "line": {
           "color": "black",
           "width": 2
          },
          "type": "line",
          "x0": 5.5,
          "x1": 5.5,
          "y0": -0.5,
          "y1": 10.5
         },
         {
          "line": {
           "color": "black",
           "width": 2
          },
          "type": "line",
          "x0": -0.5,
          "x1": 10.5,
          "y0": 5.5,
          "y1": 5.5
         },
         {
          "line": {
           "color": "black",
           "width": 2
          },
          "type": "line",
          "x0": 6.5,
          "x1": 6.5,
          "y0": -0.5,
          "y1": 10.5
         },
         {
          "line": {
           "color": "black",
           "width": 2
          },
          "type": "line",
          "x0": -0.5,
          "x1": 10.5,
          "y0": 6.5,
          "y1": 6.5
         },
         {
          "line": {
           "color": "black",
           "width": 2
          },
          "type": "line",
          "x0": 7.5,
          "x1": 7.5,
          "y0": -0.5,
          "y1": 10.5
         },
         {
          "line": {
           "color": "black",
           "width": 2
          },
          "type": "line",
          "x0": -0.5,
          "x1": 10.5,
          "y0": 7.5,
          "y1": 7.5
         },
         {
          "line": {
           "color": "black",
           "width": 2
          },
          "type": "line",
          "x0": 8.5,
          "x1": 8.5,
          "y0": -0.5,
          "y1": 10.5
         },
         {
          "line": {
           "color": "black",
           "width": 2
          },
          "type": "line",
          "x0": -0.5,
          "x1": 10.5,
          "y0": 8.5,
          "y1": 8.5
         },
         {
          "line": {
           "color": "black",
           "width": 2
          },
          "type": "line",
          "x0": 9.5,
          "x1": 9.5,
          "y0": -0.5,
          "y1": 10.5
         },
         {
          "line": {
           "color": "black",
           "width": 2
          },
          "type": "line",
          "x0": -0.5,
          "x1": 10.5,
          "y0": 9.5,
          "y1": 9.5
         }
        ],
        "width": 500,
        "height": 500,
        "sliders": [
         {
          "currentvalue": {
           "prefix": "Index: "
          },
          "pad": {
           "t": 15
          },
          "steps": [
           {
            "args": [
             {
              "z": [
               [
                [
                 0,
                 0,
                 0,
                 0,
                 0,
                 0,
                 0,
                 0,
                 0,
                 0,
                 0
                ],
                [
                 0,
                 0,
                 0,
                 0,
                 0,
                 0,
                 0,
                 0,
                 0,
                 0,
                 0
                ],
                [
                 0,
                 0,
                 0,
                 0,
                 0,
                 0,
                 0,
                 0,
                 0,
                 0,
                 0
                ],
                [
                 0,
                 0,
                 0,
                 0,
                 0,
                 0,
                 0,
                 0,
                 0,
                 0,
                 0
                ],
                [
                 0,
                 0,
                 0,
                 0,
                 0,
                 0,
                 0,
                 0,
                 0,
                 0,
                 0
                ],
                [
                 0,
                 0,
                 0,
                 0,
                 0,
                 0,
                 0,
                 0,
                 0,
                 0,
                 0
                ],
                [
                 0,
                 0,
                 0,
                 0,
                 0,
                 0,
                 0,
                 0,
                 0,
                 0,
                 0
                ],
                [
                 0,
                 0,
                 0,
                 0,
                 0,
                 0,
                 0,
                 0,
                 0,
                 0,
                 0
                ],
                [
                 0,
                 0,
                 0,
                 0,
                 0,
                 0,
                 0,
                 0,
                 0,
                 0,
                 0
                ],
                [
                 0,
                 0,
                 0,
                 0,
                 0,
                 0,
                 0,
                 0,
                 0,
                 0,
                 0
                ],
                [
                 0,
                 0,
                 0,
                 0,
                 0,
                 0,
                 0,
                 0,
                 0,
                 0,
                 0
                ]
               ]
              ]
             }
            ],
            "label": "0",
            "method": "restyle"
           },
           {
            "args": [
             {
              "z": [
               [
                [
                 0,
                 0,
                 0,
                 0,
                 0,
                 0,
                 0,
                 0,
                 0,
                 0,
                 0
                ],
                [
                 0,
                 2,
                 2,
                 2,
                 0,
                 0,
                 0,
                 0,
                 0,
                 0,
                 0
                ],
                [
                 0,
                 2,
                 2,
                 0,
                 0,
                 0,
                 0,
                 0,
                 0,
                 0,
                 0
                ],
                [
                 0,
                 2,
                 2,
                 2,
                 2,
                 2,
                 0,
                 0,
                 0,
                 0,
                 0
                ],
                [
                 0,
                 2,
                 2,
                 2,
                 2,
                 2,
                 0,
                 0,
                 0,
                 0,
                 0
                ],
                [
                 0,
                 2,
                 2,
                 2,
                 2,
                 2,
                 0,
                 0,
                 0,
                 0,
                 0
                ],
                [
                 0,
                 2,
                 2,
                 2,
                 2,
                 2,
                 1,
                 1,
                 0,
                 0,
                 0
                ],
                [
                 0,
                 2,
                 2,
                 2,
                 2,
                 1,
                 1,
                 1,
                 1,
                 0,
                 0
                ],
                [
                 0,
                 2,
                 1,
                 1,
                 1,
                 1,
                 1,
                 1,
                 1,
                 1,
                 0
                ],
                [
                 0,
                 1,
                 1,
                 1,
                 1,
                 1,
                 1,
                 1,
                 1,
                 1,
                 0
                ],
                [
                 0,
                 0,
                 0,
                 0,
                 0,
                 0,
                 0,
                 0,
                 0,
                 0,
                 0
                ]
               ]
              ]
             }
            ],
            "label": "1",
            "method": "restyle"
           },
           {
            "args": [
             {
              "z": [
               [
                [
                 2,
                 0,
                 0,
                 0,
                 0,
                 0,
                 0,
                 2,
                 0,
                 0,
                 0
                ],
                [
                 2,
                 2,
                 2,
                 2,
                 0,
                 0,
                 0,
                 0,
                 0,
                 0,
                 0
                ],
                [
                 2,
                 2,
                 2,
                 2,
                 2,
                 0,
                 0,
                 0,
                 0,
                 0,
                 0
                ],
                [
                 2,
                 2,
                 2,
                 2,
                 2,
                 2,
                 0,
                 0,
                 0,
                 0,
                 0
                ],
                [
                 2,
                 2,
                 2,
                 2,
                 2,
                 2,
                 0,
                 0,
                 0,
                 0,
                 0
                ],
                [
                 2,
                 2,
                 2,
                 2,
                 1,
                 1,
                 1,
                 1,
                 0,
                 0,
                 1
                ],
                [
                 2,
                 2,
                 2,
                 1,
                 1,
                 1,
                 1,
                 1,
                 0,
                 0,
                 1
                ],
                [
                 2,
                 2,
                 1,
                 1,
                 1,
                 1,
                 1,
                 1,
                 1,
                 1,
                 0
                ],
                [
                 2,
                 1,
                 1,
                 1,
                 2,
                 1,
                 1,
                 1,
                 1,
                 0,
                 1
                ],
                [
                 2,
                 2,
                 1,
                 1,
                 1,
                 1,
                 1,
                 1,
                 1,
                 1,
                 1
                ],
                [
                 1,
                 1,
                 1,
                 1,
                 1,
                 1,
                 1,
                 1,
                 1,
                 1,
                 1
                ]
               ]
              ]
             }
            ],
            "label": "2",
            "method": "restyle"
           },
           {
            "args": [
             {
              "z": [
               [
                [
                 2,
                 2,
                 0,
                 0,
                 0,
                 0,
                 0,
                 0,
                 0,
                 0,
                 0
                ],
                [
                 2,
                 2,
                 2,
                 2,
                 0,
                 0,
                 0,
                 0,
                 0,
                 0,
                 0
                ],
                [
                 2,
                 2,
                 2,
                 2,
                 2,
                 2,
                 0,
                 0,
                 0,
                 0,
                 0
                ],
                [
                 2,
                 2,
                 2,
                 2,
                 2,
                 2,
                 0,
                 0,
                 0,
                 0,
                 0
                ],
                [
                 2,
                 2,
                 2,
                 2,
                 2,
                 2,
                 2,
                 1,
                 0,
                 0,
                 0
                ],
                [
                 2,
                 2,
                 2,
                 2,
                 2,
                 2,
                 1,
                 1,
                 0,
                 0,
                 0
                ],
                [
                 2,
                 2,
                 1,
                 2,
                 2,
                 1,
                 1,
                 1,
                 1,
                 1,
                 0
                ],
                [
                 2,
                 1,
                 1,
                 2,
                 1,
                 1,
                 1,
                 1,
                 1,
                 1,
                 1
                ],
                [
                 2,
                 2,
                 1,
                 1,
                 1,
                 1,
                 1,
                 1,
                 1,
                 1,
                 0
                ],
                [
                 2,
                 2,
                 1,
                 1,
                 1,
                 1,
                 1,
                 1,
                 1,
                 1,
                 1
                ],
                [
                 1,
                 1,
                 1,
                 1,
                 1,
                 1,
                 1,
                 1,
                 1,
                 1,
                 0
                ]
               ]
              ]
             }
            ],
            "label": "3",
            "method": "restyle"
           },
           {
            "args": [
             {
              "z": [
               [
                [
                 0,
                 0,
                 2,
                 2,
                 0,
                 0,
                 0,
                 2,
                 0,
                 0,
                 0
                ],
                [
                 2,
                 2,
                 0,
                 2,
                 2,
                 2,
                 2,
                 0,
                 0,
                 0,
                 0
                ],
                [
                 2,
                 2,
                 0,
                 0,
                 2,
                 2,
                 2,
                 0,
                 0,
                 0,
                 0
                ],
                [
                 2,
                 2,
                 2,
                 2,
                 2,
                 2,
                 2,
                 2,
                 0,
                 0,
                 0
                ],
                [
                 2,
                 2,
                 2,
                 2,
                 2,
                 2,
                 2,
                 2,
                 1,
                 0,
                 0
                ],
                [
                 2,
                 2,
                 2,
                 2,
                 2,
                 2,
                 2,
                 1,
                 1,
                 1,
                 0
                ],
                [
                 2,
                 2,
                 2,
                 2,
                 1,
                 2,
                 1,
                 1,
                 1,
                 1,
                 0
                ],
                [
                 2,
                 2,
                 1,
                 2,
                 1,
                 2,
                 1,
                 1,
                 1,
                 1,
                 1
                ],
                [
                 2,
                 2,
                 2,
                 2,
                 1,
                 1,
                 1,
                 1,
                 1,
                 1,
                 1
                ],
                [
                 1,
                 2,
                 1,
                 1,
                 1,
                 1,
                 1,
                 1,
                 1,
                 1,
                 1
                ],
                [
                 1,
                 1,
                 1,
                 1,
                 1,
                 1,
                 1,
                 1,
                 1,
                 0,
                 1
                ]
               ]
              ]
             }
            ],
            "label": "4",
            "method": "restyle"
           },
           {
            "args": [
             {
              "z": [
               [
                [
                 2,
                 1,
                 0,
                 2,
                 0,
                 0,
                 1,
                 0,
                 0,
                 1,
                 1
                ],
                [
                 1,
                 1,
                 2,
                 2,
                 1,
                 1,
                 1,
                 2,
                 2,
                 0,
                 2
                ],
                [
                 1,
                 1,
                 2,
                 1,
                 0,
                 0,
                 0,
                 0,
                 0,
                 0,
                 0
                ],
                [
                 1,
                 0,
                 1,
                 1,
                 1,
                 1,
                 2,
                 0,
                 0,
                 0,
                 2
                ],
                [
                 0,
                 2,
                 2,
                 2,
                 2,
                 0,
                 2,
                 0,
                 0,
                 0,
                 0
                ],
                [
                 0,
                 2,
                 2,
                 0,
                 2,
                 1,
                 2,
                 2,
                 2,
                 2,
                 0
                ],
                [
                 2,
                 2,
                 1,
                 2,
                 0,
                 0,
                 2,
                 0,
                 0,
                 2,
                 0
                ],
                [
                 0,
                 1,
                 0,
                 1,
                 2,
                 1,
                 0,
                 0,
                 0,
                 1,
                 2
                ],
                [
                 1,
                 1,
                 2,
                 0,
                 1,
                 2,
                 2,
                 0,
                 1,
                 0,
                 2
                ],
                [
                 0,
                 2,
                 1,
                 2,
                 1,
                 1,
                 2,
                 0,
                 1,
                 1,
                 2
                ],
                [
                 2,
                 0,
                 0,
                 2,
                 0,
                 0,
                 2,
                 0,
                 1,
                 1,
                 2
                ]
               ]
              ]
             }
            ],
            "label": "5",
            "method": "restyle"
           }
          ]
         }
        ]
       },
       "config": {
        "plotlyServerURL": "https://plot.ly"
       }
      },
      "text/html": [
       "<div>                            <div id=\"55ee8c29-7b16-4928-9ba0-457b3f712998\" class=\"plotly-graph-div\" style=\"height:500px; width:500px;\"></div>            <script type=\"text/javascript\">                require([\"plotly\"], function(Plotly) {                    window.PLOTLYENV=window.PLOTLYENV || {};                                    if (document.getElementById(\"55ee8c29-7b16-4928-9ba0-457b3f712998\")) {                    Plotly.newPlot(                        \"55ee8c29-7b16-4928-9ba0-457b3f712998\",                        [{\"coloraxis\":\"coloraxis\",\"name\":\"0\",\"x\":[0,1,2,3,4,5,6,7,8,9,10],\"y\":[0,1,2,3,4,5,6,7,8,9,10],\"z\":[[0,0,0,0,0,0,0,0,0,0,0],[0,0,0,0,0,0,0,0,0,0,0],[0,0,0,0,0,0,0,0,0,0,0],[0,0,0,0,0,0,0,0,0,0,0],[0,0,0,0,0,0,0,0,0,0,0],[0,0,0,0,0,0,0,0,0,0,0],[0,0,0,0,0,0,0,0,0,0,0],[0,0,0,0,0,0,0,0,0,0,0],[0,0,0,0,0,0,0,0,0,0,0],[0,0,0,0,0,0,0,0,0,0,0],[0,0,0,0,0,0,0,0,0,0,0]],\"type\":\"heatmap\",\"xaxis\":\"x\",\"yaxis\":\"y\",\"hovertemplate\":\"Temperature: %{x}\\u003cbr\\u003eHumidity: %{y}\\u003cbr\\u003eValue: %{z}\\u003cextra\\u003e\\u003c\\u002fextra\\u003e\"}],                        {\"template\":{\"data\":{\"histogram2dcontour\":[{\"type\":\"histogram2dcontour\",\"colorbar\":{\"outlinewidth\":0,\"ticks\":\"\"},\"colorscale\":[[0.0,\"#0d0887\"],[0.1111111111111111,\"#46039f\"],[0.2222222222222222,\"#7201a8\"],[0.3333333333333333,\"#9c179e\"],[0.4444444444444444,\"#bd3786\"],[0.5555555555555556,\"#d8576b\"],[0.6666666666666666,\"#ed7953\"],[0.7777777777777778,\"#fb9f3a\"],[0.8888888888888888,\"#fdca26\"],[1.0,\"#f0f921\"]]}],\"choropleth\":[{\"type\":\"choropleth\",\"colorbar\":{\"outlinewidth\":0,\"ticks\":\"\"}}],\"histogram2d\":[{\"type\":\"histogram2d\",\"colorbar\":{\"outlinewidth\":0,\"ticks\":\"\"},\"colorscale\":[[0.0,\"#0d0887\"],[0.1111111111111111,\"#46039f\"],[0.2222222222222222,\"#7201a8\"],[0.3333333333333333,\"#9c179e\"],[0.4444444444444444,\"#bd3786\"],[0.5555555555555556,\"#d8576b\"],[0.6666666666666666,\"#ed7953\"],[0.7777777777777778,\"#fb9f3a\"],[0.8888888888888888,\"#fdca26\"],[1.0,\"#f0f921\"]]}],\"heatmap\":[{\"type\":\"heatmap\",\"colorbar\":{\"outlinewidth\":0,\"ticks\":\"\"},\"colorscale\":[[0.0,\"#0d0887\"],[0.1111111111111111,\"#46039f\"],[0.2222222222222222,\"#7201a8\"],[0.3333333333333333,\"#9c179e\"],[0.4444444444444444,\"#bd3786\"],[0.5555555555555556,\"#d8576b\"],[0.6666666666666666,\"#ed7953\"],[0.7777777777777778,\"#fb9f3a\"],[0.8888888888888888,\"#fdca26\"],[1.0,\"#f0f921\"]]}],\"heatmapgl\":[{\"type\":\"heatmapgl\",\"colorbar\":{\"outlinewidth\":0,\"ticks\":\"\"},\"colorscale\":[[0.0,\"#0d0887\"],[0.1111111111111111,\"#46039f\"],[0.2222222222222222,\"#7201a8\"],[0.3333333333333333,\"#9c179e\"],[0.4444444444444444,\"#bd3786\"],[0.5555555555555556,\"#d8576b\"],[0.6666666666666666,\"#ed7953\"],[0.7777777777777778,\"#fb9f3a\"],[0.8888888888888888,\"#fdca26\"],[1.0,\"#f0f921\"]]}],\"contourcarpet\":[{\"type\":\"contourcarpet\",\"colorbar\":{\"outlinewidth\":0,\"ticks\":\"\"}}],\"contour\":[{\"type\":\"contour\",\"colorbar\":{\"outlinewidth\":0,\"ticks\":\"\"},\"colorscale\":[[0.0,\"#0d0887\"],[0.1111111111111111,\"#46039f\"],[0.2222222222222222,\"#7201a8\"],[0.3333333333333333,\"#9c179e\"],[0.4444444444444444,\"#bd3786\"],[0.5555555555555556,\"#d8576b\"],[0.6666666666666666,\"#ed7953\"],[0.7777777777777778,\"#fb9f3a\"],[0.8888888888888888,\"#fdca26\"],[1.0,\"#f0f921\"]]}],\"surface\":[{\"type\":\"surface\",\"colorbar\":{\"outlinewidth\":0,\"ticks\":\"\"},\"colorscale\":[[0.0,\"#0d0887\"],[0.1111111111111111,\"#46039f\"],[0.2222222222222222,\"#7201a8\"],[0.3333333333333333,\"#9c179e\"],[0.4444444444444444,\"#bd3786\"],[0.5555555555555556,\"#d8576b\"],[0.6666666666666666,\"#ed7953\"],[0.7777777777777778,\"#fb9f3a\"],[0.8888888888888888,\"#fdca26\"],[1.0,\"#f0f921\"]]}],\"mesh3d\":[{\"type\":\"mesh3d\",\"colorbar\":{\"outlinewidth\":0,\"ticks\":\"\"}}],\"scatter\":[{\"fillpattern\":{\"fillmode\":\"overlay\",\"size\":10,\"solidity\":0.2},\"type\":\"scatter\"}],\"parcoords\":[{\"type\":\"parcoords\",\"line\":{\"colorbar\":{\"outlinewidth\":0,\"ticks\":\"\"}}}],\"scatterpolargl\":[{\"type\":\"scatterpolargl\",\"marker\":{\"colorbar\":{\"outlinewidth\":0,\"ticks\":\"\"}}}],\"bar\":[{\"error_x\":{\"color\":\"#2a3f5f\"},\"error_y\":{\"color\":\"#2a3f5f\"},\"marker\":{\"line\":{\"color\":\"#E5ECF6\",\"width\":0.5},\"pattern\":{\"fillmode\":\"overlay\",\"size\":10,\"solidity\":0.2}},\"type\":\"bar\"}],\"scattergeo\":[{\"type\":\"scattergeo\",\"marker\":{\"colorbar\":{\"outlinewidth\":0,\"ticks\":\"\"}}}],\"scatterpolar\":[{\"type\":\"scatterpolar\",\"marker\":{\"colorbar\":{\"outlinewidth\":0,\"ticks\":\"\"}}}],\"histogram\":[{\"marker\":{\"pattern\":{\"fillmode\":\"overlay\",\"size\":10,\"solidity\":0.2}},\"type\":\"histogram\"}],\"scattergl\":[{\"type\":\"scattergl\",\"marker\":{\"colorbar\":{\"outlinewidth\":0,\"ticks\":\"\"}}}],\"scatter3d\":[{\"type\":\"scatter3d\",\"line\":{\"colorbar\":{\"outlinewidth\":0,\"ticks\":\"\"}},\"marker\":{\"colorbar\":{\"outlinewidth\":0,\"ticks\":\"\"}}}],\"scattermapbox\":[{\"type\":\"scattermapbox\",\"marker\":{\"colorbar\":{\"outlinewidth\":0,\"ticks\":\"\"}}}],\"scatterternary\":[{\"type\":\"scatterternary\",\"marker\":{\"colorbar\":{\"outlinewidth\":0,\"ticks\":\"\"}}}],\"scattercarpet\":[{\"type\":\"scattercarpet\",\"marker\":{\"colorbar\":{\"outlinewidth\":0,\"ticks\":\"\"}}}],\"carpet\":[{\"aaxis\":{\"endlinecolor\":\"#2a3f5f\",\"gridcolor\":\"white\",\"linecolor\":\"white\",\"minorgridcolor\":\"white\",\"startlinecolor\":\"#2a3f5f\"},\"baxis\":{\"endlinecolor\":\"#2a3f5f\",\"gridcolor\":\"white\",\"linecolor\":\"white\",\"minorgridcolor\":\"white\",\"startlinecolor\":\"#2a3f5f\"},\"type\":\"carpet\"}],\"table\":[{\"cells\":{\"fill\":{\"color\":\"#EBF0F8\"},\"line\":{\"color\":\"white\"}},\"header\":{\"fill\":{\"color\":\"#C8D4E3\"},\"line\":{\"color\":\"white\"}},\"type\":\"table\"}],\"barpolar\":[{\"marker\":{\"line\":{\"color\":\"#E5ECF6\",\"width\":0.5},\"pattern\":{\"fillmode\":\"overlay\",\"size\":10,\"solidity\":0.2}},\"type\":\"barpolar\"}],\"pie\":[{\"automargin\":true,\"type\":\"pie\"}]},\"layout\":{\"autotypenumbers\":\"strict\",\"colorway\":[\"#636efa\",\"#EF553B\",\"#00cc96\",\"#ab63fa\",\"#FFA15A\",\"#19d3f3\",\"#FF6692\",\"#B6E880\",\"#FF97FF\",\"#FECB52\"],\"font\":{\"color\":\"#2a3f5f\"},\"hovermode\":\"closest\",\"hoverlabel\":{\"align\":\"left\"},\"paper_bgcolor\":\"white\",\"plot_bgcolor\":\"#E5ECF6\",\"polar\":{\"bgcolor\":\"#E5ECF6\",\"angularaxis\":{\"gridcolor\":\"white\",\"linecolor\":\"white\",\"ticks\":\"\"},\"radialaxis\":{\"gridcolor\":\"white\",\"linecolor\":\"white\",\"ticks\":\"\"}},\"ternary\":{\"bgcolor\":\"#E5ECF6\",\"aaxis\":{\"gridcolor\":\"white\",\"linecolor\":\"white\",\"ticks\":\"\"},\"baxis\":{\"gridcolor\":\"white\",\"linecolor\":\"white\",\"ticks\":\"\"},\"caxis\":{\"gridcolor\":\"white\",\"linecolor\":\"white\",\"ticks\":\"\"}},\"coloraxis\":{\"colorbar\":{\"outlinewidth\":0,\"ticks\":\"\"}},\"colorscale\":{\"sequential\":[[0.0,\"#0d0887\"],[0.1111111111111111,\"#46039f\"],[0.2222222222222222,\"#7201a8\"],[0.3333333333333333,\"#9c179e\"],[0.4444444444444444,\"#bd3786\"],[0.5555555555555556,\"#d8576b\"],[0.6666666666666666,\"#ed7953\"],[0.7777777777777778,\"#fb9f3a\"],[0.8888888888888888,\"#fdca26\"],[1.0,\"#f0f921\"]],\"sequentialminus\":[[0.0,\"#0d0887\"],[0.1111111111111111,\"#46039f\"],[0.2222222222222222,\"#7201a8\"],[0.3333333333333333,\"#9c179e\"],[0.4444444444444444,\"#bd3786\"],[0.5555555555555556,\"#d8576b\"],[0.6666666666666666,\"#ed7953\"],[0.7777777777777778,\"#fb9f3a\"],[0.8888888888888888,\"#fdca26\"],[1.0,\"#f0f921\"]],\"diverging\":[[0,\"#8e0152\"],[0.1,\"#c51b7d\"],[0.2,\"#de77ae\"],[0.3,\"#f1b6da\"],[0.4,\"#fde0ef\"],[0.5,\"#f7f7f7\"],[0.6,\"#e6f5d0\"],[0.7,\"#b8e186\"],[0.8,\"#7fbc41\"],[0.9,\"#4d9221\"],[1,\"#276419\"]]},\"xaxis\":{\"gridcolor\":\"white\",\"linecolor\":\"white\",\"ticks\":\"\",\"title\":{\"standoff\":15},\"zerolinecolor\":\"white\",\"automargin\":true,\"zerolinewidth\":2},\"yaxis\":{\"gridcolor\":\"white\",\"linecolor\":\"white\",\"ticks\":\"\",\"title\":{\"standoff\":15},\"zerolinecolor\":\"white\",\"automargin\":true,\"zerolinewidth\":2},\"scene\":{\"xaxis\":{\"backgroundcolor\":\"#E5ECF6\",\"gridcolor\":\"white\",\"linecolor\":\"white\",\"showbackground\":true,\"ticks\":\"\",\"zerolinecolor\":\"white\",\"gridwidth\":2},\"yaxis\":{\"backgroundcolor\":\"#E5ECF6\",\"gridcolor\":\"white\",\"linecolor\":\"white\",\"showbackground\":true,\"ticks\":\"\",\"zerolinecolor\":\"white\",\"gridwidth\":2},\"zaxis\":{\"backgroundcolor\":\"#E5ECF6\",\"gridcolor\":\"white\",\"linecolor\":\"white\",\"showbackground\":true,\"ticks\":\"\",\"zerolinecolor\":\"white\",\"gridwidth\":2}},\"shapedefaults\":{\"line\":{\"color\":\"#2a3f5f\"}},\"annotationdefaults\":{\"arrowcolor\":\"#2a3f5f\",\"arrowhead\":0,\"arrowwidth\":1},\"geo\":{\"bgcolor\":\"white\",\"landcolor\":\"#E5ECF6\",\"subunitcolor\":\"white\",\"showland\":true,\"showlakes\":true,\"lakecolor\":\"white\"},\"title\":{\"x\":0.05},\"mapbox\":{\"style\":\"light\"}}},\"xaxis\":{\"anchor\":\"y\",\"domain\":[0.0,1.0],\"scaleanchor\":\"y\",\"constrain\":\"domain\",\"title\":{\"text\":\"Temperature\"},\"tickmode\":\"array\",\"tickvals\":[0,1,2,3,4,5,6,7,8,9,10],\"ticktext\":[\"0\",\"1\",\"2\",\"3\",\"4\",\"5\",\"6\",\"7\",\"8\",\"9\",\"10\"],\"scaleratio\":1},\"yaxis\":{\"anchor\":\"x\",\"domain\":[0.0,1.0],\"autorange\":\"reversed\",\"constrain\":\"domain\",\"title\":{\"text\":\"Humidity\"},\"tickmode\":\"array\",\"tickvals\":[0,1,2,3,4,5,6,7,8,9,10],\"ticktext\":[\"10\",\"9\",\"8\",\"7\",\"6\",\"5\",\"4\",\"3\",\"2\",\"1\",\"0\"]},\"coloraxis\":{\"colorbar\":{\"title\":{\"text\":\"Value\"},\"x\":1},\"colorscale\":[[0.0,\"blue\"],[0.5,\"yellow\"],[1.0,\"red\"]],\"cmin\":0,\"cmax\":2},\"title\":{\"text\":\"Policy\",\"x\":0.5,\"y\":0.85},\"shapes\":[{\"line\":{\"color\":\"black\",\"width\":2},\"type\":\"line\",\"x0\":-0.5,\"x1\":-0.5,\"y0\":-0.5,\"y1\":10.5},{\"line\":{\"color\":\"black\",\"width\":2},\"type\":\"line\",\"x0\":-0.5,\"x1\":10.5,\"y0\":-0.5,\"y1\":-0.5},{\"line\":{\"color\":\"black\",\"width\":2},\"type\":\"line\",\"x0\":0.5,\"x1\":0.5,\"y0\":-0.5,\"y1\":10.5},{\"line\":{\"color\":\"black\",\"width\":2},\"type\":\"line\",\"x0\":-0.5,\"x1\":10.5,\"y0\":0.5,\"y1\":0.5},{\"line\":{\"color\":\"black\",\"width\":2},\"type\":\"line\",\"x0\":1.5,\"x1\":1.5,\"y0\":-0.5,\"y1\":10.5},{\"line\":{\"color\":\"black\",\"width\":2},\"type\":\"line\",\"x0\":-0.5,\"x1\":10.5,\"y0\":1.5,\"y1\":1.5},{\"line\":{\"color\":\"black\",\"width\":2},\"type\":\"line\",\"x0\":2.5,\"x1\":2.5,\"y0\":-0.5,\"y1\":10.5},{\"line\":{\"color\":\"black\",\"width\":2},\"type\":\"line\",\"x0\":-0.5,\"x1\":10.5,\"y0\":2.5,\"y1\":2.5},{\"line\":{\"color\":\"black\",\"width\":2},\"type\":\"line\",\"x0\":3.5,\"x1\":3.5,\"y0\":-0.5,\"y1\":10.5},{\"line\":{\"color\":\"black\",\"width\":2},\"type\":\"line\",\"x0\":-0.5,\"x1\":10.5,\"y0\":3.5,\"y1\":3.5},{\"line\":{\"color\":\"black\",\"width\":2},\"type\":\"line\",\"x0\":4.5,\"x1\":4.5,\"y0\":-0.5,\"y1\":10.5},{\"line\":{\"color\":\"black\",\"width\":2},\"type\":\"line\",\"x0\":-0.5,\"x1\":10.5,\"y0\":4.5,\"y1\":4.5},{\"line\":{\"color\":\"black\",\"width\":2},\"type\":\"line\",\"x0\":5.5,\"x1\":5.5,\"y0\":-0.5,\"y1\":10.5},{\"line\":{\"color\":\"black\",\"width\":2},\"type\":\"line\",\"x0\":-0.5,\"x1\":10.5,\"y0\":5.5,\"y1\":5.5},{\"line\":{\"color\":\"black\",\"width\":2},\"type\":\"line\",\"x0\":6.5,\"x1\":6.5,\"y0\":-0.5,\"y1\":10.5},{\"line\":{\"color\":\"black\",\"width\":2},\"type\":\"line\",\"x0\":-0.5,\"x1\":10.5,\"y0\":6.5,\"y1\":6.5},{\"line\":{\"color\":\"black\",\"width\":2},\"type\":\"line\",\"x0\":7.5,\"x1\":7.5,\"y0\":-0.5,\"y1\":10.5},{\"line\":{\"color\":\"black\",\"width\":2},\"type\":\"line\",\"x0\":-0.5,\"x1\":10.5,\"y0\":7.5,\"y1\":7.5},{\"line\":{\"color\":\"black\",\"width\":2},\"type\":\"line\",\"x0\":8.5,\"x1\":8.5,\"y0\":-0.5,\"y1\":10.5},{\"line\":{\"color\":\"black\",\"width\":2},\"type\":\"line\",\"x0\":-0.5,\"x1\":10.5,\"y0\":8.5,\"y1\":8.5},{\"line\":{\"color\":\"black\",\"width\":2},\"type\":\"line\",\"x0\":9.5,\"x1\":9.5,\"y0\":-0.5,\"y1\":10.5},{\"line\":{\"color\":\"black\",\"width\":2},\"type\":\"line\",\"x0\":-0.5,\"x1\":10.5,\"y0\":9.5,\"y1\":9.5}],\"width\":500,\"height\":500,\"sliders\":[{\"currentvalue\":{\"prefix\":\"Index: \"},\"pad\":{\"t\":15},\"steps\":[{\"args\":[{\"z\":[[[0,0,0,0,0,0,0,0,0,0,0],[0,0,0,0,0,0,0,0,0,0,0],[0,0,0,0,0,0,0,0,0,0,0],[0,0,0,0,0,0,0,0,0,0,0],[0,0,0,0,0,0,0,0,0,0,0],[0,0,0,0,0,0,0,0,0,0,0],[0,0,0,0,0,0,0,0,0,0,0],[0,0,0,0,0,0,0,0,0,0,0],[0,0,0,0,0,0,0,0,0,0,0],[0,0,0,0,0,0,0,0,0,0,0],[0,0,0,0,0,0,0,0,0,0,0]]]}],\"label\":\"0\",\"method\":\"restyle\"},{\"args\":[{\"z\":[[[0,0,0,0,0,0,0,0,0,0,0],[0,2,2,2,0,0,0,0,0,0,0],[0,2,2,0,0,0,0,0,0,0,0],[0,2,2,2,2,2,0,0,0,0,0],[0,2,2,2,2,2,0,0,0,0,0],[0,2,2,2,2,2,0,0,0,0,0],[0,2,2,2,2,2,1,1,0,0,0],[0,2,2,2,2,1,1,1,1,0,0],[0,2,1,1,1,1,1,1,1,1,0],[0,1,1,1,1,1,1,1,1,1,0],[0,0,0,0,0,0,0,0,0,0,0]]]}],\"label\":\"1\",\"method\":\"restyle\"},{\"args\":[{\"z\":[[[2,0,0,0,0,0,0,2,0,0,0],[2,2,2,2,0,0,0,0,0,0,0],[2,2,2,2,2,0,0,0,0,0,0],[2,2,2,2,2,2,0,0,0,0,0],[2,2,2,2,2,2,0,0,0,0,0],[2,2,2,2,1,1,1,1,0,0,1],[2,2,2,1,1,1,1,1,0,0,1],[2,2,1,1,1,1,1,1,1,1,0],[2,1,1,1,2,1,1,1,1,0,1],[2,2,1,1,1,1,1,1,1,1,1],[1,1,1,1,1,1,1,1,1,1,1]]]}],\"label\":\"2\",\"method\":\"restyle\"},{\"args\":[{\"z\":[[[2,2,0,0,0,0,0,0,0,0,0],[2,2,2,2,0,0,0,0,0,0,0],[2,2,2,2,2,2,0,0,0,0,0],[2,2,2,2,2,2,0,0,0,0,0],[2,2,2,2,2,2,2,1,0,0,0],[2,2,2,2,2,2,1,1,0,0,0],[2,2,1,2,2,1,1,1,1,1,0],[2,1,1,2,1,1,1,1,1,1,1],[2,2,1,1,1,1,1,1,1,1,0],[2,2,1,1,1,1,1,1,1,1,1],[1,1,1,1,1,1,1,1,1,1,0]]]}],\"label\":\"3\",\"method\":\"restyle\"},{\"args\":[{\"z\":[[[0,0,2,2,0,0,0,2,0,0,0],[2,2,0,2,2,2,2,0,0,0,0],[2,2,0,0,2,2,2,0,0,0,0],[2,2,2,2,2,2,2,2,0,0,0],[2,2,2,2,2,2,2,2,1,0,0],[2,2,2,2,2,2,2,1,1,1,0],[2,2,2,2,1,2,1,1,1,1,0],[2,2,1,2,1,2,1,1,1,1,1],[2,2,2,2,1,1,1,1,1,1,1],[1,2,1,1,1,1,1,1,1,1,1],[1,1,1,1,1,1,1,1,1,0,1]]]}],\"label\":\"4\",\"method\":\"restyle\"},{\"args\":[{\"z\":[[[2,1,0,2,0,0,1,0,0,1,1],[1,1,2,2,1,1,1,2,2,0,2],[1,1,2,1,0,0,0,0,0,0,0],[1,0,1,1,1,1,2,0,0,0,2],[0,2,2,2,2,0,2,0,0,0,0],[0,2,2,0,2,1,2,2,2,2,0],[2,2,1,2,0,0,2,0,0,2,0],[0,1,0,1,2,1,0,0,0,1,2],[1,1,2,0,1,2,2,0,1,0,2],[0,2,1,2,1,1,2,0,1,1,2],[2,0,0,2,0,0,2,0,1,1,2]]]}],\"label\":\"5\",\"method\":\"restyle\"}]}]},                        {\"responsive\": true}                    ).then(function(){\n",
       "                            \n",
       "var gd = document.getElementById('55ee8c29-7b16-4928-9ba0-457b3f712998');\n",
       "var x = new MutationObserver(function (mutations, observer) {{\n",
       "        var display = window.getComputedStyle(gd).display;\n",
       "        if (!display || display === 'none') {{\n",
       "            console.log([gd, 'removed!']);\n",
       "            Plotly.purge(gd);\n",
       "            observer.disconnect();\n",
       "        }}\n",
       "}});\n",
       "\n",
       "// Listen for the removal of the full notebook cells\n",
       "var notebookContainer = gd.closest('#notebook-container');\n",
       "if (notebookContainer) {{\n",
       "    x.observe(notebookContainer, {childList: true});\n",
       "}}\n",
       "\n",
       "// Listen for the clearing of the current output cell\n",
       "var outputEl = gd.closest('.output');\n",
       "if (outputEl) {{\n",
       "    x.observe(outputEl, {childList: true});\n",
       "}}\n",
       "\n",
       "                        })                };                });            </script>        </div>"
      ]
     },
     "metadata": {},
     "output_type": "display_data"
    }
   ],
   "execution_count": 21,
   "source": "plot_policy_dyn(policy_MC, 0, 5)",
   "id": "345b941968d54a56"
  },
  {
   "metadata": {
    "ExecuteTime": {
     "end_time": "2025-01-11T14:42:39.696535Z",
     "start_time": "2025-01-11T14:42:39.682360Z"
    }
   },
   "cell_type": "code",
   "outputs": [],
   "execution_count": 26,
   "source": "#np.save(\"Sims-GYM/policy_GPI.npy\", policy_MC)",
   "id": "5fa330ba5b556b96"
  },
  {
   "metadata": {
    "ExecuteTime": {
     "end_time": "2025-01-11T14:42:48.218151Z",
     "start_time": "2025-01-11T14:42:40.859409Z"
    }
   },
   "cell_type": "code",
   "outputs": [
    {
     "data": {
      "text/plain": [
       "  0%|          | 0/10000 [00:00<?, ?it/s]"
      ],
      "application/vnd.jupyter.widget-view+json": {
       "version_major": 2,
       "version_minor": 0,
       "model_id": "f103d8676eeb4cc3b5b8565debe8cdd0"
      }
     },
     "metadata": {},
     "output_type": "display_data"
    },
    {
     "name": "stdout",
     "output_type": "stream",
     "text": [
      "Test_policy68.91000000000001%\n"
     ]
    }
   ],
   "execution_count": 27,
   "source": [
    "st_list=[]\n",
    "ac_list=[]\n",
    "re_list=[]\n",
    "counter=0\n",
    "for _ in tqdm(range(pars['N_episodes'])):\n",
    " seq_state,seq_action,seq_reward=make_episode(policy_MC,pars)\n",
    " counter+= 1 if seq_state[-1][0]==5 else 0\n",
    " st_list.append(seq_state)\n",
    " ac_list.append(seq_action)\n",
    " re_list.append(seq_reward)\n",
    "print(f'Test_policy{counter/pars[\"N_episodes\"]*100}%')"
   ],
   "id": "e07082e7bd9bc034"
  },
  {
   "metadata": {},
   "cell_type": "markdown",
   "source": [
    "\n",
    "\n",
    "\n",
    "\n",
    "\n",
    "\n",
    "\n",
    "\n",
    "\n",
    "\n",
    "\n",
    "\n",
    "\n",
    "\n",
    "\n",
    "\n",
    "\n",
    "\n",
    "\n",
    "\n",
    "\n",
    "\n",
    "\n",
    "\n",
    "\n",
    "\n",
    "\n",
    "\n",
    "\n",
    "\n",
    "\n",
    "\n",
    "\n",
    "\n",
    "\n",
    "\n",
    "\n",
    "\n",
    "\n",
    "\n",
    "\n",
    "\n",
    "\n",
    "\n"
   ],
   "id": "8e778d089b146696"
  },
  {
   "metadata": {},
   "cell_type": "markdown",
   "source": "## TD",
   "id": "7078558a2d60f2be"
  },
  {
   "metadata": {
    "ExecuteTime": {
     "end_time": "2025-01-12T01:33:19.546953Z",
     "start_time": "2025-01-12T01:33:19.511955Z"
    }
   },
   "cell_type": "code",
   "source": [
    "def GPI_TD_Sarsa(pars,x0=None):\n",
    "\n",
    " Q = np.zeros((pars['nstates'][0], pars['nstates'][1], pars['nstates'][2], 3))\n",
    " \n",
    " for _ in tqdm(range(pars['N_episodes'])):\n",
    "      #seq_state,seq_action,seq_reward=make_episode(policy,pars)\n",
    "      \n",
    "      #Initialize state\n",
    "      if x0 is not None:\n",
    "         g,temp,hum=x0\n",
    "      else:\n",
    "         g=np.random.choice(np.arange(1,pars['ci_g_range']))  \n",
    "         temp=np.random.choice(pars['ci_range'])  \n",
    "         hum=np.random.choice(pars['ci_range'])\n",
    "      s=(g,temp,hum)\n",
    "      #seq_state.append((g,temp,hum))\n",
    "     \n",
    "      #Choose A from S using policy derived from Q (eps-greedy) \n",
    "      if np.random.random()<pars['eps']:\n",
    "       a=np.random.choice([0,1,2])\n",
    "      else:\n",
    "       a=np.argmax(Q[s[0],s[1],s[2],:])\n",
    "          \n",
    "      #Loop for each step of episode\n",
    "      while s[0]!=5 and s[0]!=0:  \n",
    "        #Observe R,S'\n",
    "        s_next,r=next_state(s,a,pars)        \n",
    "        # seq_state.append((g,temp,hum))\n",
    "        # seq_action.append(a)\n",
    "        # seq_reward.append(r)\n",
    "            \n",
    "        #Choose A' from S' using policy derived from Q  (eps-greedy)  \n",
    "        if np.random.random()<pars['eps']:\n",
    "         a_next=np.random.choice([0,1,2])\n",
    "        else:\n",
    "         a_next=np.argmax(Q[s_next[0],s_next[1],s_next[2],:])\n",
    "     \n",
    "        Q[s[0],s[1],s[2],a]+=pars['alpha']*(r + pars['gamma']*Q[s_next[0],s_next[1],s_next[2],a_next]-Q[s[0],s[1],s[2],a])\n",
    "             \n",
    "        s = s_next\n",
    "        a = a_next \n",
    " \n",
    " return Q.copy()"
   ],
   "id": "2f6a5828b6a78b2f",
   "outputs": [],
   "execution_count": 62
  },
  {
   "metadata": {
    "ExecuteTime": {
     "end_time": "2025-01-12T01:34:17.901692Z",
     "start_time": "2025-01-12T01:33:20.205Z"
    }
   },
   "cell_type": "code",
   "source": "Q_sarsa=GPI_TD_Sarsa(pars)",
   "id": "83acc3c3258aa463",
   "outputs": [
    {
     "data": {
      "text/plain": [
       "  0%|          | 0/100000 [00:00<?, ?it/s]"
      ],
      "application/vnd.jupyter.widget-view+json": {
       "version_major": 2,
       "version_minor": 0,
       "model_id": "d50afa4a96d84cad98a43c8761b77ac8"
      }
     },
     "metadata": {},
     "output_type": "display_data"
    }
   ],
   "execution_count": 63
  },
  {
   "metadata": {
    "ExecuteTime": {
     "end_time": "2025-01-12T01:35:32.385575Z",
     "start_time": "2025-01-12T01:35:32.357883Z"
    }
   },
   "cell_type": "code",
   "source": "policy_sarsa,V_sarsa=recover_policy_V(Q_sarsa,pars)",
   "id": "5959caed4188d215",
   "outputs": [],
   "execution_count": 64
  },
  {
   "metadata": {
    "ExecuteTime": {
     "end_time": "2025-01-12T01:35:32.984057Z",
     "start_time": "2025-01-12T01:35:32.667616Z"
    }
   },
   "cell_type": "code",
   "source": "plot_value_dyn(V_sarsa, 0, 5,\"State value function GPI-Sarsa\")",
   "id": "6ac7f0fba58b89d2",
   "outputs": [
    {
     "data": {
      "application/vnd.plotly.v1+json": {
       "data": [
        {
         "coloraxis": "coloraxis",
         "name": "0",
         "x": [
          0,
          1,
          2,
          3,
          4,
          5,
          6,
          7,
          8,
          9,
          10
         ],
         "y": [
          0,
          1,
          2,
          3,
          4,
          5,
          6,
          7,
          8,
          9,
          10
         ],
         "z": [
          [
           0.0,
           0.0,
           0.0,
           0.0,
           0.0,
           0.0,
           0.0,
           0.0,
           0.0,
           0.0,
           0.0
          ],
          [
           0.0,
           0.0,
           0.0,
           0.0,
           0.0,
           0.0,
           0.0,
           0.0,
           0.0,
           0.0,
           0.0
          ],
          [
           0.0,
           0.0,
           0.0,
           0.0,
           0.0,
           0.0,
           0.0,
           0.0,
           0.0,
           0.0,
           0.0
          ],
          [
           0.0,
           0.0,
           0.0,
           0.0,
           0.0,
           0.0,
           0.0,
           0.0,
           0.0,
           0.0,
           0.0
          ],
          [
           0.0,
           0.0,
           0.0,
           0.0,
           0.0,
           0.0,
           0.0,
           0.0,
           0.0,
           0.0,
           0.0
          ],
          [
           0.0,
           0.0,
           0.0,
           0.0,
           0.0,
           0.0,
           0.0,
           0.0,
           0.0,
           0.0,
           0.0
          ],
          [
           0.0,
           0.0,
           0.0,
           0.0,
           0.0,
           0.0,
           0.0,
           0.0,
           0.0,
           0.0,
           0.0
          ],
          [
           0.0,
           0.0,
           0.0,
           0.0,
           0.0,
           0.0,
           0.0,
           0.0,
           0.0,
           0.0,
           0.0
          ],
          [
           0.0,
           0.0,
           0.0,
           0.0,
           0.0,
           0.0,
           0.0,
           0.0,
           0.0,
           0.0,
           0.0
          ],
          [
           0.0,
           0.0,
           0.0,
           0.0,
           0.0,
           0.0,
           0.0,
           0.0,
           0.0,
           0.0,
           0.0
          ],
          [
           0.0,
           0.0,
           0.0,
           0.0,
           0.0,
           0.0,
           0.0,
           0.0,
           0.0,
           0.0,
           0.0
          ]
         ],
         "type": "heatmap",
         "xaxis": "x",
         "yaxis": "y",
         "hovertemplate": "Temperature: %{x}<br>Humidity: %{y}<br>Value: %{z}<extra></extra>"
        }
       ],
       "layout": {
        "template": {
         "data": {
          "histogram2dcontour": [
           {
            "type": "histogram2dcontour",
            "colorbar": {
             "outlinewidth": 0,
             "ticks": ""
            },
            "colorscale": [
             [
              0.0,
              "#0d0887"
             ],
             [
              0.1111111111111111,
              "#46039f"
             ],
             [
              0.2222222222222222,
              "#7201a8"
             ],
             [
              0.3333333333333333,
              "#9c179e"
             ],
             [
              0.4444444444444444,
              "#bd3786"
             ],
             [
              0.5555555555555556,
              "#d8576b"
             ],
             [
              0.6666666666666666,
              "#ed7953"
             ],
             [
              0.7777777777777778,
              "#fb9f3a"
             ],
             [
              0.8888888888888888,
              "#fdca26"
             ],
             [
              1.0,
              "#f0f921"
             ]
            ]
           }
          ],
          "choropleth": [
           {
            "type": "choropleth",
            "colorbar": {
             "outlinewidth": 0,
             "ticks": ""
            }
           }
          ],
          "histogram2d": [
           {
            "type": "histogram2d",
            "colorbar": {
             "outlinewidth": 0,
             "ticks": ""
            },
            "colorscale": [
             [
              0.0,
              "#0d0887"
             ],
             [
              0.1111111111111111,
              "#46039f"
             ],
             [
              0.2222222222222222,
              "#7201a8"
             ],
             [
              0.3333333333333333,
              "#9c179e"
             ],
             [
              0.4444444444444444,
              "#bd3786"
             ],
             [
              0.5555555555555556,
              "#d8576b"
             ],
             [
              0.6666666666666666,
              "#ed7953"
             ],
             [
              0.7777777777777778,
              "#fb9f3a"
             ],
             [
              0.8888888888888888,
              "#fdca26"
             ],
             [
              1.0,
              "#f0f921"
             ]
            ]
           }
          ],
          "heatmap": [
           {
            "type": "heatmap",
            "colorbar": {
             "outlinewidth": 0,
             "ticks": ""
            },
            "colorscale": [
             [
              0.0,
              "#0d0887"
             ],
             [
              0.1111111111111111,
              "#46039f"
             ],
             [
              0.2222222222222222,
              "#7201a8"
             ],
             [
              0.3333333333333333,
              "#9c179e"
             ],
             [
              0.4444444444444444,
              "#bd3786"
             ],
             [
              0.5555555555555556,
              "#d8576b"
             ],
             [
              0.6666666666666666,
              "#ed7953"
             ],
             [
              0.7777777777777778,
              "#fb9f3a"
             ],
             [
              0.8888888888888888,
              "#fdca26"
             ],
             [
              1.0,
              "#f0f921"
             ]
            ]
           }
          ],
          "heatmapgl": [
           {
            "type": "heatmapgl",
            "colorbar": {
             "outlinewidth": 0,
             "ticks": ""
            },
            "colorscale": [
             [
              0.0,
              "#0d0887"
             ],
             [
              0.1111111111111111,
              "#46039f"
             ],
             [
              0.2222222222222222,
              "#7201a8"
             ],
             [
              0.3333333333333333,
              "#9c179e"
             ],
             [
              0.4444444444444444,
              "#bd3786"
             ],
             [
              0.5555555555555556,
              "#d8576b"
             ],
             [
              0.6666666666666666,
              "#ed7953"
             ],
             [
              0.7777777777777778,
              "#fb9f3a"
             ],
             [
              0.8888888888888888,
              "#fdca26"
             ],
             [
              1.0,
              "#f0f921"
             ]
            ]
           }
          ],
          "contourcarpet": [
           {
            "type": "contourcarpet",
            "colorbar": {
             "outlinewidth": 0,
             "ticks": ""
            }
           }
          ],
          "contour": [
           {
            "type": "contour",
            "colorbar": {
             "outlinewidth": 0,
             "ticks": ""
            },
            "colorscale": [
             [
              0.0,
              "#0d0887"
             ],
             [
              0.1111111111111111,
              "#46039f"
             ],
             [
              0.2222222222222222,
              "#7201a8"
             ],
             [
              0.3333333333333333,
              "#9c179e"
             ],
             [
              0.4444444444444444,
              "#bd3786"
             ],
             [
              0.5555555555555556,
              "#d8576b"
             ],
             [
              0.6666666666666666,
              "#ed7953"
             ],
             [
              0.7777777777777778,
              "#fb9f3a"
             ],
             [
              0.8888888888888888,
              "#fdca26"
             ],
             [
              1.0,
              "#f0f921"
             ]
            ]
           }
          ],
          "surface": [
           {
            "type": "surface",
            "colorbar": {
             "outlinewidth": 0,
             "ticks": ""
            },
            "colorscale": [
             [
              0.0,
              "#0d0887"
             ],
             [
              0.1111111111111111,
              "#46039f"
             ],
             [
              0.2222222222222222,
              "#7201a8"
             ],
             [
              0.3333333333333333,
              "#9c179e"
             ],
             [
              0.4444444444444444,
              "#bd3786"
             ],
             [
              0.5555555555555556,
              "#d8576b"
             ],
             [
              0.6666666666666666,
              "#ed7953"
             ],
             [
              0.7777777777777778,
              "#fb9f3a"
             ],
             [
              0.8888888888888888,
              "#fdca26"
             ],
             [
              1.0,
              "#f0f921"
             ]
            ]
           }
          ],
          "mesh3d": [
           {
            "type": "mesh3d",
            "colorbar": {
             "outlinewidth": 0,
             "ticks": ""
            }
           }
          ],
          "scatter": [
           {
            "fillpattern": {
             "fillmode": "overlay",
             "size": 10,
             "solidity": 0.2
            },
            "type": "scatter"
           }
          ],
          "parcoords": [
           {
            "type": "parcoords",
            "line": {
             "colorbar": {
              "outlinewidth": 0,
              "ticks": ""
             }
            }
           }
          ],
          "scatterpolargl": [
           {
            "type": "scatterpolargl",
            "marker": {
             "colorbar": {
              "outlinewidth": 0,
              "ticks": ""
             }
            }
           }
          ],
          "bar": [
           {
            "error_x": {
             "color": "#2a3f5f"
            },
            "error_y": {
             "color": "#2a3f5f"
            },
            "marker": {
             "line": {
              "color": "#E5ECF6",
              "width": 0.5
             },
             "pattern": {
              "fillmode": "overlay",
              "size": 10,
              "solidity": 0.2
             }
            },
            "type": "bar"
           }
          ],
          "scattergeo": [
           {
            "type": "scattergeo",
            "marker": {
             "colorbar": {
              "outlinewidth": 0,
              "ticks": ""
             }
            }
           }
          ],
          "scatterpolar": [
           {
            "type": "scatterpolar",
            "marker": {
             "colorbar": {
              "outlinewidth": 0,
              "ticks": ""
             }
            }
           }
          ],
          "histogram": [
           {
            "marker": {
             "pattern": {
              "fillmode": "overlay",
              "size": 10,
              "solidity": 0.2
             }
            },
            "type": "histogram"
           }
          ],
          "scattergl": [
           {
            "type": "scattergl",
            "marker": {
             "colorbar": {
              "outlinewidth": 0,
              "ticks": ""
             }
            }
           }
          ],
          "scatter3d": [
           {
            "type": "scatter3d",
            "line": {
             "colorbar": {
              "outlinewidth": 0,
              "ticks": ""
             }
            },
            "marker": {
             "colorbar": {
              "outlinewidth": 0,
              "ticks": ""
             }
            }
           }
          ],
          "scattermapbox": [
           {
            "type": "scattermapbox",
            "marker": {
             "colorbar": {
              "outlinewidth": 0,
              "ticks": ""
             }
            }
           }
          ],
          "scatterternary": [
           {
            "type": "scatterternary",
            "marker": {
             "colorbar": {
              "outlinewidth": 0,
              "ticks": ""
             }
            }
           }
          ],
          "scattercarpet": [
           {
            "type": "scattercarpet",
            "marker": {
             "colorbar": {
              "outlinewidth": 0,
              "ticks": ""
             }
            }
           }
          ],
          "carpet": [
           {
            "aaxis": {
             "endlinecolor": "#2a3f5f",
             "gridcolor": "white",
             "linecolor": "white",
             "minorgridcolor": "white",
             "startlinecolor": "#2a3f5f"
            },
            "baxis": {
             "endlinecolor": "#2a3f5f",
             "gridcolor": "white",
             "linecolor": "white",
             "minorgridcolor": "white",
             "startlinecolor": "#2a3f5f"
            },
            "type": "carpet"
           }
          ],
          "table": [
           {
            "cells": {
             "fill": {
              "color": "#EBF0F8"
             },
             "line": {
              "color": "white"
             }
            },
            "header": {
             "fill": {
              "color": "#C8D4E3"
             },
             "line": {
              "color": "white"
             }
            },
            "type": "table"
           }
          ],
          "barpolar": [
           {
            "marker": {
             "line": {
              "color": "#E5ECF6",
              "width": 0.5
             },
             "pattern": {
              "fillmode": "overlay",
              "size": 10,
              "solidity": 0.2
             }
            },
            "type": "barpolar"
           }
          ],
          "pie": [
           {
            "automargin": true,
            "type": "pie"
           }
          ]
         },
         "layout": {
          "autotypenumbers": "strict",
          "colorway": [
           "#636efa",
           "#EF553B",
           "#00cc96",
           "#ab63fa",
           "#FFA15A",
           "#19d3f3",
           "#FF6692",
           "#B6E880",
           "#FF97FF",
           "#FECB52"
          ],
          "font": {
           "color": "#2a3f5f"
          },
          "hovermode": "closest",
          "hoverlabel": {
           "align": "left"
          },
          "paper_bgcolor": "white",
          "plot_bgcolor": "#E5ECF6",
          "polar": {
           "bgcolor": "#E5ECF6",
           "angularaxis": {
            "gridcolor": "white",
            "linecolor": "white",
            "ticks": ""
           },
           "radialaxis": {
            "gridcolor": "white",
            "linecolor": "white",
            "ticks": ""
           }
          },
          "ternary": {
           "bgcolor": "#E5ECF6",
           "aaxis": {
            "gridcolor": "white",
            "linecolor": "white",
            "ticks": ""
           },
           "baxis": {
            "gridcolor": "white",
            "linecolor": "white",
            "ticks": ""
           },
           "caxis": {
            "gridcolor": "white",
            "linecolor": "white",
            "ticks": ""
           }
          },
          "coloraxis": {
           "colorbar": {
            "outlinewidth": 0,
            "ticks": ""
           }
          },
          "colorscale": {
           "sequential": [
            [
             0.0,
             "#0d0887"
            ],
            [
             0.1111111111111111,
             "#46039f"
            ],
            [
             0.2222222222222222,
             "#7201a8"
            ],
            [
             0.3333333333333333,
             "#9c179e"
            ],
            [
             0.4444444444444444,
             "#bd3786"
            ],
            [
             0.5555555555555556,
             "#d8576b"
            ],
            [
             0.6666666666666666,
             "#ed7953"
            ],
            [
             0.7777777777777778,
             "#fb9f3a"
            ],
            [
             0.8888888888888888,
             "#fdca26"
            ],
            [
             1.0,
             "#f0f921"
            ]
           ],
           "sequentialminus": [
            [
             0.0,
             "#0d0887"
            ],
            [
             0.1111111111111111,
             "#46039f"
            ],
            [
             0.2222222222222222,
             "#7201a8"
            ],
            [
             0.3333333333333333,
             "#9c179e"
            ],
            [
             0.4444444444444444,
             "#bd3786"
            ],
            [
             0.5555555555555556,
             "#d8576b"
            ],
            [
             0.6666666666666666,
             "#ed7953"
            ],
            [
             0.7777777777777778,
             "#fb9f3a"
            ],
            [
             0.8888888888888888,
             "#fdca26"
            ],
            [
             1.0,
             "#f0f921"
            ]
           ],
           "diverging": [
            [
             0,
             "#8e0152"
            ],
            [
             0.1,
             "#c51b7d"
            ],
            [
             0.2,
             "#de77ae"
            ],
            [
             0.3,
             "#f1b6da"
            ],
            [
             0.4,
             "#fde0ef"
            ],
            [
             0.5,
             "#f7f7f7"
            ],
            [
             0.6,
             "#e6f5d0"
            ],
            [
             0.7,
             "#b8e186"
            ],
            [
             0.8,
             "#7fbc41"
            ],
            [
             0.9,
             "#4d9221"
            ],
            [
             1,
             "#276419"
            ]
           ]
          },
          "xaxis": {
           "gridcolor": "white",
           "linecolor": "white",
           "ticks": "",
           "title": {
            "standoff": 15
           },
           "zerolinecolor": "white",
           "automargin": true,
           "zerolinewidth": 2
          },
          "yaxis": {
           "gridcolor": "white",
           "linecolor": "white",
           "ticks": "",
           "title": {
            "standoff": 15
           },
           "zerolinecolor": "white",
           "automargin": true,
           "zerolinewidth": 2
          },
          "scene": {
           "xaxis": {
            "backgroundcolor": "#E5ECF6",
            "gridcolor": "white",
            "linecolor": "white",
            "showbackground": true,
            "ticks": "",
            "zerolinecolor": "white",
            "gridwidth": 2
           },
           "yaxis": {
            "backgroundcolor": "#E5ECF6",
            "gridcolor": "white",
            "linecolor": "white",
            "showbackground": true,
            "ticks": "",
            "zerolinecolor": "white",
            "gridwidth": 2
           },
           "zaxis": {
            "backgroundcolor": "#E5ECF6",
            "gridcolor": "white",
            "linecolor": "white",
            "showbackground": true,
            "ticks": "",
            "zerolinecolor": "white",
            "gridwidth": 2
           }
          },
          "shapedefaults": {
           "line": {
            "color": "#2a3f5f"
           }
          },
          "annotationdefaults": {
           "arrowcolor": "#2a3f5f",
           "arrowhead": 0,
           "arrowwidth": 1
          },
          "geo": {
           "bgcolor": "white",
           "landcolor": "#E5ECF6",
           "subunitcolor": "white",
           "showland": true,
           "showlakes": true,
           "lakecolor": "white"
          },
          "title": {
           "x": 0.05
          },
          "mapbox": {
           "style": "light"
          }
         }
        },
        "xaxis": {
         "anchor": "y",
         "domain": [
          0.0,
          1.0
         ],
         "scaleanchor": "y",
         "constrain": "domain",
         "title": {
          "text": "Temperature"
         },
         "tickmode": "array",
         "tickvals": [
          0,
          1,
          2,
          3,
          4,
          5,
          6,
          7,
          8,
          9,
          10
         ],
         "ticktext": [
          "0",
          "1",
          "2",
          "3",
          "4",
          "5",
          "6",
          "7",
          "8",
          "9",
          "10"
         ],
         "scaleratio": 1
        },
        "yaxis": {
         "anchor": "x",
         "domain": [
          0.0,
          1.0
         ],
         "autorange": "reversed",
         "constrain": "domain",
         "title": {
          "text": "Humidity"
         },
         "tickmode": "array",
         "tickvals": [
          0,
          1,
          2,
          3,
          4,
          5,
          6,
          7,
          8,
          9,
          10
         ],
         "ticktext": [
          "10",
          "9",
          "8",
          "7",
          "6",
          "5",
          "4",
          "3",
          "2",
          "1",
          "0"
         ]
        },
        "coloraxis": {
         "colorbar": {
          "title": {
           "text": "Value"
          },
          "x": 1
         },
         "colorscale": [
          [
           0.0,
           "rgba(57,59,121,1.0)"
          ],
          [
           0.05263157894736842,
           "rgba(82,84,163,1.0)"
          ],
          [
           0.10526315789473684,
           "rgba(107,110,207,1.0)"
          ],
          [
           0.15789473684210525,
           "rgba(156,158,222,1.0)"
          ],
          [
           0.21052631578947367,
           "rgba(99,121,57,1.0)"
          ],
          [
           0.2631578947368421,
           "rgba(140,162,82,1.0)"
          ],
          [
           0.3157894736842105,
           "rgba(181,207,107,1.0)"
          ],
          [
           0.3684210526315789,
           "rgba(206,219,156,1.0)"
          ],
          [
           0.42105263157894735,
           "rgba(140,109,49,1.0)"
          ],
          [
           0.47368421052631576,
           "rgba(189,158,57,1.0)"
          ],
          [
           0.5263157894736842,
           "rgba(231,186,82,1.0)"
          ],
          [
           0.5789473684210527,
           "rgba(231,203,148,1.0)"
          ],
          [
           0.631578947368421,
           "rgba(132,60,57,1.0)"
          ],
          [
           0.6842105263157895,
           "rgba(173,73,74,1.0)"
          ],
          [
           0.7368421052631579,
           "rgba(214,97,107,1.0)"
          ],
          [
           0.7894736842105263,
           "rgba(231,150,156,1.0)"
          ],
          [
           0.8421052631578947,
           "rgba(123,65,115,1.0)"
          ],
          [
           0.8947368421052632,
           "rgba(165,81,148,1.0)"
          ],
          [
           0.9473684210526315,
           "rgba(206,109,189,1.0)"
          ],
          [
           1.0,
           "rgba(222,158,214,1.0)"
          ]
         ],
         "cmin": 0,
         "cmax": 100
        },
        "title": {
         "text": "State value function GPI-Sarsa",
         "x": 0.5,
         "y": 0.85
        },
        "shapes": [
         {
          "line": {
           "color": "black",
           "width": 2
          },
          "type": "line",
          "x0": -0.5,
          "x1": -0.5,
          "y0": -0.5,
          "y1": 10.5
         },
         {
          "line": {
           "color": "black",
           "width": 2
          },
          "type": "line",
          "x0": -0.5,
          "x1": 10.5,
          "y0": -0.5,
          "y1": -0.5
         },
         {
          "line": {
           "color": "black",
           "width": 2
          },
          "type": "line",
          "x0": 0.5,
          "x1": 0.5,
          "y0": -0.5,
          "y1": 10.5
         },
         {
          "line": {
           "color": "black",
           "width": 2
          },
          "type": "line",
          "x0": -0.5,
          "x1": 10.5,
          "y0": 0.5,
          "y1": 0.5
         },
         {
          "line": {
           "color": "black",
           "width": 2
          },
          "type": "line",
          "x0": 1.5,
          "x1": 1.5,
          "y0": -0.5,
          "y1": 10.5
         },
         {
          "line": {
           "color": "black",
           "width": 2
          },
          "type": "line",
          "x0": -0.5,
          "x1": 10.5,
          "y0": 1.5,
          "y1": 1.5
         },
         {
          "line": {
           "color": "black",
           "width": 2
          },
          "type": "line",
          "x0": 2.5,
          "x1": 2.5,
          "y0": -0.5,
          "y1": 10.5
         },
         {
          "line": {
           "color": "black",
           "width": 2
          },
          "type": "line",
          "x0": -0.5,
          "x1": 10.5,
          "y0": 2.5,
          "y1": 2.5
         },
         {
          "line": {
           "color": "black",
           "width": 2
          },
          "type": "line",
          "x0": 3.5,
          "x1": 3.5,
          "y0": -0.5,
          "y1": 10.5
         },
         {
          "line": {
           "color": "black",
           "width": 2
          },
          "type": "line",
          "x0": -0.5,
          "x1": 10.5,
          "y0": 3.5,
          "y1": 3.5
         },
         {
          "line": {
           "color": "black",
           "width": 2
          },
          "type": "line",
          "x0": 4.5,
          "x1": 4.5,
          "y0": -0.5,
          "y1": 10.5
         },
         {
          "line": {
           "color": "black",
           "width": 2
          },
          "type": "line",
          "x0": -0.5,
          "x1": 10.5,
          "y0": 4.5,
          "y1": 4.5
         },
         {
          "line": {
           "color": "black",
           "width": 2
          },
          "type": "line",
          "x0": 5.5,
          "x1": 5.5,
          "y0": -0.5,
          "y1": 10.5
         },
         {
          "line": {
           "color": "black",
           "width": 2
          },
          "type": "line",
          "x0": -0.5,
          "x1": 10.5,
          "y0": 5.5,
          "y1": 5.5
         },
         {
          "line": {
           "color": "black",
           "width": 2
          },
          "type": "line",
          "x0": 6.5,
          "x1": 6.5,
          "y0": -0.5,
          "y1": 10.5
         },
         {
          "line": {
           "color": "black",
           "width": 2
          },
          "type": "line",
          "x0": -0.5,
          "x1": 10.5,
          "y0": 6.5,
          "y1": 6.5
         },
         {
          "line": {
           "color": "black",
           "width": 2
          },
          "type": "line",
          "x0": 7.5,
          "x1": 7.5,
          "y0": -0.5,
          "y1": 10.5
         },
         {
          "line": {
           "color": "black",
           "width": 2
          },
          "type": "line",
          "x0": -0.5,
          "x1": 10.5,
          "y0": 7.5,
          "y1": 7.5
         },
         {
          "line": {
           "color": "black",
           "width": 2
          },
          "type": "line",
          "x0": 8.5,
          "x1": 8.5,
          "y0": -0.5,
          "y1": 10.5
         },
         {
          "line": {
           "color": "black",
           "width": 2
          },
          "type": "line",
          "x0": -0.5,
          "x1": 10.5,
          "y0": 8.5,
          "y1": 8.5
         },
         {
          "line": {
           "color": "black",
           "width": 2
          },
          "type": "line",
          "x0": 9.5,
          "x1": 9.5,
          "y0": -0.5,
          "y1": 10.5
         },
         {
          "line": {
           "color": "black",
           "width": 2
          },
          "type": "line",
          "x0": -0.5,
          "x1": 10.5,
          "y0": 9.5,
          "y1": 9.5
         }
        ],
        "width": 500,
        "height": 500,
        "sliders": [
         {
          "currentvalue": {
           "prefix": "Growth: "
          },
          "pad": {
           "t": 15
          },
          "steps": [
           {
            "args": [
             {
              "z": [
               [
                [
                 0.0,
                 0.0,
                 0.0,
                 0.0,
                 0.0,
                 0.0,
                 0.0,
                 0.0,
                 0.0,
                 0.0,
                 0.0
                ],
                [
                 0.0,
                 0.0,
                 0.0,
                 0.0,
                 0.0,
                 0.0,
                 0.0,
                 0.0,
                 0.0,
                 0.0,
                 0.0
                ],
                [
                 0.0,
                 0.0,
                 0.0,
                 0.0,
                 0.0,
                 0.0,
                 0.0,
                 0.0,
                 0.0,
                 0.0,
                 0.0
                ],
                [
                 0.0,
                 0.0,
                 0.0,
                 0.0,
                 0.0,
                 0.0,
                 0.0,
                 0.0,
                 0.0,
                 0.0,
                 0.0
                ],
                [
                 0.0,
                 0.0,
                 0.0,
                 0.0,
                 0.0,
                 0.0,
                 0.0,
                 0.0,
                 0.0,
                 0.0,
                 0.0
                ],
                [
                 0.0,
                 0.0,
                 0.0,
                 0.0,
                 0.0,
                 0.0,
                 0.0,
                 0.0,
                 0.0,
                 0.0,
                 0.0
                ],
                [
                 0.0,
                 0.0,
                 0.0,
                 0.0,
                 0.0,
                 0.0,
                 0.0,
                 0.0,
                 0.0,
                 0.0,
                 0.0
                ],
                [
                 0.0,
                 0.0,
                 0.0,
                 0.0,
                 0.0,
                 0.0,
                 0.0,
                 0.0,
                 0.0,
                 0.0,
                 0.0
                ],
                [
                 0.0,
                 0.0,
                 0.0,
                 0.0,
                 0.0,
                 0.0,
                 0.0,
                 0.0,
                 0.0,
                 0.0,
                 0.0
                ],
                [
                 0.0,
                 0.0,
                 0.0,
                 0.0,
                 0.0,
                 0.0,
                 0.0,
                 0.0,
                 0.0,
                 0.0,
                 0.0
                ],
                [
                 0.0,
                 0.0,
                 0.0,
                 0.0,
                 0.0,
                 0.0,
                 0.0,
                 0.0,
                 0.0,
                 0.0,
                 0.0
                ]
               ]
              ]
             }
            ],
            "label": "0",
            "method": "restyle"
           },
           {
            "args": [
             {
              "z": [
               [
                [
                 0.0,
                 0.0,
                 0.0,
                 0.0,
                 0.0,
                 0.0,
                 0.0,
                 0.0,
                 0.0,
                 0.0,
                 0.0
                ],
                [
                 0.0,
                 2.936066956281205,
                 3.348135267838686,
                 6.204346002218845,
                 2.3221311174307107,
                 7.861104713851041,
                 7.499362851194579,
                 7.970277935568948,
                 4.690380428521513,
                 2.1484669958022846,
                 0.0
                ],
                [
                 0.0,
                 20.649394278203467,
                 22.510941303962742,
                 21.50457535846039,
                 22.982874197943353,
                 19.32661991220738,
                 23.576083049805966,
                 21.66104167181415,
                 17.791959725746196,
                 7.38702081283968,
                 0.0
                ],
                [
                 0.0,
                 24.156096800274533,
                 29.83791651544596,
                 32.980492742049584,
                 37.05562058579328,
                 35.02911219243523,
                 38.37431706195275,
                 34.78140257169077,
                 27.821751252697993,
                 6.489088039590031,
                 0.0
                ],
                [
                 0.0,
                 32.877874255679174,
                 37.481527664883004,
                 41.62738378064831,
                 45.76865871376294,
                 50.99479876376942,
                 46.228552488420846,
                 48.03118592471719,
                 42.53155078931805,
                 12.728023167864324,
                 0.0
                ],
                [
                 0.0,
                 31.706914921939656,
                 35.913492527269334,
                 42.66220244115332,
                 51.96674677747635,
                 63.25603236140224,
                 58.17063056627384,
                 56.13998125486449,
                 47.27410879194829,
                 12.890794786764355,
                 0.0
                ],
                [
                 0.0,
                 26.74943711288096,
                 32.1473469498743,
                 37.244428600513274,
                 46.56754559670146,
                 56.30302552603332,
                 47.06311067366774,
                 60.99138151309073,
                 44.33493196804993,
                 17.08595150150394,
                 0.0
                ],
                [
                 0.0,
                 20.910747383573018,
                 26.455602565850363,
                 31.097845001937696,
                 35.71989329156992,
                 45.0017774671133,
                 52.82610385128106,
                 53.080843815081735,
                 48.84438521986662,
                 24.672507252629334,
                 0.0
                ],
                [
                 0.0,
                 9.646029020778766,
                 17.42527041542683,
                 25.400176656540037,
                 30.740325240744628,
                 34.62014185398745,
                 44.692509250725074,
                 45.3550706494415,
                 44.63475794195944,
                 21.56042427107097,
                 0.0
                ],
                [
                 0.0,
                 0.0,
                 5.233320836421869,
                 16.684234993013533,
                 24.687244339223323,
                 29.274384757173628,
                 36.140729558505434,
                 39.52957539951444,
                 38.83769769704348,
                 11.68577087828319,
                 0.0
                ],
                [
                 0.0,
                 0.0,
                 0.0,
                 0.0,
                 0.0,
                 0.0,
                 0.0,
                 0.0,
                 0.0,
                 0.0,
                 0.0
                ]
               ]
              ]
             }
            ],
            "label": "1",
            "method": "restyle"
           },
           {
            "args": [
             {
              "z": [
               [
                [
                 1.0760577111857659,
                 0.6229724824103069,
                 0.5012332415614383,
                 0.837046146605083,
                 1.6060781716386305,
                 1.1368338076707374,
                 1.5459224616728173,
                 0.9422643407605724,
                 1.7606256102079096,
                 1.3206291195926159,
                 0.14357672287164353
                ],
                [
                 7.792560480606053,
                 18.794725784328342,
                 14.21104619242517,
                 22.403821085742376,
                 17.946274814211247,
                 15.843367431805216,
                 12.977554757150042,
                 21.330947803874462,
                 9.075839686695355,
                 3.730948079936919,
                 1.9836049683219579
                ],
                [
                 16.00606555044293,
                 45.06421524076371,
                 49.814971565860894,
                 55.329077498952735,
                 60.29814054298667,
                 62.40617725072601,
                 62.26487421609543,
                 59.530665285022735,
                 43.815992847937615,
                 18.197032532713557,
                 1.8367031245275025
                ],
                [
                 22.947058387189237,
                 45.75204982808249,
                 54.86976813536879,
                 64.62675515643878,
                 61.731528035148784,
                 72.10389715191312,
                 78.42926026979268,
                 71.20534994016816,
                 45.94705784451112,
                 15.34898415925306,
                 2.7604541647998087
                ],
                [
                 24.43113086616028,
                 40.23422831223756,
                 47.33680915170068,
                 57.69013209945871,
                 54.42370973485908,
                 70.99339431539795,
                 59.195438756815854,
                 66.44019748151963,
                 46.579410477388706,
                 28.092567114917184,
                 3.3530396196866366
                ],
                [
                 21.529035700830015,
                 33.928616247510796,
                 40.96410197218896,
                 47.48644794105404,
                 58.41637292463534,
                 67.28558650979859,
                 75.67240450779472,
                 62.962607660154326,
                 43.63784248287054,
                 31.711243137539036,
                 6.043303081792328
                ],
                [
                 20.639443652754522,
                 27.045928646264507,
                 31.853714987464418,
                 39.06504566403797,
                 46.161374850013615,
                 58.577274723742576,
                 65.29021265862339,
                 59.14293534744179,
                 48.46395295075129,
                 18.732577772923584,
                 6.838041551587536
                ],
                [
                 15.851521209692839,
                 18.75405188296013,
                 27.334403139853613,
                 32.33427547211968,
                 37.93274539992259,
                 35.915202347817214,
                 54.57823401024811,
                 53.07502833512723,
                 47.47298816324088,
                 33.50884278925392,
                 9.616131708296406
                ],
                [
                 6.296712926095666,
                 11.669731840117137,
                 21.148131912688914,
                 25.392816821242413,
                 30.97351803805891,
                 36.02580877893619,
                 41.45971397700732,
                 45.23947606839718,
                 42.173534554843656,
                 20.97431988724783,
                 7.394326959229716
                ],
                [
                 0.0,
                 4.88712330883354,
                 11.389520928429375,
                 18.587370161389074,
                 25.827163839362893,
                 29.663984213211517,
                 36.010322762699936,
                 38.93998179992899,
                 35.04915449825679,
                 27.188283986348655,
                 9.774479432864705
                ],
                [
                 0.0,
                 0.0,
                 2.375323352460932,
                 7.9148455548655905,
                 17.996351403896995,
                 22.485499306120285,
                 27.203972962600954,
                 33.08415674006333,
                 32.19985999620364,
                 19.303664816024032,
                 6.792931821595949
                ]
               ]
              ]
             }
            ],
            "label": "2",
            "method": "restyle"
           },
           {
            "args": [
             {
              "z": [
               [
                [
                 3.525558694229166,
                 7.791029472858209,
                 4.350311236707123,
                 4.4762601244340114,
                 4.653378012872098,
                 8.755454272128567,
                 4.672260663427244,
                 5.847828132155141,
                 1.1748102546583512,
                 1.5737728838661513,
                 1.0558253418765942
                ],
                [
                 20.096300130950148,
                 20.974428121803925,
                 20.6377424970407,
                 22.917556054010973,
                 36.336885558268925,
                 32.787535771701236,
                 28.445168506582046,
                 23.690495095334075,
                 29.67235704047075,
                 16.653201056502382,
                 2.338642911911764
                ],
                [
                 34.84031376685021,
                 44.24097322709717,
                 51.38257311029841,
                 56.18155852465571,
                 56.177948083845955,
                 59.502205650712256,
                 57.69300817881455,
                 61.00402528235206,
                 68.95139571720244,
                 34.97156109732248,
                 3.4664466100291715
                ],
                [
                 38.76170133313952,
                 46.12574179321351,
                 52.88205124471838,
                 64.53822363807299,
                 73.54295921052979,
                 85.71362819156141,
                 88.4221761436168,
                 88.85637619409908,
                 88.68601975482987,
                 45.059323242578515,
                 3.7279316123163735
                ],
                [
                 31.364732215502357,
                 40.630893559144845,
                 39.90840744863917,
                 56.51805601159673,
                 67.19731003506168,
                 78.41467145845041,
                 85.9930783203275,
                 81.59221474069454,
                 87.21391940288862,
                 37.475366999601974,
                 6.291744324469561
                ],
                [
                 26.409823551098288,
                 33.96117933475243,
                 38.85297910508504,
                 45.766618912622505,
                 57.393369967874534,
                 65.85729842193359,
                 79.52085902482222,
                 71.92496646024148,
                 74.79175715670061,
                 45.089699432267416,
                 10.231349213194333
                ],
                [
                 21.04109551166379,
                 27.360456720171754,
                 31.932600733250954,
                 39.83517525593354,
                 47.69725449289351,
                 55.89591725204552,
                 66.54274350771456,
                 79.43054367181796,
                 86.0315629046634,
                 45.094915082703295,
                 6.95525529733413
                ],
                [
                 13.063236323114163,
                 22.623783407751727,
                 27.057527384398163,
                 33.326670648026756,
                 40.30922570895763,
                 47.4922019366257,
                 55.25700125028211,
                 68.03307850710621,
                 73.02016289312978,
                 40.52380887438954,
                 5.9096213414367025
                ],
                [
                 9.11914766753851,
                 16.717032099064873,
                 19.609147889451368,
                 27.024132027059636,
                 30.240744625902696,
                 36.68529334039242,
                 46.327518882013834,
                 56.76941205176186,
                 61.53304245774361,
                 39.086211518335844,
                 5.098292167949764
                ],
                [
                 3.004935032195983,
                 7.406600117055224,
                 15.840218959562039,
                 19.833648673873018,
                 25.809342608586398,
                 28.30749965955318,
                 34.48604936208457,
                 39.613058117623915,
                 35.68494206839116,
                 26.588268508038833,
                 5.693876816736579
                ],
                [
                 0.0,
                 3.0387340563557292,
                 7.429296321174497,
                 14.036782693089844,
                 18.675238683590067,
                 24.28337169824617,
                 27.465714134774966,
                 32.44199614019445,
                 32.048607539476976,
                 26.31407371594411,
                 10.46101623366687
                ]
               ]
              ]
             }
            ],
            "label": "3",
            "method": "restyle"
           },
           {
            "args": [
             {
              "z": [
               [
                [
                 5.3574202333722605,
                 10.195128438859115,
                 6.9198013838118655,
                 17.463321409617514,
                 18.285607516587696,
                 35.64559069992934,
                 27.576451765799803,
                 19.311056005327792,
                 14.551556741897604,
                 22.359105281740067,
                 12.391391524175617
                ],
                [
                 22.596173250646444,
                 24.13133706724923,
                 22.26257394625159,
                 52.196695464183335,
                 66.74980731898172,
                 63.3643232640143,
                 76.27273050425045,
                 70.53396188212704,
                 72.56011840292976,
                 70.21772001447366,
                 31.217388070016497
                ],
                [
                 30.775445007772706,
                 27.947153588645463,
                 54.316764818777656,
                 66.8486135843231,
                 78.78268776417964,
                 86.2472892509405,
                 99.99999999999994,
                 97.4365185527665,
                 99.99999988052161,
                 99.99999911553293,
                 39.36367156931022
                ],
                [
                 38.32440848644244,
                 38.277981970792744,
                 53.296128289580615,
                 49.57656973841426,
                 76.0374873239934,
                 88.43359204602598,
                 99.99999999999994,
                 99.99999999999994,
                 99.99999999999994,
                 99.99999865193254,
                 27.374739197187044
                ],
                [
                 17.939212100581358,
                 33.41431785920693,
                 47.813473902379435,
                 57.8475175679627,
                 67.35892922589859,
                 83.84346372151492,
                 95.14317233387965,
                 97.17743856949626,
                 99.9999999999992,
                 90.3412425863367,
                 41.863618100795634
                ],
                [
                 28.683311239676733,
                 23.328555642817072,
                 40.686522546639935,
                 45.956720844316685,
                 55.2243463791638,
                 68.28352132848616,
                 80.36568969766405,
                 95.84393227580665,
                 99.99999999999994,
                 99.99999999999994,
                 32.6902951936658
                ],
                [
                 21.178021270194233,
                 18.009202781171016,
                 34.38336072766177,
                 40.25196265434908,
                 45.12648127192816,
                 55.52141096724435,
                 64.19760811024142,
                 77.53691187966673,
                 86.84230237130588,
                 82.33463764746939,
                 30.80689402509853
                ],
                [
                 15.248424780784719,
                 11.98872881399457,
                 19.136903941883986,
                 32.43310363345147,
                 29.511528189492925,
                 44.571387866525114,
                 50.90197778047333,
                 64.93241628051354,
                 53.09126284108253,
                 75.48983116216834,
                 32.22925109756904
                ],
                [
                 12.307689468309194,
                 16.354440737033944,
                 19.866919024341975,
                 18.961881959135834,
                 22.148736042911995,
                 34.95376396800526,
                 33.735480967890354,
                 54.064375830826215,
                 60.360142753307876,
                 33.76933470882262,
                 17.617265312376794
                ],
                [
                 3.636659744290777,
                 9.277205239813926,
                 16.067914986941364,
                 16.901248589237273,
                 25.296786757236422,
                 29.63512454911721,
                 26.403769200213354,
                 44.928459187060525,
                 38.328445542987794,
                 39.21676562247307,
                 18.4106085607539
                ],
                [
                 0.0,
                 2.942819665116311,
                 9.870484775130103,
                 14.479661289306893,
                 16.372092484118685,
                 17.666921769816955,
                 20.677824754585924,
                 25.42415052276541,
                 31.243568752989454,
                 21.795841876489956,
                 10.792396986522952
                ]
               ]
              ]
             }
            ],
            "label": "4",
            "method": "restyle"
           },
           {
            "args": [
             {
              "z": [
               [
                [
                 0.0,
                 0.0,
                 0.0,
                 0.0,
                 0.0,
                 0.0,
                 0.0,
                 0.0,
                 0.0,
                 0.0,
                 0.0
                ],
                [
                 0.0,
                 0.0,
                 0.0,
                 0.0,
                 0.0,
                 0.0,
                 0.0,
                 0.0,
                 0.0,
                 0.0,
                 0.0
                ],
                [
                 0.0,
                 0.0,
                 0.0,
                 0.0,
                 0.0,
                 0.0,
                 0.0,
                 0.0,
                 0.0,
                 0.0,
                 0.0
                ],
                [
                 0.0,
                 0.0,
                 0.0,
                 0.0,
                 0.0,
                 0.0,
                 0.0,
                 0.0,
                 0.0,
                 0.0,
                 0.0
                ],
                [
                 0.0,
                 0.0,
                 0.0,
                 0.0,
                 0.0,
                 0.0,
                 0.0,
                 0.0,
                 0.0,
                 0.0,
                 0.0
                ],
                [
                 0.0,
                 0.0,
                 0.0,
                 0.0,
                 0.0,
                 0.0,
                 0.0,
                 0.0,
                 0.0,
                 0.0,
                 0.0
                ],
                [
                 0.0,
                 0.0,
                 0.0,
                 0.0,
                 0.0,
                 0.0,
                 0.0,
                 0.0,
                 0.0,
                 0.0,
                 0.0
                ],
                [
                 0.0,
                 0.0,
                 0.0,
                 0.0,
                 0.0,
                 0.0,
                 0.0,
                 0.0,
                 0.0,
                 0.0,
                 0.0
                ],
                [
                 0.0,
                 0.0,
                 0.0,
                 0.0,
                 0.0,
                 0.0,
                 0.0,
                 0.0,
                 0.0,
                 0.0,
                 0.0
                ],
                [
                 0.0,
                 0.0,
                 0.0,
                 0.0,
                 0.0,
                 0.0,
                 0.0,
                 0.0,
                 0.0,
                 0.0,
                 0.0
                ],
                [
                 0.0,
                 0.0,
                 0.0,
                 0.0,
                 0.0,
                 0.0,
                 0.0,
                 0.0,
                 0.0,
                 0.0,
                 0.0
                ]
               ]
              ]
             }
            ],
            "label": "5",
            "method": "restyle"
           }
          ]
         }
        ]
       },
       "config": {
        "plotlyServerURL": "https://plot.ly"
       }
      },
      "text/html": [
       "<div>                            <div id=\"164ae4f8-68cd-4592-b7ef-c1b3cfa99fa3\" class=\"plotly-graph-div\" style=\"height:500px; width:500px;\"></div>            <script type=\"text/javascript\">                require([\"plotly\"], function(Plotly) {                    window.PLOTLYENV=window.PLOTLYENV || {};                                    if (document.getElementById(\"164ae4f8-68cd-4592-b7ef-c1b3cfa99fa3\")) {                    Plotly.newPlot(                        \"164ae4f8-68cd-4592-b7ef-c1b3cfa99fa3\",                        [{\"coloraxis\":\"coloraxis\",\"name\":\"0\",\"x\":[0,1,2,3,4,5,6,7,8,9,10],\"y\":[0,1,2,3,4,5,6,7,8,9,10],\"z\":[[0.0,0.0,0.0,0.0,0.0,0.0,0.0,0.0,0.0,0.0,0.0],[0.0,0.0,0.0,0.0,0.0,0.0,0.0,0.0,0.0,0.0,0.0],[0.0,0.0,0.0,0.0,0.0,0.0,0.0,0.0,0.0,0.0,0.0],[0.0,0.0,0.0,0.0,0.0,0.0,0.0,0.0,0.0,0.0,0.0],[0.0,0.0,0.0,0.0,0.0,0.0,0.0,0.0,0.0,0.0,0.0],[0.0,0.0,0.0,0.0,0.0,0.0,0.0,0.0,0.0,0.0,0.0],[0.0,0.0,0.0,0.0,0.0,0.0,0.0,0.0,0.0,0.0,0.0],[0.0,0.0,0.0,0.0,0.0,0.0,0.0,0.0,0.0,0.0,0.0],[0.0,0.0,0.0,0.0,0.0,0.0,0.0,0.0,0.0,0.0,0.0],[0.0,0.0,0.0,0.0,0.0,0.0,0.0,0.0,0.0,0.0,0.0],[0.0,0.0,0.0,0.0,0.0,0.0,0.0,0.0,0.0,0.0,0.0]],\"type\":\"heatmap\",\"xaxis\":\"x\",\"yaxis\":\"y\",\"hovertemplate\":\"Temperature: %{x}\\u003cbr\\u003eHumidity: %{y}\\u003cbr\\u003eValue: %{z}\\u003cextra\\u003e\\u003c\\u002fextra\\u003e\"}],                        {\"template\":{\"data\":{\"histogram2dcontour\":[{\"type\":\"histogram2dcontour\",\"colorbar\":{\"outlinewidth\":0,\"ticks\":\"\"},\"colorscale\":[[0.0,\"#0d0887\"],[0.1111111111111111,\"#46039f\"],[0.2222222222222222,\"#7201a8\"],[0.3333333333333333,\"#9c179e\"],[0.4444444444444444,\"#bd3786\"],[0.5555555555555556,\"#d8576b\"],[0.6666666666666666,\"#ed7953\"],[0.7777777777777778,\"#fb9f3a\"],[0.8888888888888888,\"#fdca26\"],[1.0,\"#f0f921\"]]}],\"choropleth\":[{\"type\":\"choropleth\",\"colorbar\":{\"outlinewidth\":0,\"ticks\":\"\"}}],\"histogram2d\":[{\"type\":\"histogram2d\",\"colorbar\":{\"outlinewidth\":0,\"ticks\":\"\"},\"colorscale\":[[0.0,\"#0d0887\"],[0.1111111111111111,\"#46039f\"],[0.2222222222222222,\"#7201a8\"],[0.3333333333333333,\"#9c179e\"],[0.4444444444444444,\"#bd3786\"],[0.5555555555555556,\"#d8576b\"],[0.6666666666666666,\"#ed7953\"],[0.7777777777777778,\"#fb9f3a\"],[0.8888888888888888,\"#fdca26\"],[1.0,\"#f0f921\"]]}],\"heatmap\":[{\"type\":\"heatmap\",\"colorbar\":{\"outlinewidth\":0,\"ticks\":\"\"},\"colorscale\":[[0.0,\"#0d0887\"],[0.1111111111111111,\"#46039f\"],[0.2222222222222222,\"#7201a8\"],[0.3333333333333333,\"#9c179e\"],[0.4444444444444444,\"#bd3786\"],[0.5555555555555556,\"#d8576b\"],[0.6666666666666666,\"#ed7953\"],[0.7777777777777778,\"#fb9f3a\"],[0.8888888888888888,\"#fdca26\"],[1.0,\"#f0f921\"]]}],\"heatmapgl\":[{\"type\":\"heatmapgl\",\"colorbar\":{\"outlinewidth\":0,\"ticks\":\"\"},\"colorscale\":[[0.0,\"#0d0887\"],[0.1111111111111111,\"#46039f\"],[0.2222222222222222,\"#7201a8\"],[0.3333333333333333,\"#9c179e\"],[0.4444444444444444,\"#bd3786\"],[0.5555555555555556,\"#d8576b\"],[0.6666666666666666,\"#ed7953\"],[0.7777777777777778,\"#fb9f3a\"],[0.8888888888888888,\"#fdca26\"],[1.0,\"#f0f921\"]]}],\"contourcarpet\":[{\"type\":\"contourcarpet\",\"colorbar\":{\"outlinewidth\":0,\"ticks\":\"\"}}],\"contour\":[{\"type\":\"contour\",\"colorbar\":{\"outlinewidth\":0,\"ticks\":\"\"},\"colorscale\":[[0.0,\"#0d0887\"],[0.1111111111111111,\"#46039f\"],[0.2222222222222222,\"#7201a8\"],[0.3333333333333333,\"#9c179e\"],[0.4444444444444444,\"#bd3786\"],[0.5555555555555556,\"#d8576b\"],[0.6666666666666666,\"#ed7953\"],[0.7777777777777778,\"#fb9f3a\"],[0.8888888888888888,\"#fdca26\"],[1.0,\"#f0f921\"]]}],\"surface\":[{\"type\":\"surface\",\"colorbar\":{\"outlinewidth\":0,\"ticks\":\"\"},\"colorscale\":[[0.0,\"#0d0887\"],[0.1111111111111111,\"#46039f\"],[0.2222222222222222,\"#7201a8\"],[0.3333333333333333,\"#9c179e\"],[0.4444444444444444,\"#bd3786\"],[0.5555555555555556,\"#d8576b\"],[0.6666666666666666,\"#ed7953\"],[0.7777777777777778,\"#fb9f3a\"],[0.8888888888888888,\"#fdca26\"],[1.0,\"#f0f921\"]]}],\"mesh3d\":[{\"type\":\"mesh3d\",\"colorbar\":{\"outlinewidth\":0,\"ticks\":\"\"}}],\"scatter\":[{\"fillpattern\":{\"fillmode\":\"overlay\",\"size\":10,\"solidity\":0.2},\"type\":\"scatter\"}],\"parcoords\":[{\"type\":\"parcoords\",\"line\":{\"colorbar\":{\"outlinewidth\":0,\"ticks\":\"\"}}}],\"scatterpolargl\":[{\"type\":\"scatterpolargl\",\"marker\":{\"colorbar\":{\"outlinewidth\":0,\"ticks\":\"\"}}}],\"bar\":[{\"error_x\":{\"color\":\"#2a3f5f\"},\"error_y\":{\"color\":\"#2a3f5f\"},\"marker\":{\"line\":{\"color\":\"#E5ECF6\",\"width\":0.5},\"pattern\":{\"fillmode\":\"overlay\",\"size\":10,\"solidity\":0.2}},\"type\":\"bar\"}],\"scattergeo\":[{\"type\":\"scattergeo\",\"marker\":{\"colorbar\":{\"outlinewidth\":0,\"ticks\":\"\"}}}],\"scatterpolar\":[{\"type\":\"scatterpolar\",\"marker\":{\"colorbar\":{\"outlinewidth\":0,\"ticks\":\"\"}}}],\"histogram\":[{\"marker\":{\"pattern\":{\"fillmode\":\"overlay\",\"size\":10,\"solidity\":0.2}},\"type\":\"histogram\"}],\"scattergl\":[{\"type\":\"scattergl\",\"marker\":{\"colorbar\":{\"outlinewidth\":0,\"ticks\":\"\"}}}],\"scatter3d\":[{\"type\":\"scatter3d\",\"line\":{\"colorbar\":{\"outlinewidth\":0,\"ticks\":\"\"}},\"marker\":{\"colorbar\":{\"outlinewidth\":0,\"ticks\":\"\"}}}],\"scattermapbox\":[{\"type\":\"scattermapbox\",\"marker\":{\"colorbar\":{\"outlinewidth\":0,\"ticks\":\"\"}}}],\"scatterternary\":[{\"type\":\"scatterternary\",\"marker\":{\"colorbar\":{\"outlinewidth\":0,\"ticks\":\"\"}}}],\"scattercarpet\":[{\"type\":\"scattercarpet\",\"marker\":{\"colorbar\":{\"outlinewidth\":0,\"ticks\":\"\"}}}],\"carpet\":[{\"aaxis\":{\"endlinecolor\":\"#2a3f5f\",\"gridcolor\":\"white\",\"linecolor\":\"white\",\"minorgridcolor\":\"white\",\"startlinecolor\":\"#2a3f5f\"},\"baxis\":{\"endlinecolor\":\"#2a3f5f\",\"gridcolor\":\"white\",\"linecolor\":\"white\",\"minorgridcolor\":\"white\",\"startlinecolor\":\"#2a3f5f\"},\"type\":\"carpet\"}],\"table\":[{\"cells\":{\"fill\":{\"color\":\"#EBF0F8\"},\"line\":{\"color\":\"white\"}},\"header\":{\"fill\":{\"color\":\"#C8D4E3\"},\"line\":{\"color\":\"white\"}},\"type\":\"table\"}],\"barpolar\":[{\"marker\":{\"line\":{\"color\":\"#E5ECF6\",\"width\":0.5},\"pattern\":{\"fillmode\":\"overlay\",\"size\":10,\"solidity\":0.2}},\"type\":\"barpolar\"}],\"pie\":[{\"automargin\":true,\"type\":\"pie\"}]},\"layout\":{\"autotypenumbers\":\"strict\",\"colorway\":[\"#636efa\",\"#EF553B\",\"#00cc96\",\"#ab63fa\",\"#FFA15A\",\"#19d3f3\",\"#FF6692\",\"#B6E880\",\"#FF97FF\",\"#FECB52\"],\"font\":{\"color\":\"#2a3f5f\"},\"hovermode\":\"closest\",\"hoverlabel\":{\"align\":\"left\"},\"paper_bgcolor\":\"white\",\"plot_bgcolor\":\"#E5ECF6\",\"polar\":{\"bgcolor\":\"#E5ECF6\",\"angularaxis\":{\"gridcolor\":\"white\",\"linecolor\":\"white\",\"ticks\":\"\"},\"radialaxis\":{\"gridcolor\":\"white\",\"linecolor\":\"white\",\"ticks\":\"\"}},\"ternary\":{\"bgcolor\":\"#E5ECF6\",\"aaxis\":{\"gridcolor\":\"white\",\"linecolor\":\"white\",\"ticks\":\"\"},\"baxis\":{\"gridcolor\":\"white\",\"linecolor\":\"white\",\"ticks\":\"\"},\"caxis\":{\"gridcolor\":\"white\",\"linecolor\":\"white\",\"ticks\":\"\"}},\"coloraxis\":{\"colorbar\":{\"outlinewidth\":0,\"ticks\":\"\"}},\"colorscale\":{\"sequential\":[[0.0,\"#0d0887\"],[0.1111111111111111,\"#46039f\"],[0.2222222222222222,\"#7201a8\"],[0.3333333333333333,\"#9c179e\"],[0.4444444444444444,\"#bd3786\"],[0.5555555555555556,\"#d8576b\"],[0.6666666666666666,\"#ed7953\"],[0.7777777777777778,\"#fb9f3a\"],[0.8888888888888888,\"#fdca26\"],[1.0,\"#f0f921\"]],\"sequentialminus\":[[0.0,\"#0d0887\"],[0.1111111111111111,\"#46039f\"],[0.2222222222222222,\"#7201a8\"],[0.3333333333333333,\"#9c179e\"],[0.4444444444444444,\"#bd3786\"],[0.5555555555555556,\"#d8576b\"],[0.6666666666666666,\"#ed7953\"],[0.7777777777777778,\"#fb9f3a\"],[0.8888888888888888,\"#fdca26\"],[1.0,\"#f0f921\"]],\"diverging\":[[0,\"#8e0152\"],[0.1,\"#c51b7d\"],[0.2,\"#de77ae\"],[0.3,\"#f1b6da\"],[0.4,\"#fde0ef\"],[0.5,\"#f7f7f7\"],[0.6,\"#e6f5d0\"],[0.7,\"#b8e186\"],[0.8,\"#7fbc41\"],[0.9,\"#4d9221\"],[1,\"#276419\"]]},\"xaxis\":{\"gridcolor\":\"white\",\"linecolor\":\"white\",\"ticks\":\"\",\"title\":{\"standoff\":15},\"zerolinecolor\":\"white\",\"automargin\":true,\"zerolinewidth\":2},\"yaxis\":{\"gridcolor\":\"white\",\"linecolor\":\"white\",\"ticks\":\"\",\"title\":{\"standoff\":15},\"zerolinecolor\":\"white\",\"automargin\":true,\"zerolinewidth\":2},\"scene\":{\"xaxis\":{\"backgroundcolor\":\"#E5ECF6\",\"gridcolor\":\"white\",\"linecolor\":\"white\",\"showbackground\":true,\"ticks\":\"\",\"zerolinecolor\":\"white\",\"gridwidth\":2},\"yaxis\":{\"backgroundcolor\":\"#E5ECF6\",\"gridcolor\":\"white\",\"linecolor\":\"white\",\"showbackground\":true,\"ticks\":\"\",\"zerolinecolor\":\"white\",\"gridwidth\":2},\"zaxis\":{\"backgroundcolor\":\"#E5ECF6\",\"gridcolor\":\"white\",\"linecolor\":\"white\",\"showbackground\":true,\"ticks\":\"\",\"zerolinecolor\":\"white\",\"gridwidth\":2}},\"shapedefaults\":{\"line\":{\"color\":\"#2a3f5f\"}},\"annotationdefaults\":{\"arrowcolor\":\"#2a3f5f\",\"arrowhead\":0,\"arrowwidth\":1},\"geo\":{\"bgcolor\":\"white\",\"landcolor\":\"#E5ECF6\",\"subunitcolor\":\"white\",\"showland\":true,\"showlakes\":true,\"lakecolor\":\"white\"},\"title\":{\"x\":0.05},\"mapbox\":{\"style\":\"light\"}}},\"xaxis\":{\"anchor\":\"y\",\"domain\":[0.0,1.0],\"scaleanchor\":\"y\",\"constrain\":\"domain\",\"title\":{\"text\":\"Temperature\"},\"tickmode\":\"array\",\"tickvals\":[0,1,2,3,4,5,6,7,8,9,10],\"ticktext\":[\"0\",\"1\",\"2\",\"3\",\"4\",\"5\",\"6\",\"7\",\"8\",\"9\",\"10\"],\"scaleratio\":1},\"yaxis\":{\"anchor\":\"x\",\"domain\":[0.0,1.0],\"autorange\":\"reversed\",\"constrain\":\"domain\",\"title\":{\"text\":\"Humidity\"},\"tickmode\":\"array\",\"tickvals\":[0,1,2,3,4,5,6,7,8,9,10],\"ticktext\":[\"10\",\"9\",\"8\",\"7\",\"6\",\"5\",\"4\",\"3\",\"2\",\"1\",\"0\"]},\"coloraxis\":{\"colorbar\":{\"title\":{\"text\":\"Value\"},\"x\":1},\"colorscale\":[[0.0,\"rgba(57,59,121,1.0)\"],[0.05263157894736842,\"rgba(82,84,163,1.0)\"],[0.10526315789473684,\"rgba(107,110,207,1.0)\"],[0.15789473684210525,\"rgba(156,158,222,1.0)\"],[0.21052631578947367,\"rgba(99,121,57,1.0)\"],[0.2631578947368421,\"rgba(140,162,82,1.0)\"],[0.3157894736842105,\"rgba(181,207,107,1.0)\"],[0.3684210526315789,\"rgba(206,219,156,1.0)\"],[0.42105263157894735,\"rgba(140,109,49,1.0)\"],[0.47368421052631576,\"rgba(189,158,57,1.0)\"],[0.5263157894736842,\"rgba(231,186,82,1.0)\"],[0.5789473684210527,\"rgba(231,203,148,1.0)\"],[0.631578947368421,\"rgba(132,60,57,1.0)\"],[0.6842105263157895,\"rgba(173,73,74,1.0)\"],[0.7368421052631579,\"rgba(214,97,107,1.0)\"],[0.7894736842105263,\"rgba(231,150,156,1.0)\"],[0.8421052631578947,\"rgba(123,65,115,1.0)\"],[0.8947368421052632,\"rgba(165,81,148,1.0)\"],[0.9473684210526315,\"rgba(206,109,189,1.0)\"],[1.0,\"rgba(222,158,214,1.0)\"]],\"cmin\":0,\"cmax\":100},\"title\":{\"text\":\"State value function GPI-Sarsa\",\"x\":0.5,\"y\":0.85},\"shapes\":[{\"line\":{\"color\":\"black\",\"width\":2},\"type\":\"line\",\"x0\":-0.5,\"x1\":-0.5,\"y0\":-0.5,\"y1\":10.5},{\"line\":{\"color\":\"black\",\"width\":2},\"type\":\"line\",\"x0\":-0.5,\"x1\":10.5,\"y0\":-0.5,\"y1\":-0.5},{\"line\":{\"color\":\"black\",\"width\":2},\"type\":\"line\",\"x0\":0.5,\"x1\":0.5,\"y0\":-0.5,\"y1\":10.5},{\"line\":{\"color\":\"black\",\"width\":2},\"type\":\"line\",\"x0\":-0.5,\"x1\":10.5,\"y0\":0.5,\"y1\":0.5},{\"line\":{\"color\":\"black\",\"width\":2},\"type\":\"line\",\"x0\":1.5,\"x1\":1.5,\"y0\":-0.5,\"y1\":10.5},{\"line\":{\"color\":\"black\",\"width\":2},\"type\":\"line\",\"x0\":-0.5,\"x1\":10.5,\"y0\":1.5,\"y1\":1.5},{\"line\":{\"color\":\"black\",\"width\":2},\"type\":\"line\",\"x0\":2.5,\"x1\":2.5,\"y0\":-0.5,\"y1\":10.5},{\"line\":{\"color\":\"black\",\"width\":2},\"type\":\"line\",\"x0\":-0.5,\"x1\":10.5,\"y0\":2.5,\"y1\":2.5},{\"line\":{\"color\":\"black\",\"width\":2},\"type\":\"line\",\"x0\":3.5,\"x1\":3.5,\"y0\":-0.5,\"y1\":10.5},{\"line\":{\"color\":\"black\",\"width\":2},\"type\":\"line\",\"x0\":-0.5,\"x1\":10.5,\"y0\":3.5,\"y1\":3.5},{\"line\":{\"color\":\"black\",\"width\":2},\"type\":\"line\",\"x0\":4.5,\"x1\":4.5,\"y0\":-0.5,\"y1\":10.5},{\"line\":{\"color\":\"black\",\"width\":2},\"type\":\"line\",\"x0\":-0.5,\"x1\":10.5,\"y0\":4.5,\"y1\":4.5},{\"line\":{\"color\":\"black\",\"width\":2},\"type\":\"line\",\"x0\":5.5,\"x1\":5.5,\"y0\":-0.5,\"y1\":10.5},{\"line\":{\"color\":\"black\",\"width\":2},\"type\":\"line\",\"x0\":-0.5,\"x1\":10.5,\"y0\":5.5,\"y1\":5.5},{\"line\":{\"color\":\"black\",\"width\":2},\"type\":\"line\",\"x0\":6.5,\"x1\":6.5,\"y0\":-0.5,\"y1\":10.5},{\"line\":{\"color\":\"black\",\"width\":2},\"type\":\"line\",\"x0\":-0.5,\"x1\":10.5,\"y0\":6.5,\"y1\":6.5},{\"line\":{\"color\":\"black\",\"width\":2},\"type\":\"line\",\"x0\":7.5,\"x1\":7.5,\"y0\":-0.5,\"y1\":10.5},{\"line\":{\"color\":\"black\",\"width\":2},\"type\":\"line\",\"x0\":-0.5,\"x1\":10.5,\"y0\":7.5,\"y1\":7.5},{\"line\":{\"color\":\"black\",\"width\":2},\"type\":\"line\",\"x0\":8.5,\"x1\":8.5,\"y0\":-0.5,\"y1\":10.5},{\"line\":{\"color\":\"black\",\"width\":2},\"type\":\"line\",\"x0\":-0.5,\"x1\":10.5,\"y0\":8.5,\"y1\":8.5},{\"line\":{\"color\":\"black\",\"width\":2},\"type\":\"line\",\"x0\":9.5,\"x1\":9.5,\"y0\":-0.5,\"y1\":10.5},{\"line\":{\"color\":\"black\",\"width\":2},\"type\":\"line\",\"x0\":-0.5,\"x1\":10.5,\"y0\":9.5,\"y1\":9.5}],\"width\":500,\"height\":500,\"sliders\":[{\"currentvalue\":{\"prefix\":\"Growth: \"},\"pad\":{\"t\":15},\"steps\":[{\"args\":[{\"z\":[[[0.0,0.0,0.0,0.0,0.0,0.0,0.0,0.0,0.0,0.0,0.0],[0.0,0.0,0.0,0.0,0.0,0.0,0.0,0.0,0.0,0.0,0.0],[0.0,0.0,0.0,0.0,0.0,0.0,0.0,0.0,0.0,0.0,0.0],[0.0,0.0,0.0,0.0,0.0,0.0,0.0,0.0,0.0,0.0,0.0],[0.0,0.0,0.0,0.0,0.0,0.0,0.0,0.0,0.0,0.0,0.0],[0.0,0.0,0.0,0.0,0.0,0.0,0.0,0.0,0.0,0.0,0.0],[0.0,0.0,0.0,0.0,0.0,0.0,0.0,0.0,0.0,0.0,0.0],[0.0,0.0,0.0,0.0,0.0,0.0,0.0,0.0,0.0,0.0,0.0],[0.0,0.0,0.0,0.0,0.0,0.0,0.0,0.0,0.0,0.0,0.0],[0.0,0.0,0.0,0.0,0.0,0.0,0.0,0.0,0.0,0.0,0.0],[0.0,0.0,0.0,0.0,0.0,0.0,0.0,0.0,0.0,0.0,0.0]]]}],\"label\":\"0\",\"method\":\"restyle\"},{\"args\":[{\"z\":[[[0.0,0.0,0.0,0.0,0.0,0.0,0.0,0.0,0.0,0.0,0.0],[0.0,2.936066956281205,3.348135267838686,6.204346002218845,2.3221311174307107,7.861104713851041,7.499362851194579,7.970277935568948,4.690380428521513,2.1484669958022846,0.0],[0.0,20.649394278203467,22.510941303962742,21.50457535846039,22.982874197943353,19.32661991220738,23.576083049805966,21.66104167181415,17.791959725746196,7.38702081283968,0.0],[0.0,24.156096800274533,29.83791651544596,32.980492742049584,37.05562058579328,35.02911219243523,38.37431706195275,34.78140257169077,27.821751252697993,6.489088039590031,0.0],[0.0,32.877874255679174,37.481527664883004,41.62738378064831,45.76865871376294,50.99479876376942,46.228552488420846,48.03118592471719,42.53155078931805,12.728023167864324,0.0],[0.0,31.706914921939656,35.913492527269334,42.66220244115332,51.96674677747635,63.25603236140224,58.17063056627384,56.13998125486449,47.27410879194829,12.890794786764355,0.0],[0.0,26.74943711288096,32.1473469498743,37.244428600513274,46.56754559670146,56.30302552603332,47.06311067366774,60.99138151309073,44.33493196804993,17.08595150150394,0.0],[0.0,20.910747383573018,26.455602565850363,31.097845001937696,35.71989329156992,45.0017774671133,52.82610385128106,53.080843815081735,48.84438521986662,24.672507252629334,0.0],[0.0,9.646029020778766,17.42527041542683,25.400176656540037,30.740325240744628,34.62014185398745,44.692509250725074,45.3550706494415,44.63475794195944,21.56042427107097,0.0],[0.0,0.0,5.233320836421869,16.684234993013533,24.687244339223323,29.274384757173628,36.140729558505434,39.52957539951444,38.83769769704348,11.68577087828319,0.0],[0.0,0.0,0.0,0.0,0.0,0.0,0.0,0.0,0.0,0.0,0.0]]]}],\"label\":\"1\",\"method\":\"restyle\"},{\"args\":[{\"z\":[[[1.0760577111857659,0.6229724824103069,0.5012332415614383,0.837046146605083,1.6060781716386305,1.1368338076707374,1.5459224616728173,0.9422643407605724,1.7606256102079096,1.3206291195926159,0.14357672287164353],[7.792560480606053,18.794725784328342,14.21104619242517,22.403821085742376,17.946274814211247,15.843367431805216,12.977554757150042,21.330947803874462,9.075839686695355,3.730948079936919,1.9836049683219579],[16.00606555044293,45.06421524076371,49.814971565860894,55.329077498952735,60.29814054298667,62.40617725072601,62.26487421609543,59.530665285022735,43.815992847937615,18.197032532713557,1.8367031245275025],[22.947058387189237,45.75204982808249,54.86976813536879,64.62675515643878,61.731528035148784,72.10389715191312,78.42926026979268,71.20534994016816,45.94705784451112,15.34898415925306,2.7604541647998087],[24.43113086616028,40.23422831223756,47.33680915170068,57.69013209945871,54.42370973485908,70.99339431539795,59.195438756815854,66.44019748151963,46.579410477388706,28.092567114917184,3.3530396196866366],[21.529035700830015,33.928616247510796,40.96410197218896,47.48644794105404,58.41637292463534,67.28558650979859,75.67240450779472,62.962607660154326,43.63784248287054,31.711243137539036,6.043303081792328],[20.639443652754522,27.045928646264507,31.853714987464418,39.06504566403797,46.161374850013615,58.577274723742576,65.29021265862339,59.14293534744179,48.46395295075129,18.732577772923584,6.838041551587536],[15.851521209692839,18.75405188296013,27.334403139853613,32.33427547211968,37.93274539992259,35.915202347817214,54.57823401024811,53.07502833512723,47.47298816324088,33.50884278925392,9.616131708296406],[6.296712926095666,11.669731840117137,21.148131912688914,25.392816821242413,30.97351803805891,36.02580877893619,41.45971397700732,45.23947606839718,42.173534554843656,20.97431988724783,7.394326959229716],[0.0,4.88712330883354,11.389520928429375,18.587370161389074,25.827163839362893,29.663984213211517,36.010322762699936,38.93998179992899,35.04915449825679,27.188283986348655,9.774479432864705],[0.0,0.0,2.375323352460932,7.9148455548655905,17.996351403896995,22.485499306120285,27.203972962600954,33.08415674006333,32.19985999620364,19.303664816024032,6.792931821595949]]]}],\"label\":\"2\",\"method\":\"restyle\"},{\"args\":[{\"z\":[[[3.525558694229166,7.791029472858209,4.350311236707123,4.4762601244340114,4.653378012872098,8.755454272128567,4.672260663427244,5.847828132155141,1.1748102546583512,1.5737728838661513,1.0558253418765942],[20.096300130950148,20.974428121803925,20.6377424970407,22.917556054010973,36.336885558268925,32.787535771701236,28.445168506582046,23.690495095334075,29.67235704047075,16.653201056502382,2.338642911911764],[34.84031376685021,44.24097322709717,51.38257311029841,56.18155852465571,56.177948083845955,59.502205650712256,57.69300817881455,61.00402528235206,68.95139571720244,34.97156109732248,3.4664466100291715],[38.76170133313952,46.12574179321351,52.88205124471838,64.53822363807299,73.54295921052979,85.71362819156141,88.4221761436168,88.85637619409908,88.68601975482987,45.059323242578515,3.7279316123163735],[31.364732215502357,40.630893559144845,39.90840744863917,56.51805601159673,67.19731003506168,78.41467145845041,85.9930783203275,81.59221474069454,87.21391940288862,37.475366999601974,6.291744324469561],[26.409823551098288,33.96117933475243,38.85297910508504,45.766618912622505,57.393369967874534,65.85729842193359,79.52085902482222,71.92496646024148,74.79175715670061,45.089699432267416,10.231349213194333],[21.04109551166379,27.360456720171754,31.932600733250954,39.83517525593354,47.69725449289351,55.89591725204552,66.54274350771456,79.43054367181796,86.0315629046634,45.094915082703295,6.95525529733413],[13.063236323114163,22.623783407751727,27.057527384398163,33.326670648026756,40.30922570895763,47.4922019366257,55.25700125028211,68.03307850710621,73.02016289312978,40.52380887438954,5.9096213414367025],[9.11914766753851,16.717032099064873,19.609147889451368,27.024132027059636,30.240744625902696,36.68529334039242,46.327518882013834,56.76941205176186,61.53304245774361,39.086211518335844,5.098292167949764],[3.004935032195983,7.406600117055224,15.840218959562039,19.833648673873018,25.809342608586398,28.30749965955318,34.48604936208457,39.613058117623915,35.68494206839116,26.588268508038833,5.693876816736579],[0.0,3.0387340563557292,7.429296321174497,14.036782693089844,18.675238683590067,24.28337169824617,27.465714134774966,32.44199614019445,32.048607539476976,26.31407371594411,10.46101623366687]]]}],\"label\":\"3\",\"method\":\"restyle\"},{\"args\":[{\"z\":[[[5.3574202333722605,10.195128438859115,6.9198013838118655,17.463321409617514,18.285607516587696,35.64559069992934,27.576451765799803,19.311056005327792,14.551556741897604,22.359105281740067,12.391391524175617],[22.596173250646444,24.13133706724923,22.26257394625159,52.196695464183335,66.74980731898172,63.3643232640143,76.27273050425045,70.53396188212704,72.56011840292976,70.21772001447366,31.217388070016497],[30.775445007772706,27.947153588645463,54.316764818777656,66.8486135843231,78.78268776417964,86.2472892509405,99.99999999999994,97.4365185527665,99.99999988052161,99.99999911553293,39.36367156931022],[38.32440848644244,38.277981970792744,53.296128289580615,49.57656973841426,76.0374873239934,88.43359204602598,99.99999999999994,99.99999999999994,99.99999999999994,99.99999865193254,27.374739197187044],[17.939212100581358,33.41431785920693,47.813473902379435,57.8475175679627,67.35892922589859,83.84346372151492,95.14317233387965,97.17743856949626,99.9999999999992,90.3412425863367,41.863618100795634],[28.683311239676733,23.328555642817072,40.686522546639935,45.956720844316685,55.2243463791638,68.28352132848616,80.36568969766405,95.84393227580665,99.99999999999994,99.99999999999994,32.6902951936658],[21.178021270194233,18.009202781171016,34.38336072766177,40.25196265434908,45.12648127192816,55.52141096724435,64.19760811024142,77.53691187966673,86.84230237130588,82.33463764746939,30.80689402509853],[15.248424780784719,11.98872881399457,19.136903941883986,32.43310363345147,29.511528189492925,44.571387866525114,50.90197778047333,64.93241628051354,53.09126284108253,75.48983116216834,32.22925109756904],[12.307689468309194,16.354440737033944,19.866919024341975,18.961881959135834,22.148736042911995,34.95376396800526,33.735480967890354,54.064375830826215,60.360142753307876,33.76933470882262,17.617265312376794],[3.636659744290777,9.277205239813926,16.067914986941364,16.901248589237273,25.296786757236422,29.63512454911721,26.403769200213354,44.928459187060525,38.328445542987794,39.21676562247307,18.4106085607539],[0.0,2.942819665116311,9.870484775130103,14.479661289306893,16.372092484118685,17.666921769816955,20.677824754585924,25.42415052276541,31.243568752989454,21.795841876489956,10.792396986522952]]]}],\"label\":\"4\",\"method\":\"restyle\"},{\"args\":[{\"z\":[[[0.0,0.0,0.0,0.0,0.0,0.0,0.0,0.0,0.0,0.0,0.0],[0.0,0.0,0.0,0.0,0.0,0.0,0.0,0.0,0.0,0.0,0.0],[0.0,0.0,0.0,0.0,0.0,0.0,0.0,0.0,0.0,0.0,0.0],[0.0,0.0,0.0,0.0,0.0,0.0,0.0,0.0,0.0,0.0,0.0],[0.0,0.0,0.0,0.0,0.0,0.0,0.0,0.0,0.0,0.0,0.0],[0.0,0.0,0.0,0.0,0.0,0.0,0.0,0.0,0.0,0.0,0.0],[0.0,0.0,0.0,0.0,0.0,0.0,0.0,0.0,0.0,0.0,0.0],[0.0,0.0,0.0,0.0,0.0,0.0,0.0,0.0,0.0,0.0,0.0],[0.0,0.0,0.0,0.0,0.0,0.0,0.0,0.0,0.0,0.0,0.0],[0.0,0.0,0.0,0.0,0.0,0.0,0.0,0.0,0.0,0.0,0.0],[0.0,0.0,0.0,0.0,0.0,0.0,0.0,0.0,0.0,0.0,0.0]]]}],\"label\":\"5\",\"method\":\"restyle\"}]}]},                        {\"responsive\": true}                    ).then(function(){\n",
       "                            \n",
       "var gd = document.getElementById('164ae4f8-68cd-4592-b7ef-c1b3cfa99fa3');\n",
       "var x = new MutationObserver(function (mutations, observer) {{\n",
       "        var display = window.getComputedStyle(gd).display;\n",
       "        if (!display || display === 'none') {{\n",
       "            console.log([gd, 'removed!']);\n",
       "            Plotly.purge(gd);\n",
       "            observer.disconnect();\n",
       "        }}\n",
       "}});\n",
       "\n",
       "// Listen for the removal of the full notebook cells\n",
       "var notebookContainer = gd.closest('#notebook-container');\n",
       "if (notebookContainer) {{\n",
       "    x.observe(notebookContainer, {childList: true});\n",
       "}}\n",
       "\n",
       "// Listen for the clearing of the current output cell\n",
       "var outputEl = gd.closest('.output');\n",
       "if (outputEl) {{\n",
       "    x.observe(outputEl, {childList: true});\n",
       "}}\n",
       "\n",
       "                        })                };                });            </script>        </div>"
      ]
     },
     "metadata": {},
     "output_type": "display_data"
    }
   ],
   "execution_count": 65
  },
  {
   "metadata": {
    "ExecuteTime": {
     "end_time": "2025-01-11T14:11:49.562903300Z",
     "start_time": "2025-01-10T15:47:19.541580Z"
    }
   },
   "cell_type": "code",
   "source": "plot_policy_dyn(policy_sarsa,1, 4)",
   "id": "6ae4be844c2bdaea",
   "outputs": [
    {
     "data": {
      "application/vnd.plotly.v1+json": {
       "data": [
        {
         "coloraxis": "coloraxis",
         "name": "0",
         "x": [
          0,
          1,
          2,
          3,
          4,
          5,
          6,
          7,
          8,
          9,
          10
         ],
         "y": [
          0,
          1,
          2,
          3,
          4,
          5,
          6,
          7,
          8,
          9,
          10
         ],
         "z": [
          [
           0,
           0,
           0,
           0,
           0,
           0,
           0,
           0,
           0,
           0,
           0
          ],
          [
           0,
           0,
           0,
           0,
           0,
           0,
           0,
           0,
           0,
           0,
           0
          ],
          [
           0,
           0,
           0,
           0,
           0,
           0,
           0,
           0,
           0,
           0,
           0
          ],
          [
           0,
           0,
           0,
           0,
           0,
           0,
           0,
           0,
           0,
           0,
           0
          ],
          [
           0,
           0,
           0,
           0,
           0,
           0,
           0,
           0,
           0,
           0,
           0
          ],
          [
           0,
           0,
           0,
           0,
           0,
           0,
           0,
           0,
           0,
           0,
           0
          ],
          [
           0,
           0,
           0,
           0,
           0,
           0,
           0,
           0,
           0,
           0,
           0
          ],
          [
           0,
           0,
           0,
           0,
           0,
           0,
           0,
           0,
           0,
           0,
           0
          ],
          [
           0,
           0,
           0,
           0,
           0,
           0,
           0,
           0,
           0,
           0,
           0
          ],
          [
           0,
           0,
           0,
           0,
           0,
           0,
           0,
           0,
           0,
           0,
           0
          ],
          [
           0,
           0,
           0,
           0,
           0,
           0,
           0,
           0,
           0,
           0,
           0
          ]
         ],
         "type": "heatmap",
         "xaxis": "x",
         "yaxis": "y",
         "hovertemplate": "Temperature: %{x}<br>Humidity: %{y}<br>Value: %{z}<extra></extra>"
        }
       ],
       "layout": {
        "template": {
         "data": {
          "histogram2dcontour": [
           {
            "type": "histogram2dcontour",
            "colorbar": {
             "outlinewidth": 0,
             "ticks": ""
            },
            "colorscale": [
             [
              0.0,
              "#0d0887"
             ],
             [
              0.1111111111111111,
              "#46039f"
             ],
             [
              0.2222222222222222,
              "#7201a8"
             ],
             [
              0.3333333333333333,
              "#9c179e"
             ],
             [
              0.4444444444444444,
              "#bd3786"
             ],
             [
              0.5555555555555556,
              "#d8576b"
             ],
             [
              0.6666666666666666,
              "#ed7953"
             ],
             [
              0.7777777777777778,
              "#fb9f3a"
             ],
             [
              0.8888888888888888,
              "#fdca26"
             ],
             [
              1.0,
              "#f0f921"
             ]
            ]
           }
          ],
          "choropleth": [
           {
            "type": "choropleth",
            "colorbar": {
             "outlinewidth": 0,
             "ticks": ""
            }
           }
          ],
          "histogram2d": [
           {
            "type": "histogram2d",
            "colorbar": {
             "outlinewidth": 0,
             "ticks": ""
            },
            "colorscale": [
             [
              0.0,
              "#0d0887"
             ],
             [
              0.1111111111111111,
              "#46039f"
             ],
             [
              0.2222222222222222,
              "#7201a8"
             ],
             [
              0.3333333333333333,
              "#9c179e"
             ],
             [
              0.4444444444444444,
              "#bd3786"
             ],
             [
              0.5555555555555556,
              "#d8576b"
             ],
             [
              0.6666666666666666,
              "#ed7953"
             ],
             [
              0.7777777777777778,
              "#fb9f3a"
             ],
             [
              0.8888888888888888,
              "#fdca26"
             ],
             [
              1.0,
              "#f0f921"
             ]
            ]
           }
          ],
          "heatmap": [
           {
            "type": "heatmap",
            "colorbar": {
             "outlinewidth": 0,
             "ticks": ""
            },
            "colorscale": [
             [
              0.0,
              "#0d0887"
             ],
             [
              0.1111111111111111,
              "#46039f"
             ],
             [
              0.2222222222222222,
              "#7201a8"
             ],
             [
              0.3333333333333333,
              "#9c179e"
             ],
             [
              0.4444444444444444,
              "#bd3786"
             ],
             [
              0.5555555555555556,
              "#d8576b"
             ],
             [
              0.6666666666666666,
              "#ed7953"
             ],
             [
              0.7777777777777778,
              "#fb9f3a"
             ],
             [
              0.8888888888888888,
              "#fdca26"
             ],
             [
              1.0,
              "#f0f921"
             ]
            ]
           }
          ],
          "heatmapgl": [
           {
            "type": "heatmapgl",
            "colorbar": {
             "outlinewidth": 0,
             "ticks": ""
            },
            "colorscale": [
             [
              0.0,
              "#0d0887"
             ],
             [
              0.1111111111111111,
              "#46039f"
             ],
             [
              0.2222222222222222,
              "#7201a8"
             ],
             [
              0.3333333333333333,
              "#9c179e"
             ],
             [
              0.4444444444444444,
              "#bd3786"
             ],
             [
              0.5555555555555556,
              "#d8576b"
             ],
             [
              0.6666666666666666,
              "#ed7953"
             ],
             [
              0.7777777777777778,
              "#fb9f3a"
             ],
             [
              0.8888888888888888,
              "#fdca26"
             ],
             [
              1.0,
              "#f0f921"
             ]
            ]
           }
          ],
          "contourcarpet": [
           {
            "type": "contourcarpet",
            "colorbar": {
             "outlinewidth": 0,
             "ticks": ""
            }
           }
          ],
          "contour": [
           {
            "type": "contour",
            "colorbar": {
             "outlinewidth": 0,
             "ticks": ""
            },
            "colorscale": [
             [
              0.0,
              "#0d0887"
             ],
             [
              0.1111111111111111,
              "#46039f"
             ],
             [
              0.2222222222222222,
              "#7201a8"
             ],
             [
              0.3333333333333333,
              "#9c179e"
             ],
             [
              0.4444444444444444,
              "#bd3786"
             ],
             [
              0.5555555555555556,
              "#d8576b"
             ],
             [
              0.6666666666666666,
              "#ed7953"
             ],
             [
              0.7777777777777778,
              "#fb9f3a"
             ],
             [
              0.8888888888888888,
              "#fdca26"
             ],
             [
              1.0,
              "#f0f921"
             ]
            ]
           }
          ],
          "surface": [
           {
            "type": "surface",
            "colorbar": {
             "outlinewidth": 0,
             "ticks": ""
            },
            "colorscale": [
             [
              0.0,
              "#0d0887"
             ],
             [
              0.1111111111111111,
              "#46039f"
             ],
             [
              0.2222222222222222,
              "#7201a8"
             ],
             [
              0.3333333333333333,
              "#9c179e"
             ],
             [
              0.4444444444444444,
              "#bd3786"
             ],
             [
              0.5555555555555556,
              "#d8576b"
             ],
             [
              0.6666666666666666,
              "#ed7953"
             ],
             [
              0.7777777777777778,
              "#fb9f3a"
             ],
             [
              0.8888888888888888,
              "#fdca26"
             ],
             [
              1.0,
              "#f0f921"
             ]
            ]
           }
          ],
          "mesh3d": [
           {
            "type": "mesh3d",
            "colorbar": {
             "outlinewidth": 0,
             "ticks": ""
            }
           }
          ],
          "scatter": [
           {
            "fillpattern": {
             "fillmode": "overlay",
             "size": 10,
             "solidity": 0.2
            },
            "type": "scatter"
           }
          ],
          "parcoords": [
           {
            "type": "parcoords",
            "line": {
             "colorbar": {
              "outlinewidth": 0,
              "ticks": ""
             }
            }
           }
          ],
          "scatterpolargl": [
           {
            "type": "scatterpolargl",
            "marker": {
             "colorbar": {
              "outlinewidth": 0,
              "ticks": ""
             }
            }
           }
          ],
          "bar": [
           {
            "error_x": {
             "color": "#2a3f5f"
            },
            "error_y": {
             "color": "#2a3f5f"
            },
            "marker": {
             "line": {
              "color": "#E5ECF6",
              "width": 0.5
             },
             "pattern": {
              "fillmode": "overlay",
              "size": 10,
              "solidity": 0.2
             }
            },
            "type": "bar"
           }
          ],
          "scattergeo": [
           {
            "type": "scattergeo",
            "marker": {
             "colorbar": {
              "outlinewidth": 0,
              "ticks": ""
             }
            }
           }
          ],
          "scatterpolar": [
           {
            "type": "scatterpolar",
            "marker": {
             "colorbar": {
              "outlinewidth": 0,
              "ticks": ""
             }
            }
           }
          ],
          "histogram": [
           {
            "marker": {
             "pattern": {
              "fillmode": "overlay",
              "size": 10,
              "solidity": 0.2
             }
            },
            "type": "histogram"
           }
          ],
          "scattergl": [
           {
            "type": "scattergl",
            "marker": {
             "colorbar": {
              "outlinewidth": 0,
              "ticks": ""
             }
            }
           }
          ],
          "scatter3d": [
           {
            "type": "scatter3d",
            "line": {
             "colorbar": {
              "outlinewidth": 0,
              "ticks": ""
             }
            },
            "marker": {
             "colorbar": {
              "outlinewidth": 0,
              "ticks": ""
             }
            }
           }
          ],
          "scattermapbox": [
           {
            "type": "scattermapbox",
            "marker": {
             "colorbar": {
              "outlinewidth": 0,
              "ticks": ""
             }
            }
           }
          ],
          "scatterternary": [
           {
            "type": "scatterternary",
            "marker": {
             "colorbar": {
              "outlinewidth": 0,
              "ticks": ""
             }
            }
           }
          ],
          "scattercarpet": [
           {
            "type": "scattercarpet",
            "marker": {
             "colorbar": {
              "outlinewidth": 0,
              "ticks": ""
             }
            }
           }
          ],
          "carpet": [
           {
            "aaxis": {
             "endlinecolor": "#2a3f5f",
             "gridcolor": "white",
             "linecolor": "white",
             "minorgridcolor": "white",
             "startlinecolor": "#2a3f5f"
            },
            "baxis": {
             "endlinecolor": "#2a3f5f",
             "gridcolor": "white",
             "linecolor": "white",
             "minorgridcolor": "white",
             "startlinecolor": "#2a3f5f"
            },
            "type": "carpet"
           }
          ],
          "table": [
           {
            "cells": {
             "fill": {
              "color": "#EBF0F8"
             },
             "line": {
              "color": "white"
             }
            },
            "header": {
             "fill": {
              "color": "#C8D4E3"
             },
             "line": {
              "color": "white"
             }
            },
            "type": "table"
           }
          ],
          "barpolar": [
           {
            "marker": {
             "line": {
              "color": "#E5ECF6",
              "width": 0.5
             },
             "pattern": {
              "fillmode": "overlay",
              "size": 10,
              "solidity": 0.2
             }
            },
            "type": "barpolar"
           }
          ],
          "pie": [
           {
            "automargin": true,
            "type": "pie"
           }
          ]
         },
         "layout": {
          "autotypenumbers": "strict",
          "colorway": [
           "#636efa",
           "#EF553B",
           "#00cc96",
           "#ab63fa",
           "#FFA15A",
           "#19d3f3",
           "#FF6692",
           "#B6E880",
           "#FF97FF",
           "#FECB52"
          ],
          "font": {
           "color": "#2a3f5f"
          },
          "hovermode": "closest",
          "hoverlabel": {
           "align": "left"
          },
          "paper_bgcolor": "white",
          "plot_bgcolor": "#E5ECF6",
          "polar": {
           "bgcolor": "#E5ECF6",
           "angularaxis": {
            "gridcolor": "white",
            "linecolor": "white",
            "ticks": ""
           },
           "radialaxis": {
            "gridcolor": "white",
            "linecolor": "white",
            "ticks": ""
           }
          },
          "ternary": {
           "bgcolor": "#E5ECF6",
           "aaxis": {
            "gridcolor": "white",
            "linecolor": "white",
            "ticks": ""
           },
           "baxis": {
            "gridcolor": "white",
            "linecolor": "white",
            "ticks": ""
           },
           "caxis": {
            "gridcolor": "white",
            "linecolor": "white",
            "ticks": ""
           }
          },
          "coloraxis": {
           "colorbar": {
            "outlinewidth": 0,
            "ticks": ""
           }
          },
          "colorscale": {
           "sequential": [
            [
             0.0,
             "#0d0887"
            ],
            [
             0.1111111111111111,
             "#46039f"
            ],
            [
             0.2222222222222222,
             "#7201a8"
            ],
            [
             0.3333333333333333,
             "#9c179e"
            ],
            [
             0.4444444444444444,
             "#bd3786"
            ],
            [
             0.5555555555555556,
             "#d8576b"
            ],
            [
             0.6666666666666666,
             "#ed7953"
            ],
            [
             0.7777777777777778,
             "#fb9f3a"
            ],
            [
             0.8888888888888888,
             "#fdca26"
            ],
            [
             1.0,
             "#f0f921"
            ]
           ],
           "sequentialminus": [
            [
             0.0,
             "#0d0887"
            ],
            [
             0.1111111111111111,
             "#46039f"
            ],
            [
             0.2222222222222222,
             "#7201a8"
            ],
            [
             0.3333333333333333,
             "#9c179e"
            ],
            [
             0.4444444444444444,
             "#bd3786"
            ],
            [
             0.5555555555555556,
             "#d8576b"
            ],
            [
             0.6666666666666666,
             "#ed7953"
            ],
            [
             0.7777777777777778,
             "#fb9f3a"
            ],
            [
             0.8888888888888888,
             "#fdca26"
            ],
            [
             1.0,
             "#f0f921"
            ]
           ],
           "diverging": [
            [
             0,
             "#8e0152"
            ],
            [
             0.1,
             "#c51b7d"
            ],
            [
             0.2,
             "#de77ae"
            ],
            [
             0.3,
             "#f1b6da"
            ],
            [
             0.4,
             "#fde0ef"
            ],
            [
             0.5,
             "#f7f7f7"
            ],
            [
             0.6,
             "#e6f5d0"
            ],
            [
             0.7,
             "#b8e186"
            ],
            [
             0.8,
             "#7fbc41"
            ],
            [
             0.9,
             "#4d9221"
            ],
            [
             1,
             "#276419"
            ]
           ]
          },
          "xaxis": {
           "gridcolor": "white",
           "linecolor": "white",
           "ticks": "",
           "title": {
            "standoff": 15
           },
           "zerolinecolor": "white",
           "automargin": true,
           "zerolinewidth": 2
          },
          "yaxis": {
           "gridcolor": "white",
           "linecolor": "white",
           "ticks": "",
           "title": {
            "standoff": 15
           },
           "zerolinecolor": "white",
           "automargin": true,
           "zerolinewidth": 2
          },
          "scene": {
           "xaxis": {
            "backgroundcolor": "#E5ECF6",
            "gridcolor": "white",
            "linecolor": "white",
            "showbackground": true,
            "ticks": "",
            "zerolinecolor": "white",
            "gridwidth": 2
           },
           "yaxis": {
            "backgroundcolor": "#E5ECF6",
            "gridcolor": "white",
            "linecolor": "white",
            "showbackground": true,
            "ticks": "",
            "zerolinecolor": "white",
            "gridwidth": 2
           },
           "zaxis": {
            "backgroundcolor": "#E5ECF6",
            "gridcolor": "white",
            "linecolor": "white",
            "showbackground": true,
            "ticks": "",
            "zerolinecolor": "white",
            "gridwidth": 2
           }
          },
          "shapedefaults": {
           "line": {
            "color": "#2a3f5f"
           }
          },
          "annotationdefaults": {
           "arrowcolor": "#2a3f5f",
           "arrowhead": 0,
           "arrowwidth": 1
          },
          "geo": {
           "bgcolor": "white",
           "landcolor": "#E5ECF6",
           "subunitcolor": "white",
           "showland": true,
           "showlakes": true,
           "lakecolor": "white"
          },
          "title": {
           "x": 0.05
          },
          "mapbox": {
           "style": "light"
          }
         }
        },
        "xaxis": {
         "anchor": "y",
         "domain": [
          0.0,
          1.0
         ],
         "scaleanchor": "y",
         "constrain": "domain",
         "title": {
          "text": "Temperature"
         },
         "tickmode": "array",
         "tickvals": [
          0,
          1,
          2,
          3,
          4,
          5,
          6,
          7,
          8,
          9,
          10
         ],
         "ticktext": [
          "0",
          "1",
          "2",
          "3",
          "4",
          "5",
          "6",
          "7",
          "8",
          "9",
          "10"
         ],
         "scaleratio": 1
        },
        "yaxis": {
         "anchor": "x",
         "domain": [
          0.0,
          1.0
         ],
         "autorange": "reversed",
         "constrain": "domain",
         "title": {
          "text": "Humidity"
         },
         "tickmode": "array",
         "tickvals": [
          0,
          1,
          2,
          3,
          4,
          5,
          6,
          7,
          8,
          9,
          10
         ],
         "ticktext": [
          "10",
          "9",
          "8",
          "7",
          "6",
          "5",
          "4",
          "3",
          "2",
          "1",
          "0"
         ]
        },
        "coloraxis": {
         "colorbar": {
          "title": {
           "text": "Value"
          },
          "x": 1
         },
         "colorscale": [
          [
           0.0,
           "blue"
          ],
          [
           0.5,
           "yellow"
          ],
          [
           1.0,
           "red"
          ]
         ],
         "cmin": 0,
         "cmax": 2
        },
        "title": {
         "text": "Policy",
         "x": 0.5,
         "y": 0.85
        },
        "shapes": [
         {
          "line": {
           "color": "black",
           "width": 2
          },
          "type": "line",
          "x0": -0.5,
          "x1": -0.5,
          "y0": -0.5,
          "y1": 10.5
         },
         {
          "line": {
           "color": "black",
           "width": 2
          },
          "type": "line",
          "x0": -0.5,
          "x1": 10.5,
          "y0": -0.5,
          "y1": -0.5
         },
         {
          "line": {
           "color": "black",
           "width": 2
          },
          "type": "line",
          "x0": 0.5,
          "x1": 0.5,
          "y0": -0.5,
          "y1": 10.5
         },
         {
          "line": {
           "color": "black",
           "width": 2
          },
          "type": "line",
          "x0": -0.5,
          "x1": 10.5,
          "y0": 0.5,
          "y1": 0.5
         },
         {
          "line": {
           "color": "black",
           "width": 2
          },
          "type": "line",
          "x0": 1.5,
          "x1": 1.5,
          "y0": -0.5,
          "y1": 10.5
         },
         {
          "line": {
           "color": "black",
           "width": 2
          },
          "type": "line",
          "x0": -0.5,
          "x1": 10.5,
          "y0": 1.5,
          "y1": 1.5
         },
         {
          "line": {
           "color": "black",
           "width": 2
          },
          "type": "line",
          "x0": 2.5,
          "x1": 2.5,
          "y0": -0.5,
          "y1": 10.5
         },
         {
          "line": {
           "color": "black",
           "width": 2
          },
          "type": "line",
          "x0": -0.5,
          "x1": 10.5,
          "y0": 2.5,
          "y1": 2.5
         },
         {
          "line": {
           "color": "black",
           "width": 2
          },
          "type": "line",
          "x0": 3.5,
          "x1": 3.5,
          "y0": -0.5,
          "y1": 10.5
         },
         {
          "line": {
           "color": "black",
           "width": 2
          },
          "type": "line",
          "x0": -0.5,
          "x1": 10.5,
          "y0": 3.5,
          "y1": 3.5
         },
         {
          "line": {
           "color": "black",
           "width": 2
          },
          "type": "line",
          "x0": 4.5,
          "x1": 4.5,
          "y0": -0.5,
          "y1": 10.5
         },
         {
          "line": {
           "color": "black",
           "width": 2
          },
          "type": "line",
          "x0": -0.5,
          "x1": 10.5,
          "y0": 4.5,
          "y1": 4.5
         },
         {
          "line": {
           "color": "black",
           "width": 2
          },
          "type": "line",
          "x0": 5.5,
          "x1": 5.5,
          "y0": -0.5,
          "y1": 10.5
         },
         {
          "line": {
           "color": "black",
           "width": 2
          },
          "type": "line",
          "x0": -0.5,
          "x1": 10.5,
          "y0": 5.5,
          "y1": 5.5
         },
         {
          "line": {
           "color": "black",
           "width": 2
          },
          "type": "line",
          "x0": 6.5,
          "x1": 6.5,
          "y0": -0.5,
          "y1": 10.5
         },
         {
          "line": {
           "color": "black",
           "width": 2
          },
          "type": "line",
          "x0": -0.5,
          "x1": 10.5,
          "y0": 6.5,
          "y1": 6.5
         },
         {
          "line": {
           "color": "black",
           "width": 2
          },
          "type": "line",
          "x0": 7.5,
          "x1": 7.5,
          "y0": -0.5,
          "y1": 10.5
         },
         {
          "line": {
           "color": "black",
           "width": 2
          },
          "type": "line",
          "x0": -0.5,
          "x1": 10.5,
          "y0": 7.5,
          "y1": 7.5
         },
         {
          "line": {
           "color": "black",
           "width": 2
          },
          "type": "line",
          "x0": 8.5,
          "x1": 8.5,
          "y0": -0.5,
          "y1": 10.5
         },
         {
          "line": {
           "color": "black",
           "width": 2
          },
          "type": "line",
          "x0": -0.5,
          "x1": 10.5,
          "y0": 8.5,
          "y1": 8.5
         },
         {
          "line": {
           "color": "black",
           "width": 2
          },
          "type": "line",
          "x0": 9.5,
          "x1": 9.5,
          "y0": -0.5,
          "y1": 10.5
         },
         {
          "line": {
           "color": "black",
           "width": 2
          },
          "type": "line",
          "x0": -0.5,
          "x1": 10.5,
          "y0": 9.5,
          "y1": 9.5
         }
        ],
        "width": 500,
        "height": 500,
        "sliders": [
         {
          "currentvalue": {
           "prefix": "Index: "
          },
          "pad": {
           "t": 15
          },
          "steps": [
           {
            "args": [
             {
              "z": [
               [
                [
                 0,
                 0,
                 0,
                 0,
                 0,
                 0,
                 0,
                 0,
                 0,
                 0,
                 0
                ],
                [
                 0,
                 0,
                 0,
                 0,
                 0,
                 0,
                 0,
                 0,
                 0,
                 0,
                 0
                ],
                [
                 0,
                 0,
                 0,
                 0,
                 0,
                 0,
                 0,
                 0,
                 0,
                 0,
                 0
                ],
                [
                 0,
                 0,
                 0,
                 0,
                 0,
                 0,
                 0,
                 0,
                 0,
                 0,
                 0
                ],
                [
                 0,
                 0,
                 0,
                 0,
                 0,
                 0,
                 0,
                 0,
                 0,
                 0,
                 0
                ],
                [
                 0,
                 0,
                 0,
                 0,
                 0,
                 0,
                 0,
                 0,
                 0,
                 0,
                 0
                ],
                [
                 0,
                 0,
                 0,
                 0,
                 0,
                 0,
                 0,
                 0,
                 0,
                 0,
                 0
                ],
                [
                 0,
                 0,
                 0,
                 0,
                 0,
                 0,
                 0,
                 0,
                 0,
                 0,
                 0
                ],
                [
                 0,
                 0,
                 0,
                 0,
                 0,
                 0,
                 0,
                 0,
                 0,
                 0,
                 0
                ],
                [
                 0,
                 0,
                 0,
                 0,
                 0,
                 0,
                 0,
                 0,
                 0,
                 0,
                 0
                ],
                [
                 0,
                 0,
                 0,
                 0,
                 0,
                 0,
                 0,
                 0,
                 0,
                 0,
                 0
                ]
               ]
              ]
             }
            ],
            "label": "1",
            "method": "restyle"
           },
           {
            "args": [
             {
              "z": [
               [
                [
                 0,
                 0,
                 0,
                 0,
                 0,
                 0,
                 0,
                 0,
                 0,
                 0,
                 0
                ],
                [
                 0,
                 0,
                 0,
                 0,
                 0,
                 0,
                 0,
                 0,
                 0,
                 0,
                 0
                ],
                [
                 0,
                 0,
                 0,
                 0,
                 0,
                 0,
                 0,
                 0,
                 0,
                 0,
                 0
                ],
                [
                 0,
                 0,
                 0,
                 0,
                 0,
                 0,
                 0,
                 0,
                 0,
                 0,
                 0
                ],
                [
                 0,
                 0,
                 0,
                 0,
                 0,
                 0,
                 0,
                 0,
                 0,
                 0,
                 0
                ],
                [
                 0,
                 0,
                 0,
                 0,
                 0,
                 0,
                 0,
                 0,
                 0,
                 0,
                 0
                ],
                [
                 0,
                 0,
                 0,
                 0,
                 0,
                 0,
                 0,
                 0,
                 0,
                 0,
                 0
                ],
                [
                 0,
                 0,
                 0,
                 0,
                 0,
                 0,
                 0,
                 0,
                 0,
                 0,
                 0
                ],
                [
                 0,
                 0,
                 0,
                 0,
                 0,
                 0,
                 0,
                 0,
                 0,
                 0,
                 0
                ],
                [
                 0,
                 0,
                 0,
                 0,
                 0,
                 0,
                 0,
                 0,
                 0,
                 0,
                 0
                ],
                [
                 0,
                 0,
                 0,
                 0,
                 0,
                 0,
                 0,
                 0,
                 0,
                 0,
                 0
                ]
               ]
              ]
             }
            ],
            "label": "2",
            "method": "restyle"
           },
           {
            "args": [
             {
              "z": [
               [
                [
                 0,
                 0,
                 0,
                 0,
                 0,
                 0,
                 0,
                 0,
                 0,
                 0,
                 0
                ],
                [
                 0,
                 0,
                 0,
                 0,
                 0,
                 0,
                 0,
                 0,
                 0,
                 0,
                 0
                ],
                [
                 0,
                 0,
                 0,
                 0,
                 0,
                 0,
                 0,
                 0,
                 0,
                 0,
                 0
                ],
                [
                 0,
                 0,
                 0,
                 0,
                 0,
                 0,
                 0,
                 0,
                 0,
                 0,
                 0
                ],
                [
                 0,
                 0,
                 0,
                 0,
                 0,
                 0,
                 0,
                 0,
                 0,
                 0,
                 0
                ],
                [
                 0,
                 0,
                 0,
                 0,
                 0,
                 0,
                 0,
                 0,
                 0,
                 0,
                 0
                ],
                [
                 0,
                 0,
                 0,
                 0,
                 0,
                 0,
                 0,
                 0,
                 0,
                 0,
                 0
                ],
                [
                 0,
                 0,
                 0,
                 0,
                 0,
                 0,
                 0,
                 0,
                 0,
                 0,
                 0
                ],
                [
                 0,
                 0,
                 0,
                 0,
                 0,
                 0,
                 0,
                 0,
                 0,
                 0,
                 0
                ],
                [
                 0,
                 0,
                 0,
                 0,
                 0,
                 0,
                 0,
                 0,
                 0,
                 0,
                 0
                ],
                [
                 0,
                 0,
                 0,
                 0,
                 0,
                 0,
                 0,
                 0,
                 0,
                 0,
                 0
                ]
               ]
              ]
             }
            ],
            "label": "3",
            "method": "restyle"
           },
           {
            "args": [
             {
              "z": [
               [
                [
                 0,
                 0,
                 0,
                 0,
                 0,
                 0,
                 0,
                 0,
                 0,
                 0,
                 0
                ],
                [
                 0,
                 0,
                 0,
                 0,
                 0,
                 0,
                 0,
                 0,
                 0,
                 0,
                 0
                ],
                [
                 0,
                 0,
                 0,
                 0,
                 0,
                 0,
                 0,
                 0,
                 0,
                 0,
                 0
                ],
                [
                 0,
                 0,
                 0,
                 0,
                 0,
                 0,
                 0,
                 0,
                 0,
                 0,
                 0
                ],
                [
                 0,
                 0,
                 0,
                 0,
                 0,
                 0,
                 0,
                 0,
                 0,
                 0,
                 0
                ],
                [
                 0,
                 0,
                 0,
                 0,
                 0,
                 0,
                 0,
                 0,
                 0,
                 0,
                 0
                ],
                [
                 0,
                 0,
                 0,
                 0,
                 0,
                 0,
                 0,
                 0,
                 0,
                 0,
                 0
                ],
                [
                 0,
                 0,
                 0,
                 0,
                 0,
                 0,
                 0,
                 0,
                 0,
                 0,
                 0
                ],
                [
                 0,
                 0,
                 0,
                 0,
                 0,
                 0,
                 0,
                 0,
                 0,
                 0,
                 0
                ],
                [
                 0,
                 0,
                 0,
                 0,
                 0,
                 0,
                 0,
                 0,
                 0,
                 0,
                 0
                ],
                [
                 0,
                 0,
                 0,
                 0,
                 0,
                 0,
                 0,
                 0,
                 0,
                 0,
                 0
                ]
               ]
              ]
             }
            ],
            "label": "4",
            "method": "restyle"
           }
          ]
         }
        ]
       },
       "config": {
        "plotlyServerURL": "https://plot.ly"
       }
      },
      "text/html": [
       "<div>                            <div id=\"2c5721e4-0438-4082-9413-53e49463f0a0\" class=\"plotly-graph-div\" style=\"height:500px; width:500px;\"></div>            <script type=\"text/javascript\">                require([\"plotly\"], function(Plotly) {                    window.PLOTLYENV=window.PLOTLYENV || {};                                    if (document.getElementById(\"2c5721e4-0438-4082-9413-53e49463f0a0\")) {                    Plotly.newPlot(                        \"2c5721e4-0438-4082-9413-53e49463f0a0\",                        [{\"coloraxis\":\"coloraxis\",\"name\":\"0\",\"x\":[0,1,2,3,4,5,6,7,8,9,10],\"y\":[0,1,2,3,4,5,6,7,8,9,10],\"z\":[[0,0,0,0,0,0,0,0,0,0,0],[0,0,0,0,0,0,0,0,0,0,0],[0,0,0,0,0,0,0,0,0,0,0],[0,0,0,0,0,0,0,0,0,0,0],[0,0,0,0,0,0,0,0,0,0,0],[0,0,0,0,0,0,0,0,0,0,0],[0,0,0,0,0,0,0,0,0,0,0],[0,0,0,0,0,0,0,0,0,0,0],[0,0,0,0,0,0,0,0,0,0,0],[0,0,0,0,0,0,0,0,0,0,0],[0,0,0,0,0,0,0,0,0,0,0]],\"type\":\"heatmap\",\"xaxis\":\"x\",\"yaxis\":\"y\",\"hovertemplate\":\"Temperature: %{x}\\u003cbr\\u003eHumidity: %{y}\\u003cbr\\u003eValue: %{z}\\u003cextra\\u003e\\u003c\\u002fextra\\u003e\"}],                        {\"template\":{\"data\":{\"histogram2dcontour\":[{\"type\":\"histogram2dcontour\",\"colorbar\":{\"outlinewidth\":0,\"ticks\":\"\"},\"colorscale\":[[0.0,\"#0d0887\"],[0.1111111111111111,\"#46039f\"],[0.2222222222222222,\"#7201a8\"],[0.3333333333333333,\"#9c179e\"],[0.4444444444444444,\"#bd3786\"],[0.5555555555555556,\"#d8576b\"],[0.6666666666666666,\"#ed7953\"],[0.7777777777777778,\"#fb9f3a\"],[0.8888888888888888,\"#fdca26\"],[1.0,\"#f0f921\"]]}],\"choropleth\":[{\"type\":\"choropleth\",\"colorbar\":{\"outlinewidth\":0,\"ticks\":\"\"}}],\"histogram2d\":[{\"type\":\"histogram2d\",\"colorbar\":{\"outlinewidth\":0,\"ticks\":\"\"},\"colorscale\":[[0.0,\"#0d0887\"],[0.1111111111111111,\"#46039f\"],[0.2222222222222222,\"#7201a8\"],[0.3333333333333333,\"#9c179e\"],[0.4444444444444444,\"#bd3786\"],[0.5555555555555556,\"#d8576b\"],[0.6666666666666666,\"#ed7953\"],[0.7777777777777778,\"#fb9f3a\"],[0.8888888888888888,\"#fdca26\"],[1.0,\"#f0f921\"]]}],\"heatmap\":[{\"type\":\"heatmap\",\"colorbar\":{\"outlinewidth\":0,\"ticks\":\"\"},\"colorscale\":[[0.0,\"#0d0887\"],[0.1111111111111111,\"#46039f\"],[0.2222222222222222,\"#7201a8\"],[0.3333333333333333,\"#9c179e\"],[0.4444444444444444,\"#bd3786\"],[0.5555555555555556,\"#d8576b\"],[0.6666666666666666,\"#ed7953\"],[0.7777777777777778,\"#fb9f3a\"],[0.8888888888888888,\"#fdca26\"],[1.0,\"#f0f921\"]]}],\"heatmapgl\":[{\"type\":\"heatmapgl\",\"colorbar\":{\"outlinewidth\":0,\"ticks\":\"\"},\"colorscale\":[[0.0,\"#0d0887\"],[0.1111111111111111,\"#46039f\"],[0.2222222222222222,\"#7201a8\"],[0.3333333333333333,\"#9c179e\"],[0.4444444444444444,\"#bd3786\"],[0.5555555555555556,\"#d8576b\"],[0.6666666666666666,\"#ed7953\"],[0.7777777777777778,\"#fb9f3a\"],[0.8888888888888888,\"#fdca26\"],[1.0,\"#f0f921\"]]}],\"contourcarpet\":[{\"type\":\"contourcarpet\",\"colorbar\":{\"outlinewidth\":0,\"ticks\":\"\"}}],\"contour\":[{\"type\":\"contour\",\"colorbar\":{\"outlinewidth\":0,\"ticks\":\"\"},\"colorscale\":[[0.0,\"#0d0887\"],[0.1111111111111111,\"#46039f\"],[0.2222222222222222,\"#7201a8\"],[0.3333333333333333,\"#9c179e\"],[0.4444444444444444,\"#bd3786\"],[0.5555555555555556,\"#d8576b\"],[0.6666666666666666,\"#ed7953\"],[0.7777777777777778,\"#fb9f3a\"],[0.8888888888888888,\"#fdca26\"],[1.0,\"#f0f921\"]]}],\"surface\":[{\"type\":\"surface\",\"colorbar\":{\"outlinewidth\":0,\"ticks\":\"\"},\"colorscale\":[[0.0,\"#0d0887\"],[0.1111111111111111,\"#46039f\"],[0.2222222222222222,\"#7201a8\"],[0.3333333333333333,\"#9c179e\"],[0.4444444444444444,\"#bd3786\"],[0.5555555555555556,\"#d8576b\"],[0.6666666666666666,\"#ed7953\"],[0.7777777777777778,\"#fb9f3a\"],[0.8888888888888888,\"#fdca26\"],[1.0,\"#f0f921\"]]}],\"mesh3d\":[{\"type\":\"mesh3d\",\"colorbar\":{\"outlinewidth\":0,\"ticks\":\"\"}}],\"scatter\":[{\"fillpattern\":{\"fillmode\":\"overlay\",\"size\":10,\"solidity\":0.2},\"type\":\"scatter\"}],\"parcoords\":[{\"type\":\"parcoords\",\"line\":{\"colorbar\":{\"outlinewidth\":0,\"ticks\":\"\"}}}],\"scatterpolargl\":[{\"type\":\"scatterpolargl\",\"marker\":{\"colorbar\":{\"outlinewidth\":0,\"ticks\":\"\"}}}],\"bar\":[{\"error_x\":{\"color\":\"#2a3f5f\"},\"error_y\":{\"color\":\"#2a3f5f\"},\"marker\":{\"line\":{\"color\":\"#E5ECF6\",\"width\":0.5},\"pattern\":{\"fillmode\":\"overlay\",\"size\":10,\"solidity\":0.2}},\"type\":\"bar\"}],\"scattergeo\":[{\"type\":\"scattergeo\",\"marker\":{\"colorbar\":{\"outlinewidth\":0,\"ticks\":\"\"}}}],\"scatterpolar\":[{\"type\":\"scatterpolar\",\"marker\":{\"colorbar\":{\"outlinewidth\":0,\"ticks\":\"\"}}}],\"histogram\":[{\"marker\":{\"pattern\":{\"fillmode\":\"overlay\",\"size\":10,\"solidity\":0.2}},\"type\":\"histogram\"}],\"scattergl\":[{\"type\":\"scattergl\",\"marker\":{\"colorbar\":{\"outlinewidth\":0,\"ticks\":\"\"}}}],\"scatter3d\":[{\"type\":\"scatter3d\",\"line\":{\"colorbar\":{\"outlinewidth\":0,\"ticks\":\"\"}},\"marker\":{\"colorbar\":{\"outlinewidth\":0,\"ticks\":\"\"}}}],\"scattermapbox\":[{\"type\":\"scattermapbox\",\"marker\":{\"colorbar\":{\"outlinewidth\":0,\"ticks\":\"\"}}}],\"scatterternary\":[{\"type\":\"scatterternary\",\"marker\":{\"colorbar\":{\"outlinewidth\":0,\"ticks\":\"\"}}}],\"scattercarpet\":[{\"type\":\"scattercarpet\",\"marker\":{\"colorbar\":{\"outlinewidth\":0,\"ticks\":\"\"}}}],\"carpet\":[{\"aaxis\":{\"endlinecolor\":\"#2a3f5f\",\"gridcolor\":\"white\",\"linecolor\":\"white\",\"minorgridcolor\":\"white\",\"startlinecolor\":\"#2a3f5f\"},\"baxis\":{\"endlinecolor\":\"#2a3f5f\",\"gridcolor\":\"white\",\"linecolor\":\"white\",\"minorgridcolor\":\"white\",\"startlinecolor\":\"#2a3f5f\"},\"type\":\"carpet\"}],\"table\":[{\"cells\":{\"fill\":{\"color\":\"#EBF0F8\"},\"line\":{\"color\":\"white\"}},\"header\":{\"fill\":{\"color\":\"#C8D4E3\"},\"line\":{\"color\":\"white\"}},\"type\":\"table\"}],\"barpolar\":[{\"marker\":{\"line\":{\"color\":\"#E5ECF6\",\"width\":0.5},\"pattern\":{\"fillmode\":\"overlay\",\"size\":10,\"solidity\":0.2}},\"type\":\"barpolar\"}],\"pie\":[{\"automargin\":true,\"type\":\"pie\"}]},\"layout\":{\"autotypenumbers\":\"strict\",\"colorway\":[\"#636efa\",\"#EF553B\",\"#00cc96\",\"#ab63fa\",\"#FFA15A\",\"#19d3f3\",\"#FF6692\",\"#B6E880\",\"#FF97FF\",\"#FECB52\"],\"font\":{\"color\":\"#2a3f5f\"},\"hovermode\":\"closest\",\"hoverlabel\":{\"align\":\"left\"},\"paper_bgcolor\":\"white\",\"plot_bgcolor\":\"#E5ECF6\",\"polar\":{\"bgcolor\":\"#E5ECF6\",\"angularaxis\":{\"gridcolor\":\"white\",\"linecolor\":\"white\",\"ticks\":\"\"},\"radialaxis\":{\"gridcolor\":\"white\",\"linecolor\":\"white\",\"ticks\":\"\"}},\"ternary\":{\"bgcolor\":\"#E5ECF6\",\"aaxis\":{\"gridcolor\":\"white\",\"linecolor\":\"white\",\"ticks\":\"\"},\"baxis\":{\"gridcolor\":\"white\",\"linecolor\":\"white\",\"ticks\":\"\"},\"caxis\":{\"gridcolor\":\"white\",\"linecolor\":\"white\",\"ticks\":\"\"}},\"coloraxis\":{\"colorbar\":{\"outlinewidth\":0,\"ticks\":\"\"}},\"colorscale\":{\"sequential\":[[0.0,\"#0d0887\"],[0.1111111111111111,\"#46039f\"],[0.2222222222222222,\"#7201a8\"],[0.3333333333333333,\"#9c179e\"],[0.4444444444444444,\"#bd3786\"],[0.5555555555555556,\"#d8576b\"],[0.6666666666666666,\"#ed7953\"],[0.7777777777777778,\"#fb9f3a\"],[0.8888888888888888,\"#fdca26\"],[1.0,\"#f0f921\"]],\"sequentialminus\":[[0.0,\"#0d0887\"],[0.1111111111111111,\"#46039f\"],[0.2222222222222222,\"#7201a8\"],[0.3333333333333333,\"#9c179e\"],[0.4444444444444444,\"#bd3786\"],[0.5555555555555556,\"#d8576b\"],[0.6666666666666666,\"#ed7953\"],[0.7777777777777778,\"#fb9f3a\"],[0.8888888888888888,\"#fdca26\"],[1.0,\"#f0f921\"]],\"diverging\":[[0,\"#8e0152\"],[0.1,\"#c51b7d\"],[0.2,\"#de77ae\"],[0.3,\"#f1b6da\"],[0.4,\"#fde0ef\"],[0.5,\"#f7f7f7\"],[0.6,\"#e6f5d0\"],[0.7,\"#b8e186\"],[0.8,\"#7fbc41\"],[0.9,\"#4d9221\"],[1,\"#276419\"]]},\"xaxis\":{\"gridcolor\":\"white\",\"linecolor\":\"white\",\"ticks\":\"\",\"title\":{\"standoff\":15},\"zerolinecolor\":\"white\",\"automargin\":true,\"zerolinewidth\":2},\"yaxis\":{\"gridcolor\":\"white\",\"linecolor\":\"white\",\"ticks\":\"\",\"title\":{\"standoff\":15},\"zerolinecolor\":\"white\",\"automargin\":true,\"zerolinewidth\":2},\"scene\":{\"xaxis\":{\"backgroundcolor\":\"#E5ECF6\",\"gridcolor\":\"white\",\"linecolor\":\"white\",\"showbackground\":true,\"ticks\":\"\",\"zerolinecolor\":\"white\",\"gridwidth\":2},\"yaxis\":{\"backgroundcolor\":\"#E5ECF6\",\"gridcolor\":\"white\",\"linecolor\":\"white\",\"showbackground\":true,\"ticks\":\"\",\"zerolinecolor\":\"white\",\"gridwidth\":2},\"zaxis\":{\"backgroundcolor\":\"#E5ECF6\",\"gridcolor\":\"white\",\"linecolor\":\"white\",\"showbackground\":true,\"ticks\":\"\",\"zerolinecolor\":\"white\",\"gridwidth\":2}},\"shapedefaults\":{\"line\":{\"color\":\"#2a3f5f\"}},\"annotationdefaults\":{\"arrowcolor\":\"#2a3f5f\",\"arrowhead\":0,\"arrowwidth\":1},\"geo\":{\"bgcolor\":\"white\",\"landcolor\":\"#E5ECF6\",\"subunitcolor\":\"white\",\"showland\":true,\"showlakes\":true,\"lakecolor\":\"white\"},\"title\":{\"x\":0.05},\"mapbox\":{\"style\":\"light\"}}},\"xaxis\":{\"anchor\":\"y\",\"domain\":[0.0,1.0],\"scaleanchor\":\"y\",\"constrain\":\"domain\",\"title\":{\"text\":\"Temperature\"},\"tickmode\":\"array\",\"tickvals\":[0,1,2,3,4,5,6,7,8,9,10],\"ticktext\":[\"0\",\"1\",\"2\",\"3\",\"4\",\"5\",\"6\",\"7\",\"8\",\"9\",\"10\"],\"scaleratio\":1},\"yaxis\":{\"anchor\":\"x\",\"domain\":[0.0,1.0],\"autorange\":\"reversed\",\"constrain\":\"domain\",\"title\":{\"text\":\"Humidity\"},\"tickmode\":\"array\",\"tickvals\":[0,1,2,3,4,5,6,7,8,9,10],\"ticktext\":[\"10\",\"9\",\"8\",\"7\",\"6\",\"5\",\"4\",\"3\",\"2\",\"1\",\"0\"]},\"coloraxis\":{\"colorbar\":{\"title\":{\"text\":\"Value\"},\"x\":1},\"colorscale\":[[0.0,\"blue\"],[0.5,\"yellow\"],[1.0,\"red\"]],\"cmin\":0,\"cmax\":2},\"title\":{\"text\":\"Policy\",\"x\":0.5,\"y\":0.85},\"shapes\":[{\"line\":{\"color\":\"black\",\"width\":2},\"type\":\"line\",\"x0\":-0.5,\"x1\":-0.5,\"y0\":-0.5,\"y1\":10.5},{\"line\":{\"color\":\"black\",\"width\":2},\"type\":\"line\",\"x0\":-0.5,\"x1\":10.5,\"y0\":-0.5,\"y1\":-0.5},{\"line\":{\"color\":\"black\",\"width\":2},\"type\":\"line\",\"x0\":0.5,\"x1\":0.5,\"y0\":-0.5,\"y1\":10.5},{\"line\":{\"color\":\"black\",\"width\":2},\"type\":\"line\",\"x0\":-0.5,\"x1\":10.5,\"y0\":0.5,\"y1\":0.5},{\"line\":{\"color\":\"black\",\"width\":2},\"type\":\"line\",\"x0\":1.5,\"x1\":1.5,\"y0\":-0.5,\"y1\":10.5},{\"line\":{\"color\":\"black\",\"width\":2},\"type\":\"line\",\"x0\":-0.5,\"x1\":10.5,\"y0\":1.5,\"y1\":1.5},{\"line\":{\"color\":\"black\",\"width\":2},\"type\":\"line\",\"x0\":2.5,\"x1\":2.5,\"y0\":-0.5,\"y1\":10.5},{\"line\":{\"color\":\"black\",\"width\":2},\"type\":\"line\",\"x0\":-0.5,\"x1\":10.5,\"y0\":2.5,\"y1\":2.5},{\"line\":{\"color\":\"black\",\"width\":2},\"type\":\"line\",\"x0\":3.5,\"x1\":3.5,\"y0\":-0.5,\"y1\":10.5},{\"line\":{\"color\":\"black\",\"width\":2},\"type\":\"line\",\"x0\":-0.5,\"x1\":10.5,\"y0\":3.5,\"y1\":3.5},{\"line\":{\"color\":\"black\",\"width\":2},\"type\":\"line\",\"x0\":4.5,\"x1\":4.5,\"y0\":-0.5,\"y1\":10.5},{\"line\":{\"color\":\"black\",\"width\":2},\"type\":\"line\",\"x0\":-0.5,\"x1\":10.5,\"y0\":4.5,\"y1\":4.5},{\"line\":{\"color\":\"black\",\"width\":2},\"type\":\"line\",\"x0\":5.5,\"x1\":5.5,\"y0\":-0.5,\"y1\":10.5},{\"line\":{\"color\":\"black\",\"width\":2},\"type\":\"line\",\"x0\":-0.5,\"x1\":10.5,\"y0\":5.5,\"y1\":5.5},{\"line\":{\"color\":\"black\",\"width\":2},\"type\":\"line\",\"x0\":6.5,\"x1\":6.5,\"y0\":-0.5,\"y1\":10.5},{\"line\":{\"color\":\"black\",\"width\":2},\"type\":\"line\",\"x0\":-0.5,\"x1\":10.5,\"y0\":6.5,\"y1\":6.5},{\"line\":{\"color\":\"black\",\"width\":2},\"type\":\"line\",\"x0\":7.5,\"x1\":7.5,\"y0\":-0.5,\"y1\":10.5},{\"line\":{\"color\":\"black\",\"width\":2},\"type\":\"line\",\"x0\":-0.5,\"x1\":10.5,\"y0\":7.5,\"y1\":7.5},{\"line\":{\"color\":\"black\",\"width\":2},\"type\":\"line\",\"x0\":8.5,\"x1\":8.5,\"y0\":-0.5,\"y1\":10.5},{\"line\":{\"color\":\"black\",\"width\":2},\"type\":\"line\",\"x0\":-0.5,\"x1\":10.5,\"y0\":8.5,\"y1\":8.5},{\"line\":{\"color\":\"black\",\"width\":2},\"type\":\"line\",\"x0\":9.5,\"x1\":9.5,\"y0\":-0.5,\"y1\":10.5},{\"line\":{\"color\":\"black\",\"width\":2},\"type\":\"line\",\"x0\":-0.5,\"x1\":10.5,\"y0\":9.5,\"y1\":9.5}],\"width\":500,\"height\":500,\"sliders\":[{\"currentvalue\":{\"prefix\":\"Index: \"},\"pad\":{\"t\":15},\"steps\":[{\"args\":[{\"z\":[[[0,0,0,0,0,0,0,0,0,0,0],[0,0,0,0,0,0,0,0,0,0,0],[0,0,0,0,0,0,0,0,0,0,0],[0,0,0,0,0,0,0,0,0,0,0],[0,0,0,0,0,0,0,0,0,0,0],[0,0,0,0,0,0,0,0,0,0,0],[0,0,0,0,0,0,0,0,0,0,0],[0,0,0,0,0,0,0,0,0,0,0],[0,0,0,0,0,0,0,0,0,0,0],[0,0,0,0,0,0,0,0,0,0,0],[0,0,0,0,0,0,0,0,0,0,0]]]}],\"label\":\"1\",\"method\":\"restyle\"},{\"args\":[{\"z\":[[[0,0,0,0,0,0,0,0,0,0,0],[0,0,0,0,0,0,0,0,0,0,0],[0,0,0,0,0,0,0,0,0,0,0],[0,0,0,0,0,0,0,0,0,0,0],[0,0,0,0,0,0,0,0,0,0,0],[0,0,0,0,0,0,0,0,0,0,0],[0,0,0,0,0,0,0,0,0,0,0],[0,0,0,0,0,0,0,0,0,0,0],[0,0,0,0,0,0,0,0,0,0,0],[0,0,0,0,0,0,0,0,0,0,0],[0,0,0,0,0,0,0,0,0,0,0]]]}],\"label\":\"2\",\"method\":\"restyle\"},{\"args\":[{\"z\":[[[0,0,0,0,0,0,0,0,0,0,0],[0,0,0,0,0,0,0,0,0,0,0],[0,0,0,0,0,0,0,0,0,0,0],[0,0,0,0,0,0,0,0,0,0,0],[0,0,0,0,0,0,0,0,0,0,0],[0,0,0,0,0,0,0,0,0,0,0],[0,0,0,0,0,0,0,0,0,0,0],[0,0,0,0,0,0,0,0,0,0,0],[0,0,0,0,0,0,0,0,0,0,0],[0,0,0,0,0,0,0,0,0,0,0],[0,0,0,0,0,0,0,0,0,0,0]]]}],\"label\":\"3\",\"method\":\"restyle\"},{\"args\":[{\"z\":[[[0,0,0,0,0,0,0,0,0,0,0],[0,0,0,0,0,0,0,0,0,0,0],[0,0,0,0,0,0,0,0,0,0,0],[0,0,0,0,0,0,0,0,0,0,0],[0,0,0,0,0,0,0,0,0,0,0],[0,0,0,0,0,0,0,0,0,0,0],[0,0,0,0,0,0,0,0,0,0,0],[0,0,0,0,0,0,0,0,0,0,0],[0,0,0,0,0,0,0,0,0,0,0],[0,0,0,0,0,0,0,0,0,0,0],[0,0,0,0,0,0,0,0,0,0,0]]]}],\"label\":\"4\",\"method\":\"restyle\"}]}]},                        {\"responsive\": true}                    ).then(function(){\n",
       "                            \n",
       "var gd = document.getElementById('2c5721e4-0438-4082-9413-53e49463f0a0');\n",
       "var x = new MutationObserver(function (mutations, observer) {{\n",
       "        var display = window.getComputedStyle(gd).display;\n",
       "        if (!display || display === 'none') {{\n",
       "            console.log([gd, 'removed!']);\n",
       "            Plotly.purge(gd);\n",
       "            observer.disconnect();\n",
       "        }}\n",
       "}});\n",
       "\n",
       "// Listen for the removal of the full notebook cells\n",
       "var notebookContainer = gd.closest('#notebook-container');\n",
       "if (notebookContainer) {{\n",
       "    x.observe(notebookContainer, {childList: true});\n",
       "}}\n",
       "\n",
       "// Listen for the clearing of the current output cell\n",
       "var outputEl = gd.closest('.output');\n",
       "if (outputEl) {{\n",
       "    x.observe(outputEl, {childList: true});\n",
       "}}\n",
       "\n",
       "                        })                };                });            </script>        </div>"
      ]
     },
     "metadata": {},
     "output_type": "display_data"
    }
   ],
   "execution_count": 25
  },
  {
   "metadata": {
    "ExecuteTime": {
     "end_time": "2025-01-11T14:11:49.562903300Z",
     "start_time": "2025-01-10T15:47:19.913178Z"
    }
   },
   "cell_type": "code",
   "source": [
    "def GPI_TD_Q(pars,x0=None):\n",
    "\n",
    " Q = np.zeros((pars['nstates'][0], pars['nstates'][1], pars['nstates'][2], 3))\n",
    " \n",
    " for _ in tqdm(range(pars['N_episodes'])):\n",
    "      \n",
    "      #Initialize state\n",
    "      if x0 is not None:\n",
    "         g,temp,hum=x0\n",
    "      else:\n",
    "         g=np.random.choice(np.arange(1,pars['ci_g_range']))  \n",
    "         temp=np.random.choice(pars['ci_range'])  \n",
    "         hum=np.random.choice(pars['ci_range'])\n",
    "      s=(g,temp,hum)\n",
    "               \n",
    "      #Loop for each step of episode\n",
    "      while s[0]!=5 and s[0]!=0: \n",
    "          \n",
    "        #Choose A from S using policy derived from Q  (eps-greedy)  \n",
    "        if np.random.random()<pars['eps']:\n",
    "         a=np.random.choice([0,1,2])\n",
    "        else:\n",
    "         a=np.argmax(Q[s[0],s[1],s[2],:])\n",
    "            \n",
    "        #Observe R,S'\n",
    "        s_next,r=next_state(s,a,pars)        \n",
    "            \n",
    "        Q[s[0],s[1],s[2],a]+=pars['alpha']*(r+pars['gamma']*np.max(Q[s_next[0],s_next[1],s_next[2],:])-Q[s[0],s[1],s[2],a])\n",
    "     \n",
    "        s = s_next\n",
    " \n",
    " return Q.copy()"
   ],
   "id": "d6bae4a030e778fa",
   "outputs": [],
   "execution_count": 26
  },
  {
   "metadata": {
    "ExecuteTime": {
     "end_time": "2025-01-11T14:11:49.563904500Z",
     "start_time": "2025-01-10T15:47:20.012714Z"
    }
   },
   "cell_type": "code",
   "source": "Q_Q=GPI_TD_Q(pars,x0=(1,3,4))",
   "id": "8b0d3eb14cf98706",
   "outputs": [
    {
     "data": {
      "text/plain": [
       "  0%|          | 0/100000 [00:00<?, ?it/s]"
      ],
      "application/vnd.jupyter.widget-view+json": {
       "version_major": 2,
       "version_minor": 0,
       "model_id": "e915bc233d1d4b099e2be6b4f9b9502d"
      }
     },
     "metadata": {},
     "output_type": "display_data"
    }
   ],
   "execution_count": 27
  },
  {
   "metadata": {
    "ExecuteTime": {
     "end_time": "2025-01-11T14:11:49.563904500Z",
     "start_time": "2025-01-10T15:47:48.179127Z"
    }
   },
   "cell_type": "code",
   "source": "policy_Q_learning,V_Q_learing=recover_policy_V(Q_Q,pars)",
   "id": "31421450cb231027",
   "outputs": [],
   "execution_count": 28
  },
  {
   "metadata": {
    "ExecuteTime": {
     "end_time": "2025-01-11T14:11:49.563904500Z",
     "start_time": "2025-01-10T15:47:48.288643Z"
    }
   },
   "cell_type": "code",
   "source": "plot_value_dyn(V_Q_learing, 0, 5,\"State value function GPI-V_Q_learning\")",
   "id": "a6173b8879f65520",
   "outputs": [
    {
     "data": {
      "application/vnd.plotly.v1+json": {
       "data": [
        {
         "coloraxis": "coloraxis",
         "name": "0",
         "x": [
          0,
          1,
          2,
          3,
          4,
          5,
          6,
          7,
          8,
          9,
          10
         ],
         "y": [
          0,
          1,
          2,
          3,
          4,
          5,
          6,
          7,
          8,
          9,
          10
         ],
         "z": [
          [
           0.0,
           0.0,
           0.0,
           0.0,
           0.0,
           0.0,
           0.0,
           0.0,
           0.0,
           0.0,
           0.0
          ],
          [
           0.0,
           0.0,
           0.0,
           0.0,
           0.0,
           0.0,
           0.0,
           0.0,
           0.0,
           0.0,
           0.0
          ],
          [
           0.0,
           0.0,
           0.0,
           0.0,
           0.0,
           0.0,
           0.0,
           0.0,
           0.0,
           0.0,
           0.0
          ],
          [
           0.0,
           0.0,
           0.0,
           0.0,
           0.0,
           0.0,
           0.0,
           0.0,
           0.0,
           0.0,
           0.0
          ],
          [
           0.0,
           0.0,
           0.0,
           0.0,
           0.0,
           0.0,
           0.0,
           0.0,
           0.0,
           0.0,
           0.0
          ],
          [
           0.0,
           0.0,
           0.0,
           0.0,
           0.0,
           0.0,
           0.0,
           0.0,
           0.0,
           0.0,
           0.0
          ],
          [
           0.0,
           0.0,
           0.0,
           0.0,
           0.0,
           0.0,
           0.0,
           0.0,
           0.0,
           0.0,
           0.0
          ],
          [
           0.0,
           0.0,
           0.0,
           0.0,
           0.0,
           0.0,
           0.0,
           0.0,
           0.0,
           0.0,
           0.0
          ],
          [
           0.0,
           0.0,
           0.0,
           0.0,
           0.0,
           0.0,
           0.0,
           0.0,
           0.0,
           0.0,
           0.0
          ],
          [
           0.0,
           0.0,
           0.0,
           0.0,
           0.0,
           0.0,
           0.0,
           0.0,
           0.0,
           0.0,
           0.0
          ],
          [
           0.0,
           0.0,
           0.0,
           0.0,
           0.0,
           0.0,
           0.0,
           0.0,
           0.0,
           0.0,
           0.0
          ]
         ],
         "type": "heatmap",
         "xaxis": "x",
         "yaxis": "y",
         "hovertemplate": "Temperature: %{x}<br>Humidity: %{y}<br>Value: %{z}<extra></extra>"
        }
       ],
       "layout": {
        "template": {
         "data": {
          "histogram2dcontour": [
           {
            "type": "histogram2dcontour",
            "colorbar": {
             "outlinewidth": 0,
             "ticks": ""
            },
            "colorscale": [
             [
              0.0,
              "#0d0887"
             ],
             [
              0.1111111111111111,
              "#46039f"
             ],
             [
              0.2222222222222222,
              "#7201a8"
             ],
             [
              0.3333333333333333,
              "#9c179e"
             ],
             [
              0.4444444444444444,
              "#bd3786"
             ],
             [
              0.5555555555555556,
              "#d8576b"
             ],
             [
              0.6666666666666666,
              "#ed7953"
             ],
             [
              0.7777777777777778,
              "#fb9f3a"
             ],
             [
              0.8888888888888888,
              "#fdca26"
             ],
             [
              1.0,
              "#f0f921"
             ]
            ]
           }
          ],
          "choropleth": [
           {
            "type": "choropleth",
            "colorbar": {
             "outlinewidth": 0,
             "ticks": ""
            }
           }
          ],
          "histogram2d": [
           {
            "type": "histogram2d",
            "colorbar": {
             "outlinewidth": 0,
             "ticks": ""
            },
            "colorscale": [
             [
              0.0,
              "#0d0887"
             ],
             [
              0.1111111111111111,
              "#46039f"
             ],
             [
              0.2222222222222222,
              "#7201a8"
             ],
             [
              0.3333333333333333,
              "#9c179e"
             ],
             [
              0.4444444444444444,
              "#bd3786"
             ],
             [
              0.5555555555555556,
              "#d8576b"
             ],
             [
              0.6666666666666666,
              "#ed7953"
             ],
             [
              0.7777777777777778,
              "#fb9f3a"
             ],
             [
              0.8888888888888888,
              "#fdca26"
             ],
             [
              1.0,
              "#f0f921"
             ]
            ]
           }
          ],
          "heatmap": [
           {
            "type": "heatmap",
            "colorbar": {
             "outlinewidth": 0,
             "ticks": ""
            },
            "colorscale": [
             [
              0.0,
              "#0d0887"
             ],
             [
              0.1111111111111111,
              "#46039f"
             ],
             [
              0.2222222222222222,
              "#7201a8"
             ],
             [
              0.3333333333333333,
              "#9c179e"
             ],
             [
              0.4444444444444444,
              "#bd3786"
             ],
             [
              0.5555555555555556,
              "#d8576b"
             ],
             [
              0.6666666666666666,
              "#ed7953"
             ],
             [
              0.7777777777777778,
              "#fb9f3a"
             ],
             [
              0.8888888888888888,
              "#fdca26"
             ],
             [
              1.0,
              "#f0f921"
             ]
            ]
           }
          ],
          "heatmapgl": [
           {
            "type": "heatmapgl",
            "colorbar": {
             "outlinewidth": 0,
             "ticks": ""
            },
            "colorscale": [
             [
              0.0,
              "#0d0887"
             ],
             [
              0.1111111111111111,
              "#46039f"
             ],
             [
              0.2222222222222222,
              "#7201a8"
             ],
             [
              0.3333333333333333,
              "#9c179e"
             ],
             [
              0.4444444444444444,
              "#bd3786"
             ],
             [
              0.5555555555555556,
              "#d8576b"
             ],
             [
              0.6666666666666666,
              "#ed7953"
             ],
             [
              0.7777777777777778,
              "#fb9f3a"
             ],
             [
              0.8888888888888888,
              "#fdca26"
             ],
             [
              1.0,
              "#f0f921"
             ]
            ]
           }
          ],
          "contourcarpet": [
           {
            "type": "contourcarpet",
            "colorbar": {
             "outlinewidth": 0,
             "ticks": ""
            }
           }
          ],
          "contour": [
           {
            "type": "contour",
            "colorbar": {
             "outlinewidth": 0,
             "ticks": ""
            },
            "colorscale": [
             [
              0.0,
              "#0d0887"
             ],
             [
              0.1111111111111111,
              "#46039f"
             ],
             [
              0.2222222222222222,
              "#7201a8"
             ],
             [
              0.3333333333333333,
              "#9c179e"
             ],
             [
              0.4444444444444444,
              "#bd3786"
             ],
             [
              0.5555555555555556,
              "#d8576b"
             ],
             [
              0.6666666666666666,
              "#ed7953"
             ],
             [
              0.7777777777777778,
              "#fb9f3a"
             ],
             [
              0.8888888888888888,
              "#fdca26"
             ],
             [
              1.0,
              "#f0f921"
             ]
            ]
           }
          ],
          "surface": [
           {
            "type": "surface",
            "colorbar": {
             "outlinewidth": 0,
             "ticks": ""
            },
            "colorscale": [
             [
              0.0,
              "#0d0887"
             ],
             [
              0.1111111111111111,
              "#46039f"
             ],
             [
              0.2222222222222222,
              "#7201a8"
             ],
             [
              0.3333333333333333,
              "#9c179e"
             ],
             [
              0.4444444444444444,
              "#bd3786"
             ],
             [
              0.5555555555555556,
              "#d8576b"
             ],
             [
              0.6666666666666666,
              "#ed7953"
             ],
             [
              0.7777777777777778,
              "#fb9f3a"
             ],
             [
              0.8888888888888888,
              "#fdca26"
             ],
             [
              1.0,
              "#f0f921"
             ]
            ]
           }
          ],
          "mesh3d": [
           {
            "type": "mesh3d",
            "colorbar": {
             "outlinewidth": 0,
             "ticks": ""
            }
           }
          ],
          "scatter": [
           {
            "fillpattern": {
             "fillmode": "overlay",
             "size": 10,
             "solidity": 0.2
            },
            "type": "scatter"
           }
          ],
          "parcoords": [
           {
            "type": "parcoords",
            "line": {
             "colorbar": {
              "outlinewidth": 0,
              "ticks": ""
             }
            }
           }
          ],
          "scatterpolargl": [
           {
            "type": "scatterpolargl",
            "marker": {
             "colorbar": {
              "outlinewidth": 0,
              "ticks": ""
             }
            }
           }
          ],
          "bar": [
           {
            "error_x": {
             "color": "#2a3f5f"
            },
            "error_y": {
             "color": "#2a3f5f"
            },
            "marker": {
             "line": {
              "color": "#E5ECF6",
              "width": 0.5
             },
             "pattern": {
              "fillmode": "overlay",
              "size": 10,
              "solidity": 0.2
             }
            },
            "type": "bar"
           }
          ],
          "scattergeo": [
           {
            "type": "scattergeo",
            "marker": {
             "colorbar": {
              "outlinewidth": 0,
              "ticks": ""
             }
            }
           }
          ],
          "scatterpolar": [
           {
            "type": "scatterpolar",
            "marker": {
             "colorbar": {
              "outlinewidth": 0,
              "ticks": ""
             }
            }
           }
          ],
          "histogram": [
           {
            "marker": {
             "pattern": {
              "fillmode": "overlay",
              "size": 10,
              "solidity": 0.2
             }
            },
            "type": "histogram"
           }
          ],
          "scattergl": [
           {
            "type": "scattergl",
            "marker": {
             "colorbar": {
              "outlinewidth": 0,
              "ticks": ""
             }
            }
           }
          ],
          "scatter3d": [
           {
            "type": "scatter3d",
            "line": {
             "colorbar": {
              "outlinewidth": 0,
              "ticks": ""
             }
            },
            "marker": {
             "colorbar": {
              "outlinewidth": 0,
              "ticks": ""
             }
            }
           }
          ],
          "scattermapbox": [
           {
            "type": "scattermapbox",
            "marker": {
             "colorbar": {
              "outlinewidth": 0,
              "ticks": ""
             }
            }
           }
          ],
          "scatterternary": [
           {
            "type": "scatterternary",
            "marker": {
             "colorbar": {
              "outlinewidth": 0,
              "ticks": ""
             }
            }
           }
          ],
          "scattercarpet": [
           {
            "type": "scattercarpet",
            "marker": {
             "colorbar": {
              "outlinewidth": 0,
              "ticks": ""
             }
            }
           }
          ],
          "carpet": [
           {
            "aaxis": {
             "endlinecolor": "#2a3f5f",
             "gridcolor": "white",
             "linecolor": "white",
             "minorgridcolor": "white",
             "startlinecolor": "#2a3f5f"
            },
            "baxis": {
             "endlinecolor": "#2a3f5f",
             "gridcolor": "white",
             "linecolor": "white",
             "minorgridcolor": "white",
             "startlinecolor": "#2a3f5f"
            },
            "type": "carpet"
           }
          ],
          "table": [
           {
            "cells": {
             "fill": {
              "color": "#EBF0F8"
             },
             "line": {
              "color": "white"
             }
            },
            "header": {
             "fill": {
              "color": "#C8D4E3"
             },
             "line": {
              "color": "white"
             }
            },
            "type": "table"
           }
          ],
          "barpolar": [
           {
            "marker": {
             "line": {
              "color": "#E5ECF6",
              "width": 0.5
             },
             "pattern": {
              "fillmode": "overlay",
              "size": 10,
              "solidity": 0.2
             }
            },
            "type": "barpolar"
           }
          ],
          "pie": [
           {
            "automargin": true,
            "type": "pie"
           }
          ]
         },
         "layout": {
          "autotypenumbers": "strict",
          "colorway": [
           "#636efa",
           "#EF553B",
           "#00cc96",
           "#ab63fa",
           "#FFA15A",
           "#19d3f3",
           "#FF6692",
           "#B6E880",
           "#FF97FF",
           "#FECB52"
          ],
          "font": {
           "color": "#2a3f5f"
          },
          "hovermode": "closest",
          "hoverlabel": {
           "align": "left"
          },
          "paper_bgcolor": "white",
          "plot_bgcolor": "#E5ECF6",
          "polar": {
           "bgcolor": "#E5ECF6",
           "angularaxis": {
            "gridcolor": "white",
            "linecolor": "white",
            "ticks": ""
           },
           "radialaxis": {
            "gridcolor": "white",
            "linecolor": "white",
            "ticks": ""
           }
          },
          "ternary": {
           "bgcolor": "#E5ECF6",
           "aaxis": {
            "gridcolor": "white",
            "linecolor": "white",
            "ticks": ""
           },
           "baxis": {
            "gridcolor": "white",
            "linecolor": "white",
            "ticks": ""
           },
           "caxis": {
            "gridcolor": "white",
            "linecolor": "white",
            "ticks": ""
           }
          },
          "coloraxis": {
           "colorbar": {
            "outlinewidth": 0,
            "ticks": ""
           }
          },
          "colorscale": {
           "sequential": [
            [
             0.0,
             "#0d0887"
            ],
            [
             0.1111111111111111,
             "#46039f"
            ],
            [
             0.2222222222222222,
             "#7201a8"
            ],
            [
             0.3333333333333333,
             "#9c179e"
            ],
            [
             0.4444444444444444,
             "#bd3786"
            ],
            [
             0.5555555555555556,
             "#d8576b"
            ],
            [
             0.6666666666666666,
             "#ed7953"
            ],
            [
             0.7777777777777778,
             "#fb9f3a"
            ],
            [
             0.8888888888888888,
             "#fdca26"
            ],
            [
             1.0,
             "#f0f921"
            ]
           ],
           "sequentialminus": [
            [
             0.0,
             "#0d0887"
            ],
            [
             0.1111111111111111,
             "#46039f"
            ],
            [
             0.2222222222222222,
             "#7201a8"
            ],
            [
             0.3333333333333333,
             "#9c179e"
            ],
            [
             0.4444444444444444,
             "#bd3786"
            ],
            [
             0.5555555555555556,
             "#d8576b"
            ],
            [
             0.6666666666666666,
             "#ed7953"
            ],
            [
             0.7777777777777778,
             "#fb9f3a"
            ],
            [
             0.8888888888888888,
             "#fdca26"
            ],
            [
             1.0,
             "#f0f921"
            ]
           ],
           "diverging": [
            [
             0,
             "#8e0152"
            ],
            [
             0.1,
             "#c51b7d"
            ],
            [
             0.2,
             "#de77ae"
            ],
            [
             0.3,
             "#f1b6da"
            ],
            [
             0.4,
             "#fde0ef"
            ],
            [
             0.5,
             "#f7f7f7"
            ],
            [
             0.6,
             "#e6f5d0"
            ],
            [
             0.7,
             "#b8e186"
            ],
            [
             0.8,
             "#7fbc41"
            ],
            [
             0.9,
             "#4d9221"
            ],
            [
             1,
             "#276419"
            ]
           ]
          },
          "xaxis": {
           "gridcolor": "white",
           "linecolor": "white",
           "ticks": "",
           "title": {
            "standoff": 15
           },
           "zerolinecolor": "white",
           "automargin": true,
           "zerolinewidth": 2
          },
          "yaxis": {
           "gridcolor": "white",
           "linecolor": "white",
           "ticks": "",
           "title": {
            "standoff": 15
           },
           "zerolinecolor": "white",
           "automargin": true,
           "zerolinewidth": 2
          },
          "scene": {
           "xaxis": {
            "backgroundcolor": "#E5ECF6",
            "gridcolor": "white",
            "linecolor": "white",
            "showbackground": true,
            "ticks": "",
            "zerolinecolor": "white",
            "gridwidth": 2
           },
           "yaxis": {
            "backgroundcolor": "#E5ECF6",
            "gridcolor": "white",
            "linecolor": "white",
            "showbackground": true,
            "ticks": "",
            "zerolinecolor": "white",
            "gridwidth": 2
           },
           "zaxis": {
            "backgroundcolor": "#E5ECF6",
            "gridcolor": "white",
            "linecolor": "white",
            "showbackground": true,
            "ticks": "",
            "zerolinecolor": "white",
            "gridwidth": 2
           }
          },
          "shapedefaults": {
           "line": {
            "color": "#2a3f5f"
           }
          },
          "annotationdefaults": {
           "arrowcolor": "#2a3f5f",
           "arrowhead": 0,
           "arrowwidth": 1
          },
          "geo": {
           "bgcolor": "white",
           "landcolor": "#E5ECF6",
           "subunitcolor": "white",
           "showland": true,
           "showlakes": true,
           "lakecolor": "white"
          },
          "title": {
           "x": 0.05
          },
          "mapbox": {
           "style": "light"
          }
         }
        },
        "xaxis": {
         "anchor": "y",
         "domain": [
          0.0,
          1.0
         ],
         "scaleanchor": "y",
         "constrain": "domain",
         "title": {
          "text": "Temperature"
         },
         "tickmode": "array",
         "tickvals": [
          0,
          1,
          2,
          3,
          4,
          5,
          6,
          7,
          8,
          9,
          10
         ],
         "ticktext": [
          "0",
          "1",
          "2",
          "3",
          "4",
          "5",
          "6",
          "7",
          "8",
          "9",
          "10"
         ],
         "scaleratio": 1
        },
        "yaxis": {
         "anchor": "x",
         "domain": [
          0.0,
          1.0
         ],
         "autorange": "reversed",
         "constrain": "domain",
         "title": {
          "text": "Humidity"
         },
         "tickmode": "array",
         "tickvals": [
          0,
          1,
          2,
          3,
          4,
          5,
          6,
          7,
          8,
          9,
          10
         ],
         "ticktext": [
          "10",
          "9",
          "8",
          "7",
          "6",
          "5",
          "4",
          "3",
          "2",
          "1",
          "0"
         ]
        },
        "coloraxis": {
         "colorbar": {
          "title": {
           "text": "Value"
          },
          "x": 1
         },
         "colorscale": [
          [
           0.0,
           "rgba(57,59,121,1.0)"
          ],
          [
           0.05263157894736842,
           "rgba(82,84,163,1.0)"
          ],
          [
           0.10526315789473684,
           "rgba(107,110,207,1.0)"
          ],
          [
           0.15789473684210525,
           "rgba(156,158,222,1.0)"
          ],
          [
           0.21052631578947367,
           "rgba(99,121,57,1.0)"
          ],
          [
           0.2631578947368421,
           "rgba(140,162,82,1.0)"
          ],
          [
           0.3157894736842105,
           "rgba(181,207,107,1.0)"
          ],
          [
           0.3684210526315789,
           "rgba(206,219,156,1.0)"
          ],
          [
           0.42105263157894735,
           "rgba(140,109,49,1.0)"
          ],
          [
           0.47368421052631576,
           "rgba(189,158,57,1.0)"
          ],
          [
           0.5263157894736842,
           "rgba(231,186,82,1.0)"
          ],
          [
           0.5789473684210527,
           "rgba(231,203,148,1.0)"
          ],
          [
           0.631578947368421,
           "rgba(132,60,57,1.0)"
          ],
          [
           0.6842105263157895,
           "rgba(173,73,74,1.0)"
          ],
          [
           0.7368421052631579,
           "rgba(214,97,107,1.0)"
          ],
          [
           0.7894736842105263,
           "rgba(231,150,156,1.0)"
          ],
          [
           0.8421052631578947,
           "rgba(123,65,115,1.0)"
          ],
          [
           0.8947368421052632,
           "rgba(165,81,148,1.0)"
          ],
          [
           0.9473684210526315,
           "rgba(206,109,189,1.0)"
          ],
          [
           1.0,
           "rgba(222,158,214,1.0)"
          ]
         ],
         "cmin": -100,
         "cmax": 100
        },
        "title": {
         "text": "State value function GPI-V_Q_learning",
         "x": 0.5,
         "y": 0.85
        },
        "shapes": [
         {
          "line": {
           "color": "black",
           "width": 2
          },
          "type": "line",
          "x0": -0.5,
          "x1": -0.5,
          "y0": -0.5,
          "y1": 10.5
         },
         {
          "line": {
           "color": "black",
           "width": 2
          },
          "type": "line",
          "x0": -0.5,
          "x1": 10.5,
          "y0": -0.5,
          "y1": -0.5
         },
         {
          "line": {
           "color": "black",
           "width": 2
          },
          "type": "line",
          "x0": 0.5,
          "x1": 0.5,
          "y0": -0.5,
          "y1": 10.5
         },
         {
          "line": {
           "color": "black",
           "width": 2
          },
          "type": "line",
          "x0": -0.5,
          "x1": 10.5,
          "y0": 0.5,
          "y1": 0.5
         },
         {
          "line": {
           "color": "black",
           "width": 2
          },
          "type": "line",
          "x0": 1.5,
          "x1": 1.5,
          "y0": -0.5,
          "y1": 10.5
         },
         {
          "line": {
           "color": "black",
           "width": 2
          },
          "type": "line",
          "x0": -0.5,
          "x1": 10.5,
          "y0": 1.5,
          "y1": 1.5
         },
         {
          "line": {
           "color": "black",
           "width": 2
          },
          "type": "line",
          "x0": 2.5,
          "x1": 2.5,
          "y0": -0.5,
          "y1": 10.5
         },
         {
          "line": {
           "color": "black",
           "width": 2
          },
          "type": "line",
          "x0": -0.5,
          "x1": 10.5,
          "y0": 2.5,
          "y1": 2.5
         },
         {
          "line": {
           "color": "black",
           "width": 2
          },
          "type": "line",
          "x0": 3.5,
          "x1": 3.5,
          "y0": -0.5,
          "y1": 10.5
         },
         {
          "line": {
           "color": "black",
           "width": 2
          },
          "type": "line",
          "x0": -0.5,
          "x1": 10.5,
          "y0": 3.5,
          "y1": 3.5
         },
         {
          "line": {
           "color": "black",
           "width": 2
          },
          "type": "line",
          "x0": 4.5,
          "x1": 4.5,
          "y0": -0.5,
          "y1": 10.5
         },
         {
          "line": {
           "color": "black",
           "width": 2
          },
          "type": "line",
          "x0": -0.5,
          "x1": 10.5,
          "y0": 4.5,
          "y1": 4.5
         },
         {
          "line": {
           "color": "black",
           "width": 2
          },
          "type": "line",
          "x0": 5.5,
          "x1": 5.5,
          "y0": -0.5,
          "y1": 10.5
         },
         {
          "line": {
           "color": "black",
           "width": 2
          },
          "type": "line",
          "x0": -0.5,
          "x1": 10.5,
          "y0": 5.5,
          "y1": 5.5
         },
         {
          "line": {
           "color": "black",
           "width": 2
          },
          "type": "line",
          "x0": 6.5,
          "x1": 6.5,
          "y0": -0.5,
          "y1": 10.5
         },
         {
          "line": {
           "color": "black",
           "width": 2
          },
          "type": "line",
          "x0": -0.5,
          "x1": 10.5,
          "y0": 6.5,
          "y1": 6.5
         },
         {
          "line": {
           "color": "black",
           "width": 2
          },
          "type": "line",
          "x0": 7.5,
          "x1": 7.5,
          "y0": -0.5,
          "y1": 10.5
         },
         {
          "line": {
           "color": "black",
           "width": 2
          },
          "type": "line",
          "x0": -0.5,
          "x1": 10.5,
          "y0": 7.5,
          "y1": 7.5
         },
         {
          "line": {
           "color": "black",
           "width": 2
          },
          "type": "line",
          "x0": 8.5,
          "x1": 8.5,
          "y0": -0.5,
          "y1": 10.5
         },
         {
          "line": {
           "color": "black",
           "width": 2
          },
          "type": "line",
          "x0": -0.5,
          "x1": 10.5,
          "y0": 8.5,
          "y1": 8.5
         },
         {
          "line": {
           "color": "black",
           "width": 2
          },
          "type": "line",
          "x0": 9.5,
          "x1": 9.5,
          "y0": -0.5,
          "y1": 10.5
         },
         {
          "line": {
           "color": "black",
           "width": 2
          },
          "type": "line",
          "x0": -0.5,
          "x1": 10.5,
          "y0": 9.5,
          "y1": 9.5
         }
        ],
        "width": 500,
        "height": 500,
        "sliders": [
         {
          "currentvalue": {
           "prefix": "Growth: "
          },
          "pad": {
           "t": 15
          },
          "steps": [
           {
            "args": [
             {
              "z": [
               [
                [
                 0.0,
                 0.0,
                 0.0,
                 0.0,
                 0.0,
                 0.0,
                 0.0,
                 0.0,
                 0.0,
                 0.0,
                 0.0
                ],
                [
                 0.0,
                 0.0,
                 0.0,
                 0.0,
                 0.0,
                 0.0,
                 0.0,
                 0.0,
                 0.0,
                 0.0,
                 0.0
                ],
                [
                 0.0,
                 0.0,
                 0.0,
                 0.0,
                 0.0,
                 0.0,
                 0.0,
                 0.0,
                 0.0,
                 0.0,
                 0.0
                ],
                [
                 0.0,
                 0.0,
                 0.0,
                 0.0,
                 0.0,
                 0.0,
                 0.0,
                 0.0,
                 0.0,
                 0.0,
                 0.0
                ],
                [
                 0.0,
                 0.0,
                 0.0,
                 0.0,
                 0.0,
                 0.0,
                 0.0,
                 0.0,
                 0.0,
                 0.0,
                 0.0
                ],
                [
                 0.0,
                 0.0,
                 0.0,
                 0.0,
                 0.0,
                 0.0,
                 0.0,
                 0.0,
                 0.0,
                 0.0,
                 0.0
                ],
                [
                 0.0,
                 0.0,
                 0.0,
                 0.0,
                 0.0,
                 0.0,
                 0.0,
                 0.0,
                 0.0,
                 0.0,
                 0.0
                ],
                [
                 0.0,
                 0.0,
                 0.0,
                 0.0,
                 0.0,
                 0.0,
                 0.0,
                 0.0,
                 0.0,
                 0.0,
                 0.0
                ],
                [
                 0.0,
                 0.0,
                 0.0,
                 0.0,
                 0.0,
                 0.0,
                 0.0,
                 0.0,
                 0.0,
                 0.0,
                 0.0
                ],
                [
                 0.0,
                 0.0,
                 0.0,
                 0.0,
                 0.0,
                 0.0,
                 0.0,
                 0.0,
                 0.0,
                 0.0,
                 0.0
                ],
                [
                 0.0,
                 0.0,
                 0.0,
                 0.0,
                 0.0,
                 0.0,
                 0.0,
                 0.0,
                 0.0,
                 0.0,
                 0.0
                ]
               ]
              ]
             }
            ],
            "label": "0",
            "method": "restyle"
           },
           {
            "args": [
             {
              "z": [
               [
                [
                 0.0,
                 0.0,
                 0.0,
                 0.0,
                 0.0,
                 0.0,
                 0.0,
                 0.0,
                 0.0,
                 0.0,
                 0.0
                ],
                [
                 0.0,
                 0.0,
                 0.0,
                 0.0,
                 0.0,
                 0.0,
                 0.0,
                 0.0,
                 0.0,
                 0.0,
                 0.0
                ],
                [
                 0.0,
                 0.0,
                 0.0,
                 0.0,
                 0.0,
                 0.0,
                 0.0,
                 0.0,
                 0.0,
                 0.0,
                 0.0
                ],
                [
                 0.0,
                 0.0,
                 0.0,
                 0.0,
                 0.0,
                 0.0,
                 0.0,
                 0.0,
                 0.0,
                 0.0,
                 0.0
                ],
                [
                 0.0,
                 0.0,
                 0.0,
                 0.0,
                 0.0,
                 0.0,
                 0.0,
                 0.0,
                 0.0,
                 0.0,
                 0.0
                ],
                [
                 0.0,
                 0.0,
                 0.0,
                 0.0,
                 0.0,
                 0.0,
                 0.0,
                 0.0,
                 0.0,
                 0.0,
                 0.0
                ],
                [
                 0.0,
                 0.0,
                 0.0,
                 0.0,
                 0.0,
                 0.0,
                 0.0,
                 0.0,
                 0.0,
                 0.0,
                 0.0
                ],
                [
                 0.0,
                 0.0,
                 0.0,
                 0.0,
                 0.0,
                 0.0,
                 0.0,
                 0.0,
                 0.0,
                 0.0,
                 0.0
                ],
                [
                 0.0,
                 0.0,
                 0.0,
                 0.0,
                 0.0,
                 0.0,
                 0.0,
                 0.0,
                 0.0,
                 0.0,
                 0.0
                ],
                [
                 0.0,
                 0.0,
                 0.0,
                 0.0,
                 0.0,
                 0.0,
                 0.0,
                 0.0,
                 0.0,
                 0.0,
                 0.0
                ],
                [
                 0.0,
                 0.0,
                 0.0,
                 0.0,
                 0.0,
                 0.0,
                 0.0,
                 0.0,
                 0.0,
                 0.0,
                 0.0
                ]
               ]
              ]
             }
            ],
            "label": "1",
            "method": "restyle"
           },
           {
            "args": [
             {
              "z": [
               [
                [
                 0.0,
                 0.0,
                 0.0,
                 0.0,
                 0.0,
                 0.0,
                 0.0,
                 0.0,
                 0.0,
                 0.0,
                 0.0
                ],
                [
                 0.0,
                 0.0,
                 0.0,
                 0.0,
                 0.0,
                 0.0,
                 0.0,
                 0.0,
                 0.0,
                 0.0,
                 0.0
                ],
                [
                 0.0,
                 0.0,
                 0.0,
                 0.0,
                 0.0,
                 0.0,
                 0.0,
                 0.0,
                 0.0,
                 0.0,
                 0.0
                ],
                [
                 0.0,
                 0.0,
                 0.0,
                 0.0,
                 0.0,
                 0.0,
                 0.0,
                 0.0,
                 0.0,
                 0.0,
                 0.0
                ],
                [
                 0.0,
                 0.0,
                 0.0,
                 0.0,
                 0.0,
                 0.0,
                 0.0,
                 0.0,
                 0.0,
                 0.0,
                 0.0
                ],
                [
                 0.0,
                 0.0,
                 0.0,
                 0.0,
                 0.0,
                 0.0,
                 0.0,
                 0.0,
                 0.0,
                 0.0,
                 0.0
                ],
                [
                 0.0,
                 0.0,
                 0.0,
                 0.0,
                 0.0,
                 0.0,
                 0.0,
                 0.0,
                 0.0,
                 0.0,
                 0.0
                ],
                [
                 0.0,
                 0.0,
                 0.0,
                 0.0,
                 0.0,
                 0.0,
                 0.0,
                 0.0,
                 0.0,
                 0.0,
                 0.0
                ],
                [
                 0.0,
                 0.0,
                 0.0,
                 0.0,
                 0.0,
                 0.0,
                 0.0,
                 0.0,
                 0.0,
                 0.0,
                 0.0
                ],
                [
                 0.0,
                 0.0,
                 0.0,
                 0.0,
                 0.0,
                 0.0,
                 0.0,
                 0.0,
                 0.0,
                 0.0,
                 0.0
                ],
                [
                 0.0,
                 0.0,
                 0.0,
                 0.0,
                 0.0,
                 0.0,
                 0.0,
                 0.0,
                 0.0,
                 0.0,
                 0.0
                ]
               ]
              ]
             }
            ],
            "label": "2",
            "method": "restyle"
           },
           {
            "args": [
             {
              "z": [
               [
                [
                 0.0,
                 0.0,
                 0.0,
                 0.0,
                 0.0,
                 0.0,
                 0.0,
                 0.0,
                 0.0,
                 0.0,
                 0.0
                ],
                [
                 0.0,
                 0.0,
                 0.0,
                 0.0,
                 0.0,
                 0.0,
                 0.0,
                 0.0,
                 0.0,
                 0.0,
                 0.0
                ],
                [
                 0.0,
                 0.0,
                 0.0,
                 0.0,
                 0.0,
                 0.0,
                 0.0,
                 0.0,
                 0.0,
                 0.0,
                 0.0
                ],
                [
                 0.0,
                 0.0,
                 0.0,
                 0.0,
                 0.0,
                 0.0,
                 0.0,
                 0.0,
                 0.0,
                 0.0,
                 0.0
                ],
                [
                 0.0,
                 0.0,
                 0.0,
                 0.0,
                 0.0,
                 0.0,
                 0.0,
                 0.0,
                 0.0,
                 0.0,
                 0.0
                ],
                [
                 0.0,
                 0.0,
                 0.0,
                 0.0,
                 0.0,
                 0.0,
                 0.0,
                 0.0,
                 0.0,
                 0.0,
                 0.0
                ],
                [
                 0.0,
                 0.0,
                 0.0,
                 0.0,
                 0.0,
                 0.0,
                 0.0,
                 0.0,
                 0.0,
                 0.0,
                 0.0
                ],
                [
                 0.0,
                 0.0,
                 0.0,
                 0.0,
                 0.0,
                 0.0,
                 0.0,
                 0.0,
                 0.0,
                 0.0,
                 0.0
                ],
                [
                 0.0,
                 0.0,
                 0.0,
                 0.0,
                 0.0,
                 0.0,
                 0.0,
                 0.0,
                 0.0,
                 0.0,
                 0.0
                ],
                [
                 0.0,
                 0.0,
                 0.0,
                 0.0,
                 0.0,
                 0.0,
                 0.0,
                 0.0,
                 0.0,
                 0.0,
                 0.0
                ],
                [
                 0.0,
                 0.0,
                 0.0,
                 0.0,
                 0.0,
                 0.0,
                 0.0,
                 0.0,
                 0.0,
                 0.0,
                 0.0
                ]
               ]
              ]
             }
            ],
            "label": "3",
            "method": "restyle"
           },
           {
            "args": [
             {
              "z": [
               [
                [
                 0.0,
                 0.0,
                 0.0,
                 0.0,
                 0.0,
                 0.0,
                 0.0,
                 0.0,
                 0.0,
                 0.0,
                 0.0
                ],
                [
                 0.0,
                 0.0,
                 0.0,
                 0.0,
                 0.0,
                 0.0,
                 0.0,
                 0.0,
                 0.0,
                 0.0,
                 0.0
                ],
                [
                 0.0,
                 0.0,
                 0.0,
                 0.0,
                 0.0,
                 0.0,
                 0.0,
                 0.0,
                 0.0,
                 0.0,
                 0.0
                ],
                [
                 0.0,
                 0.0,
                 0.0,
                 0.0,
                 0.0,
                 0.0,
                 0.0,
                 0.0,
                 0.0,
                 0.0,
                 0.0
                ],
                [
                 0.0,
                 0.0,
                 0.0,
                 0.0,
                 0.0,
                 0.0,
                 0.0,
                 0.0,
                 0.0,
                 0.0,
                 0.0
                ],
                [
                 0.0,
                 0.0,
                 0.0,
                 0.0,
                 0.0,
                 0.0,
                 0.0,
                 0.0,
                 0.0,
                 0.0,
                 0.0
                ],
                [
                 0.0,
                 0.0,
                 0.0,
                 0.0,
                 0.0,
                 0.0,
                 0.0,
                 0.0,
                 0.0,
                 0.0,
                 0.0
                ],
                [
                 0.0,
                 0.0,
                 0.0,
                 0.0,
                 0.0,
                 0.0,
                 0.0,
                 0.0,
                 0.0,
                 0.0,
                 0.0
                ],
                [
                 0.0,
                 0.0,
                 0.0,
                 0.0,
                 0.0,
                 0.0,
                 0.0,
                 0.0,
                 0.0,
                 0.0,
                 0.0
                ],
                [
                 0.0,
                 0.0,
                 0.0,
                 0.0,
                 0.0,
                 0.0,
                 0.0,
                 0.0,
                 0.0,
                 0.0,
                 0.0
                ],
                [
                 0.0,
                 0.0,
                 0.0,
                 0.0,
                 0.0,
                 0.0,
                 0.0,
                 0.0,
                 0.0,
                 0.0,
                 0.0
                ]
               ]
              ]
             }
            ],
            "label": "4",
            "method": "restyle"
           },
           {
            "args": [
             {
              "z": [
               [
                [
                 0.0,
                 0.0,
                 0.0,
                 0.0,
                 0.0,
                 0.0,
                 0.0,
                 0.0,
                 0.0,
                 0.0,
                 0.0
                ],
                [
                 0.0,
                 0.0,
                 0.0,
                 0.0,
                 0.0,
                 0.0,
                 0.0,
                 0.0,
                 0.0,
                 0.0,
                 0.0
                ],
                [
                 0.0,
                 0.0,
                 0.0,
                 0.0,
                 0.0,
                 0.0,
                 0.0,
                 0.0,
                 0.0,
                 0.0,
                 0.0
                ],
                [
                 0.0,
                 0.0,
                 0.0,
                 0.0,
                 0.0,
                 0.0,
                 0.0,
                 0.0,
                 0.0,
                 0.0,
                 0.0
                ],
                [
                 0.0,
                 0.0,
                 0.0,
                 0.0,
                 0.0,
                 0.0,
                 0.0,
                 0.0,
                 0.0,
                 0.0,
                 0.0
                ],
                [
                 0.0,
                 0.0,
                 0.0,
                 0.0,
                 0.0,
                 0.0,
                 0.0,
                 0.0,
                 0.0,
                 0.0,
                 0.0
                ],
                [
                 0.0,
                 0.0,
                 0.0,
                 0.0,
                 0.0,
                 0.0,
                 0.0,
                 0.0,
                 0.0,
                 0.0,
                 0.0
                ],
                [
                 0.0,
                 0.0,
                 0.0,
                 0.0,
                 0.0,
                 0.0,
                 0.0,
                 0.0,
                 0.0,
                 0.0,
                 0.0
                ],
                [
                 0.0,
                 0.0,
                 0.0,
                 0.0,
                 0.0,
                 0.0,
                 0.0,
                 0.0,
                 0.0,
                 0.0,
                 0.0
                ],
                [
                 0.0,
                 0.0,
                 0.0,
                 0.0,
                 0.0,
                 0.0,
                 0.0,
                 0.0,
                 0.0,
                 0.0,
                 0.0
                ],
                [
                 0.0,
                 0.0,
                 0.0,
                 0.0,
                 0.0,
                 0.0,
                 0.0,
                 0.0,
                 0.0,
                 0.0,
                 0.0
                ]
               ]
              ]
             }
            ],
            "label": "5",
            "method": "restyle"
           }
          ]
         }
        ]
       },
       "config": {
        "plotlyServerURL": "https://plot.ly"
       }
      },
      "text/html": [
       "<div>                            <div id=\"a3d65dcc-29e7-4f17-8b3b-02d659d8d1eb\" class=\"plotly-graph-div\" style=\"height:500px; width:500px;\"></div>            <script type=\"text/javascript\">                require([\"plotly\"], function(Plotly) {                    window.PLOTLYENV=window.PLOTLYENV || {};                                    if (document.getElementById(\"a3d65dcc-29e7-4f17-8b3b-02d659d8d1eb\")) {                    Plotly.newPlot(                        \"a3d65dcc-29e7-4f17-8b3b-02d659d8d1eb\",                        [{\"coloraxis\":\"coloraxis\",\"name\":\"0\",\"x\":[0,1,2,3,4,5,6,7,8,9,10],\"y\":[0,1,2,3,4,5,6,7,8,9,10],\"z\":[[0.0,0.0,0.0,0.0,0.0,0.0,0.0,0.0,0.0,0.0,0.0],[0.0,0.0,0.0,0.0,0.0,0.0,0.0,0.0,0.0,0.0,0.0],[0.0,0.0,0.0,0.0,0.0,0.0,0.0,0.0,0.0,0.0,0.0],[0.0,0.0,0.0,0.0,0.0,0.0,0.0,0.0,0.0,0.0,0.0],[0.0,0.0,0.0,0.0,0.0,0.0,0.0,0.0,0.0,0.0,0.0],[0.0,0.0,0.0,0.0,0.0,0.0,0.0,0.0,0.0,0.0,0.0],[0.0,0.0,0.0,0.0,0.0,0.0,0.0,0.0,0.0,0.0,0.0],[0.0,0.0,0.0,0.0,0.0,0.0,0.0,0.0,0.0,0.0,0.0],[0.0,0.0,0.0,0.0,0.0,0.0,0.0,0.0,0.0,0.0,0.0],[0.0,0.0,0.0,0.0,0.0,0.0,0.0,0.0,0.0,0.0,0.0],[0.0,0.0,0.0,0.0,0.0,0.0,0.0,0.0,0.0,0.0,0.0]],\"type\":\"heatmap\",\"xaxis\":\"x\",\"yaxis\":\"y\",\"hovertemplate\":\"Temperature: %{x}\\u003cbr\\u003eHumidity: %{y}\\u003cbr\\u003eValue: %{z}\\u003cextra\\u003e\\u003c\\u002fextra\\u003e\"}],                        {\"template\":{\"data\":{\"histogram2dcontour\":[{\"type\":\"histogram2dcontour\",\"colorbar\":{\"outlinewidth\":0,\"ticks\":\"\"},\"colorscale\":[[0.0,\"#0d0887\"],[0.1111111111111111,\"#46039f\"],[0.2222222222222222,\"#7201a8\"],[0.3333333333333333,\"#9c179e\"],[0.4444444444444444,\"#bd3786\"],[0.5555555555555556,\"#d8576b\"],[0.6666666666666666,\"#ed7953\"],[0.7777777777777778,\"#fb9f3a\"],[0.8888888888888888,\"#fdca26\"],[1.0,\"#f0f921\"]]}],\"choropleth\":[{\"type\":\"choropleth\",\"colorbar\":{\"outlinewidth\":0,\"ticks\":\"\"}}],\"histogram2d\":[{\"type\":\"histogram2d\",\"colorbar\":{\"outlinewidth\":0,\"ticks\":\"\"},\"colorscale\":[[0.0,\"#0d0887\"],[0.1111111111111111,\"#46039f\"],[0.2222222222222222,\"#7201a8\"],[0.3333333333333333,\"#9c179e\"],[0.4444444444444444,\"#bd3786\"],[0.5555555555555556,\"#d8576b\"],[0.6666666666666666,\"#ed7953\"],[0.7777777777777778,\"#fb9f3a\"],[0.8888888888888888,\"#fdca26\"],[1.0,\"#f0f921\"]]}],\"heatmap\":[{\"type\":\"heatmap\",\"colorbar\":{\"outlinewidth\":0,\"ticks\":\"\"},\"colorscale\":[[0.0,\"#0d0887\"],[0.1111111111111111,\"#46039f\"],[0.2222222222222222,\"#7201a8\"],[0.3333333333333333,\"#9c179e\"],[0.4444444444444444,\"#bd3786\"],[0.5555555555555556,\"#d8576b\"],[0.6666666666666666,\"#ed7953\"],[0.7777777777777778,\"#fb9f3a\"],[0.8888888888888888,\"#fdca26\"],[1.0,\"#f0f921\"]]}],\"heatmapgl\":[{\"type\":\"heatmapgl\",\"colorbar\":{\"outlinewidth\":0,\"ticks\":\"\"},\"colorscale\":[[0.0,\"#0d0887\"],[0.1111111111111111,\"#46039f\"],[0.2222222222222222,\"#7201a8\"],[0.3333333333333333,\"#9c179e\"],[0.4444444444444444,\"#bd3786\"],[0.5555555555555556,\"#d8576b\"],[0.6666666666666666,\"#ed7953\"],[0.7777777777777778,\"#fb9f3a\"],[0.8888888888888888,\"#fdca26\"],[1.0,\"#f0f921\"]]}],\"contourcarpet\":[{\"type\":\"contourcarpet\",\"colorbar\":{\"outlinewidth\":0,\"ticks\":\"\"}}],\"contour\":[{\"type\":\"contour\",\"colorbar\":{\"outlinewidth\":0,\"ticks\":\"\"},\"colorscale\":[[0.0,\"#0d0887\"],[0.1111111111111111,\"#46039f\"],[0.2222222222222222,\"#7201a8\"],[0.3333333333333333,\"#9c179e\"],[0.4444444444444444,\"#bd3786\"],[0.5555555555555556,\"#d8576b\"],[0.6666666666666666,\"#ed7953\"],[0.7777777777777778,\"#fb9f3a\"],[0.8888888888888888,\"#fdca26\"],[1.0,\"#f0f921\"]]}],\"surface\":[{\"type\":\"surface\",\"colorbar\":{\"outlinewidth\":0,\"ticks\":\"\"},\"colorscale\":[[0.0,\"#0d0887\"],[0.1111111111111111,\"#46039f\"],[0.2222222222222222,\"#7201a8\"],[0.3333333333333333,\"#9c179e\"],[0.4444444444444444,\"#bd3786\"],[0.5555555555555556,\"#d8576b\"],[0.6666666666666666,\"#ed7953\"],[0.7777777777777778,\"#fb9f3a\"],[0.8888888888888888,\"#fdca26\"],[1.0,\"#f0f921\"]]}],\"mesh3d\":[{\"type\":\"mesh3d\",\"colorbar\":{\"outlinewidth\":0,\"ticks\":\"\"}}],\"scatter\":[{\"fillpattern\":{\"fillmode\":\"overlay\",\"size\":10,\"solidity\":0.2},\"type\":\"scatter\"}],\"parcoords\":[{\"type\":\"parcoords\",\"line\":{\"colorbar\":{\"outlinewidth\":0,\"ticks\":\"\"}}}],\"scatterpolargl\":[{\"type\":\"scatterpolargl\",\"marker\":{\"colorbar\":{\"outlinewidth\":0,\"ticks\":\"\"}}}],\"bar\":[{\"error_x\":{\"color\":\"#2a3f5f\"},\"error_y\":{\"color\":\"#2a3f5f\"},\"marker\":{\"line\":{\"color\":\"#E5ECF6\",\"width\":0.5},\"pattern\":{\"fillmode\":\"overlay\",\"size\":10,\"solidity\":0.2}},\"type\":\"bar\"}],\"scattergeo\":[{\"type\":\"scattergeo\",\"marker\":{\"colorbar\":{\"outlinewidth\":0,\"ticks\":\"\"}}}],\"scatterpolar\":[{\"type\":\"scatterpolar\",\"marker\":{\"colorbar\":{\"outlinewidth\":0,\"ticks\":\"\"}}}],\"histogram\":[{\"marker\":{\"pattern\":{\"fillmode\":\"overlay\",\"size\":10,\"solidity\":0.2}},\"type\":\"histogram\"}],\"scattergl\":[{\"type\":\"scattergl\",\"marker\":{\"colorbar\":{\"outlinewidth\":0,\"ticks\":\"\"}}}],\"scatter3d\":[{\"type\":\"scatter3d\",\"line\":{\"colorbar\":{\"outlinewidth\":0,\"ticks\":\"\"}},\"marker\":{\"colorbar\":{\"outlinewidth\":0,\"ticks\":\"\"}}}],\"scattermapbox\":[{\"type\":\"scattermapbox\",\"marker\":{\"colorbar\":{\"outlinewidth\":0,\"ticks\":\"\"}}}],\"scatterternary\":[{\"type\":\"scatterternary\",\"marker\":{\"colorbar\":{\"outlinewidth\":0,\"ticks\":\"\"}}}],\"scattercarpet\":[{\"type\":\"scattercarpet\",\"marker\":{\"colorbar\":{\"outlinewidth\":0,\"ticks\":\"\"}}}],\"carpet\":[{\"aaxis\":{\"endlinecolor\":\"#2a3f5f\",\"gridcolor\":\"white\",\"linecolor\":\"white\",\"minorgridcolor\":\"white\",\"startlinecolor\":\"#2a3f5f\"},\"baxis\":{\"endlinecolor\":\"#2a3f5f\",\"gridcolor\":\"white\",\"linecolor\":\"white\",\"minorgridcolor\":\"white\",\"startlinecolor\":\"#2a3f5f\"},\"type\":\"carpet\"}],\"table\":[{\"cells\":{\"fill\":{\"color\":\"#EBF0F8\"},\"line\":{\"color\":\"white\"}},\"header\":{\"fill\":{\"color\":\"#C8D4E3\"},\"line\":{\"color\":\"white\"}},\"type\":\"table\"}],\"barpolar\":[{\"marker\":{\"line\":{\"color\":\"#E5ECF6\",\"width\":0.5},\"pattern\":{\"fillmode\":\"overlay\",\"size\":10,\"solidity\":0.2}},\"type\":\"barpolar\"}],\"pie\":[{\"automargin\":true,\"type\":\"pie\"}]},\"layout\":{\"autotypenumbers\":\"strict\",\"colorway\":[\"#636efa\",\"#EF553B\",\"#00cc96\",\"#ab63fa\",\"#FFA15A\",\"#19d3f3\",\"#FF6692\",\"#B6E880\",\"#FF97FF\",\"#FECB52\"],\"font\":{\"color\":\"#2a3f5f\"},\"hovermode\":\"closest\",\"hoverlabel\":{\"align\":\"left\"},\"paper_bgcolor\":\"white\",\"plot_bgcolor\":\"#E5ECF6\",\"polar\":{\"bgcolor\":\"#E5ECF6\",\"angularaxis\":{\"gridcolor\":\"white\",\"linecolor\":\"white\",\"ticks\":\"\"},\"radialaxis\":{\"gridcolor\":\"white\",\"linecolor\":\"white\",\"ticks\":\"\"}},\"ternary\":{\"bgcolor\":\"#E5ECF6\",\"aaxis\":{\"gridcolor\":\"white\",\"linecolor\":\"white\",\"ticks\":\"\"},\"baxis\":{\"gridcolor\":\"white\",\"linecolor\":\"white\",\"ticks\":\"\"},\"caxis\":{\"gridcolor\":\"white\",\"linecolor\":\"white\",\"ticks\":\"\"}},\"coloraxis\":{\"colorbar\":{\"outlinewidth\":0,\"ticks\":\"\"}},\"colorscale\":{\"sequential\":[[0.0,\"#0d0887\"],[0.1111111111111111,\"#46039f\"],[0.2222222222222222,\"#7201a8\"],[0.3333333333333333,\"#9c179e\"],[0.4444444444444444,\"#bd3786\"],[0.5555555555555556,\"#d8576b\"],[0.6666666666666666,\"#ed7953\"],[0.7777777777777778,\"#fb9f3a\"],[0.8888888888888888,\"#fdca26\"],[1.0,\"#f0f921\"]],\"sequentialminus\":[[0.0,\"#0d0887\"],[0.1111111111111111,\"#46039f\"],[0.2222222222222222,\"#7201a8\"],[0.3333333333333333,\"#9c179e\"],[0.4444444444444444,\"#bd3786\"],[0.5555555555555556,\"#d8576b\"],[0.6666666666666666,\"#ed7953\"],[0.7777777777777778,\"#fb9f3a\"],[0.8888888888888888,\"#fdca26\"],[1.0,\"#f0f921\"]],\"diverging\":[[0,\"#8e0152\"],[0.1,\"#c51b7d\"],[0.2,\"#de77ae\"],[0.3,\"#f1b6da\"],[0.4,\"#fde0ef\"],[0.5,\"#f7f7f7\"],[0.6,\"#e6f5d0\"],[0.7,\"#b8e186\"],[0.8,\"#7fbc41\"],[0.9,\"#4d9221\"],[1,\"#276419\"]]},\"xaxis\":{\"gridcolor\":\"white\",\"linecolor\":\"white\",\"ticks\":\"\",\"title\":{\"standoff\":15},\"zerolinecolor\":\"white\",\"automargin\":true,\"zerolinewidth\":2},\"yaxis\":{\"gridcolor\":\"white\",\"linecolor\":\"white\",\"ticks\":\"\",\"title\":{\"standoff\":15},\"zerolinecolor\":\"white\",\"automargin\":true,\"zerolinewidth\":2},\"scene\":{\"xaxis\":{\"backgroundcolor\":\"#E5ECF6\",\"gridcolor\":\"white\",\"linecolor\":\"white\",\"showbackground\":true,\"ticks\":\"\",\"zerolinecolor\":\"white\",\"gridwidth\":2},\"yaxis\":{\"backgroundcolor\":\"#E5ECF6\",\"gridcolor\":\"white\",\"linecolor\":\"white\",\"showbackground\":true,\"ticks\":\"\",\"zerolinecolor\":\"white\",\"gridwidth\":2},\"zaxis\":{\"backgroundcolor\":\"#E5ECF6\",\"gridcolor\":\"white\",\"linecolor\":\"white\",\"showbackground\":true,\"ticks\":\"\",\"zerolinecolor\":\"white\",\"gridwidth\":2}},\"shapedefaults\":{\"line\":{\"color\":\"#2a3f5f\"}},\"annotationdefaults\":{\"arrowcolor\":\"#2a3f5f\",\"arrowhead\":0,\"arrowwidth\":1},\"geo\":{\"bgcolor\":\"white\",\"landcolor\":\"#E5ECF6\",\"subunitcolor\":\"white\",\"showland\":true,\"showlakes\":true,\"lakecolor\":\"white\"},\"title\":{\"x\":0.05},\"mapbox\":{\"style\":\"light\"}}},\"xaxis\":{\"anchor\":\"y\",\"domain\":[0.0,1.0],\"scaleanchor\":\"y\",\"constrain\":\"domain\",\"title\":{\"text\":\"Temperature\"},\"tickmode\":\"array\",\"tickvals\":[0,1,2,3,4,5,6,7,8,9,10],\"ticktext\":[\"0\",\"1\",\"2\",\"3\",\"4\",\"5\",\"6\",\"7\",\"8\",\"9\",\"10\"],\"scaleratio\":1},\"yaxis\":{\"anchor\":\"x\",\"domain\":[0.0,1.0],\"autorange\":\"reversed\",\"constrain\":\"domain\",\"title\":{\"text\":\"Humidity\"},\"tickmode\":\"array\",\"tickvals\":[0,1,2,3,4,5,6,7,8,9,10],\"ticktext\":[\"10\",\"9\",\"8\",\"7\",\"6\",\"5\",\"4\",\"3\",\"2\",\"1\",\"0\"]},\"coloraxis\":{\"colorbar\":{\"title\":{\"text\":\"Value\"},\"x\":1},\"colorscale\":[[0.0,\"rgba(57,59,121,1.0)\"],[0.05263157894736842,\"rgba(82,84,163,1.0)\"],[0.10526315789473684,\"rgba(107,110,207,1.0)\"],[0.15789473684210525,\"rgba(156,158,222,1.0)\"],[0.21052631578947367,\"rgba(99,121,57,1.0)\"],[0.2631578947368421,\"rgba(140,162,82,1.0)\"],[0.3157894736842105,\"rgba(181,207,107,1.0)\"],[0.3684210526315789,\"rgba(206,219,156,1.0)\"],[0.42105263157894735,\"rgba(140,109,49,1.0)\"],[0.47368421052631576,\"rgba(189,158,57,1.0)\"],[0.5263157894736842,\"rgba(231,186,82,1.0)\"],[0.5789473684210527,\"rgba(231,203,148,1.0)\"],[0.631578947368421,\"rgba(132,60,57,1.0)\"],[0.6842105263157895,\"rgba(173,73,74,1.0)\"],[0.7368421052631579,\"rgba(214,97,107,1.0)\"],[0.7894736842105263,\"rgba(231,150,156,1.0)\"],[0.8421052631578947,\"rgba(123,65,115,1.0)\"],[0.8947368421052632,\"rgba(165,81,148,1.0)\"],[0.9473684210526315,\"rgba(206,109,189,1.0)\"],[1.0,\"rgba(222,158,214,1.0)\"]],\"cmin\":-100,\"cmax\":100},\"title\":{\"text\":\"State value function GPI-V_Q_learning\",\"x\":0.5,\"y\":0.85},\"shapes\":[{\"line\":{\"color\":\"black\",\"width\":2},\"type\":\"line\",\"x0\":-0.5,\"x1\":-0.5,\"y0\":-0.5,\"y1\":10.5},{\"line\":{\"color\":\"black\",\"width\":2},\"type\":\"line\",\"x0\":-0.5,\"x1\":10.5,\"y0\":-0.5,\"y1\":-0.5},{\"line\":{\"color\":\"black\",\"width\":2},\"type\":\"line\",\"x0\":0.5,\"x1\":0.5,\"y0\":-0.5,\"y1\":10.5},{\"line\":{\"color\":\"black\",\"width\":2},\"type\":\"line\",\"x0\":-0.5,\"x1\":10.5,\"y0\":0.5,\"y1\":0.5},{\"line\":{\"color\":\"black\",\"width\":2},\"type\":\"line\",\"x0\":1.5,\"x1\":1.5,\"y0\":-0.5,\"y1\":10.5},{\"line\":{\"color\":\"black\",\"width\":2},\"type\":\"line\",\"x0\":-0.5,\"x1\":10.5,\"y0\":1.5,\"y1\":1.5},{\"line\":{\"color\":\"black\",\"width\":2},\"type\":\"line\",\"x0\":2.5,\"x1\":2.5,\"y0\":-0.5,\"y1\":10.5},{\"line\":{\"color\":\"black\",\"width\":2},\"type\":\"line\",\"x0\":-0.5,\"x1\":10.5,\"y0\":2.5,\"y1\":2.5},{\"line\":{\"color\":\"black\",\"width\":2},\"type\":\"line\",\"x0\":3.5,\"x1\":3.5,\"y0\":-0.5,\"y1\":10.5},{\"line\":{\"color\":\"black\",\"width\":2},\"type\":\"line\",\"x0\":-0.5,\"x1\":10.5,\"y0\":3.5,\"y1\":3.5},{\"line\":{\"color\":\"black\",\"width\":2},\"type\":\"line\",\"x0\":4.5,\"x1\":4.5,\"y0\":-0.5,\"y1\":10.5},{\"line\":{\"color\":\"black\",\"width\":2},\"type\":\"line\",\"x0\":-0.5,\"x1\":10.5,\"y0\":4.5,\"y1\":4.5},{\"line\":{\"color\":\"black\",\"width\":2},\"type\":\"line\",\"x0\":5.5,\"x1\":5.5,\"y0\":-0.5,\"y1\":10.5},{\"line\":{\"color\":\"black\",\"width\":2},\"type\":\"line\",\"x0\":-0.5,\"x1\":10.5,\"y0\":5.5,\"y1\":5.5},{\"line\":{\"color\":\"black\",\"width\":2},\"type\":\"line\",\"x0\":6.5,\"x1\":6.5,\"y0\":-0.5,\"y1\":10.5},{\"line\":{\"color\":\"black\",\"width\":2},\"type\":\"line\",\"x0\":-0.5,\"x1\":10.5,\"y0\":6.5,\"y1\":6.5},{\"line\":{\"color\":\"black\",\"width\":2},\"type\":\"line\",\"x0\":7.5,\"x1\":7.5,\"y0\":-0.5,\"y1\":10.5},{\"line\":{\"color\":\"black\",\"width\":2},\"type\":\"line\",\"x0\":-0.5,\"x1\":10.5,\"y0\":7.5,\"y1\":7.5},{\"line\":{\"color\":\"black\",\"width\":2},\"type\":\"line\",\"x0\":8.5,\"x1\":8.5,\"y0\":-0.5,\"y1\":10.5},{\"line\":{\"color\":\"black\",\"width\":2},\"type\":\"line\",\"x0\":-0.5,\"x1\":10.5,\"y0\":8.5,\"y1\":8.5},{\"line\":{\"color\":\"black\",\"width\":2},\"type\":\"line\",\"x0\":9.5,\"x1\":9.5,\"y0\":-0.5,\"y1\":10.5},{\"line\":{\"color\":\"black\",\"width\":2},\"type\":\"line\",\"x0\":-0.5,\"x1\":10.5,\"y0\":9.5,\"y1\":9.5}],\"width\":500,\"height\":500,\"sliders\":[{\"currentvalue\":{\"prefix\":\"Growth: \"},\"pad\":{\"t\":15},\"steps\":[{\"args\":[{\"z\":[[[0.0,0.0,0.0,0.0,0.0,0.0,0.0,0.0,0.0,0.0,0.0],[0.0,0.0,0.0,0.0,0.0,0.0,0.0,0.0,0.0,0.0,0.0],[0.0,0.0,0.0,0.0,0.0,0.0,0.0,0.0,0.0,0.0,0.0],[0.0,0.0,0.0,0.0,0.0,0.0,0.0,0.0,0.0,0.0,0.0],[0.0,0.0,0.0,0.0,0.0,0.0,0.0,0.0,0.0,0.0,0.0],[0.0,0.0,0.0,0.0,0.0,0.0,0.0,0.0,0.0,0.0,0.0],[0.0,0.0,0.0,0.0,0.0,0.0,0.0,0.0,0.0,0.0,0.0],[0.0,0.0,0.0,0.0,0.0,0.0,0.0,0.0,0.0,0.0,0.0],[0.0,0.0,0.0,0.0,0.0,0.0,0.0,0.0,0.0,0.0,0.0],[0.0,0.0,0.0,0.0,0.0,0.0,0.0,0.0,0.0,0.0,0.0],[0.0,0.0,0.0,0.0,0.0,0.0,0.0,0.0,0.0,0.0,0.0]]]}],\"label\":\"0\",\"method\":\"restyle\"},{\"args\":[{\"z\":[[[0.0,0.0,0.0,0.0,0.0,0.0,0.0,0.0,0.0,0.0,0.0],[0.0,0.0,0.0,0.0,0.0,0.0,0.0,0.0,0.0,0.0,0.0],[0.0,0.0,0.0,0.0,0.0,0.0,0.0,0.0,0.0,0.0,0.0],[0.0,0.0,0.0,0.0,0.0,0.0,0.0,0.0,0.0,0.0,0.0],[0.0,0.0,0.0,0.0,0.0,0.0,0.0,0.0,0.0,0.0,0.0],[0.0,0.0,0.0,0.0,0.0,0.0,0.0,0.0,0.0,0.0,0.0],[0.0,0.0,0.0,0.0,0.0,0.0,0.0,0.0,0.0,0.0,0.0],[0.0,0.0,0.0,0.0,0.0,0.0,0.0,0.0,0.0,0.0,0.0],[0.0,0.0,0.0,0.0,0.0,0.0,0.0,0.0,0.0,0.0,0.0],[0.0,0.0,0.0,0.0,0.0,0.0,0.0,0.0,0.0,0.0,0.0],[0.0,0.0,0.0,0.0,0.0,0.0,0.0,0.0,0.0,0.0,0.0]]]}],\"label\":\"1\",\"method\":\"restyle\"},{\"args\":[{\"z\":[[[0.0,0.0,0.0,0.0,0.0,0.0,0.0,0.0,0.0,0.0,0.0],[0.0,0.0,0.0,0.0,0.0,0.0,0.0,0.0,0.0,0.0,0.0],[0.0,0.0,0.0,0.0,0.0,0.0,0.0,0.0,0.0,0.0,0.0],[0.0,0.0,0.0,0.0,0.0,0.0,0.0,0.0,0.0,0.0,0.0],[0.0,0.0,0.0,0.0,0.0,0.0,0.0,0.0,0.0,0.0,0.0],[0.0,0.0,0.0,0.0,0.0,0.0,0.0,0.0,0.0,0.0,0.0],[0.0,0.0,0.0,0.0,0.0,0.0,0.0,0.0,0.0,0.0,0.0],[0.0,0.0,0.0,0.0,0.0,0.0,0.0,0.0,0.0,0.0,0.0],[0.0,0.0,0.0,0.0,0.0,0.0,0.0,0.0,0.0,0.0,0.0],[0.0,0.0,0.0,0.0,0.0,0.0,0.0,0.0,0.0,0.0,0.0],[0.0,0.0,0.0,0.0,0.0,0.0,0.0,0.0,0.0,0.0,0.0]]]}],\"label\":\"2\",\"method\":\"restyle\"},{\"args\":[{\"z\":[[[0.0,0.0,0.0,0.0,0.0,0.0,0.0,0.0,0.0,0.0,0.0],[0.0,0.0,0.0,0.0,0.0,0.0,0.0,0.0,0.0,0.0,0.0],[0.0,0.0,0.0,0.0,0.0,0.0,0.0,0.0,0.0,0.0,0.0],[0.0,0.0,0.0,0.0,0.0,0.0,0.0,0.0,0.0,0.0,0.0],[0.0,0.0,0.0,0.0,0.0,0.0,0.0,0.0,0.0,0.0,0.0],[0.0,0.0,0.0,0.0,0.0,0.0,0.0,0.0,0.0,0.0,0.0],[0.0,0.0,0.0,0.0,0.0,0.0,0.0,0.0,0.0,0.0,0.0],[0.0,0.0,0.0,0.0,0.0,0.0,0.0,0.0,0.0,0.0,0.0],[0.0,0.0,0.0,0.0,0.0,0.0,0.0,0.0,0.0,0.0,0.0],[0.0,0.0,0.0,0.0,0.0,0.0,0.0,0.0,0.0,0.0,0.0],[0.0,0.0,0.0,0.0,0.0,0.0,0.0,0.0,0.0,0.0,0.0]]]}],\"label\":\"3\",\"method\":\"restyle\"},{\"args\":[{\"z\":[[[0.0,0.0,0.0,0.0,0.0,0.0,0.0,0.0,0.0,0.0,0.0],[0.0,0.0,0.0,0.0,0.0,0.0,0.0,0.0,0.0,0.0,0.0],[0.0,0.0,0.0,0.0,0.0,0.0,0.0,0.0,0.0,0.0,0.0],[0.0,0.0,0.0,0.0,0.0,0.0,0.0,0.0,0.0,0.0,0.0],[0.0,0.0,0.0,0.0,0.0,0.0,0.0,0.0,0.0,0.0,0.0],[0.0,0.0,0.0,0.0,0.0,0.0,0.0,0.0,0.0,0.0,0.0],[0.0,0.0,0.0,0.0,0.0,0.0,0.0,0.0,0.0,0.0,0.0],[0.0,0.0,0.0,0.0,0.0,0.0,0.0,0.0,0.0,0.0,0.0],[0.0,0.0,0.0,0.0,0.0,0.0,0.0,0.0,0.0,0.0,0.0],[0.0,0.0,0.0,0.0,0.0,0.0,0.0,0.0,0.0,0.0,0.0],[0.0,0.0,0.0,0.0,0.0,0.0,0.0,0.0,0.0,0.0,0.0]]]}],\"label\":\"4\",\"method\":\"restyle\"},{\"args\":[{\"z\":[[[0.0,0.0,0.0,0.0,0.0,0.0,0.0,0.0,0.0,0.0,0.0],[0.0,0.0,0.0,0.0,0.0,0.0,0.0,0.0,0.0,0.0,0.0],[0.0,0.0,0.0,0.0,0.0,0.0,0.0,0.0,0.0,0.0,0.0],[0.0,0.0,0.0,0.0,0.0,0.0,0.0,0.0,0.0,0.0,0.0],[0.0,0.0,0.0,0.0,0.0,0.0,0.0,0.0,0.0,0.0,0.0],[0.0,0.0,0.0,0.0,0.0,0.0,0.0,0.0,0.0,0.0,0.0],[0.0,0.0,0.0,0.0,0.0,0.0,0.0,0.0,0.0,0.0,0.0],[0.0,0.0,0.0,0.0,0.0,0.0,0.0,0.0,0.0,0.0,0.0],[0.0,0.0,0.0,0.0,0.0,0.0,0.0,0.0,0.0,0.0,0.0],[0.0,0.0,0.0,0.0,0.0,0.0,0.0,0.0,0.0,0.0,0.0],[0.0,0.0,0.0,0.0,0.0,0.0,0.0,0.0,0.0,0.0,0.0]]]}],\"label\":\"5\",\"method\":\"restyle\"}]}]},                        {\"responsive\": true}                    ).then(function(){\n",
       "                            \n",
       "var gd = document.getElementById('a3d65dcc-29e7-4f17-8b3b-02d659d8d1eb');\n",
       "var x = new MutationObserver(function (mutations, observer) {{\n",
       "        var display = window.getComputedStyle(gd).display;\n",
       "        if (!display || display === 'none') {{\n",
       "            console.log([gd, 'removed!']);\n",
       "            Plotly.purge(gd);\n",
       "            observer.disconnect();\n",
       "        }}\n",
       "}});\n",
       "\n",
       "// Listen for the removal of the full notebook cells\n",
       "var notebookContainer = gd.closest('#notebook-container');\n",
       "if (notebookContainer) {{\n",
       "    x.observe(notebookContainer, {childList: true});\n",
       "}}\n",
       "\n",
       "// Listen for the clearing of the current output cell\n",
       "var outputEl = gd.closest('.output');\n",
       "if (outputEl) {{\n",
       "    x.observe(outputEl, {childList: true});\n",
       "}}\n",
       "\n",
       "                        })                };                });            </script>        </div>"
      ]
     },
     "metadata": {},
     "output_type": "display_data"
    }
   ],
   "execution_count": 29
  },
  {
   "metadata": {
    "ExecuteTime": {
     "end_time": "2025-01-11T14:11:49.564904300Z",
     "start_time": "2025-01-10T15:47:48.590417Z"
    }
   },
   "cell_type": "code",
   "source": [
    "def GPI_TD_Exp_Sarsa(pars,x0=None):\n",
    "\n",
    " Q = np.zeros((pars['nstates'][0], pars['nstates'][1], pars['nstates'][2], 3))\n",
    " \n",
    " for _ in tqdm(range(pars['N_episodes'])):\n",
    "      #seq_state,seq_action,seq_reward=make_episode(policy,pars)\n",
    "      \n",
    "      #Initialize state\n",
    "      if x0 is not None:\n",
    "         g,temp,hum=x0\n",
    "      else:\n",
    "         g=np.random.choice(np.arange(1,pars['ci_g_range']))  \n",
    "         temp=np.random.choice(pars['ci_range'])  \n",
    "         hum=np.random.choice(pars['ci_range'])\n",
    "      s=(g,temp,hum)\n",
    "      #seq_state.append((g,temp,hum))\n",
    "     \n",
    "      #Choose A from S using policy derived from Q (eps-greedy) \n",
    "      if np.random.random()<pars['eps']:\n",
    "       a=np.random.choice([0,1,2])\n",
    "      else:\n",
    "       a=np.argmax(Q[s[0],s[1],s[2],:])\n",
    "          \n",
    "      #Loop for each step of episode\n",
    "      while s[0]!=5 and s[0]!=0:  \n",
    "        #Observe R,S'\n",
    "        s_next,r=next_state(s,a,pars)        \n",
    "        # seq_state.append((g,temp,hum))\n",
    "        # seq_action.append(a)\n",
    "        # seq_reward.append(r)\n",
    "            \n",
    "        #Choose A' from S' using policy derived from Q  (eps-greedy)  \n",
    "        if np.random.random()<pars['eps']:\n",
    "         a_next=np.random.choice([0,1,2])\n",
    "        else:\n",
    "         a_next=np.argmax(Q[s_next[0],s_next[1],s_next[2],:])\n",
    "            \n",
    "        # probabilities of current policy (eps-greedy)   \n",
    "        prob = np.ones(3)*pars['eps']/3\n",
    "        a_greedy = np.argmax(Q[s_next[0],s_next[1],s_next[2],:])\n",
    "        prob[a_greedy] = 1 - pars['eps'] + pars['eps']/3\n",
    "        # compute expected value of Q(s_next,a)\n",
    "        exp_Q = 0\n",
    "        for act,p in zip(Q[s_next[0],s_next[1],s_next[2],:], prob):\n",
    "            exp_Q += act*p\n",
    "        \n",
    "        Q[s[0],s[1],s[2],a]+=pars['alpha']*(r + pars['gamma']*exp_Q-Q[s[0],s[1],s[2],a])\n",
    "             \n",
    "        s = s_next\n",
    "        a = a_next \n",
    " \n",
    " return Q.copy()"
   ],
   "id": "6deace2d864335fe",
   "outputs": [],
   "execution_count": 30
  },
  {
   "metadata": {
    "ExecuteTime": {
     "end_time": "2025-01-11T14:11:49.564904300Z",
     "start_time": "2025-01-10T15:47:48.716731Z"
    }
   },
   "cell_type": "code",
   "source": "Q_exp_sarsa=GPI_TD_Exp_Sarsa(pars,x0=(1,3,4))",
   "id": "a81106109ae2bebd",
   "outputs": [
    {
     "data": {
      "text/plain": [
       "  0%|          | 0/100000 [00:00<?, ?it/s]"
      ],
      "application/vnd.jupyter.widget-view+json": {
       "version_major": 2,
       "version_minor": 0,
       "model_id": "973ad76f6c1343238f85917ceb87f200"
      }
     },
     "metadata": {},
     "output_type": "display_data"
    }
   ],
   "execution_count": 31
  },
  {
   "metadata": {
    "ExecuteTime": {
     "end_time": "2025-01-11T14:11:49.565904600Z",
     "start_time": "2025-01-10T15:48:24.140609Z"
    }
   },
   "cell_type": "code",
   "source": "policy_Exp_Sarsa, V_Exp_Sarsa = recover_policy_V(Q_exp_sarsa, pars)",
   "id": "4ed0922be2ff79cc",
   "outputs": [],
   "execution_count": 32
  },
  {
   "metadata": {
    "ExecuteTime": {
     "end_time": "2025-01-11T14:11:49.565904600Z",
     "start_time": "2025-01-10T15:48:24.263137Z"
    }
   },
   "cell_type": "code",
   "source": "plot_value_dyn(V_Exp_Sarsa , 0, 5, \"State value function GPI-V_Exp_Sarsa\")",
   "id": "dd1e6e7b89ffd2db",
   "outputs": [
    {
     "data": {
      "application/vnd.plotly.v1+json": {
       "data": [
        {
         "coloraxis": "coloraxis",
         "name": "0",
         "x": [
          0,
          1,
          2,
          3,
          4,
          5,
          6,
          7,
          8,
          9,
          10
         ],
         "y": [
          0,
          1,
          2,
          3,
          4,
          5,
          6,
          7,
          8,
          9,
          10
         ],
         "z": [
          [
           0.0,
           0.0,
           0.0,
           0.0,
           0.0,
           0.0,
           0.0,
           0.0,
           0.0,
           0.0,
           0.0
          ],
          [
           0.0,
           0.0,
           0.0,
           0.0,
           0.0,
           0.0,
           0.0,
           0.0,
           0.0,
           0.0,
           0.0
          ],
          [
           0.0,
           0.0,
           0.0,
           0.0,
           0.0,
           0.0,
           0.0,
           0.0,
           0.0,
           0.0,
           0.0
          ],
          [
           0.0,
           0.0,
           0.0,
           0.0,
           0.0,
           0.0,
           0.0,
           0.0,
           0.0,
           0.0,
           0.0
          ],
          [
           0.0,
           0.0,
           0.0,
           0.0,
           0.0,
           0.0,
           0.0,
           0.0,
           0.0,
           0.0,
           0.0
          ],
          [
           0.0,
           0.0,
           0.0,
           0.0,
           0.0,
           0.0,
           0.0,
           0.0,
           0.0,
           0.0,
           0.0
          ],
          [
           0.0,
           0.0,
           0.0,
           0.0,
           0.0,
           0.0,
           0.0,
           0.0,
           0.0,
           0.0,
           0.0
          ],
          [
           0.0,
           0.0,
           0.0,
           0.0,
           0.0,
           0.0,
           0.0,
           0.0,
           0.0,
           0.0,
           0.0
          ],
          [
           0.0,
           0.0,
           0.0,
           0.0,
           0.0,
           0.0,
           0.0,
           0.0,
           0.0,
           0.0,
           0.0
          ],
          [
           0.0,
           0.0,
           0.0,
           0.0,
           0.0,
           0.0,
           0.0,
           0.0,
           0.0,
           0.0,
           0.0
          ],
          [
           0.0,
           0.0,
           0.0,
           0.0,
           0.0,
           0.0,
           0.0,
           0.0,
           0.0,
           0.0,
           0.0
          ]
         ],
         "type": "heatmap",
         "xaxis": "x",
         "yaxis": "y",
         "hovertemplate": "Temperature: %{x}<br>Humidity: %{y}<br>Value: %{z}<extra></extra>"
        }
       ],
       "layout": {
        "template": {
         "data": {
          "histogram2dcontour": [
           {
            "type": "histogram2dcontour",
            "colorbar": {
             "outlinewidth": 0,
             "ticks": ""
            },
            "colorscale": [
             [
              0.0,
              "#0d0887"
             ],
             [
              0.1111111111111111,
              "#46039f"
             ],
             [
              0.2222222222222222,
              "#7201a8"
             ],
             [
              0.3333333333333333,
              "#9c179e"
             ],
             [
              0.4444444444444444,
              "#bd3786"
             ],
             [
              0.5555555555555556,
              "#d8576b"
             ],
             [
              0.6666666666666666,
              "#ed7953"
             ],
             [
              0.7777777777777778,
              "#fb9f3a"
             ],
             [
              0.8888888888888888,
              "#fdca26"
             ],
             [
              1.0,
              "#f0f921"
             ]
            ]
           }
          ],
          "choropleth": [
           {
            "type": "choropleth",
            "colorbar": {
             "outlinewidth": 0,
             "ticks": ""
            }
           }
          ],
          "histogram2d": [
           {
            "type": "histogram2d",
            "colorbar": {
             "outlinewidth": 0,
             "ticks": ""
            },
            "colorscale": [
             [
              0.0,
              "#0d0887"
             ],
             [
              0.1111111111111111,
              "#46039f"
             ],
             [
              0.2222222222222222,
              "#7201a8"
             ],
             [
              0.3333333333333333,
              "#9c179e"
             ],
             [
              0.4444444444444444,
              "#bd3786"
             ],
             [
              0.5555555555555556,
              "#d8576b"
             ],
             [
              0.6666666666666666,
              "#ed7953"
             ],
             [
              0.7777777777777778,
              "#fb9f3a"
             ],
             [
              0.8888888888888888,
              "#fdca26"
             ],
             [
              1.0,
              "#f0f921"
             ]
            ]
           }
          ],
          "heatmap": [
           {
            "type": "heatmap",
            "colorbar": {
             "outlinewidth": 0,
             "ticks": ""
            },
            "colorscale": [
             [
              0.0,
              "#0d0887"
             ],
             [
              0.1111111111111111,
              "#46039f"
             ],
             [
              0.2222222222222222,
              "#7201a8"
             ],
             [
              0.3333333333333333,
              "#9c179e"
             ],
             [
              0.4444444444444444,
              "#bd3786"
             ],
             [
              0.5555555555555556,
              "#d8576b"
             ],
             [
              0.6666666666666666,
              "#ed7953"
             ],
             [
              0.7777777777777778,
              "#fb9f3a"
             ],
             [
              0.8888888888888888,
              "#fdca26"
             ],
             [
              1.0,
              "#f0f921"
             ]
            ]
           }
          ],
          "heatmapgl": [
           {
            "type": "heatmapgl",
            "colorbar": {
             "outlinewidth": 0,
             "ticks": ""
            },
            "colorscale": [
             [
              0.0,
              "#0d0887"
             ],
             [
              0.1111111111111111,
              "#46039f"
             ],
             [
              0.2222222222222222,
              "#7201a8"
             ],
             [
              0.3333333333333333,
              "#9c179e"
             ],
             [
              0.4444444444444444,
              "#bd3786"
             ],
             [
              0.5555555555555556,
              "#d8576b"
             ],
             [
              0.6666666666666666,
              "#ed7953"
             ],
             [
              0.7777777777777778,
              "#fb9f3a"
             ],
             [
              0.8888888888888888,
              "#fdca26"
             ],
             [
              1.0,
              "#f0f921"
             ]
            ]
           }
          ],
          "contourcarpet": [
           {
            "type": "contourcarpet",
            "colorbar": {
             "outlinewidth": 0,
             "ticks": ""
            }
           }
          ],
          "contour": [
           {
            "type": "contour",
            "colorbar": {
             "outlinewidth": 0,
             "ticks": ""
            },
            "colorscale": [
             [
              0.0,
              "#0d0887"
             ],
             [
              0.1111111111111111,
              "#46039f"
             ],
             [
              0.2222222222222222,
              "#7201a8"
             ],
             [
              0.3333333333333333,
              "#9c179e"
             ],
             [
              0.4444444444444444,
              "#bd3786"
             ],
             [
              0.5555555555555556,
              "#d8576b"
             ],
             [
              0.6666666666666666,
              "#ed7953"
             ],
             [
              0.7777777777777778,
              "#fb9f3a"
             ],
             [
              0.8888888888888888,
              "#fdca26"
             ],
             [
              1.0,
              "#f0f921"
             ]
            ]
           }
          ],
          "surface": [
           {
            "type": "surface",
            "colorbar": {
             "outlinewidth": 0,
             "ticks": ""
            },
            "colorscale": [
             [
              0.0,
              "#0d0887"
             ],
             [
              0.1111111111111111,
              "#46039f"
             ],
             [
              0.2222222222222222,
              "#7201a8"
             ],
             [
              0.3333333333333333,
              "#9c179e"
             ],
             [
              0.4444444444444444,
              "#bd3786"
             ],
             [
              0.5555555555555556,
              "#d8576b"
             ],
             [
              0.6666666666666666,
              "#ed7953"
             ],
             [
              0.7777777777777778,
              "#fb9f3a"
             ],
             [
              0.8888888888888888,
              "#fdca26"
             ],
             [
              1.0,
              "#f0f921"
             ]
            ]
           }
          ],
          "mesh3d": [
           {
            "type": "mesh3d",
            "colorbar": {
             "outlinewidth": 0,
             "ticks": ""
            }
           }
          ],
          "scatter": [
           {
            "fillpattern": {
             "fillmode": "overlay",
             "size": 10,
             "solidity": 0.2
            },
            "type": "scatter"
           }
          ],
          "parcoords": [
           {
            "type": "parcoords",
            "line": {
             "colorbar": {
              "outlinewidth": 0,
              "ticks": ""
             }
            }
           }
          ],
          "scatterpolargl": [
           {
            "type": "scatterpolargl",
            "marker": {
             "colorbar": {
              "outlinewidth": 0,
              "ticks": ""
             }
            }
           }
          ],
          "bar": [
           {
            "error_x": {
             "color": "#2a3f5f"
            },
            "error_y": {
             "color": "#2a3f5f"
            },
            "marker": {
             "line": {
              "color": "#E5ECF6",
              "width": 0.5
             },
             "pattern": {
              "fillmode": "overlay",
              "size": 10,
              "solidity": 0.2
             }
            },
            "type": "bar"
           }
          ],
          "scattergeo": [
           {
            "type": "scattergeo",
            "marker": {
             "colorbar": {
              "outlinewidth": 0,
              "ticks": ""
             }
            }
           }
          ],
          "scatterpolar": [
           {
            "type": "scatterpolar",
            "marker": {
             "colorbar": {
              "outlinewidth": 0,
              "ticks": ""
             }
            }
           }
          ],
          "histogram": [
           {
            "marker": {
             "pattern": {
              "fillmode": "overlay",
              "size": 10,
              "solidity": 0.2
             }
            },
            "type": "histogram"
           }
          ],
          "scattergl": [
           {
            "type": "scattergl",
            "marker": {
             "colorbar": {
              "outlinewidth": 0,
              "ticks": ""
             }
            }
           }
          ],
          "scatter3d": [
           {
            "type": "scatter3d",
            "line": {
             "colorbar": {
              "outlinewidth": 0,
              "ticks": ""
             }
            },
            "marker": {
             "colorbar": {
              "outlinewidth": 0,
              "ticks": ""
             }
            }
           }
          ],
          "scattermapbox": [
           {
            "type": "scattermapbox",
            "marker": {
             "colorbar": {
              "outlinewidth": 0,
              "ticks": ""
             }
            }
           }
          ],
          "scatterternary": [
           {
            "type": "scatterternary",
            "marker": {
             "colorbar": {
              "outlinewidth": 0,
              "ticks": ""
             }
            }
           }
          ],
          "scattercarpet": [
           {
            "type": "scattercarpet",
            "marker": {
             "colorbar": {
              "outlinewidth": 0,
              "ticks": ""
             }
            }
           }
          ],
          "carpet": [
           {
            "aaxis": {
             "endlinecolor": "#2a3f5f",
             "gridcolor": "white",
             "linecolor": "white",
             "minorgridcolor": "white",
             "startlinecolor": "#2a3f5f"
            },
            "baxis": {
             "endlinecolor": "#2a3f5f",
             "gridcolor": "white",
             "linecolor": "white",
             "minorgridcolor": "white",
             "startlinecolor": "#2a3f5f"
            },
            "type": "carpet"
           }
          ],
          "table": [
           {
            "cells": {
             "fill": {
              "color": "#EBF0F8"
             },
             "line": {
              "color": "white"
             }
            },
            "header": {
             "fill": {
              "color": "#C8D4E3"
             },
             "line": {
              "color": "white"
             }
            },
            "type": "table"
           }
          ],
          "barpolar": [
           {
            "marker": {
             "line": {
              "color": "#E5ECF6",
              "width": 0.5
             },
             "pattern": {
              "fillmode": "overlay",
              "size": 10,
              "solidity": 0.2
             }
            },
            "type": "barpolar"
           }
          ],
          "pie": [
           {
            "automargin": true,
            "type": "pie"
           }
          ]
         },
         "layout": {
          "autotypenumbers": "strict",
          "colorway": [
           "#636efa",
           "#EF553B",
           "#00cc96",
           "#ab63fa",
           "#FFA15A",
           "#19d3f3",
           "#FF6692",
           "#B6E880",
           "#FF97FF",
           "#FECB52"
          ],
          "font": {
           "color": "#2a3f5f"
          },
          "hovermode": "closest",
          "hoverlabel": {
           "align": "left"
          },
          "paper_bgcolor": "white",
          "plot_bgcolor": "#E5ECF6",
          "polar": {
           "bgcolor": "#E5ECF6",
           "angularaxis": {
            "gridcolor": "white",
            "linecolor": "white",
            "ticks": ""
           },
           "radialaxis": {
            "gridcolor": "white",
            "linecolor": "white",
            "ticks": ""
           }
          },
          "ternary": {
           "bgcolor": "#E5ECF6",
           "aaxis": {
            "gridcolor": "white",
            "linecolor": "white",
            "ticks": ""
           },
           "baxis": {
            "gridcolor": "white",
            "linecolor": "white",
            "ticks": ""
           },
           "caxis": {
            "gridcolor": "white",
            "linecolor": "white",
            "ticks": ""
           }
          },
          "coloraxis": {
           "colorbar": {
            "outlinewidth": 0,
            "ticks": ""
           }
          },
          "colorscale": {
           "sequential": [
            [
             0.0,
             "#0d0887"
            ],
            [
             0.1111111111111111,
             "#46039f"
            ],
            [
             0.2222222222222222,
             "#7201a8"
            ],
            [
             0.3333333333333333,
             "#9c179e"
            ],
            [
             0.4444444444444444,
             "#bd3786"
            ],
            [
             0.5555555555555556,
             "#d8576b"
            ],
            [
             0.6666666666666666,
             "#ed7953"
            ],
            [
             0.7777777777777778,
             "#fb9f3a"
            ],
            [
             0.8888888888888888,
             "#fdca26"
            ],
            [
             1.0,
             "#f0f921"
            ]
           ],
           "sequentialminus": [
            [
             0.0,
             "#0d0887"
            ],
            [
             0.1111111111111111,
             "#46039f"
            ],
            [
             0.2222222222222222,
             "#7201a8"
            ],
            [
             0.3333333333333333,
             "#9c179e"
            ],
            [
             0.4444444444444444,
             "#bd3786"
            ],
            [
             0.5555555555555556,
             "#d8576b"
            ],
            [
             0.6666666666666666,
             "#ed7953"
            ],
            [
             0.7777777777777778,
             "#fb9f3a"
            ],
            [
             0.8888888888888888,
             "#fdca26"
            ],
            [
             1.0,
             "#f0f921"
            ]
           ],
           "diverging": [
            [
             0,
             "#8e0152"
            ],
            [
             0.1,
             "#c51b7d"
            ],
            [
             0.2,
             "#de77ae"
            ],
            [
             0.3,
             "#f1b6da"
            ],
            [
             0.4,
             "#fde0ef"
            ],
            [
             0.5,
             "#f7f7f7"
            ],
            [
             0.6,
             "#e6f5d0"
            ],
            [
             0.7,
             "#b8e186"
            ],
            [
             0.8,
             "#7fbc41"
            ],
            [
             0.9,
             "#4d9221"
            ],
            [
             1,
             "#276419"
            ]
           ]
          },
          "xaxis": {
           "gridcolor": "white",
           "linecolor": "white",
           "ticks": "",
           "title": {
            "standoff": 15
           },
           "zerolinecolor": "white",
           "automargin": true,
           "zerolinewidth": 2
          },
          "yaxis": {
           "gridcolor": "white",
           "linecolor": "white",
           "ticks": "",
           "title": {
            "standoff": 15
           },
           "zerolinecolor": "white",
           "automargin": true,
           "zerolinewidth": 2
          },
          "scene": {
           "xaxis": {
            "backgroundcolor": "#E5ECF6",
            "gridcolor": "white",
            "linecolor": "white",
            "showbackground": true,
            "ticks": "",
            "zerolinecolor": "white",
            "gridwidth": 2
           },
           "yaxis": {
            "backgroundcolor": "#E5ECF6",
            "gridcolor": "white",
            "linecolor": "white",
            "showbackground": true,
            "ticks": "",
            "zerolinecolor": "white",
            "gridwidth": 2
           },
           "zaxis": {
            "backgroundcolor": "#E5ECF6",
            "gridcolor": "white",
            "linecolor": "white",
            "showbackground": true,
            "ticks": "",
            "zerolinecolor": "white",
            "gridwidth": 2
           }
          },
          "shapedefaults": {
           "line": {
            "color": "#2a3f5f"
           }
          },
          "annotationdefaults": {
           "arrowcolor": "#2a3f5f",
           "arrowhead": 0,
           "arrowwidth": 1
          },
          "geo": {
           "bgcolor": "white",
           "landcolor": "#E5ECF6",
           "subunitcolor": "white",
           "showland": true,
           "showlakes": true,
           "lakecolor": "white"
          },
          "title": {
           "x": 0.05
          },
          "mapbox": {
           "style": "light"
          }
         }
        },
        "xaxis": {
         "anchor": "y",
         "domain": [
          0.0,
          1.0
         ],
         "scaleanchor": "y",
         "constrain": "domain",
         "title": {
          "text": "Temperature"
         },
         "tickmode": "array",
         "tickvals": [
          0,
          1,
          2,
          3,
          4,
          5,
          6,
          7,
          8,
          9,
          10
         ],
         "ticktext": [
          "0",
          "1",
          "2",
          "3",
          "4",
          "5",
          "6",
          "7",
          "8",
          "9",
          "10"
         ],
         "scaleratio": 1
        },
        "yaxis": {
         "anchor": "x",
         "domain": [
          0.0,
          1.0
         ],
         "autorange": "reversed",
         "constrain": "domain",
         "title": {
          "text": "Humidity"
         },
         "tickmode": "array",
         "tickvals": [
          0,
          1,
          2,
          3,
          4,
          5,
          6,
          7,
          8,
          9,
          10
         ],
         "ticktext": [
          "10",
          "9",
          "8",
          "7",
          "6",
          "5",
          "4",
          "3",
          "2",
          "1",
          "0"
         ]
        },
        "coloraxis": {
         "colorbar": {
          "title": {
           "text": "Value"
          },
          "x": 1
         },
         "colorscale": [
          [
           0.0,
           "rgba(57,59,121,1.0)"
          ],
          [
           0.05263157894736842,
           "rgba(82,84,163,1.0)"
          ],
          [
           0.10526315789473684,
           "rgba(107,110,207,1.0)"
          ],
          [
           0.15789473684210525,
           "rgba(156,158,222,1.0)"
          ],
          [
           0.21052631578947367,
           "rgba(99,121,57,1.0)"
          ],
          [
           0.2631578947368421,
           "rgba(140,162,82,1.0)"
          ],
          [
           0.3157894736842105,
           "rgba(181,207,107,1.0)"
          ],
          [
           0.3684210526315789,
           "rgba(206,219,156,1.0)"
          ],
          [
           0.42105263157894735,
           "rgba(140,109,49,1.0)"
          ],
          [
           0.47368421052631576,
           "rgba(189,158,57,1.0)"
          ],
          [
           0.5263157894736842,
           "rgba(231,186,82,1.0)"
          ],
          [
           0.5789473684210527,
           "rgba(231,203,148,1.0)"
          ],
          [
           0.631578947368421,
           "rgba(132,60,57,1.0)"
          ],
          [
           0.6842105263157895,
           "rgba(173,73,74,1.0)"
          ],
          [
           0.7368421052631579,
           "rgba(214,97,107,1.0)"
          ],
          [
           0.7894736842105263,
           "rgba(231,150,156,1.0)"
          ],
          [
           0.8421052631578947,
           "rgba(123,65,115,1.0)"
          ],
          [
           0.8947368421052632,
           "rgba(165,81,148,1.0)"
          ],
          [
           0.9473684210526315,
           "rgba(206,109,189,1.0)"
          ],
          [
           1.0,
           "rgba(222,158,214,1.0)"
          ]
         ],
         "cmin": -100,
         "cmax": 100
        },
        "title": {
         "text": "State value function GPI-V_Exp_Sarsa",
         "x": 0.5,
         "y": 0.85
        },
        "shapes": [
         {
          "line": {
           "color": "black",
           "width": 2
          },
          "type": "line",
          "x0": -0.5,
          "x1": -0.5,
          "y0": -0.5,
          "y1": 10.5
         },
         {
          "line": {
           "color": "black",
           "width": 2
          },
          "type": "line",
          "x0": -0.5,
          "x1": 10.5,
          "y0": -0.5,
          "y1": -0.5
         },
         {
          "line": {
           "color": "black",
           "width": 2
          },
          "type": "line",
          "x0": 0.5,
          "x1": 0.5,
          "y0": -0.5,
          "y1": 10.5
         },
         {
          "line": {
           "color": "black",
           "width": 2
          },
          "type": "line",
          "x0": -0.5,
          "x1": 10.5,
          "y0": 0.5,
          "y1": 0.5
         },
         {
          "line": {
           "color": "black",
           "width": 2
          },
          "type": "line",
          "x0": 1.5,
          "x1": 1.5,
          "y0": -0.5,
          "y1": 10.5
         },
         {
          "line": {
           "color": "black",
           "width": 2
          },
          "type": "line",
          "x0": -0.5,
          "x1": 10.5,
          "y0": 1.5,
          "y1": 1.5
         },
         {
          "line": {
           "color": "black",
           "width": 2
          },
          "type": "line",
          "x0": 2.5,
          "x1": 2.5,
          "y0": -0.5,
          "y1": 10.5
         },
         {
          "line": {
           "color": "black",
           "width": 2
          },
          "type": "line",
          "x0": -0.5,
          "x1": 10.5,
          "y0": 2.5,
          "y1": 2.5
         },
         {
          "line": {
           "color": "black",
           "width": 2
          },
          "type": "line",
          "x0": 3.5,
          "x1": 3.5,
          "y0": -0.5,
          "y1": 10.5
         },
         {
          "line": {
           "color": "black",
           "width": 2
          },
          "type": "line",
          "x0": -0.5,
          "x1": 10.5,
          "y0": 3.5,
          "y1": 3.5
         },
         {
          "line": {
           "color": "black",
           "width": 2
          },
          "type": "line",
          "x0": 4.5,
          "x1": 4.5,
          "y0": -0.5,
          "y1": 10.5
         },
         {
          "line": {
           "color": "black",
           "width": 2
          },
          "type": "line",
          "x0": -0.5,
          "x1": 10.5,
          "y0": 4.5,
          "y1": 4.5
         },
         {
          "line": {
           "color": "black",
           "width": 2
          },
          "type": "line",
          "x0": 5.5,
          "x1": 5.5,
          "y0": -0.5,
          "y1": 10.5
         },
         {
          "line": {
           "color": "black",
           "width": 2
          },
          "type": "line",
          "x0": -0.5,
          "x1": 10.5,
          "y0": 5.5,
          "y1": 5.5
         },
         {
          "line": {
           "color": "black",
           "width": 2
          },
          "type": "line",
          "x0": 6.5,
          "x1": 6.5,
          "y0": -0.5,
          "y1": 10.5
         },
         {
          "line": {
           "color": "black",
           "width": 2
          },
          "type": "line",
          "x0": -0.5,
          "x1": 10.5,
          "y0": 6.5,
          "y1": 6.5
         },
         {
          "line": {
           "color": "black",
           "width": 2
          },
          "type": "line",
          "x0": 7.5,
          "x1": 7.5,
          "y0": -0.5,
          "y1": 10.5
         },
         {
          "line": {
           "color": "black",
           "width": 2
          },
          "type": "line",
          "x0": -0.5,
          "x1": 10.5,
          "y0": 7.5,
          "y1": 7.5
         },
         {
          "line": {
           "color": "black",
           "width": 2
          },
          "type": "line",
          "x0": 8.5,
          "x1": 8.5,
          "y0": -0.5,
          "y1": 10.5
         },
         {
          "line": {
           "color": "black",
           "width": 2
          },
          "type": "line",
          "x0": -0.5,
          "x1": 10.5,
          "y0": 8.5,
          "y1": 8.5
         },
         {
          "line": {
           "color": "black",
           "width": 2
          },
          "type": "line",
          "x0": 9.5,
          "x1": 9.5,
          "y0": -0.5,
          "y1": 10.5
         },
         {
          "line": {
           "color": "black",
           "width": 2
          },
          "type": "line",
          "x0": -0.5,
          "x1": 10.5,
          "y0": 9.5,
          "y1": 9.5
         }
        ],
        "width": 500,
        "height": 500,
        "sliders": [
         {
          "currentvalue": {
           "prefix": "Growth: "
          },
          "pad": {
           "t": 15
          },
          "steps": [
           {
            "args": [
             {
              "z": [
               [
                [
                 0.0,
                 0.0,
                 0.0,
                 0.0,
                 0.0,
                 0.0,
                 0.0,
                 0.0,
                 0.0,
                 0.0,
                 0.0
                ],
                [
                 0.0,
                 0.0,
                 0.0,
                 0.0,
                 0.0,
                 0.0,
                 0.0,
                 0.0,
                 0.0,
                 0.0,
                 0.0
                ],
                [
                 0.0,
                 0.0,
                 0.0,
                 0.0,
                 0.0,
                 0.0,
                 0.0,
                 0.0,
                 0.0,
                 0.0,
                 0.0
                ],
                [
                 0.0,
                 0.0,
                 0.0,
                 0.0,
                 0.0,
                 0.0,
                 0.0,
                 0.0,
                 0.0,
                 0.0,
                 0.0
                ],
                [
                 0.0,
                 0.0,
                 0.0,
                 0.0,
                 0.0,
                 0.0,
                 0.0,
                 0.0,
                 0.0,
                 0.0,
                 0.0
                ],
                [
                 0.0,
                 0.0,
                 0.0,
                 0.0,
                 0.0,
                 0.0,
                 0.0,
                 0.0,
                 0.0,
                 0.0,
                 0.0
                ],
                [
                 0.0,
                 0.0,
                 0.0,
                 0.0,
                 0.0,
                 0.0,
                 0.0,
                 0.0,
                 0.0,
                 0.0,
                 0.0
                ],
                [
                 0.0,
                 0.0,
                 0.0,
                 0.0,
                 0.0,
                 0.0,
                 0.0,
                 0.0,
                 0.0,
                 0.0,
                 0.0
                ],
                [
                 0.0,
                 0.0,
                 0.0,
                 0.0,
                 0.0,
                 0.0,
                 0.0,
                 0.0,
                 0.0,
                 0.0,
                 0.0
                ],
                [
                 0.0,
                 0.0,
                 0.0,
                 0.0,
                 0.0,
                 0.0,
                 0.0,
                 0.0,
                 0.0,
                 0.0,
                 0.0
                ],
                [
                 0.0,
                 0.0,
                 0.0,
                 0.0,
                 0.0,
                 0.0,
                 0.0,
                 0.0,
                 0.0,
                 0.0,
                 0.0
                ]
               ]
              ]
             }
            ],
            "label": "0",
            "method": "restyle"
           },
           {
            "args": [
             {
              "z": [
               [
                [
                 0.0,
                 0.0,
                 0.0,
                 0.0,
                 0.0,
                 0.0,
                 0.0,
                 0.0,
                 0.0,
                 0.0,
                 0.0
                ],
                [
                 0.0,
                 0.0,
                 0.0,
                 0.0,
                 0.0,
                 0.0,
                 0.0,
                 0.0,
                 0.0,
                 0.0,
                 0.0
                ],
                [
                 0.0,
                 0.0,
                 0.0,
                 0.0,
                 0.0,
                 0.0,
                 0.0,
                 0.0,
                 0.0,
                 0.0,
                 0.0
                ],
                [
                 0.0,
                 0.0,
                 0.0,
                 0.0,
                 0.0,
                 0.0,
                 0.0,
                 0.0,
                 0.0,
                 0.0,
                 0.0
                ],
                [
                 0.0,
                 0.0,
                 0.0,
                 0.0,
                 0.0,
                 0.0,
                 0.0,
                 0.0,
                 0.0,
                 0.0,
                 0.0
                ],
                [
                 0.0,
                 0.0,
                 0.0,
                 0.0,
                 0.0,
                 0.0,
                 0.0,
                 0.0,
                 0.0,
                 0.0,
                 0.0
                ],
                [
                 0.0,
                 0.0,
                 0.0,
                 0.0,
                 0.0,
                 0.0,
                 0.0,
                 0.0,
                 0.0,
                 0.0,
                 0.0
                ],
                [
                 0.0,
                 0.0,
                 0.0,
                 0.0,
                 0.0,
                 0.0,
                 0.0,
                 0.0,
                 0.0,
                 0.0,
                 0.0
                ],
                [
                 0.0,
                 0.0,
                 0.0,
                 0.0,
                 0.0,
                 0.0,
                 0.0,
                 0.0,
                 0.0,
                 0.0,
                 0.0
                ],
                [
                 0.0,
                 0.0,
                 0.0,
                 0.0,
                 0.0,
                 0.0,
                 0.0,
                 0.0,
                 0.0,
                 0.0,
                 0.0
                ],
                [
                 0.0,
                 0.0,
                 0.0,
                 0.0,
                 0.0,
                 0.0,
                 0.0,
                 0.0,
                 0.0,
                 0.0,
                 0.0
                ]
               ]
              ]
             }
            ],
            "label": "1",
            "method": "restyle"
           },
           {
            "args": [
             {
              "z": [
               [
                [
                 0.0,
                 0.0,
                 0.0,
                 0.0,
                 0.0,
                 0.0,
                 0.0,
                 0.0,
                 0.0,
                 0.0,
                 0.0
                ],
                [
                 0.0,
                 0.0,
                 0.0,
                 0.0,
                 0.0,
                 0.0,
                 0.0,
                 0.0,
                 0.0,
                 0.0,
                 0.0
                ],
                [
                 0.0,
                 0.0,
                 0.0,
                 0.0,
                 0.0,
                 0.0,
                 0.0,
                 0.0,
                 0.0,
                 0.0,
                 0.0
                ],
                [
                 0.0,
                 0.0,
                 0.0,
                 0.0,
                 0.0,
                 0.0,
                 0.0,
                 0.0,
                 0.0,
                 0.0,
                 0.0
                ],
                [
                 0.0,
                 0.0,
                 0.0,
                 0.0,
                 0.0,
                 0.0,
                 0.0,
                 0.0,
                 0.0,
                 0.0,
                 0.0
                ],
                [
                 0.0,
                 0.0,
                 0.0,
                 0.0,
                 0.0,
                 0.0,
                 0.0,
                 0.0,
                 0.0,
                 0.0,
                 0.0
                ],
                [
                 0.0,
                 0.0,
                 0.0,
                 0.0,
                 0.0,
                 0.0,
                 0.0,
                 0.0,
                 0.0,
                 0.0,
                 0.0
                ],
                [
                 0.0,
                 0.0,
                 0.0,
                 0.0,
                 0.0,
                 0.0,
                 0.0,
                 0.0,
                 0.0,
                 0.0,
                 0.0
                ],
                [
                 0.0,
                 0.0,
                 0.0,
                 0.0,
                 0.0,
                 0.0,
                 0.0,
                 0.0,
                 0.0,
                 0.0,
                 0.0
                ],
                [
                 0.0,
                 0.0,
                 0.0,
                 0.0,
                 0.0,
                 0.0,
                 0.0,
                 0.0,
                 0.0,
                 0.0,
                 0.0
                ],
                [
                 0.0,
                 0.0,
                 0.0,
                 0.0,
                 0.0,
                 0.0,
                 0.0,
                 0.0,
                 0.0,
                 0.0,
                 0.0
                ]
               ]
              ]
             }
            ],
            "label": "2",
            "method": "restyle"
           },
           {
            "args": [
             {
              "z": [
               [
                [
                 0.0,
                 0.0,
                 0.0,
                 0.0,
                 0.0,
                 0.0,
                 0.0,
                 0.0,
                 0.0,
                 0.0,
                 0.0
                ],
                [
                 0.0,
                 0.0,
                 0.0,
                 0.0,
                 0.0,
                 0.0,
                 0.0,
                 0.0,
                 0.0,
                 0.0,
                 0.0
                ],
                [
                 0.0,
                 0.0,
                 0.0,
                 0.0,
                 0.0,
                 0.0,
                 0.0,
                 0.0,
                 0.0,
                 0.0,
                 0.0
                ],
                [
                 0.0,
                 0.0,
                 0.0,
                 0.0,
                 0.0,
                 0.0,
                 0.0,
                 0.0,
                 0.0,
                 0.0,
                 0.0
                ],
                [
                 0.0,
                 0.0,
                 0.0,
                 0.0,
                 0.0,
                 0.0,
                 0.0,
                 0.0,
                 0.0,
                 0.0,
                 0.0
                ],
                [
                 0.0,
                 0.0,
                 0.0,
                 0.0,
                 0.0,
                 0.0,
                 0.0,
                 0.0,
                 0.0,
                 0.0,
                 0.0
                ],
                [
                 0.0,
                 0.0,
                 0.0,
                 0.0,
                 0.0,
                 0.0,
                 0.0,
                 0.0,
                 0.0,
                 0.0,
                 0.0
                ],
                [
                 0.0,
                 0.0,
                 0.0,
                 0.0,
                 0.0,
                 0.0,
                 0.0,
                 0.0,
                 0.0,
                 0.0,
                 0.0
                ],
                [
                 0.0,
                 0.0,
                 0.0,
                 0.0,
                 0.0,
                 0.0,
                 0.0,
                 0.0,
                 0.0,
                 0.0,
                 0.0
                ],
                [
                 0.0,
                 0.0,
                 0.0,
                 0.0,
                 0.0,
                 0.0,
                 0.0,
                 0.0,
                 0.0,
                 0.0,
                 0.0
                ],
                [
                 0.0,
                 0.0,
                 0.0,
                 0.0,
                 0.0,
                 0.0,
                 0.0,
                 0.0,
                 0.0,
                 0.0,
                 0.0
                ]
               ]
              ]
             }
            ],
            "label": "3",
            "method": "restyle"
           },
           {
            "args": [
             {
              "z": [
               [
                [
                 0.0,
                 0.0,
                 0.0,
                 0.0,
                 0.0,
                 0.0,
                 0.0,
                 0.0,
                 0.0,
                 0.0,
                 0.0
                ],
                [
                 0.0,
                 0.0,
                 0.0,
                 0.0,
                 0.0,
                 0.0,
                 0.0,
                 0.0,
                 0.0,
                 0.0,
                 0.0
                ],
                [
                 0.0,
                 0.0,
                 0.0,
                 0.0,
                 0.0,
                 0.0,
                 0.0,
                 0.0,
                 0.0,
                 0.0,
                 0.0
                ],
                [
                 0.0,
                 0.0,
                 0.0,
                 0.0,
                 0.0,
                 0.0,
                 0.0,
                 0.0,
                 0.0,
                 0.0,
                 0.0
                ],
                [
                 0.0,
                 0.0,
                 0.0,
                 0.0,
                 0.0,
                 0.0,
                 0.0,
                 0.0,
                 0.0,
                 0.0,
                 0.0
                ],
                [
                 0.0,
                 0.0,
                 0.0,
                 0.0,
                 0.0,
                 0.0,
                 0.0,
                 0.0,
                 0.0,
                 0.0,
                 0.0
                ],
                [
                 0.0,
                 0.0,
                 0.0,
                 0.0,
                 0.0,
                 0.0,
                 0.0,
                 0.0,
                 0.0,
                 0.0,
                 0.0
                ],
                [
                 0.0,
                 0.0,
                 0.0,
                 0.0,
                 0.0,
                 0.0,
                 0.0,
                 0.0,
                 0.0,
                 0.0,
                 0.0
                ],
                [
                 0.0,
                 0.0,
                 0.0,
                 0.0,
                 0.0,
                 0.0,
                 0.0,
                 0.0,
                 0.0,
                 0.0,
                 0.0
                ],
                [
                 0.0,
                 0.0,
                 0.0,
                 0.0,
                 0.0,
                 0.0,
                 0.0,
                 0.0,
                 0.0,
                 0.0,
                 0.0
                ],
                [
                 0.0,
                 0.0,
                 0.0,
                 0.0,
                 0.0,
                 0.0,
                 0.0,
                 0.0,
                 0.0,
                 0.0,
                 0.0
                ]
               ]
              ]
             }
            ],
            "label": "4",
            "method": "restyle"
           },
           {
            "args": [
             {
              "z": [
               [
                [
                 0.0,
                 0.0,
                 0.0,
                 0.0,
                 0.0,
                 0.0,
                 0.0,
                 0.0,
                 0.0,
                 0.0,
                 0.0
                ],
                [
                 0.0,
                 0.0,
                 0.0,
                 0.0,
                 0.0,
                 0.0,
                 0.0,
                 0.0,
                 0.0,
                 0.0,
                 0.0
                ],
                [
                 0.0,
                 0.0,
                 0.0,
                 0.0,
                 0.0,
                 0.0,
                 0.0,
                 0.0,
                 0.0,
                 0.0,
                 0.0
                ],
                [
                 0.0,
                 0.0,
                 0.0,
                 0.0,
                 0.0,
                 0.0,
                 0.0,
                 0.0,
                 0.0,
                 0.0,
                 0.0
                ],
                [
                 0.0,
                 0.0,
                 0.0,
                 0.0,
                 0.0,
                 0.0,
                 0.0,
                 0.0,
                 0.0,
                 0.0,
                 0.0
                ],
                [
                 0.0,
                 0.0,
                 0.0,
                 0.0,
                 0.0,
                 0.0,
                 0.0,
                 0.0,
                 0.0,
                 0.0,
                 0.0
                ],
                [
                 0.0,
                 0.0,
                 0.0,
                 0.0,
                 0.0,
                 0.0,
                 0.0,
                 0.0,
                 0.0,
                 0.0,
                 0.0
                ],
                [
                 0.0,
                 0.0,
                 0.0,
                 0.0,
                 0.0,
                 0.0,
                 0.0,
                 0.0,
                 0.0,
                 0.0,
                 0.0
                ],
                [
                 0.0,
                 0.0,
                 0.0,
                 0.0,
                 0.0,
                 0.0,
                 0.0,
                 0.0,
                 0.0,
                 0.0,
                 0.0
                ],
                [
                 0.0,
                 0.0,
                 0.0,
                 0.0,
                 0.0,
                 0.0,
                 0.0,
                 0.0,
                 0.0,
                 0.0,
                 0.0
                ],
                [
                 0.0,
                 0.0,
                 0.0,
                 0.0,
                 0.0,
                 0.0,
                 0.0,
                 0.0,
                 0.0,
                 0.0,
                 0.0
                ]
               ]
              ]
             }
            ],
            "label": "5",
            "method": "restyle"
           }
          ]
         }
        ]
       },
       "config": {
        "plotlyServerURL": "https://plot.ly"
       }
      },
      "text/html": [
       "<div>                            <div id=\"38d46308-9519-41c0-9fef-281610b924c6\" class=\"plotly-graph-div\" style=\"height:500px; width:500px;\"></div>            <script type=\"text/javascript\">                require([\"plotly\"], function(Plotly) {                    window.PLOTLYENV=window.PLOTLYENV || {};                                    if (document.getElementById(\"38d46308-9519-41c0-9fef-281610b924c6\")) {                    Plotly.newPlot(                        \"38d46308-9519-41c0-9fef-281610b924c6\",                        [{\"coloraxis\":\"coloraxis\",\"name\":\"0\",\"x\":[0,1,2,3,4,5,6,7,8,9,10],\"y\":[0,1,2,3,4,5,6,7,8,9,10],\"z\":[[0.0,0.0,0.0,0.0,0.0,0.0,0.0,0.0,0.0,0.0,0.0],[0.0,0.0,0.0,0.0,0.0,0.0,0.0,0.0,0.0,0.0,0.0],[0.0,0.0,0.0,0.0,0.0,0.0,0.0,0.0,0.0,0.0,0.0],[0.0,0.0,0.0,0.0,0.0,0.0,0.0,0.0,0.0,0.0,0.0],[0.0,0.0,0.0,0.0,0.0,0.0,0.0,0.0,0.0,0.0,0.0],[0.0,0.0,0.0,0.0,0.0,0.0,0.0,0.0,0.0,0.0,0.0],[0.0,0.0,0.0,0.0,0.0,0.0,0.0,0.0,0.0,0.0,0.0],[0.0,0.0,0.0,0.0,0.0,0.0,0.0,0.0,0.0,0.0,0.0],[0.0,0.0,0.0,0.0,0.0,0.0,0.0,0.0,0.0,0.0,0.0],[0.0,0.0,0.0,0.0,0.0,0.0,0.0,0.0,0.0,0.0,0.0],[0.0,0.0,0.0,0.0,0.0,0.0,0.0,0.0,0.0,0.0,0.0]],\"type\":\"heatmap\",\"xaxis\":\"x\",\"yaxis\":\"y\",\"hovertemplate\":\"Temperature: %{x}\\u003cbr\\u003eHumidity: %{y}\\u003cbr\\u003eValue: %{z}\\u003cextra\\u003e\\u003c\\u002fextra\\u003e\"}],                        {\"template\":{\"data\":{\"histogram2dcontour\":[{\"type\":\"histogram2dcontour\",\"colorbar\":{\"outlinewidth\":0,\"ticks\":\"\"},\"colorscale\":[[0.0,\"#0d0887\"],[0.1111111111111111,\"#46039f\"],[0.2222222222222222,\"#7201a8\"],[0.3333333333333333,\"#9c179e\"],[0.4444444444444444,\"#bd3786\"],[0.5555555555555556,\"#d8576b\"],[0.6666666666666666,\"#ed7953\"],[0.7777777777777778,\"#fb9f3a\"],[0.8888888888888888,\"#fdca26\"],[1.0,\"#f0f921\"]]}],\"choropleth\":[{\"type\":\"choropleth\",\"colorbar\":{\"outlinewidth\":0,\"ticks\":\"\"}}],\"histogram2d\":[{\"type\":\"histogram2d\",\"colorbar\":{\"outlinewidth\":0,\"ticks\":\"\"},\"colorscale\":[[0.0,\"#0d0887\"],[0.1111111111111111,\"#46039f\"],[0.2222222222222222,\"#7201a8\"],[0.3333333333333333,\"#9c179e\"],[0.4444444444444444,\"#bd3786\"],[0.5555555555555556,\"#d8576b\"],[0.6666666666666666,\"#ed7953\"],[0.7777777777777778,\"#fb9f3a\"],[0.8888888888888888,\"#fdca26\"],[1.0,\"#f0f921\"]]}],\"heatmap\":[{\"type\":\"heatmap\",\"colorbar\":{\"outlinewidth\":0,\"ticks\":\"\"},\"colorscale\":[[0.0,\"#0d0887\"],[0.1111111111111111,\"#46039f\"],[0.2222222222222222,\"#7201a8\"],[0.3333333333333333,\"#9c179e\"],[0.4444444444444444,\"#bd3786\"],[0.5555555555555556,\"#d8576b\"],[0.6666666666666666,\"#ed7953\"],[0.7777777777777778,\"#fb9f3a\"],[0.8888888888888888,\"#fdca26\"],[1.0,\"#f0f921\"]]}],\"heatmapgl\":[{\"type\":\"heatmapgl\",\"colorbar\":{\"outlinewidth\":0,\"ticks\":\"\"},\"colorscale\":[[0.0,\"#0d0887\"],[0.1111111111111111,\"#46039f\"],[0.2222222222222222,\"#7201a8\"],[0.3333333333333333,\"#9c179e\"],[0.4444444444444444,\"#bd3786\"],[0.5555555555555556,\"#d8576b\"],[0.6666666666666666,\"#ed7953\"],[0.7777777777777778,\"#fb9f3a\"],[0.8888888888888888,\"#fdca26\"],[1.0,\"#f0f921\"]]}],\"contourcarpet\":[{\"type\":\"contourcarpet\",\"colorbar\":{\"outlinewidth\":0,\"ticks\":\"\"}}],\"contour\":[{\"type\":\"contour\",\"colorbar\":{\"outlinewidth\":0,\"ticks\":\"\"},\"colorscale\":[[0.0,\"#0d0887\"],[0.1111111111111111,\"#46039f\"],[0.2222222222222222,\"#7201a8\"],[0.3333333333333333,\"#9c179e\"],[0.4444444444444444,\"#bd3786\"],[0.5555555555555556,\"#d8576b\"],[0.6666666666666666,\"#ed7953\"],[0.7777777777777778,\"#fb9f3a\"],[0.8888888888888888,\"#fdca26\"],[1.0,\"#f0f921\"]]}],\"surface\":[{\"type\":\"surface\",\"colorbar\":{\"outlinewidth\":0,\"ticks\":\"\"},\"colorscale\":[[0.0,\"#0d0887\"],[0.1111111111111111,\"#46039f\"],[0.2222222222222222,\"#7201a8\"],[0.3333333333333333,\"#9c179e\"],[0.4444444444444444,\"#bd3786\"],[0.5555555555555556,\"#d8576b\"],[0.6666666666666666,\"#ed7953\"],[0.7777777777777778,\"#fb9f3a\"],[0.8888888888888888,\"#fdca26\"],[1.0,\"#f0f921\"]]}],\"mesh3d\":[{\"type\":\"mesh3d\",\"colorbar\":{\"outlinewidth\":0,\"ticks\":\"\"}}],\"scatter\":[{\"fillpattern\":{\"fillmode\":\"overlay\",\"size\":10,\"solidity\":0.2},\"type\":\"scatter\"}],\"parcoords\":[{\"type\":\"parcoords\",\"line\":{\"colorbar\":{\"outlinewidth\":0,\"ticks\":\"\"}}}],\"scatterpolargl\":[{\"type\":\"scatterpolargl\",\"marker\":{\"colorbar\":{\"outlinewidth\":0,\"ticks\":\"\"}}}],\"bar\":[{\"error_x\":{\"color\":\"#2a3f5f\"},\"error_y\":{\"color\":\"#2a3f5f\"},\"marker\":{\"line\":{\"color\":\"#E5ECF6\",\"width\":0.5},\"pattern\":{\"fillmode\":\"overlay\",\"size\":10,\"solidity\":0.2}},\"type\":\"bar\"}],\"scattergeo\":[{\"type\":\"scattergeo\",\"marker\":{\"colorbar\":{\"outlinewidth\":0,\"ticks\":\"\"}}}],\"scatterpolar\":[{\"type\":\"scatterpolar\",\"marker\":{\"colorbar\":{\"outlinewidth\":0,\"ticks\":\"\"}}}],\"histogram\":[{\"marker\":{\"pattern\":{\"fillmode\":\"overlay\",\"size\":10,\"solidity\":0.2}},\"type\":\"histogram\"}],\"scattergl\":[{\"type\":\"scattergl\",\"marker\":{\"colorbar\":{\"outlinewidth\":0,\"ticks\":\"\"}}}],\"scatter3d\":[{\"type\":\"scatter3d\",\"line\":{\"colorbar\":{\"outlinewidth\":0,\"ticks\":\"\"}},\"marker\":{\"colorbar\":{\"outlinewidth\":0,\"ticks\":\"\"}}}],\"scattermapbox\":[{\"type\":\"scattermapbox\",\"marker\":{\"colorbar\":{\"outlinewidth\":0,\"ticks\":\"\"}}}],\"scatterternary\":[{\"type\":\"scatterternary\",\"marker\":{\"colorbar\":{\"outlinewidth\":0,\"ticks\":\"\"}}}],\"scattercarpet\":[{\"type\":\"scattercarpet\",\"marker\":{\"colorbar\":{\"outlinewidth\":0,\"ticks\":\"\"}}}],\"carpet\":[{\"aaxis\":{\"endlinecolor\":\"#2a3f5f\",\"gridcolor\":\"white\",\"linecolor\":\"white\",\"minorgridcolor\":\"white\",\"startlinecolor\":\"#2a3f5f\"},\"baxis\":{\"endlinecolor\":\"#2a3f5f\",\"gridcolor\":\"white\",\"linecolor\":\"white\",\"minorgridcolor\":\"white\",\"startlinecolor\":\"#2a3f5f\"},\"type\":\"carpet\"}],\"table\":[{\"cells\":{\"fill\":{\"color\":\"#EBF0F8\"},\"line\":{\"color\":\"white\"}},\"header\":{\"fill\":{\"color\":\"#C8D4E3\"},\"line\":{\"color\":\"white\"}},\"type\":\"table\"}],\"barpolar\":[{\"marker\":{\"line\":{\"color\":\"#E5ECF6\",\"width\":0.5},\"pattern\":{\"fillmode\":\"overlay\",\"size\":10,\"solidity\":0.2}},\"type\":\"barpolar\"}],\"pie\":[{\"automargin\":true,\"type\":\"pie\"}]},\"layout\":{\"autotypenumbers\":\"strict\",\"colorway\":[\"#636efa\",\"#EF553B\",\"#00cc96\",\"#ab63fa\",\"#FFA15A\",\"#19d3f3\",\"#FF6692\",\"#B6E880\",\"#FF97FF\",\"#FECB52\"],\"font\":{\"color\":\"#2a3f5f\"},\"hovermode\":\"closest\",\"hoverlabel\":{\"align\":\"left\"},\"paper_bgcolor\":\"white\",\"plot_bgcolor\":\"#E5ECF6\",\"polar\":{\"bgcolor\":\"#E5ECF6\",\"angularaxis\":{\"gridcolor\":\"white\",\"linecolor\":\"white\",\"ticks\":\"\"},\"radialaxis\":{\"gridcolor\":\"white\",\"linecolor\":\"white\",\"ticks\":\"\"}},\"ternary\":{\"bgcolor\":\"#E5ECF6\",\"aaxis\":{\"gridcolor\":\"white\",\"linecolor\":\"white\",\"ticks\":\"\"},\"baxis\":{\"gridcolor\":\"white\",\"linecolor\":\"white\",\"ticks\":\"\"},\"caxis\":{\"gridcolor\":\"white\",\"linecolor\":\"white\",\"ticks\":\"\"}},\"coloraxis\":{\"colorbar\":{\"outlinewidth\":0,\"ticks\":\"\"}},\"colorscale\":{\"sequential\":[[0.0,\"#0d0887\"],[0.1111111111111111,\"#46039f\"],[0.2222222222222222,\"#7201a8\"],[0.3333333333333333,\"#9c179e\"],[0.4444444444444444,\"#bd3786\"],[0.5555555555555556,\"#d8576b\"],[0.6666666666666666,\"#ed7953\"],[0.7777777777777778,\"#fb9f3a\"],[0.8888888888888888,\"#fdca26\"],[1.0,\"#f0f921\"]],\"sequentialminus\":[[0.0,\"#0d0887\"],[0.1111111111111111,\"#46039f\"],[0.2222222222222222,\"#7201a8\"],[0.3333333333333333,\"#9c179e\"],[0.4444444444444444,\"#bd3786\"],[0.5555555555555556,\"#d8576b\"],[0.6666666666666666,\"#ed7953\"],[0.7777777777777778,\"#fb9f3a\"],[0.8888888888888888,\"#fdca26\"],[1.0,\"#f0f921\"]],\"diverging\":[[0,\"#8e0152\"],[0.1,\"#c51b7d\"],[0.2,\"#de77ae\"],[0.3,\"#f1b6da\"],[0.4,\"#fde0ef\"],[0.5,\"#f7f7f7\"],[0.6,\"#e6f5d0\"],[0.7,\"#b8e186\"],[0.8,\"#7fbc41\"],[0.9,\"#4d9221\"],[1,\"#276419\"]]},\"xaxis\":{\"gridcolor\":\"white\",\"linecolor\":\"white\",\"ticks\":\"\",\"title\":{\"standoff\":15},\"zerolinecolor\":\"white\",\"automargin\":true,\"zerolinewidth\":2},\"yaxis\":{\"gridcolor\":\"white\",\"linecolor\":\"white\",\"ticks\":\"\",\"title\":{\"standoff\":15},\"zerolinecolor\":\"white\",\"automargin\":true,\"zerolinewidth\":2},\"scene\":{\"xaxis\":{\"backgroundcolor\":\"#E5ECF6\",\"gridcolor\":\"white\",\"linecolor\":\"white\",\"showbackground\":true,\"ticks\":\"\",\"zerolinecolor\":\"white\",\"gridwidth\":2},\"yaxis\":{\"backgroundcolor\":\"#E5ECF6\",\"gridcolor\":\"white\",\"linecolor\":\"white\",\"showbackground\":true,\"ticks\":\"\",\"zerolinecolor\":\"white\",\"gridwidth\":2},\"zaxis\":{\"backgroundcolor\":\"#E5ECF6\",\"gridcolor\":\"white\",\"linecolor\":\"white\",\"showbackground\":true,\"ticks\":\"\",\"zerolinecolor\":\"white\",\"gridwidth\":2}},\"shapedefaults\":{\"line\":{\"color\":\"#2a3f5f\"}},\"annotationdefaults\":{\"arrowcolor\":\"#2a3f5f\",\"arrowhead\":0,\"arrowwidth\":1},\"geo\":{\"bgcolor\":\"white\",\"landcolor\":\"#E5ECF6\",\"subunitcolor\":\"white\",\"showland\":true,\"showlakes\":true,\"lakecolor\":\"white\"},\"title\":{\"x\":0.05},\"mapbox\":{\"style\":\"light\"}}},\"xaxis\":{\"anchor\":\"y\",\"domain\":[0.0,1.0],\"scaleanchor\":\"y\",\"constrain\":\"domain\",\"title\":{\"text\":\"Temperature\"},\"tickmode\":\"array\",\"tickvals\":[0,1,2,3,4,5,6,7,8,9,10],\"ticktext\":[\"0\",\"1\",\"2\",\"3\",\"4\",\"5\",\"6\",\"7\",\"8\",\"9\",\"10\"],\"scaleratio\":1},\"yaxis\":{\"anchor\":\"x\",\"domain\":[0.0,1.0],\"autorange\":\"reversed\",\"constrain\":\"domain\",\"title\":{\"text\":\"Humidity\"},\"tickmode\":\"array\",\"tickvals\":[0,1,2,3,4,5,6,7,8,9,10],\"ticktext\":[\"10\",\"9\",\"8\",\"7\",\"6\",\"5\",\"4\",\"3\",\"2\",\"1\",\"0\"]},\"coloraxis\":{\"colorbar\":{\"title\":{\"text\":\"Value\"},\"x\":1},\"colorscale\":[[0.0,\"rgba(57,59,121,1.0)\"],[0.05263157894736842,\"rgba(82,84,163,1.0)\"],[0.10526315789473684,\"rgba(107,110,207,1.0)\"],[0.15789473684210525,\"rgba(156,158,222,1.0)\"],[0.21052631578947367,\"rgba(99,121,57,1.0)\"],[0.2631578947368421,\"rgba(140,162,82,1.0)\"],[0.3157894736842105,\"rgba(181,207,107,1.0)\"],[0.3684210526315789,\"rgba(206,219,156,1.0)\"],[0.42105263157894735,\"rgba(140,109,49,1.0)\"],[0.47368421052631576,\"rgba(189,158,57,1.0)\"],[0.5263157894736842,\"rgba(231,186,82,1.0)\"],[0.5789473684210527,\"rgba(231,203,148,1.0)\"],[0.631578947368421,\"rgba(132,60,57,1.0)\"],[0.6842105263157895,\"rgba(173,73,74,1.0)\"],[0.7368421052631579,\"rgba(214,97,107,1.0)\"],[0.7894736842105263,\"rgba(231,150,156,1.0)\"],[0.8421052631578947,\"rgba(123,65,115,1.0)\"],[0.8947368421052632,\"rgba(165,81,148,1.0)\"],[0.9473684210526315,\"rgba(206,109,189,1.0)\"],[1.0,\"rgba(222,158,214,1.0)\"]],\"cmin\":-100,\"cmax\":100},\"title\":{\"text\":\"State value function GPI-V_Exp_Sarsa\",\"x\":0.5,\"y\":0.85},\"shapes\":[{\"line\":{\"color\":\"black\",\"width\":2},\"type\":\"line\",\"x0\":-0.5,\"x1\":-0.5,\"y0\":-0.5,\"y1\":10.5},{\"line\":{\"color\":\"black\",\"width\":2},\"type\":\"line\",\"x0\":-0.5,\"x1\":10.5,\"y0\":-0.5,\"y1\":-0.5},{\"line\":{\"color\":\"black\",\"width\":2},\"type\":\"line\",\"x0\":0.5,\"x1\":0.5,\"y0\":-0.5,\"y1\":10.5},{\"line\":{\"color\":\"black\",\"width\":2},\"type\":\"line\",\"x0\":-0.5,\"x1\":10.5,\"y0\":0.5,\"y1\":0.5},{\"line\":{\"color\":\"black\",\"width\":2},\"type\":\"line\",\"x0\":1.5,\"x1\":1.5,\"y0\":-0.5,\"y1\":10.5},{\"line\":{\"color\":\"black\",\"width\":2},\"type\":\"line\",\"x0\":-0.5,\"x1\":10.5,\"y0\":1.5,\"y1\":1.5},{\"line\":{\"color\":\"black\",\"width\":2},\"type\":\"line\",\"x0\":2.5,\"x1\":2.5,\"y0\":-0.5,\"y1\":10.5},{\"line\":{\"color\":\"black\",\"width\":2},\"type\":\"line\",\"x0\":-0.5,\"x1\":10.5,\"y0\":2.5,\"y1\":2.5},{\"line\":{\"color\":\"black\",\"width\":2},\"type\":\"line\",\"x0\":3.5,\"x1\":3.5,\"y0\":-0.5,\"y1\":10.5},{\"line\":{\"color\":\"black\",\"width\":2},\"type\":\"line\",\"x0\":-0.5,\"x1\":10.5,\"y0\":3.5,\"y1\":3.5},{\"line\":{\"color\":\"black\",\"width\":2},\"type\":\"line\",\"x0\":4.5,\"x1\":4.5,\"y0\":-0.5,\"y1\":10.5},{\"line\":{\"color\":\"black\",\"width\":2},\"type\":\"line\",\"x0\":-0.5,\"x1\":10.5,\"y0\":4.5,\"y1\":4.5},{\"line\":{\"color\":\"black\",\"width\":2},\"type\":\"line\",\"x0\":5.5,\"x1\":5.5,\"y0\":-0.5,\"y1\":10.5},{\"line\":{\"color\":\"black\",\"width\":2},\"type\":\"line\",\"x0\":-0.5,\"x1\":10.5,\"y0\":5.5,\"y1\":5.5},{\"line\":{\"color\":\"black\",\"width\":2},\"type\":\"line\",\"x0\":6.5,\"x1\":6.5,\"y0\":-0.5,\"y1\":10.5},{\"line\":{\"color\":\"black\",\"width\":2},\"type\":\"line\",\"x0\":-0.5,\"x1\":10.5,\"y0\":6.5,\"y1\":6.5},{\"line\":{\"color\":\"black\",\"width\":2},\"type\":\"line\",\"x0\":7.5,\"x1\":7.5,\"y0\":-0.5,\"y1\":10.5},{\"line\":{\"color\":\"black\",\"width\":2},\"type\":\"line\",\"x0\":-0.5,\"x1\":10.5,\"y0\":7.5,\"y1\":7.5},{\"line\":{\"color\":\"black\",\"width\":2},\"type\":\"line\",\"x0\":8.5,\"x1\":8.5,\"y0\":-0.5,\"y1\":10.5},{\"line\":{\"color\":\"black\",\"width\":2},\"type\":\"line\",\"x0\":-0.5,\"x1\":10.5,\"y0\":8.5,\"y1\":8.5},{\"line\":{\"color\":\"black\",\"width\":2},\"type\":\"line\",\"x0\":9.5,\"x1\":9.5,\"y0\":-0.5,\"y1\":10.5},{\"line\":{\"color\":\"black\",\"width\":2},\"type\":\"line\",\"x0\":-0.5,\"x1\":10.5,\"y0\":9.5,\"y1\":9.5}],\"width\":500,\"height\":500,\"sliders\":[{\"currentvalue\":{\"prefix\":\"Growth: \"},\"pad\":{\"t\":15},\"steps\":[{\"args\":[{\"z\":[[[0.0,0.0,0.0,0.0,0.0,0.0,0.0,0.0,0.0,0.0,0.0],[0.0,0.0,0.0,0.0,0.0,0.0,0.0,0.0,0.0,0.0,0.0],[0.0,0.0,0.0,0.0,0.0,0.0,0.0,0.0,0.0,0.0,0.0],[0.0,0.0,0.0,0.0,0.0,0.0,0.0,0.0,0.0,0.0,0.0],[0.0,0.0,0.0,0.0,0.0,0.0,0.0,0.0,0.0,0.0,0.0],[0.0,0.0,0.0,0.0,0.0,0.0,0.0,0.0,0.0,0.0,0.0],[0.0,0.0,0.0,0.0,0.0,0.0,0.0,0.0,0.0,0.0,0.0],[0.0,0.0,0.0,0.0,0.0,0.0,0.0,0.0,0.0,0.0,0.0],[0.0,0.0,0.0,0.0,0.0,0.0,0.0,0.0,0.0,0.0,0.0],[0.0,0.0,0.0,0.0,0.0,0.0,0.0,0.0,0.0,0.0,0.0],[0.0,0.0,0.0,0.0,0.0,0.0,0.0,0.0,0.0,0.0,0.0]]]}],\"label\":\"0\",\"method\":\"restyle\"},{\"args\":[{\"z\":[[[0.0,0.0,0.0,0.0,0.0,0.0,0.0,0.0,0.0,0.0,0.0],[0.0,0.0,0.0,0.0,0.0,0.0,0.0,0.0,0.0,0.0,0.0],[0.0,0.0,0.0,0.0,0.0,0.0,0.0,0.0,0.0,0.0,0.0],[0.0,0.0,0.0,0.0,0.0,0.0,0.0,0.0,0.0,0.0,0.0],[0.0,0.0,0.0,0.0,0.0,0.0,0.0,0.0,0.0,0.0,0.0],[0.0,0.0,0.0,0.0,0.0,0.0,0.0,0.0,0.0,0.0,0.0],[0.0,0.0,0.0,0.0,0.0,0.0,0.0,0.0,0.0,0.0,0.0],[0.0,0.0,0.0,0.0,0.0,0.0,0.0,0.0,0.0,0.0,0.0],[0.0,0.0,0.0,0.0,0.0,0.0,0.0,0.0,0.0,0.0,0.0],[0.0,0.0,0.0,0.0,0.0,0.0,0.0,0.0,0.0,0.0,0.0],[0.0,0.0,0.0,0.0,0.0,0.0,0.0,0.0,0.0,0.0,0.0]]]}],\"label\":\"1\",\"method\":\"restyle\"},{\"args\":[{\"z\":[[[0.0,0.0,0.0,0.0,0.0,0.0,0.0,0.0,0.0,0.0,0.0],[0.0,0.0,0.0,0.0,0.0,0.0,0.0,0.0,0.0,0.0,0.0],[0.0,0.0,0.0,0.0,0.0,0.0,0.0,0.0,0.0,0.0,0.0],[0.0,0.0,0.0,0.0,0.0,0.0,0.0,0.0,0.0,0.0,0.0],[0.0,0.0,0.0,0.0,0.0,0.0,0.0,0.0,0.0,0.0,0.0],[0.0,0.0,0.0,0.0,0.0,0.0,0.0,0.0,0.0,0.0,0.0],[0.0,0.0,0.0,0.0,0.0,0.0,0.0,0.0,0.0,0.0,0.0],[0.0,0.0,0.0,0.0,0.0,0.0,0.0,0.0,0.0,0.0,0.0],[0.0,0.0,0.0,0.0,0.0,0.0,0.0,0.0,0.0,0.0,0.0],[0.0,0.0,0.0,0.0,0.0,0.0,0.0,0.0,0.0,0.0,0.0],[0.0,0.0,0.0,0.0,0.0,0.0,0.0,0.0,0.0,0.0,0.0]]]}],\"label\":\"2\",\"method\":\"restyle\"},{\"args\":[{\"z\":[[[0.0,0.0,0.0,0.0,0.0,0.0,0.0,0.0,0.0,0.0,0.0],[0.0,0.0,0.0,0.0,0.0,0.0,0.0,0.0,0.0,0.0,0.0],[0.0,0.0,0.0,0.0,0.0,0.0,0.0,0.0,0.0,0.0,0.0],[0.0,0.0,0.0,0.0,0.0,0.0,0.0,0.0,0.0,0.0,0.0],[0.0,0.0,0.0,0.0,0.0,0.0,0.0,0.0,0.0,0.0,0.0],[0.0,0.0,0.0,0.0,0.0,0.0,0.0,0.0,0.0,0.0,0.0],[0.0,0.0,0.0,0.0,0.0,0.0,0.0,0.0,0.0,0.0,0.0],[0.0,0.0,0.0,0.0,0.0,0.0,0.0,0.0,0.0,0.0,0.0],[0.0,0.0,0.0,0.0,0.0,0.0,0.0,0.0,0.0,0.0,0.0],[0.0,0.0,0.0,0.0,0.0,0.0,0.0,0.0,0.0,0.0,0.0],[0.0,0.0,0.0,0.0,0.0,0.0,0.0,0.0,0.0,0.0,0.0]]]}],\"label\":\"3\",\"method\":\"restyle\"},{\"args\":[{\"z\":[[[0.0,0.0,0.0,0.0,0.0,0.0,0.0,0.0,0.0,0.0,0.0],[0.0,0.0,0.0,0.0,0.0,0.0,0.0,0.0,0.0,0.0,0.0],[0.0,0.0,0.0,0.0,0.0,0.0,0.0,0.0,0.0,0.0,0.0],[0.0,0.0,0.0,0.0,0.0,0.0,0.0,0.0,0.0,0.0,0.0],[0.0,0.0,0.0,0.0,0.0,0.0,0.0,0.0,0.0,0.0,0.0],[0.0,0.0,0.0,0.0,0.0,0.0,0.0,0.0,0.0,0.0,0.0],[0.0,0.0,0.0,0.0,0.0,0.0,0.0,0.0,0.0,0.0,0.0],[0.0,0.0,0.0,0.0,0.0,0.0,0.0,0.0,0.0,0.0,0.0],[0.0,0.0,0.0,0.0,0.0,0.0,0.0,0.0,0.0,0.0,0.0],[0.0,0.0,0.0,0.0,0.0,0.0,0.0,0.0,0.0,0.0,0.0],[0.0,0.0,0.0,0.0,0.0,0.0,0.0,0.0,0.0,0.0,0.0]]]}],\"label\":\"4\",\"method\":\"restyle\"},{\"args\":[{\"z\":[[[0.0,0.0,0.0,0.0,0.0,0.0,0.0,0.0,0.0,0.0,0.0],[0.0,0.0,0.0,0.0,0.0,0.0,0.0,0.0,0.0,0.0,0.0],[0.0,0.0,0.0,0.0,0.0,0.0,0.0,0.0,0.0,0.0,0.0],[0.0,0.0,0.0,0.0,0.0,0.0,0.0,0.0,0.0,0.0,0.0],[0.0,0.0,0.0,0.0,0.0,0.0,0.0,0.0,0.0,0.0,0.0],[0.0,0.0,0.0,0.0,0.0,0.0,0.0,0.0,0.0,0.0,0.0],[0.0,0.0,0.0,0.0,0.0,0.0,0.0,0.0,0.0,0.0,0.0],[0.0,0.0,0.0,0.0,0.0,0.0,0.0,0.0,0.0,0.0,0.0],[0.0,0.0,0.0,0.0,0.0,0.0,0.0,0.0,0.0,0.0,0.0],[0.0,0.0,0.0,0.0,0.0,0.0,0.0,0.0,0.0,0.0,0.0],[0.0,0.0,0.0,0.0,0.0,0.0,0.0,0.0,0.0,0.0,0.0]]]}],\"label\":\"5\",\"method\":\"restyle\"}]}]},                        {\"responsive\": true}                    ).then(function(){\n",
       "                            \n",
       "var gd = document.getElementById('38d46308-9519-41c0-9fef-281610b924c6');\n",
       "var x = new MutationObserver(function (mutations, observer) {{\n",
       "        var display = window.getComputedStyle(gd).display;\n",
       "        if (!display || display === 'none') {{\n",
       "            console.log([gd, 'removed!']);\n",
       "            Plotly.purge(gd);\n",
       "            observer.disconnect();\n",
       "        }}\n",
       "}});\n",
       "\n",
       "// Listen for the removal of the full notebook cells\n",
       "var notebookContainer = gd.closest('#notebook-container');\n",
       "if (notebookContainer) {{\n",
       "    x.observe(notebookContainer, {childList: true});\n",
       "}}\n",
       "\n",
       "// Listen for the clearing of the current output cell\n",
       "var outputEl = gd.closest('.output');\n",
       "if (outputEl) {{\n",
       "    x.observe(outputEl, {childList: true});\n",
       "}}\n",
       "\n",
       "                        })                };                });            </script>        </div>"
      ]
     },
     "metadata": {},
     "output_type": "display_data"
    }
   ],
   "execution_count": 33
  },
  {
   "metadata": {
    "ExecuteTime": {
     "end_time": "2025-01-11T14:11:49.565904600Z",
     "start_time": "2025-01-10T15:48:24.612943Z"
    }
   },
   "cell_type": "code",
   "source": [
    "counter=0\n",
    "for _ in tqdm(range(pars['N_episodes'])):\n",
    " seq_state,seq_action,seq_reward=make_episode(policy_MC,pars,x0=(1,3,4))\n",
    " counter+= 1 if seq_state[-1][0]==5 else 0\n",
    "print(f'MC:{counter/pars[\"N_episodes\"]*100}%')"
   ],
   "id": "777926356d817d56",
   "outputs": [
    {
     "data": {
      "text/plain": [
       "  0%|          | 0/100000 [00:00<?, ?it/s]"
      ],
      "application/vnd.jupyter.widget-view+json": {
       "version_major": 2,
       "version_minor": 0,
       "model_id": "0611b764728a47ceb9f1d4f1b39bd9d3"
      }
     },
     "metadata": {},
     "output_type": "display_data"
    },
    {
     "name": "stdout",
     "output_type": "stream",
     "text": [
      "MC:99.456%\n"
     ]
    }
   ],
   "execution_count": 34
  },
  {
   "metadata": {
    "ExecuteTime": {
     "end_time": "2025-01-11T14:11:49.573255400Z",
     "start_time": "2025-01-10T15:48:40.060139Z"
    }
   },
   "cell_type": "code",
   "source": [
    "counter=0\n",
    "for _ in tqdm(range(pars['N_episodes'])):\n",
    " seq_state,seq_action,seq_reward=make_episode(policy_Exp_Sarsa,pars,x0=(1,3,4))\n",
    " counter+= 1 if seq_state[-1][0]==5 else 0\n",
    "print(f'Exp_Sarsa:{counter/pars[\"N_episodes\"]*100}%')"
   ],
   "id": "5f50933888da940a",
   "outputs": [
    {
     "data": {
      "text/plain": [
       "  0%|          | 0/100000 [00:00<?, ?it/s]"
      ],
      "application/vnd.jupyter.widget-view+json": {
       "version_major": 2,
       "version_minor": 0,
       "model_id": "a2b6403472d7443d92cb8c9bdb2074ff"
      }
     },
     "metadata": {},
     "output_type": "display_data"
    },
    {
     "name": "stdout",
     "output_type": "stream",
     "text": [
      "Exp_Sarsa:0.0%\n"
     ]
    }
   ],
   "execution_count": 35
  },
  {
   "metadata": {
    "ExecuteTime": {
     "end_time": "2025-01-11T14:11:49.573255400Z",
     "start_time": "2025-01-10T15:48:58.918524Z"
    }
   },
   "cell_type": "code",
   "source": [
    "counter=0\n",
    "for _ in tqdm(range(pars['N_episodes'])):\n",
    " seq_state,seq_action,seq_reward=make_episode(policy_Q_learning,pars,x0=(1,3,4))\n",
    " counter+= 1 if seq_state[-1][0]==5 else 0\n",
    "print(f'Q_Learning:{counter/pars[\"N_episodes\"]*100}%')"
   ],
   "id": "7b83250789416c6d",
   "outputs": [
    {
     "data": {
      "text/plain": [
       "  0%|          | 0/100000 [00:00<?, ?it/s]"
      ],
      "application/vnd.jupyter.widget-view+json": {
       "version_major": 2,
       "version_minor": 0,
       "model_id": "0af4348107b141c38b27eb47eb858d26"
      }
     },
     "metadata": {},
     "output_type": "display_data"
    },
    {
     "name": "stdout",
     "output_type": "stream",
     "text": [
      "Q_Learning:0.0%\n"
     ]
    }
   ],
   "execution_count": 36
  },
  {
   "metadata": {
    "ExecuteTime": {
     "end_time": "2025-01-11T14:11:49.574256600Z",
     "start_time": "2025-01-10T15:49:17.245948Z"
    }
   },
   "cell_type": "code",
   "source": [
    "counter=0\n",
    "for _ in tqdm(range(pars['N_episodes'])):\n",
    " seq_state,seq_action,seq_reward=make_episode(policy_sarsa,pars,x0=(1,3,4))\n",
    " counter+= 1 if seq_state[-1][0]==5 else 0\n",
    "print(f'Sarsa:{counter/pars[\"N_episodes\"]*100}%')"
   ],
   "id": "52ad18f074626217",
   "outputs": [
    {
     "data": {
      "text/plain": [
       "  0%|          | 0/100000 [00:00<?, ?it/s]"
      ],
      "application/vnd.jupyter.widget-view+json": {
       "version_major": 2,
       "version_minor": 0,
       "model_id": "19566de91900419ab4deee877a2a136c"
      }
     },
     "metadata": {},
     "output_type": "display_data"
    },
    {
     "name": "stdout",
     "output_type": "stream",
     "text": [
      "Sarsa:0.0%\n"
     ]
    }
   ],
   "execution_count": 37
  },
  {
   "metadata": {
    "ExecuteTime": {
     "end_time": "2025-01-12T02:39:42.827997Z",
     "start_time": "2025-01-12T02:39:42.766987Z"
    }
   },
   "cell_type": "code",
   "source": "",
   "id": "5589da09c0287c2b",
   "outputs": [
    {
     "ename": "NameError",
     "evalue": "name 'policy_Q_learning' is not defined",
     "output_type": "error",
     "traceback": [
      "\u001B[1;31m---------------------------------------------------------------------------\u001B[0m",
      "\u001B[1;31mNameError\u001B[0m                                 Traceback (most recent call last)",
      "Cell \u001B[1;32mIn[67], line 1\u001B[0m\n\u001B[1;32m----> 1\u001B[0m policies\u001B[38;5;241m=\u001B[39m {\u001B[38;5;124m'\u001B[39m\u001B[38;5;124mMC\u001B[39m\u001B[38;5;124m'\u001B[39m:policy_MC,\u001B[38;5;124m'\u001B[39m\u001B[38;5;124mSarsa\u001B[39m\u001B[38;5;124m'\u001B[39m:policy_sarsa,\u001B[38;5;124m'\u001B[39m\u001B[38;5;124mQ_learning\u001B[39m\u001B[38;5;124m'\u001B[39m: \u001B[43mpolicy_Q_learning\u001B[49m, \u001B[38;5;124m'\u001B[39m\u001B[38;5;124mExp_sarsa\u001B[39m\u001B[38;5;124m'\u001B[39m:policy_Exp_Sarsa}\n",
      "\u001B[1;31mNameError\u001B[0m: name 'policy_Q_learning' is not defined"
     ]
    }
   ],
   "execution_count": 67
  },
  {
   "metadata": {},
   "cell_type": "code",
   "outputs": [],
   "execution_count": null,
   "source": "",
   "id": "d5e73c039b820f81"
  },
  {
   "metadata": {},
   "cell_type": "code",
   "outputs": [],
   "execution_count": null,
   "source": [
    "gsim = 1\n",
    "tsim = np.random.choice(pars['ci_range_sim']) \n",
    "hsim = np.random.choice(pars['ci_range_sim'])"
   ],
   "id": "e30e859149557fd5"
  },
  {
   "metadata": {},
   "cell_type": "code",
   "outputs": [],
   "execution_count": null,
   "source": "",
   "id": "95c03224a37ddfb5"
  }
 ],
 "metadata": {
  "kernelspec": {
   "display_name": "Python 3",
   "language": "python",
   "name": "python3"
  },
  "language_info": {
   "codemirror_mode": {
    "name": "ipython",
    "version": 2
   },
   "file_extension": ".py",
   "mimetype": "text/x-python",
   "name": "python",
   "nbconvert_exporter": "python",
   "pygments_lexer": "ipython2",
   "version": "2.7.6"
  }
 },
 "nbformat": 4,
 "nbformat_minor": 5
}
