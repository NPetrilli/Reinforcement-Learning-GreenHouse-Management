{
 "cells": [
  {
   "metadata": {
    "ExecuteTime": {
     "end_time": "2025-01-09T14:14:36.280055Z",
     "start_time": "2025-01-09T14:14:34.289892Z"
    }
   },
   "cell_type": "code",
   "source": [
    "import gym\n",
    "import numpy as np\n",
    "from gym import spaces\n",
    "import pygame\n",
    "from tqdm.notebook import tqdm\n",
    "from PGP_utils import *\n",
    "from PGP_RL_Alg_utils import *\n",
    "from matplotlib import pyplot as plt"
   ],
   "id": "fb9bff478f631bd",
   "outputs": [],
   "execution_count": 1
  },
  {
   "metadata": {
    "ExecuteTime": {
     "end_time": "2025-01-09T14:14:36.310057Z",
     "start_time": "2025-01-09T14:14:36.292058Z"
    }
   },
   "cell_type": "code",
   "source": "pars = pars_loader(N_episodes=10000,alpha=0.1,gamma=0.9,eps=0.1,pd=0.6,growth_range=5,factor_range=11,ci_range=[2,8],action_set=[0,1,2])",
   "id": "cf77279e0960bed8",
   "outputs": [],
   "execution_count": 2
  },
  {
   "metadata": {
    "ExecuteTime": {
     "end_time": "2025-01-09T14:14:36.484175Z",
     "start_time": "2025-01-09T14:14:36.441145Z"
    }
   },
   "cell_type": "code",
   "source": [
    "class PlantGrowthEnv(gym.Env):\n",
    "    metadata = {'render_modes': ['human'], 'render_fps': 20}\n",
    "\n",
    "    def __init__(self, pars=None, render_mode=None, image_scale=(256, 512)):\n",
    "        super(PlantGrowthEnv, self).__init__()\n",
    "        self.render_mode = render_mode\n",
    "        self.size = 5 \n",
    "        self.window_size = 512  \n",
    "        self.image_scale = image_scale  \n",
    "        self.pars = pars if pars is not None else {}\n",
    "        self.growth = load_images('Graph_elements/Growth/Growth_',count=6,scale=(1, 1))\n",
    "        self.hums = load_images('Graph_elements/Hum/Hum_',count=11,scale=(1.5, 1.5))\n",
    "        self.temps = load_images('Graph_elements/Temp/Temp_',count=11,scale=(1.5, 1.5))\n",
    "        self.background = load_images(\"Graph_elements/background\",scale=(1, 1))\n",
    "        pygame.font.init()\n",
    "        self.font = pygame.font.Font('Graph_elements/PressStart2P-Regular.ttf', 24)\n",
    "       \n",
    "        self.state = None\n",
    "        self.window = None\n",
    "        self.clock = None\n",
    "\n",
    "        #Action and state spaces\n",
    "        self.action_space = spaces.Discrete(3)\n",
    "        self.observation_space = spaces.Tuple((\n",
    "            spaces.Discrete(self.pars.get('growth_range', 5) + 1),\n",
    "            spaces.Discrete(self.pars.get('factor_range', 10) + 1),\n",
    "            spaces.Discrete(self.pars.get('factor_range', 10) + 1)\n",
    "        ))\n",
    "        \n",
    "        self.reset()\n",
    "    #Initial condition and reset of episode\n",
    "    def reset(self, seed: int = None, options: dict = None):\n",
    "        super().reset(seed=seed)  \n",
    "        if options is not None:\n",
    "            g = options.get('g', 1)  \n",
    "            temp = options.get('temp', self.np_random.choice(self.pars['ci_range']))\n",
    "            hum = options.get('hum', self.np_random.choice(self.pars['ci_range']))\n",
    "        else:\n",
    "            g = 1\n",
    "            temp = self.np_random.choice(self.pars['ci_range'])\n",
    "            hum = self.np_random.choice(self.pars['ci_range'])\n",
    "    \n",
    "        self.state = (g, temp, hum)\n",
    "    \n",
    "        observation = self.state  \n",
    "        info = {}  \n",
    "    \n",
    "        return observation, info\n",
    "    \n",
    "    def growth_state(self, growth, temp, hum, range_tem, range_hum):\n",
    "        #At least one red: bad condition to growth -2\n",
    "        if temp in range_tem[3] or hum in range_hum[3]:\n",
    "          growth+=-2\n",
    "          growth=max(growth,0)\n",
    "        #At least one orange : poor condition to growth -1\n",
    "        elif temp in range_tem[2] or hum in range_hum[2]:\n",
    "          growth+=-1\n",
    "          growth=max(growth,0)\n",
    "        #At least one yellow : good condition to growth +0\n",
    "        elif temp in range_tem[1] or hum in range_hum[1]:\n",
    "         growth+=0\n",
    "        else:\n",
    "         #Only green : Optimal condition to growth +1\n",
    "         growth+=1\n",
    "         growth=min(growth,5)\n",
    "        return growth\n",
    "    \n",
    "    #Next_state\n",
    "    def step(self, action):\n",
    "        growth, temp, hum = self.state\n",
    "        prev_growth=growth\n",
    "        \n",
    "        range_tem, range_hum = self.pars['opt_range'][growth]['Tem'], self.pars['opt_range'][growth]['Hum']\n",
    "        \n",
    "        #Probability not to decay\n",
    "        if action == 0:\n",
    "            w=np.random.choice([-1,0],p=[1- self.pars['pd'], self.pars['pd']])\n",
    "            temp+=w\n",
    "            hum+=w\n",
    "        if action == 1:\n",
    "           temp+=1\n",
    "           temp=min(temp,pars['factor_range'])\n",
    "        if action == 2:\n",
    "           hum+=1\n",
    "           hum=min(hum,pars['factor_range'])\n",
    "\n",
    "        growth = self.growth_state(growth, temp, hum, range_tem, range_hum)\n",
    "        self.state = (growth, temp, hum)\n",
    "\n",
    "        reward=0     \n",
    "        if growth == 5:\n",
    "           reward=100\n",
    "        elif growth == 0:\n",
    "           reward=-100\n",
    "        elif growth-prev_growth ==  1:\n",
    "           reward=10\n",
    "        elif growth-prev_growth == -1:\n",
    "           reward=-10\n",
    "        elif growth-prev_growth == -2:\n",
    "           reward=-20 \n",
    "\n",
    "        terminated = growth == 0 or growth == 5  \n",
    "        truncated = False\n",
    "        return  self.state, reward, terminated, truncated, {} \n",
    "    \n",
    "    #Graphic rendering\n",
    "    def render(self, mode='human'):\n",
    "        \n",
    "        if self.render_mode == 'None':\n",
    "         return\n",
    "        if mode == 'human':\n",
    "            if self.window is None:\n",
    "                pygame.init()\n",
    "                self.window = pygame.display.set_mode((self.window_size,self.window_size))  \n",
    "                self.clock = pygame.time.Clock()\n",
    "                pygame.display.set_caption('Plant growth')\n",
    "                icon = self.growth[5]\n",
    "                pygame.display.set_icon(icon)\n",
    "            if self.background:\n",
    "                self.window.blit(self.background, (0, 0))\n",
    "            else:\n",
    "                self.window.fill((255, 255, 255))\n",
    "    \n",
    "            #Growth\n",
    "            growth_image = self.growth[self.state[0]]\n",
    "            growth_rect = growth_image.get_rect(center=(self.window_size//2, 256)) \n",
    "            self.window.blit(growth_image,growth_rect)\n",
    "    \n",
    "            #Hum\n",
    "            hum_image  = self.hums[self.state[2]]\n",
    "            hum_rect = hum_image.get_rect(center=((self.window_size//2)+180, 256))  \n",
    "            self.window.blit(hum_image, hum_rect)\n",
    "            \n",
    "            #Temp\n",
    "            temp_image  = self.temps[self.state[1]]\n",
    "            temp_rect = temp_image.get_rect(center=((self.window_size//2)-180, 256))  \n",
    "            self.window.blit(temp_image, temp_rect )\n",
    "            \n",
    "            #Text and color text\n",
    "            if self.state[0] not in [0,5]:\n",
    "             temp_color = get_color_for_value(self.state[1], self.pars['opt_range'][self.state[0]]['Tem'])\n",
    "             hum_color = get_color_for_value(self.state[2], self.pars['opt_range'][self.state[0]]['Hum'])\n",
    "            else:\n",
    "              temp_color=(0, 0, 0)\n",
    "              hum_color=(0, 0, 0)\n",
    "                \n",
    "            render_text(self.window, self.font, f\"Growth:{self.state[0]}\", (self.window_size//2, 425), (0, 0, 0))\n",
    "            render_text(self.window, self.font, f\"{self.state[1]}\", (self.window_size//2 - 180, 425), temp_color)\n",
    "            render_text(self.window, self.font, f\"{self.state[2]}\", (self.window_size//2 + 180, 425), hum_color)\n",
    "            \n",
    "            pygame.display.update()\n",
    "            self.clock.tick(self.metadata['render_fps'])\n",
    "\n",
    "    def close(self):\n",
    "        if self.window is not None:\n",
    "            pygame.display.quit()\n",
    "            pygame.quit()\n"
   ],
   "id": "ce40188d2f6cc290",
   "outputs": [],
   "execution_count": 3
  },
  {
   "metadata": {
    "ExecuteTime": {
     "end_time": "2025-01-09T14:14:36.515149Z",
     "start_time": "2025-01-09T14:14:36.504144Z"
    }
   },
   "cell_type": "code",
   "source": "# policy=init_policy(pars)",
   "id": "97fdba3ccdaae407",
   "outputs": [],
   "execution_count": 4
  },
  {
   "metadata": {
    "ExecuteTime": {
     "end_time": "2025-01-09T14:14:36.562569Z",
     "start_time": "2025-01-09T14:14:36.535158Z"
    }
   },
   "cell_type": "code",
   "source": "policy=np.load(\"policy_GPI.npy\")",
   "id": "5da1a0ecf9e3d99",
   "outputs": [],
   "execution_count": 5
  },
  {
   "metadata": {
    "ExecuteTime": {
     "end_time": "2025-01-09T14:14:36.641030Z",
     "start_time": "2025-01-09T14:14:36.599500Z"
    }
   },
   "cell_type": "code",
   "source": "policy=init_policy(pars)",
   "id": "add3005361dd230a",
   "outputs": [],
   "execution_count": 6
  },
  {
   "metadata": {
    "ExecuteTime": {
     "end_time": "2025-01-09T14:14:52.229925Z",
     "start_time": "2025-01-09T14:14:36.679031Z"
    }
   },
   "cell_type": "code",
   "source": [
    "env = PlantGrowthEnv(pars=pars, render_mode='None')\n",
    "for _ in tqdm(range(pars['N_episodes'])):  \n",
    "    seq_state,seq_action,seq_reward=make_episode(env,policy,pars)\n",
    "env.close()"
   ],
   "id": "781c33e37d7331d5",
   "outputs": [
    {
     "data": {
      "text/plain": [
       "  0%|          | 0/10000 [00:00<?, ?it/s]"
      ],
      "application/vnd.jupyter.widget-view+json": {
       "version_major": 2,
       "version_minor": 0,
       "model_id": "71aff6c1e24345bdb2ba5ffcb000fe32"
      }
     },
     "metadata": {},
     "output_type": "display_data"
    }
   ],
   "execution_count": 7
  },
  {
   "metadata": {
    "ExecuteTime": {
     "end_time": "2025-01-09T14:14:52.292419Z",
     "start_time": "2025-01-09T14:14:52.265449Z"
    }
   },
   "cell_type": "code",
   "source": [
    "def GPI(init_p,pars,render_mode='None'):\n",
    " policy=init_p.copy()\n",
    "\n",
    " Q = np.zeros((pars['nstates'][0], pars['nstates'][1], pars['nstates'][2], len(pars['action_set'])))\n",
    " counter_s_a=np.zeros(Q.shape)\n",
    " \n",
    " env = PlantGrowthEnv(pars=pars, render_mode=render_mode)\n",
    " env = gym.wrappers.RecordEpisodeStatistics(env, deque_size=100)\n",
    " \n",
    " episode_rewards = []\n",
    " episode_lengths = []\n",
    " episode_times = []\n",
    " \n",
    " for _ in tqdm(range(pars['N_episodes'])):\n",
    "  seq_state,seq_action,seq_reward=make_episode(env,policy,pars)\n",
    " \n",
    "  Q,counter_s_a = action_state_value_MC([seq_state],[seq_action],[seq_reward],pars,Q0=Q,counter_s_a_0=counter_s_a)\n",
    " \n",
    "  for s in set(seq_state):\n",
    "   policy[s]=np.argmax(Q[s[0],s[1],s[2],:])\n",
    "  \n",
    "  episode_rewards.extend(env.return_queue)\n",
    "  episode_lengths.extend(env.length_queue)\n",
    "     \n",
    " env.close()   \n",
    " return policy, Q, counter_s_a, episode_rewards, episode_lengths"
   ],
   "id": "1c4152877c7d63ea",
   "outputs": [],
   "execution_count": 8
  },
  {
   "metadata": {
    "ExecuteTime": {
     "end_time": "2025-01-09T14:14:58.172650Z",
     "start_time": "2025-01-09T14:14:52.328419Z"
    }
   },
   "cell_type": "code",
   "source": [
    "test_policy=init_policy(pars)\n",
    "policy_MC,Q_MC,counter_s_a,episode_rewards, episode_lengths=GPI(test_policy.copy(),pars,render_mode='None')"
   ],
   "id": "15b9edb5c3ddddc2",
   "outputs": [
    {
     "data": {
      "text/plain": [
       "  0%|          | 0/10000 [00:00<?, ?it/s]"
      ],
      "application/vnd.jupyter.widget-view+json": {
       "version_major": 2,
       "version_minor": 0,
       "model_id": "b97904a078fa4deaa3d68877d5099a41"
      }
     },
     "metadata": {},
     "output_type": "display_data"
    }
   ],
   "execution_count": 9
  },
  {
   "metadata": {
    "ExecuteTime": {
     "end_time": "2025-01-09T14:14:59.797733Z",
     "start_time": "2025-01-09T14:14:58.239696Z"
    }
   },
   "cell_type": "code",
   "source": [
    "rolling_length = 500\n",
    "if len(episode_rewards) >= rolling_length:\n",
    "    # Calcolo della media mobile per i reward\n",
    "    reward_moving_average = (\n",
    "        np.convolve(episode_rewards, np.ones(rolling_length), mode=\"valid\") / rolling_length\n",
    "    )\n",
    "    # Calcolo della media mobile per le lunghezze degli episodi\n",
    "    length_moving_average = (\n",
    "        np.convolve(episode_lengths, np.ones(rolling_length), mode=\"valid\") / rolling_length\n",
    "    )\n",
    "\n",
    "    # Creazione dei subplot\n",
    "    fig, axs = plt.subplots(ncols=2, figsize=(12, 5))\n",
    "\n",
    "    # Grafico delle medie mobili dei reward\n",
    "    axs[0].plot(range(len(reward_moving_average)), reward_moving_average)\n",
    "    axs[0].set_title(\"Episode Rewards (Rolling Average)\")\n",
    "    axs[0].set_xlabel(\"Episode\")\n",
    "    axs[0].set_ylabel(\"Average Reward\")\n",
    "\n",
    "    # Grafico delle medie mobili delle lunghezze degli episodi\n",
    "    axs[1].plot(range(len(length_moving_average)), length_moving_average)\n",
    "    axs[1].set_title(\"Episode Lengths (Rolling Average)\")\n",
    "    axs[1].set_xlabel(\"Episode\")\n",
    "    axs[1].set_ylabel(\"Average Episode Length\")\n",
    "\n",
    "    plt.tight_layout()\n",
    "    plt.show()\n",
    "else:\n",
    "    print(\"Not enough episodes to calculate the rolling averages for the specified length.\")"
   ],
   "id": "ffce23b1c4806a04",
   "outputs": [
    {
     "data": {
      "text/plain": [
       "<Figure size 1200x500 with 2 Axes>"
      ],
      "image/png": "[encoded data removed]"
     },
     "metadata": {},
     "output_type": "display_data"
    }
   ],
   "execution_count": 10
  },
  {
   "metadata": {
    "ExecuteTime": {
     "end_time": "2025-01-09T14:14:59.890259Z",
     "start_time": "2025-01-09T14:14:59.879259Z"
    }
   },
   "cell_type": "code",
   "source": "",
   "id": "2a4793d7ac15c20d",
   "outputs": [],
   "execution_count": null
  }
 ],
 "metadata": {
  "kernelspec": {
   "display_name": "Python 3",
   "language": "python",
   "name": "python3"
  },
  "language_info": {
   "codemirror_mode": {
    "name": "ipython",
    "version": 2
   },
   "file_extension": ".py",
   "mimetype": "text/x-python",
   "name": "python",
   "nbconvert_exporter": "python",
   "pygments_lexer": "ipython2",
   "version": "2.7.6"
  }
 },
 "nbformat": 4,
 "nbformat_minor": 5
}
