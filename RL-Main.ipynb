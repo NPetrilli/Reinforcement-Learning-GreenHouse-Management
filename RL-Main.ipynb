{
 "cells": [
  {
   "metadata": {
    "ExecuteTime": {
     "end_time": "2024-12-27T09:41:31.979111Z",
     "start_time": "2024-12-27T09:41:30.233303Z"
    }
   },
   "cell_type": "code",
   "source": [
    "import numpy as np\n",
    "import matplotlib.pyplot as plt"
   ],
   "id": "df4673586b0a2dfc",
   "outputs": [],
   "execution_count": 1
  },
  {
   "metadata": {},
   "cell_type": "code",
   "outputs": [],
   "execution_count": null,
   "source": [
    "#Parameters\n",
    "alpha = 0.1 #Step learning\n",
    "gamma = 0.9 #Discount factor\n",
    "eps = 0.1   #Epsilon greedy\n"
   ],
   "id": "428a726e935adb25"
  },
  {
   "metadata": {
    "ExecuteTime": {
     "end_time": "2024-12-27T10:36:51.539625Z",
     "start_time": "2024-12-27T10:36:51.526581Z"
    }
   },
   "cell_type": "code",
   "source": [
    "seq_state=[]\n",
    "seq_action=[]\n",
    "seq_reward=[]\n",
    "\n",
    "def make_episode(seq_state,seq_action,seq_reward):\n",
    "    \n",
    "    g=1\n",
    "    hum=1#np.random.choice([0,1,2])\n",
    "    temp=1\n",
    "    seq_state.append((g,hum,temp))\n",
    "    while g!=5 and g!=0:\n",
    "        a=np.random.choice([0,1,2,3])\n",
    "        g,hum,temp,r=next_state((g,hum,temp),a)        \n",
    "        seq_state.append((g,hum,temp))\n",
    "        seq_action.append(a)\n",
    "        seq_reward.append(r)\n",
    "        \n",
    "    return seq_state,seq_action,seq_reward\n",
    "    "
   ],
   "id": "5d4fda727b42e45",
   "outputs": [],
   "execution_count": 80
  },
  {
   "metadata": {
    "ExecuteTime": {
     "end_time": "2024-12-27T10:36:52.338439Z",
     "start_time": "2024-12-27T10:36:51.689121Z"
    }
   },
   "cell_type": "code",
   "source": "seq_state,seq_action,seq_reward=make_episode(seq_state,seq_action,seq_reward)",
   "id": "6c204b95a05a0457",
   "outputs": [],
   "execution_count": 81
  },
  {
   "metadata": {
    "ExecuteTime": {
     "end_time": "2024-12-27T10:20:34.658228Z",
     "start_time": "2024-12-27T10:20:34.639470Z"
    }
   },
   "cell_type": "code",
   "source": [
    "def next_state(state,action):\n",
    "    growth,hum,temp = state\n",
    "    \n",
    "    action_code=[1,-1,1,-1]\n",
    "    \n",
    "    if action == 0 or action == 1: # Irrigation\n",
    "     hum = 0 if hum==0 and action==1 else (hum+action_code[action]) % 3\n",
    "    \n",
    "    if action == 2 or action == 3: # Temperature\n",
    "     temp = 0 if temp==0 and temp==1 else (temp+action_code[action]) % 3\n",
    "    \n",
    "    #Reward\n",
    "    r=0\n",
    "    \n",
    "    #Next_growth \n",
    "    if hum==2 and temp==2:\n",
    "       growth+=1\n",
    "       r=1\n",
    "       growth = 5  if growth>5 else growth\n",
    "    elif hum==1 and temp==1:\n",
    "       growth+=0\n",
    "    elif hum==0 and temp==0:\n",
    "       growth+=-2\n",
    "       r=-2\n",
    "       growth = 0 if growth<0 else growth\n",
    "    elif (hum==0 and temp!=0) or (hum!=0 and temp==0):\n",
    "       growth+=-1\n",
    "       r=-1\n",
    "       growth = 0 if growth<0 else growth\n",
    "    \n",
    "    if growth == 5:\n",
    "       r=100\n",
    "    elif growth == 0:\n",
    "       r=-100\n",
    "        \n",
    "    return (growth,hum,temp),r\n",
    "       "
   ],
   "id": "7a62d329e08240b",
   "outputs": [],
   "execution_count": 28
  },
  {
   "metadata": {
    "ExecuteTime": {
     "end_time": "2024-12-27T10:22:09.004440Z",
     "start_time": "2024-12-27T10:22:08.988388Z"
    }
   },
   "cell_type": "code",
   "source": [
    "next_state((2,0,1),3)\n",
    "#ciao prova "
   ],
   "id": "53c5865324a043db",
   "outputs": [
    {
     "data": {
      "text/plain": [
       "(0, 0, 0, -100)"
      ]
     },
     "execution_count": 33,
     "metadata": {},
     "output_type": "execute_result"
    }
   ],
   "execution_count": 33
  }
 ],
 "metadata": {
  "kernelspec": {
   "display_name": "Python 3",
   "language": "python",
   "name": "python3"
  },
  "language_info": {
   "codemirror_mode": {
    "name": "ipython",
    "version": 2
   },
   "file_extension": ".py",
   "mimetype": "text/x-python",
   "name": "python",
   "nbconvert_exporter": "python",
   "pygments_lexer": "ipython2",
   "version": "2.7.6"
  }
 },
 "nbformat": 4,
 "nbformat_minor": 5
}
